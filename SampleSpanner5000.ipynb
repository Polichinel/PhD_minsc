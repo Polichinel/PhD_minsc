{
 "cells": [
  {
   "cell_type": "code",
   "execution_count": 1,
   "metadata": {},
   "outputs": [],
   "source": [
    "import os\n",
    "import cv2\n",
    "from iptcinfo3 import IPTCInfo\n",
    "import numpy as np\n",
    "from random import sample \n",
    "import matplotlib.pyplot as plt\n",
    "import shutil\n",
    "import pickle"
   ]
  },
  {
   "cell_type": "code",
   "execution_count": 2,
   "metadata": {},
   "outputs": [],
   "source": [
    "pw_path = '/mnt/c/Users/xpn381/Documents/data/lpw.txt'\n",
    "file = open(pw_path, mode='r')\n",
    "pw = file.read()"
   ]
  },
  {
   "cell_type": "code",
   "execution_count": 3,
   "metadata": {},
   "outputs": [
    {
     "name": "stdout",
     "output_type": "stream",
     "text": [
      "[sudo] password for xpn381: mount: /mnt/f: d: already mounted on /mnt/f.\n"
     ]
    }
   ],
   "source": [
    "!echo $pw|sudo -S sudo -S mount -t drvfs d: /mnt/f\n"
   ]
  },
  {
   "cell_type": "code",
   "execution_count": 4,
   "metadata": {},
   "outputs": [],
   "source": [
    "flatten_dir =  \"/mnt/f/OctoberJohanArchiveFlatten\"\n",
    "# flatten_dir =  \"/mnt/f/OctoberJohanArchiveFlattenTest\"\n",
    "sample_dir = \"/mnt/f/OctoberJohanArchiveSample5k\""
   ]
  },
  {
   "cell_type": "code",
   "execution_count": 5,
   "metadata": {},
   "outputs": [],
   "source": [
    "pkl_file = open('IPTC_keys.pkl', 'rb')\n",
    "\n",
    "IPTC_keys = pickle.load(pkl_file)\n",
    "\n",
    "pkl_file.close()"
   ]
  },
  {
   "cell_type": "markdown",
   "metadata": {},
   "source": [
    "### Functions:"
   ]
  },
  {
   "cell_type": "code",
   "execution_count": 6,
   "metadata": {},
   "outputs": [],
   "source": [
    "def image_check(img_path):\n",
    "    \n",
    "    \"\"\"Only for testing! open and plots an image\"\"\"\n",
    "\n",
    "    img_array = cv2.imread(img_path)\n",
    "    img_array = cv2.cvtColor(img_array, cv2.COLOR_BGR2RGB)\n",
    "\n",
    "    plt.imshow(img_array)\n",
    "\n",
    "    plt.show()"
   ]
  },
  {
   "cell_type": "code",
   "execution_count": 7,
   "metadata": {},
   "outputs": [],
   "source": [
    "def count_files(external_dir):\n",
    "    \n",
    "    \"\"\"Counts files in folder tree. Sanity check\"\"\"\n",
    "    \n",
    "    count = 0\n",
    "    \n",
    "    for root, dirs, files in os.walk(external_dir):\n",
    "        for name in files:\n",
    "            count += 1\n",
    "        \n",
    "    return(count)"
   ]
  },
  {
   "cell_type": "code",
   "execution_count": 8,
   "metadata": {},
   "outputs": [],
   "source": [
    "def get_images_path(flatten_dir):\n",
    "    \n",
    "    \"\"\"Creates a list of all paths in flatten dir\"\"\"\n",
    "    \n",
    "    path_list = []\n",
    "    \n",
    "    for root, dirs, files in os.walk(flatten_dir):\n",
    "        for name in files:\n",
    "            path = os.path.join(root, name)\n",
    "            path_list.append(path)\n",
    "            \n",
    "    return(path_list)"
   ]
  },
  {
   "cell_type": "code",
   "execution_count": 9,
   "metadata": {},
   "outputs": [],
   "source": [
    "def mk_sample_dir(sample_dir):\n",
    "    \n",
    "    \"\"\"Creates a new folder which is to be the location of the sample 5k images.\"\"\"\n",
    "    \n",
    "    if not os.path.exists(sample_dir):\n",
    "        os.mkdir(sample_dir) # makes new dir                     \n",
    "        \n",
    "    # Or REPLACE old if exist\n",
    "    else:\n",
    "        shutil.rmtree(sample_dir) # delets dir and content.. FOREVER!\n",
    "        os.mkdir(sample_dir) # makes new dir"
   ]
  },
  {
   "cell_type": "code",
   "execution_count": 17,
   "metadata": {},
   "outputs": [],
   "source": [
    "def copy_sample(path_list5k, size):\n",
    "        \n",
    "    files_count = size\n",
    "    file_count = 0\n",
    "        \n",
    "    for i in path_list5k:\n",
    "        dst = sample_dir + '/' + i.split('/')[-1]\n",
    "        shutil.copy2(i,dst)\n",
    "        \n",
    "        file_count +=1\n",
    "        \n",
    "        print(f'moved {file_count} images out of {files_count}...', end= '\\r')\n"
   ]
  },
  {
   "cell_type": "code",
   "execution_count": 18,
   "metadata": {},
   "outputs": [],
   "source": [
    "def do_it(flatten_dir,sample_dir, size):\n",
    "    \n",
    "    path_list = get_images_path(flatten_dir)\n",
    "    \n",
    "    path_list5k = sample(path_list,size)\n",
    "    \n",
    "    mk_sample_dir(sample_dir)\n",
    "\n",
    "    copy_sample(path_list5k,size)\n",
    "    \n",
    "    # just for testing\n",
    "    return(path_list5k)"
   ]
  },
  {
   "cell_type": "markdown",
   "metadata": {},
   "source": [
    "## Run"
   ]
  },
  {
   "cell_type": "code",
   "execution_count": 20,
   "metadata": {},
   "outputs": [
    {
     "name": "stdout",
     "output_type": "stream",
     "text": [
      "moved 42 images out of 42...\r"
     ]
    }
   ],
   "source": [
    "path_list5k = do_it(flatten_dir,sample_dir, 5000)"
   ]
  },
  {
   "cell_type": "markdown",
   "metadata": {},
   "source": [
    "# testing"
   ]
  },
  {
   "cell_type": "code",
   "execution_count": null,
   "metadata": {},
   "outputs": [],
   "source": [
    "for i in path_list5k[0:10]:\n",
    "    dst = sample_dir + '/' + i.split('/')[-1]\n",
    "    \n",
    "    testinfo = IPTCInfo(dst, force = True)\n",
    "    print(dst)\n",
    "        \n",
    "    for i in IPTC_keys:\n",
    "        if testinfo[i]:\n",
    "            print(f'key: {i}, info: {testinfo[i]}\\n')\n",
    "    \n",
    "    image_check(dst)"
   ]
  },
  {
   "cell_type": "code",
   "execution_count": null,
   "metadata": {},
   "outputs": [],
   "source": []
  }
 ],
 "metadata": {
  "kernelspec": {
   "display_name": "Python 3",
   "language": "python",
   "name": "python3"
  },
  "language_info": {
   "codemirror_mode": {
    "name": "ipython",
    "version": 3
   },
   "file_extension": ".py",
   "mimetype": "text/x-python",
   "name": "python",
   "nbconvert_exporter": "python",
   "pygments_lexer": "ipython3",
   "version": "3.7.4"
  }
 },
 "nbformat": 4,
 "nbformat_minor": 4
}
