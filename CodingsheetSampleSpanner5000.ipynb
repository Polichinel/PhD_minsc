{
 "cells": [
  {
   "cell_type": "code",
   "execution_count": 1,
   "metadata": {},
   "outputs": [],
   "source": [
    "import os\n",
    "import cv2\n",
    "from iptcinfo3 import IPTCInfo\n",
    "import numpy as np\n",
    "from random import sample \n",
    "import matplotlib.pyplot as plt\n",
    "import shutil\n",
    "import pickle\n",
    "import pandas as pd"
   ]
  },
  {
   "cell_type": "code",
   "execution_count": 2,
   "metadata": {},
   "outputs": [],
   "source": [
    "pw_path = '/mnt/c/Users/xpn381/Documents/data/lpw.txt'\n",
    "file = open(pw_path, mode='r')\n",
    "pw = file.read()"
   ]
  },
  {
   "cell_type": "code",
   "execution_count": 3,
   "metadata": {},
   "outputs": [
    {
     "name": "stdout",
     "output_type": "stream",
     "text": [
      "[sudo] password for xpn381: mount: /mnt/f: d: already mounted on /mnt/f.\n"
     ]
    }
   ],
   "source": [
    "!echo $pw|sudo -S sudo -S mount -t drvfs d: /mnt/f"
   ]
  },
  {
   "cell_type": "code",
   "execution_count": 4,
   "metadata": {},
   "outputs": [],
   "source": [
    "sample_dir = \"/mnt/f/OctoberJohanArchiveSample5k\"\n",
    "df_loc_csv = \"/mnt/f/df5k.csv\"\n",
    "df_loc_xlsx = \"/mnt/f/df5k.xlsx\""
   ]
  },
  {
   "cell_type": "code",
   "execution_count": 5,
   "metadata": {},
   "outputs": [],
   "source": [
    "pkl_file = open('IPTC_keys.pkl', 'rb')\n",
    "\n",
    "IPTC_keys = pickle.load(pkl_file)\n",
    "\n",
    "pkl_file.close()"
   ]
  },
  {
   "cell_type": "code",
   "execution_count": 6,
   "metadata": {},
   "outputs": [],
   "source": [
    "def image_check(img_path):\n",
    "    \n",
    "    \"\"\"Only for testing! open and plots an image\"\"\"\n",
    "\n",
    "    img_array = cv2.imread(img_path)\n",
    "    img_array = cv2.cvtColor(img_array, cv2.COLOR_BGR2RGB)\n",
    "\n",
    "    plt.imshow(img_array)\n",
    "\n",
    "    plt.show()"
   ]
  },
  {
   "cell_type": "code",
   "execution_count": 7,
   "metadata": {},
   "outputs": [],
   "source": [
    "def get_images_path(sample_dir):\n",
    "    \n",
    "    \"\"\"Creates a list of all paths in flatten dir\"\"\"\n",
    "    \n",
    "    path_list = []\n",
    "    ID_list = []\n",
    "    No_list = []\n",
    "    \n",
    "    for root, dirs, files in os.walk(sample_dir):\n",
    "        for name in files:\n",
    "            path = os.path.join(root, name)\n",
    "            file_name = name.split('.')[0]\n",
    "            file_number = int(file_name.split('S')[1])\n",
    "\n",
    "            path_list.append(path)\n",
    "            ID_list.append(file_name)\n",
    "            No_list.append(file_number)\n",
    "            \n",
    "    return(path_list, ID_list, No_list)"
   ]
  },
  {
   "cell_type": "markdown",
   "metadata": {},
   "source": [
    "Should also get lists of IPTC data to put into df now.. Date, Loaction, Publication status ect. Dict or list? Remeber to handle missing"
   ]
  },
  {
   "cell_type": "code",
   "execution_count": 8,
   "metadata": {},
   "outputs": [],
   "source": [
    "# with count - which should be object detection... labelimg\n",
    "# features = ['ID','path','infants','children','youth','adults',\n",
    "#             'elderly','female','male','no_scarf','Shayla_Dupatta','Hijab_Khimar_Chador',\n",
    "#             'Niqab','Burqa','praying_person', 'Salah', 'protest','military_personnel',\n",
    "#             'firearms','military_vehicles','US_flag','irq_flag','other_flag','cuffed_person',\n",
    "#             'blindfolded_person', 'bound_person', 'barred_person','Casualties','blood','home',\n",
    "#             'public_space','on_the_road','military_base','aerial','unidentified_scene']\n",
    "\n",
    "# without count\n",
    "features =  ['img_path','ID','number','salah', 'protest','blood','homely_scene',\n",
    "            'public_space_scene','on_the_road_scene','military_base_scene','aerial_scene','unidentified_scene']"
   ]
  },
  {
   "cell_type": "code",
   "execution_count": 9,
   "metadata": {},
   "outputs": [],
   "source": [
    "path_list5k, ID_list5k, No_list5k = get_images_path(sample_dir)"
   ]
  },
  {
   "cell_type": "code",
   "execution_count": 10,
   "metadata": {},
   "outputs": [],
   "source": [
    "index = np.arange(len(No_list5k))\n",
    "\n",
    "df = pd.DataFrame(index = index, columns = features)\n",
    "df['ID'] = ID_list5k\n",
    "df['img_path'] = path_list5k\n",
    "df['number'] = No_list5k\n",
    "df.fillna('0', inplace = True )\n",
    "df.sort_values('number', ascending=True, inplace = True)\n",
    "df.reset_index(drop=True, inplace=True)"
   ]
  },
  {
   "cell_type": "code",
   "execution_count": 11,
   "metadata": {},
   "outputs": [
    {
     "data": {
      "text/html": [
       "<div>\n",
       "<style scoped>\n",
       "    .dataframe tbody tr th:only-of-type {\n",
       "        vertical-align: middle;\n",
       "    }\n",
       "\n",
       "    .dataframe tbody tr th {\n",
       "        vertical-align: top;\n",
       "    }\n",
       "\n",
       "    .dataframe thead th {\n",
       "        text-align: right;\n",
       "    }\n",
       "</style>\n",
       "<table border=\"1\" class=\"dataframe\">\n",
       "  <thead>\n",
       "    <tr style=\"text-align: right;\">\n",
       "      <th></th>\n",
       "      <th>img_path</th>\n",
       "      <th>ID</th>\n",
       "      <th>number</th>\n",
       "      <th>salah</th>\n",
       "      <th>protest</th>\n",
       "      <th>blood</th>\n",
       "      <th>homely_scene</th>\n",
       "      <th>public_space_scene</th>\n",
       "      <th>on_the_road_scene</th>\n",
       "      <th>military_base_scene</th>\n",
       "      <th>aerial_scene</th>\n",
       "      <th>unidentified_scene</th>\n",
       "    </tr>\n",
       "  </thead>\n",
       "  <tbody>\n",
       "    <tr>\n",
       "      <td>0</td>\n",
       "      <td>/mnt/f/OctoberJohanArchiveSample5k/JS7.jpg</td>\n",
       "      <td>JS7</td>\n",
       "      <td>7</td>\n",
       "      <td>0</td>\n",
       "      <td>0</td>\n",
       "      <td>0</td>\n",
       "      <td>0</td>\n",
       "      <td>0</td>\n",
       "      <td>0</td>\n",
       "      <td>0</td>\n",
       "      <td>0</td>\n",
       "      <td>0</td>\n",
       "    </tr>\n",
       "    <tr>\n",
       "      <td>1</td>\n",
       "      <td>/mnt/f/OctoberJohanArchiveSample5k/JS9.jpg</td>\n",
       "      <td>JS9</td>\n",
       "      <td>9</td>\n",
       "      <td>0</td>\n",
       "      <td>0</td>\n",
       "      <td>0</td>\n",
       "      <td>0</td>\n",
       "      <td>0</td>\n",
       "      <td>0</td>\n",
       "      <td>0</td>\n",
       "      <td>0</td>\n",
       "      <td>0</td>\n",
       "    </tr>\n",
       "    <tr>\n",
       "      <td>2</td>\n",
       "      <td>/mnt/f/OctoberJohanArchiveSample5k/JS52.jpg</td>\n",
       "      <td>JS52</td>\n",
       "      <td>52</td>\n",
       "      <td>0</td>\n",
       "      <td>0</td>\n",
       "      <td>0</td>\n",
       "      <td>0</td>\n",
       "      <td>0</td>\n",
       "      <td>0</td>\n",
       "      <td>0</td>\n",
       "      <td>0</td>\n",
       "      <td>0</td>\n",
       "    </tr>\n",
       "    <tr>\n",
       "      <td>3</td>\n",
       "      <td>/mnt/f/OctoberJohanArchiveSample5k/JS53.jpg</td>\n",
       "      <td>JS53</td>\n",
       "      <td>53</td>\n",
       "      <td>0</td>\n",
       "      <td>0</td>\n",
       "      <td>0</td>\n",
       "      <td>0</td>\n",
       "      <td>0</td>\n",
       "      <td>0</td>\n",
       "      <td>0</td>\n",
       "      <td>0</td>\n",
       "      <td>0</td>\n",
       "    </tr>\n",
       "    <tr>\n",
       "      <td>4</td>\n",
       "      <td>/mnt/f/OctoberJohanArchiveSample5k/JS67.jpg</td>\n",
       "      <td>JS67</td>\n",
       "      <td>67</td>\n",
       "      <td>0</td>\n",
       "      <td>0</td>\n",
       "      <td>0</td>\n",
       "      <td>0</td>\n",
       "      <td>0</td>\n",
       "      <td>0</td>\n",
       "      <td>0</td>\n",
       "      <td>0</td>\n",
       "      <td>0</td>\n",
       "    </tr>\n",
       "  </tbody>\n",
       "</table>\n",
       "</div>"
      ],
      "text/plain": [
       "                                      img_path    ID  number salah protest  \\\n",
       "0   /mnt/f/OctoberJohanArchiveSample5k/JS7.jpg   JS7       7     0       0   \n",
       "1   /mnt/f/OctoberJohanArchiveSample5k/JS9.jpg   JS9       9     0       0   \n",
       "2  /mnt/f/OctoberJohanArchiveSample5k/JS52.jpg  JS52      52     0       0   \n",
       "3  /mnt/f/OctoberJohanArchiveSample5k/JS53.jpg  JS53      53     0       0   \n",
       "4  /mnt/f/OctoberJohanArchiveSample5k/JS67.jpg  JS67      67     0       0   \n",
       "\n",
       "  blood homely_scene public_space_scene on_the_road_scene military_base_scene  \\\n",
       "0     0            0                  0                 0                   0   \n",
       "1     0            0                  0                 0                   0   \n",
       "2     0            0                  0                 0                   0   \n",
       "3     0            0                  0                 0                   0   \n",
       "4     0            0                  0                 0                   0   \n",
       "\n",
       "  aerial_scene unidentified_scene  \n",
       "0            0                  0  \n",
       "1            0                  0  \n",
       "2            0                  0  \n",
       "3            0                  0  \n",
       "4            0                  0  "
      ]
     },
     "execution_count": 11,
     "metadata": {},
     "output_type": "execute_result"
    }
   ],
   "source": [
    "df.head()"
   ]
  },
  {
   "cell_type": "code",
   "execution_count": 12,
   "metadata": {},
   "outputs": [
    {
     "data": {
      "text/plain": [
       "(5000, 12)"
      ]
     },
     "execution_count": 12,
     "metadata": {},
     "output_type": "execute_result"
    }
   ],
   "source": [
    "df.shape"
   ]
  },
  {
   "cell_type": "code",
   "execution_count": 13,
   "metadata": {},
   "outputs": [],
   "source": [
    "df.to_csv(df_loc_csv, sep = ',')\n",
    "df.to_excel(df_loc_xlsx)"
   ]
  },
  {
   "cell_type": "markdown",
   "metadata": {},
   "source": [
    "# Testing"
   ]
  },
  {
   "cell_type": "code",
   "execution_count": null,
   "metadata": {},
   "outputs": [],
   "source": [
    "df2=pd.read_excel(df_loc_xlsx, index_col = 0)"
   ]
  },
  {
   "cell_type": "code",
   "execution_count": null,
   "metadata": {},
   "outputs": [],
   "source": [
    "df2.head()"
   ]
  },
  {
   "cell_type": "code",
   "execution_count": 27,
   "metadata": {},
   "outputs": [],
   "source": [
    "for i in path_list5k[0:5]:\n",
    "    dst = sample_dir + '/' + i.split('/')[-1]\n",
    "    \n",
    "    testinfo = IPTCInfo(dst, force = True)\n",
    "    print(dst)\n",
    "        \n",
    "    for i in IPTC_keys:\n",
    "        if testinfo[i]:\n",
    "            print(f'key: {i}, info: {testinfo[i]}\\n')\n",
    "    \n",
    "    image_check(dst)"
   ]
  },
  {
   "cell_type": "code",
   "execution_count": null,
   "metadata": {},
   "outputs": [],
   "source": []
  }
 ],
 "metadata": {
  "kernelspec": {
   "display_name": "Python 3",
   "language": "python",
   "name": "python3"
  },
  "language_info": {
   "codemirror_mode": {
    "name": "ipython",
    "version": 3
   },
   "file_extension": ".py",
   "mimetype": "text/x-python",
   "name": "python",
   "nbconvert_exporter": "python",
   "pygments_lexer": "ipython3",
   "version": "3.7.4"
  }
 },
 "nbformat": 4,
 "nbformat_minor": 4
}
