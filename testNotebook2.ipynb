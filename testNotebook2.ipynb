{
 "cells": [
  {
   "cell_type": "markdown",
   "metadata": {},
   "source": [
    "# testNotebook_2\n",
    "Takes data from edit and insert into raw IPCT:"
   ]
  },
  {
   "cell_type": "code",
   "execution_count": 2,
   "metadata": {},
   "outputs": [],
   "source": [
    "import os\n",
    "import cv2\n",
    "from iptcinfo3 import IPTCInfo\n",
    "from PIL import Image\n",
    "import re"
   ]
  },
  {
   "cell_type": "code",
   "execution_count": 46,
   "metadata": {},
   "outputs": [],
   "source": [
    "DATADIR_RAW = 'C:/Users/xpn381/Documents/data/wetransfer-d44dd0/Simon_Tests_12092019/raw'\n",
    "DATADIR_RAW_NEW = 'C:/Users/xpn381/Documents/data/wetransfer-d44dd0/Simon_Tests_12092019/raw_w_dates'\n",
    "DATADIR_RAW_NEW_NEW = 'C:/Users/xpn381/Documents/data/wetransfer-d44dd0/Simon_Tests_12092019/raw_w_dates_n_info'\n",
    "DATADIR_EDIT = 'C:/Users/xpn381/Documents/data/wetransfer-d44dd0/Simon_Tests_12092019/edit'"
   ]
  },
  {
   "cell_type": "markdown",
   "metadata": {},
   "source": [
    "## Function from test notebook one"
   ]
  },
  {
   "cell_type": "code",
   "execution_count": 4,
   "metadata": {},
   "outputs": [
    {
     "name": "stderr",
     "output_type": "stream",
     "text": [
      "WARNING: problems with charset recognition (b'\\x1b')\n",
      "WARNING: problems with charset recognition (b'\\x1b')\n"
     ]
    },
    {
     "name": "stdout",
     "output_type": "stream",
     "text": [
      "DSC_0626.JPG\n",
      "date of picture: 20070726\n",
      "info before: b'20070726'\n",
      "info after: 20070726\n",
      "\n",
      "\n"
     ]
    },
    {
     "name": "stderr",
     "output_type": "stream",
     "text": [
      "packedIIMData: illegal dataname '221' (221)\n",
      "Marker scan hit start of image data\n",
      "Marker scan hit start of image data\n"
     ]
    },
    {
     "name": "stdout",
     "output_type": "stream",
     "text": [
      "DSC_0634.JPG\n",
      "date of picture: 20070726\n",
      "info before: None\n",
      "info after: 20070726\n",
      "\n",
      "\n"
     ]
    },
    {
     "name": "stderr",
     "output_type": "stream",
     "text": [
      "WARNING: problems with charset recognition (b'\\x1b')\n",
      "WARNING: problems with charset recognition (b'\\x1b')\n"
     ]
    },
    {
     "name": "stdout",
     "output_type": "stream",
     "text": [
      "DSC_0665.JPG\n",
      "date of picture: 20070726\n",
      "info before: b'20070726'\n",
      "info after: 20070726\n",
      "\n",
      "\n"
     ]
    },
    {
     "name": "stderr",
     "output_type": "stream",
     "text": [
      "packedIIMData: illegal dataname '221' (221)\n",
      "Marker scan hit start of image data\n",
      "Marker scan hit start of image data\n",
      "Marker scan hit start of image data\n"
     ]
    },
    {
     "name": "stdout",
     "output_type": "stream",
     "text": [
      "DSC_0669.JPG\n",
      "date of picture: 20070726\n",
      "info before: None\n",
      "info after: 20070726\n",
      "\n",
      "\n"
     ]
    },
    {
     "name": "stderr",
     "output_type": "stream",
     "text": [
      "Marker scan hit start of image data\n"
     ]
    },
    {
     "name": "stdout",
     "output_type": "stream",
     "text": [
      "DSC_0677.JPG\n",
      "date of picture: 20070726\n",
      "info before: None\n",
      "info after: 20070726\n",
      "\n",
      "\n"
     ]
    },
    {
     "name": "stderr",
     "output_type": "stream",
     "text": [
      "WARNING: problems with charset recognition (b'\\x1b')\n",
      "WARNING: problems with charset recognition (b'\\x1b')\n"
     ]
    },
    {
     "name": "stdout",
     "output_type": "stream",
     "text": [
      "DSC_0692.JPG\n",
      "date of picture: 20070726\n",
      "info before: b'20070726'\n",
      "info after: 20070726\n",
      "\n",
      "\n"
     ]
    },
    {
     "name": "stderr",
     "output_type": "stream",
     "text": [
      "packedIIMData: illegal dataname '221' (221)\n",
      "Marker scan hit start of image data\n",
      "Marker scan hit start of image data\n"
     ]
    },
    {
     "name": "stdout",
     "output_type": "stream",
     "text": [
      "DSC_0708.JPG\n",
      "date of picture: 20070726\n",
      "info before: None\n",
      "info after: 20070726\n",
      "\n",
      "\n"
     ]
    },
    {
     "name": "stderr",
     "output_type": "stream",
     "text": [
      "Marker scan hit start of image data\n",
      "Marker scan hit start of image data\n"
     ]
    },
    {
     "name": "stdout",
     "output_type": "stream",
     "text": [
      "DSC_0727.JPG\n",
      "date of picture: 20070726\n",
      "info before: None\n",
      "info after: 20070726\n",
      "\n",
      "\n"
     ]
    },
    {
     "name": "stderr",
     "output_type": "stream",
     "text": [
      "WARNING: problems with charset recognition (b'\\x1b')\n",
      "WARNING: problems with charset recognition (b'\\x1b')\n"
     ]
    },
    {
     "name": "stdout",
     "output_type": "stream",
     "text": [
      "DSC_0774.JPG\n",
      "date of picture: 20070726\n",
      "info before: b'20070726'\n",
      "info after: 20070726\n",
      "\n",
      "\n"
     ]
    },
    {
     "name": "stderr",
     "output_type": "stream",
     "text": [
      "packedIIMData: illegal dataname '221' (221)\n",
      "WARNING: problems with charset recognition (b'\\x1b')\n",
      "WARNING: problems with charset recognition (b'\\x1b')\n"
     ]
    },
    {
     "name": "stdout",
     "output_type": "stream",
     "text": [
      "DSC_0794.JPG\n",
      "date of picture: 20070726\n",
      "info before: b'20070726'\n",
      "info after: 20070726\n",
      "\n",
      "\n"
     ]
    },
    {
     "name": "stderr",
     "output_type": "stream",
     "text": [
      "packedIIMData: illegal dataname '221' (221)\n",
      "WARNING: problems with charset recognition (b'\\x1b')\n",
      "WARNING: problems with charset recognition (b'\\x1b')\n"
     ]
    },
    {
     "name": "stdout",
     "output_type": "stream",
     "text": [
      "DSC_0807.JPG\n",
      "date of picture: 20070726\n",
      "info before: b'20070726'\n",
      "info after: 20070726\n",
      "\n",
      "\n"
     ]
    },
    {
     "name": "stderr",
     "output_type": "stream",
     "text": [
      "packedIIMData: illegal dataname '221' (221)\n",
      "WARNING: problems with charset recognition (b'\\x1b')\n",
      "WARNING: problems with charset recognition (b'\\x1b')\n"
     ]
    },
    {
     "name": "stdout",
     "output_type": "stream",
     "text": [
      "DSC_0817.JPG\n",
      "date of picture: 20070726\n",
      "info before: b'20070726'\n",
      "info after: 20070726\n",
      "\n",
      "\n"
     ]
    },
    {
     "name": "stderr",
     "output_type": "stream",
     "text": [
      "packedIIMData: illegal dataname '221' (221)\n",
      "Marker scan hit start of image data\n",
      "Marker scan hit start of image data\n"
     ]
    },
    {
     "name": "stdout",
     "output_type": "stream",
     "text": [
      "DSC_0829.JPG\n",
      "date of picture: 20070726\n",
      "info before: None\n",
      "info after: 20070726\n",
      "\n",
      "\n"
     ]
    },
    {
     "name": "stderr",
     "output_type": "stream",
     "text": [
      "WARNING: problems with charset recognition (b'\\x1b')\n",
      "WARNING: problems with charset recognition (b'\\x1b')\n"
     ]
    },
    {
     "name": "stdout",
     "output_type": "stream",
     "text": [
      "DSC_0908.JPG\n",
      "date of picture: 20070728\n",
      "info before: b'20070728'\n",
      "info after: 20070728\n",
      "\n",
      "\n"
     ]
    },
    {
     "name": "stderr",
     "output_type": "stream",
     "text": [
      "packedIIMData: illegal dataname '221' (221)\n",
      "Marker scan hit start of image data\n",
      "Marker scan hit start of image data\n"
     ]
    },
    {
     "name": "stdout",
     "output_type": "stream",
     "text": [
      "DSC_0959.JPG\n",
      "date of picture: 20070728\n",
      "info before: None\n",
      "info after: 20070728\n",
      "\n",
      "\n"
     ]
    },
    {
     "name": "stderr",
     "output_type": "stream",
     "text": [
      "Marker scan hit start of image data\n",
      "Marker scan hit start of image data\n"
     ]
    },
    {
     "name": "stdout",
     "output_type": "stream",
     "text": [
      "DSC_1204.JPG\n",
      "date of picture: 20070728\n",
      "info before: None\n",
      "info after: 20070728\n",
      "\n",
      "\n"
     ]
    },
    {
     "name": "stderr",
     "output_type": "stream",
     "text": [
      "Marker scan hit start of image data\n",
      "Marker scan hit start of image data\n"
     ]
    },
    {
     "name": "stdout",
     "output_type": "stream",
     "text": [
      "DSC_1254.JPG\n",
      "date of picture: 20070728\n",
      "info before: None\n",
      "info after: 20070728\n",
      "\n",
      "\n"
     ]
    },
    {
     "name": "stderr",
     "output_type": "stream",
     "text": [
      "WARNING: problems with charset recognition (b'\\x1b')\n",
      "WARNING: problems with charset recognition (b'\\x1b')\n"
     ]
    },
    {
     "name": "stdout",
     "output_type": "stream",
     "text": [
      "DSC_1532.JPG\n",
      "date of picture: 20070728\n",
      "info before: b'20070728'\n",
      "info after: 20070728\n",
      "\n",
      "\n"
     ]
    },
    {
     "name": "stderr",
     "output_type": "stream",
     "text": [
      "packedIIMData: illegal dataname '221' (221)\n"
     ]
    }
   ],
   "source": [
    "def get_date(DATADIR_RAW,DATADIR_RAW_NEW):\n",
    "    \n",
    "    '''Function wich takes as input path of dirs. in those dirs the function will irreterate throug all jpg, extract a date from their meta date and it a IPTC protocol'''\n",
    "    \n",
    "    # get the image name from the dir DATADIR_RAW\n",
    "    for img in os.listdir(DATADIR_RAW):\n",
    "        image_path = os.path.join(DATADIR_RAW, img)\n",
    "        info = IPTCInfo(image_path, force=True)\n",
    "        print(img)\n",
    "        \n",
    "        # Open the image and access the metadate. Use regex to extract date:\n",
    "        image = Image.open(image_path) \n",
    "        txt = str(image.info['exif']) # exif are mostly JPEG\n",
    "        #  maybe but re in a try, to avoide None_type error....\n",
    "        r  = '[\\d]{4}:[\\d]{2}:[\\d]{2}' # format yyyy:mm:dd\n",
    "        date = re.search(r, txt).group().replace(':','')\n",
    "        print(f'date of picture: {date}')\n",
    "        \n",
    "        # Force open the IPTC protocol to insert date\n",
    "        info = IPTCInfo(image_path, force=True)\n",
    "        print(f\"info before: {info['date created']}\") #Before. Shows wheter or not the entry was empty before\n",
    "        info['date created'] = date \n",
    "        print(f\"info after: {info['date created']}\") # after. Shows the date extracted from the meta data\n",
    "        print('\\n')\n",
    "        \n",
    "        # Create the new dir DATADIR_RAW_NEW if it does not already exist\n",
    "        if not os.path.exists(DATADIR_RAW_NEW):\n",
    "            os.makedirs(DATADIR_RAW_NEW)\n",
    "        \n",
    "        # Create the new path for the image\n",
    "        new_path = os.path.join(DATADIR_RAW_NEW, 'new' + img)\n",
    "        \n",
    "        # If that image is already in the path, delete it.\n",
    "        if os.path.exists(DATADIR_RAW_NEW):\n",
    "            try:\n",
    "                os.remove(new_path)\n",
    "            except:\n",
    "                pass\n",
    "        \n",
    "        # Save new image.\n",
    "        info.save_as(new_path)\n",
    "\n",
    "# Run function\n",
    "get_date(DATADIR_RAW,DATADIR_RAW_NEW)"
   ]
  },
  {
   "cell_type": "markdown",
   "metadata": {},
   "source": [
    "# New stuff:"
   ]
  },
  {
   "cell_type": "markdown",
   "metadata": {},
   "source": [
    "## Looking:"
   ]
  },
  {
   "cell_type": "code",
   "execution_count": 5,
   "metadata": {},
   "outputs": [],
   "source": [
    "dict_keys = ['object name', \n",
    "             'edit status', \n",
    "             'editorial update', \n",
    "             'urgency', \n",
    "             'subject reference', \n",
    "             'category', \n",
    "             'supplemental category', \n",
    "             'fixture identifier', \n",
    "             'keywords', \n",
    "             'content location code', \n",
    "             'content location name', \n",
    "             'release date', \n",
    "             'release time', \n",
    "             'expiration date', \n",
    "             'expiration time', \n",
    "             'special instructions', \n",
    "             'action advised', \n",
    "             'reference service', \n",
    "             'reference date', \n",
    "             'reference number', \n",
    "             'date created', \n",
    "             'time created', \n",
    "             'digital creation date', \n",
    "             'digital creation time', \n",
    "             'originating program', \n",
    "             'program version', \n",
    "             'object cycle', \n",
    "             'by-line', \n",
    "             'by-line title', \n",
    "             'city', \n",
    "             'sub-location', \n",
    "             'province/state', \n",
    "             'country/primary location code', \n",
    "             'country/primary location name', \n",
    "             'original transmission reference', \n",
    "             'headline', \n",
    "             'credit', \n",
    "             'source', \n",
    "             'copyright notice', \n",
    "             'contact', \n",
    "             'caption/abstract', \n",
    "             'local caption', \n",
    "             'writer/editor', \n",
    "             'image type', \n",
    "             'image orientation', \n",
    "             'language identifier', \n",
    "             'custom1', \n",
    "             'custom2', \n",
    "             'custom3', \n",
    "             'custom4', \n",
    "             'custom5', \n",
    "             'custom6', \n",
    "             'custom7', \n",
    "             'custom8', \n",
    "             'custom9', \n",
    "             'custom10', \n",
    "             'custom11', \n",
    "             'custom12', \n",
    "             'custom13', \n",
    "             'custom14', \n",
    "             'custom15', \n",
    "             'custom16', \n",
    "             'custom17', \n",
    "             'custom18', \n",
    "             'custom19', \n",
    "             'custom20'] # surely you can get this list from somewhere...\n",
    "# save as a pickle so you don't have to look at this shit."
   ]
  },
  {
   "cell_type": "code",
   "execution_count": 6,
   "metadata": {},
   "outputs": [],
   "source": [
    "def get_IPTC_data(image):\n",
    "    info = IPTCInfo(image, force=True)\n",
    "    \n",
    "    for i in dict_keys:\n",
    "        if info[i] != None:\n",
    "            if len(info[i]) > 0:\n",
    "                print(f'key: {i}, info: {info[i]}\\n')"
   ]
  },
  {
   "cell_type": "code",
   "execution_count": 7,
   "metadata": {},
   "outputs": [
    {
     "name": "stdout",
     "output_type": "stream",
     "text": [
      "JSpanner_Petraeus_0959.JPG\n",
      "key: date created, info: b'20070728'\n",
      "\n",
      "key: time created, info: b'110734+0300'\n",
      "\n",
      "key: by-line, info: b'Johan Spanner'\n",
      "\n",
      "key: city, info: b'Taji'\n",
      "\n",
      "key: country/primary location code, info: b'IRQ'\n",
      "\n",
      "key: country/primary location name, info: b'Iraq'\n",
      "\n",
      "key: headline, info: b'General David Petraeus'\n",
      "\n",
      "key: credit, info: b'Johan Spanner'\n",
      "\n",
      "key: copyright notice, info: b'Johan Spanner'\n",
      "\n",
      "key: caption/abstract, info: b'28JUL2007 Taji, Iraq\\rJohan Spanner for the New York Times\\r\\rGeneral David H. Petraeus \\r(middle), commander of the Multinational Force - Iraq, on a visit to Taji and surrounding areas. A prayer was said at a ceremony at the Counterinsurgency Academy on a US base in Taji. COL Manuel Diemer (left) handed over command of the academy to COL Joseph M. Smith (right).'\n",
      "\n",
      "\n",
      "\n",
      "JSpanner_Petraeus_1254.JPG\n",
      "key: date created, info: b'20070728'\n",
      "\n",
      "key: time created, info: b'140824+0300'\n",
      "\n",
      "key: by-line, info: b'Johan Spanner'\n",
      "\n",
      "key: city, info: b'Taji'\n",
      "\n",
      "key: country/primary location code, info: b'IRQ'\n",
      "\n",
      "key: country/primary location name, info: b'Iraq'\n",
      "\n",
      "key: headline, info: b'General David Petraeus'\n",
      "\n",
      "key: credit, info: b'Johan Spanner'\n",
      "\n",
      "key: copyright notice, info: b'Johan Spanner'\n",
      "\n",
      "key: caption/abstract, info: b'28JUL2007 Taji, Iraq\\rJohan Spanner for the New York Times\\r\\rGeneral David H. Petraeus, commander of the Multinational Force - Iraq, on a visit to Taji and surrounding areas. The general is briefed by COL Paul E. Funk II, brigade commander of 1st \"Ironhorse\" Brigade Combat Team, on the US base in Taji.'\n",
      "\n",
      "\n",
      "\n",
      "Spanner_Aerial_Baghdad_0807.JPG\n",
      "key: keywords, info: [b'Aerial', b'Baghdad']\n",
      "\n",
      "key: date created, info: b'20070726'\n",
      "\n",
      "key: time created, info: b'095850+0300'\n",
      "\n",
      "key: by-line, info: b'Johan Spanner'\n",
      "\n",
      "key: city, info: b'Baghdad'\n",
      "\n",
      "key: country/primary location code, info: b'IRQ'\n",
      "\n",
      "key: country/primary location name, info: b'Iraq'\n",
      "\n",
      "key: headline, info: b'Aerial Baghdad shots'\n",
      "\n",
      "key: credit, info: b'Johan Spanner for the New York times'\n",
      "\n",
      "key: copyright notice, info: b'Johan Spanner'\n",
      "\n",
      "key: caption/abstract, info: b'26JUL2007 Baghdad, Iraq\\rJohan Spanner for the New York Times\\r\\rAerial shots of Baghdad, shot from a Blackhawk helicopter.\\rZubaidi Square in Baghdad, between the Baghdad neighborhoods of Sheikh Omar, Kifah, Fadhel, and the Mutanabi Street.'\n",
      "\n",
      "\n",
      "\n",
      "Spanner_Aerial_Baghdad_0817.JPG\n",
      "key: keywords, info: [b'Aerial', b'Baghdad']\n",
      "\n",
      "key: date created, info: b'20070726'\n",
      "\n",
      "key: time created, info: b'095902+0300'\n",
      "\n",
      "key: by-line, info: b'Johan Spanner'\n",
      "\n",
      "key: city, info: b'Baghdad'\n",
      "\n",
      "key: country/primary location code, info: b'IRQ'\n",
      "\n",
      "key: country/primary location name, info: b'Iraq'\n",
      "\n",
      "key: headline, info: b'Aerial Baghdad shots'\n",
      "\n",
      "key: credit, info: b'Johan Spanner for the New York times'\n",
      "\n",
      "key: copyright notice, info: b'Johan Spanner'\n",
      "\n",
      "key: caption/abstract, info: b'26JUL2007 Baghdad, Iraq\\rJohan Spanner for the New York Times\\r\\rAerial shots of Baghdad, shot from a Blackhawk helicopter.\\rA view of Khulani square and mosque in the market district.'\n",
      "\n",
      "\n",
      "\n",
      "Spanner_Aerial_Baghdad_0828.JPG\n",
      "key: keywords, info: [b'Aerial', b'Baghdad']\n",
      "\n",
      "key: date created, info: b'20070726'\n",
      "\n",
      "key: time created, info: b'100015+0300'\n",
      "\n",
      "key: by-line, info: b'Johan Spanner'\n",
      "\n",
      "key: city, info: b'Baghdad'\n",
      "\n",
      "key: country/primary location code, info: b'IRQ'\n",
      "\n",
      "key: country/primary location name, info: b'Iraq'\n",
      "\n",
      "key: headline, info: b'Aerial Baghdad shots'\n",
      "\n",
      "key: credit, info: b'Johan Spanner for the New York times'\n",
      "\n",
      "key: copyright notice, info: b'Johan Spanner'\n",
      "\n",
      "key: caption/abstract, info: b\"26JUL2007 Baghdad, Iraq\\rJohan Spanner for the New York Times\\r\\rAerial shots of Baghdad, shot from a Blackhawk helicopter.\\rA view of part of the Green Zone, with a US Army Blackhawk helicopter flying next to the monument 'The Tomb of the Unknown Soldier'.\"\n",
      "\n",
      "\n",
      "\n",
      "Spanner_Aerial_Baghdad_0828A.JPG\n",
      "key: keywords, info: [b'Aerial', b'Baghdad']\n",
      "\n",
      "key: date created, info: b'20070726'\n",
      "\n",
      "key: time created, info: b'100015+0300'\n",
      "\n",
      "key: by-line, info: b'Johan Spanner'\n",
      "\n",
      "key: city, info: b'Baghdad'\n",
      "\n",
      "key: country/primary location code, info: b'IRQ'\n",
      "\n",
      "key: country/primary location name, info: b'Iraq'\n",
      "\n",
      "key: headline, info: b'Aerial Baghdad shots'\n",
      "\n",
      "key: credit, info: b'Johan Spanner for the New York times'\n",
      "\n",
      "key: copyright notice, info: b'Johan Spanner'\n",
      "\n",
      "key: caption/abstract, info: b\"26JUL2007 Baghdad, Iraq\\rJohan Spanner for the New York Times\\r\\rAerial shots of Baghdad, shot from a Blackhawk helicopter.\\rA view of part of the Green Zone, with a US Army Blackhawk helicopter flying next to the monument 'The Tomb of the Unknown Soldier'.\"\n",
      "\n",
      "\n",
      "\n"
     ]
    }
   ],
   "source": [
    "for img in os.listdir(DATADIR_EDIT):\n",
    "    image_path = os.path.join(DATADIR_EDIT, img)\n",
    "    print(img)\n",
    "    get_IPTC_data(image_path)\n",
    "    print('\\n')"
   ]
  },
  {
   "cell_type": "markdown",
   "metadata": {},
   "source": [
    "So you would like to extrapolate the entries:\\\n",
    "\n",
    "- city\n",
    "- country/primary location code\n",
    "- country/primary location name\n",
    "- copyright notice\n"
   ]
  },
  {
   "cell_type": "markdown",
   "metadata": {},
   "source": [
    "# implimenting new funciton:"
   ]
  },
  {
   "cell_type": "code",
   "execution_count": 48,
   "metadata": {},
   "outputs": [
    {
     "name": "stdout",
     "output_type": "stream",
     "text": [
      "saved: C:/Users/xpn381/Documents/data/wetransfer-d44dd0/Simon_Tests_12092019/raw_w_dates_n_info\\newnewDSC_0908.JPG\n",
      "saved: C:/Users/xpn381/Documents/data/wetransfer-d44dd0/Simon_Tests_12092019/raw_w_dates_n_info\\newnewDSC_0959.JPG\n",
      "saved: C:/Users/xpn381/Documents/data/wetransfer-d44dd0/Simon_Tests_12092019/raw_w_dates_n_info\\newnewDSC_1204.JPG\n",
      "saved: C:/Users/xpn381/Documents/data/wetransfer-d44dd0/Simon_Tests_12092019/raw_w_dates_n_info\\newnewDSC_1254.JPG\n",
      "saved: C:/Users/xpn381/Documents/data/wetransfer-d44dd0/Simon_Tests_12092019/raw_w_dates_n_info\\newnewDSC_1532.JPG\n",
      "saved: C:/Users/xpn381/Documents/data/wetransfer-d44dd0/Simon_Tests_12092019/raw_w_dates_n_info\\newnewDSC_0626.JPG\n",
      "saved: C:/Users/xpn381/Documents/data/wetransfer-d44dd0/Simon_Tests_12092019/raw_w_dates_n_info\\newnewDSC_0634.JPG\n",
      "saved: C:/Users/xpn381/Documents/data/wetransfer-d44dd0/Simon_Tests_12092019/raw_w_dates_n_info\\newnewDSC_0665.JPG\n",
      "saved: C:/Users/xpn381/Documents/data/wetransfer-d44dd0/Simon_Tests_12092019/raw_w_dates_n_info\\newnewDSC_0669.JPG\n",
      "saved: C:/Users/xpn381/Documents/data/wetransfer-d44dd0/Simon_Tests_12092019/raw_w_dates_n_info\\newnewDSC_0677.JPG\n",
      "saved: C:/Users/xpn381/Documents/data/wetransfer-d44dd0/Simon_Tests_12092019/raw_w_dates_n_info\\newnewDSC_0692.JPG\n",
      "saved: C:/Users/xpn381/Documents/data/wetransfer-d44dd0/Simon_Tests_12092019/raw_w_dates_n_info\\newnewDSC_0708.JPG\n",
      "saved: C:/Users/xpn381/Documents/data/wetransfer-d44dd0/Simon_Tests_12092019/raw_w_dates_n_info\\newnewDSC_0727.JPG\n",
      "saved: C:/Users/xpn381/Documents/data/wetransfer-d44dd0/Simon_Tests_12092019/raw_w_dates_n_info\\newnewDSC_0774.JPG\n",
      "saved: C:/Users/xpn381/Documents/data/wetransfer-d44dd0/Simon_Tests_12092019/raw_w_dates_n_info\\newnewDSC_0794.JPG\n",
      "saved: C:/Users/xpn381/Documents/data/wetransfer-d44dd0/Simon_Tests_12092019/raw_w_dates_n_info\\newnewDSC_0807.JPG\n",
      "saved: C:/Users/xpn381/Documents/data/wetransfer-d44dd0/Simon_Tests_12092019/raw_w_dates_n_info\\newnewDSC_0817.JPG\n",
      "saved: C:/Users/xpn381/Documents/data/wetransfer-d44dd0/Simon_Tests_12092019/raw_w_dates_n_info\\newnewDSC_0829.JPG\n"
     ]
    }
   ],
   "source": [
    "list_of_dates = []\n",
    "\n",
    "\n",
    "for edit_img in os.listdir(DATADIR_EDIT):\n",
    "    edit_image_path = os.path.join(DATADIR_EDIT, edit_img)\n",
    "#     print(edit_img)\n",
    "    \n",
    "    edit_info = IPTCInfo(edit_image_path, force=True)\n",
    "    edit_date = str(edit_info['date created']) # assumning it is there for all..\n",
    "    \n",
    "    # If you already checked the date don't bother\n",
    "    if edit_date not in list_of_dates:\n",
    "        list_of_dates.append(edit_date) #appending all dates checked\n",
    "        \n",
    "#         print(edit_date)\n",
    "\n",
    "        for raw_img in os.listdir(DATADIR_RAW_NEW):\n",
    "            raw_image_path = os.path.join(DATADIR_RAW_NEW, raw_img)\n",
    "            raw_info = IPTCInfo(raw_image_path, force=True)\n",
    "\n",
    "            raw_date = str(raw_info['date created']) # assumning it is there for all..\n",
    "#             print(raw_date)\n",
    "\n",
    "#             print(edit_date == raw_date)\n",
    "        \n",
    "            if edit_date == raw_date:\n",
    "                \n",
    "                raw_info['city'] = edit_info['city']\n",
    "                raw_info['country/primary location code'] = edit_info['country/primary location code']\n",
    "                raw_info['country/primary location name'] = edit_info['country/primary location name']\n",
    "                raw_info['copyright notice'] = edit_info['copyright notice']\n",
    "                \n",
    "                # Create the new dir DATADIR_RAW_NEW_NEW if it does not already exist\n",
    "                if not os.path.exists(DATADIR_RAW_NEW_NEW):\n",
    "                    os.makedirs(DATADIR_RAW_NEW_NEW)\n",
    "        \n",
    "                # Create the new path for the image\n",
    "                new_path = os.path.join(DATADIR_RAW_NEW_NEW, 'new' + raw_img) #better names...\n",
    "        \n",
    "                # If that image is already in the path, delete it.\n",
    "                if os.path.exists(DATADIR_RAW_NEW):\n",
    "                    try:\n",
    "                        os.remove(new_path)\n",
    "                    except:\n",
    "                        pass\n",
    "        \n",
    "                # Save new image.\n",
    "                raw_info.save_as(new_path)\n",
    "                print(f'saved: {new_path}')\n",
    "    else:\n",
    "        pass\n",
    "        "
   ]
  },
  {
   "cell_type": "code",
   "execution_count": 49,
   "metadata": {},
   "outputs": [
    {
     "name": "stdout",
     "output_type": "stream",
     "text": [
      "newnewDSC_0626.JPG\n",
      "key: date created, info: b'20070726'\n",
      "\n",
      "key: time created, info: b'090042+0200'\n",
      "\n",
      "key: city, info: b'Baghdad'\n",
      "\n",
      "key: country/primary location code, info: b'IRQ'\n",
      "\n",
      "key: country/primary location name, info: b'Iraq'\n",
      "\n",
      "key: copyright notice, info: b'Johan Spanner'\n",
      "\n",
      "\n",
      "\n",
      "newnewDSC_0634.JPG\n",
      "key: date created, info: b'20070726'\n",
      "\n",
      "key: city, info: b'Baghdad'\n",
      "\n",
      "key: country/primary location code, info: b'IRQ'\n",
      "\n",
      "key: country/primary location name, info: b'Iraq'\n",
      "\n",
      "key: copyright notice, info: b'Johan Spanner'\n",
      "\n",
      "\n",
      "\n",
      "newnewDSC_0665.JPG\n",
      "key: date created, info: b'20070726'\n",
      "\n",
      "key: time created, info: b'091517+0200'\n",
      "\n",
      "key: city, info: b'Baghdad'\n",
      "\n",
      "key: country/primary location code, info: b'IRQ'\n",
      "\n",
      "key: country/primary location name, info: b'Iraq'\n",
      "\n",
      "key: copyright notice, info: b'Johan Spanner'\n",
      "\n",
      "\n",
      "\n",
      "newnewDSC_0669.JPG\n",
      "key: date created, info: b'20070726'\n",
      "\n",
      "key: city, info: b'Baghdad'\n",
      "\n",
      "key: country/primary location code, info: b'IRQ'\n",
      "\n",
      "key: country/primary location name, info: b'Iraq'\n",
      "\n",
      "key: copyright notice, info: b'Johan Spanner'\n",
      "\n",
      "\n",
      "\n",
      "newnewDSC_0677.JPG\n",
      "key: date created, info: b'20070726'\n",
      "\n",
      "key: city, info: b'Baghdad'\n",
      "\n",
      "key: country/primary location code, info: b'IRQ'\n",
      "\n",
      "key: country/primary location name, info: b'Iraq'\n",
      "\n",
      "key: copyright notice, info: b'Johan Spanner'\n",
      "\n",
      "\n",
      "\n",
      "newnewDSC_0692.JPG\n",
      "key: date created, info: b'20070726'\n",
      "\n",
      "key: time created, info: b'091706+0200'\n",
      "\n",
      "key: city, info: b'Baghdad'\n",
      "\n",
      "key: country/primary location code, info: b'IRQ'\n",
      "\n",
      "key: country/primary location name, info: b'Iraq'\n",
      "\n",
      "key: copyright notice, info: b'Johan Spanner'\n",
      "\n",
      "\n",
      "\n",
      "newnewDSC_0708.JPG\n",
      "key: date created, info: b'20070726'\n",
      "\n",
      "key: city, info: b'Baghdad'\n",
      "\n",
      "key: country/primary location code, info: b'IRQ'\n",
      "\n",
      "key: country/primary location name, info: b'Iraq'\n",
      "\n",
      "key: copyright notice, info: b'Johan Spanner'\n",
      "\n",
      "\n",
      "\n",
      "newnewDSC_0727.JPG\n",
      "key: date created, info: b'20070726'\n",
      "\n",
      "key: city, info: b'Baghdad'\n",
      "\n",
      "key: country/primary location code, info: b'IRQ'\n",
      "\n",
      "key: country/primary location name, info: b'Iraq'\n",
      "\n",
      "key: copyright notice, info: b'Johan Spanner'\n",
      "\n",
      "\n",
      "\n",
      "newnewDSC_0774.JPG\n",
      "key: date created, info: b'20070726'\n",
      "\n",
      "key: time created, info: b'095639+0200'\n",
      "\n",
      "key: city, info: b'Baghdad'\n",
      "\n",
      "key: country/primary location code, info: b'IRQ'\n",
      "\n",
      "key: country/primary location name, info: b'Iraq'\n",
      "\n",
      "key: copyright notice, info: b'Johan Spanner'\n",
      "\n",
      "\n",
      "\n",
      "newnewDSC_0794.JPG\n",
      "key: date created, info: b'20070726'\n",
      "\n",
      "key: time created, info: b'095820+0200'\n",
      "\n",
      "key: city, info: b'Baghdad'\n",
      "\n",
      "key: country/primary location code, info: b'IRQ'\n",
      "\n",
      "key: country/primary location name, info: b'Iraq'\n",
      "\n",
      "key: copyright notice, info: b'Johan Spanner'\n",
      "\n",
      "\n",
      "\n",
      "newnewDSC_0807.JPG\n",
      "key: date created, info: b'20070726'\n",
      "\n",
      "key: time created, info: b'095850+0200'\n",
      "\n",
      "key: city, info: b'Baghdad'\n",
      "\n",
      "key: country/primary location code, info: b'IRQ'\n",
      "\n",
      "key: country/primary location name, info: b'Iraq'\n",
      "\n",
      "key: copyright notice, info: b'Johan Spanner'\n",
      "\n",
      "\n",
      "\n",
      "newnewDSC_0817.JPG\n",
      "key: date created, info: b'20070726'\n",
      "\n",
      "key: time created, info: b'095902+0200'\n",
      "\n",
      "key: city, info: b'Baghdad'\n",
      "\n",
      "key: country/primary location code, info: b'IRQ'\n",
      "\n",
      "key: country/primary location name, info: b'Iraq'\n",
      "\n",
      "key: copyright notice, info: b'Johan Spanner'\n",
      "\n",
      "\n",
      "\n",
      "newnewDSC_0829.JPG\n",
      "key: date created, info: b'20070726'\n",
      "\n",
      "key: city, info: b'Baghdad'\n",
      "\n",
      "key: country/primary location code, info: b'IRQ'\n",
      "\n",
      "key: country/primary location name, info: b'Iraq'\n",
      "\n",
      "key: copyright notice, info: b'Johan Spanner'\n",
      "\n",
      "\n",
      "\n",
      "newnewDSC_0908.JPG\n",
      "key: date created, info: b'20070728'\n",
      "\n",
      "key: time created, info: b'102442+0200'\n",
      "\n",
      "key: city, info: b'Taji'\n",
      "\n",
      "key: country/primary location code, info: b'IRQ'\n",
      "\n",
      "key: country/primary location name, info: b'Iraq'\n",
      "\n",
      "key: copyright notice, info: b'Johan Spanner'\n",
      "\n",
      "\n",
      "\n",
      "newnewDSC_0959.JPG\n",
      "key: date created, info: b'20070728'\n",
      "\n",
      "key: city, info: b'Taji'\n",
      "\n",
      "key: country/primary location code, info: b'IRQ'\n",
      "\n",
      "key: country/primary location name, info: b'Iraq'\n",
      "\n",
      "key: copyright notice, info: b'Johan Spanner'\n",
      "\n",
      "\n",
      "\n",
      "newnewDSC_1204.JPG\n",
      "key: date created, info: b'20070728'\n",
      "\n",
      "key: city, info: b'Taji'\n",
      "\n",
      "key: country/primary location code, info: b'IRQ'\n",
      "\n",
      "key: country/primary location name, info: b'Iraq'\n",
      "\n",
      "key: copyright notice, info: b'Johan Spanner'\n",
      "\n",
      "\n",
      "\n",
      "newnewDSC_1254.JPG\n",
      "key: date created, info: b'20070728'\n",
      "\n",
      "key: city, info: b'Taji'\n",
      "\n",
      "key: country/primary location code, info: b'IRQ'\n",
      "\n",
      "key: country/primary location name, info: b'Iraq'\n",
      "\n",
      "key: copyright notice, info: b'Johan Spanner'\n",
      "\n",
      "\n",
      "\n",
      "newnewDSC_1532.JPG\n",
      "key: date created, info: b'20070728'\n",
      "\n",
      "key: time created, info: b'160419+0200'\n",
      "\n",
      "key: city, info: b'Taji'\n",
      "\n",
      "key: country/primary location code, info: b'IRQ'\n",
      "\n",
      "key: country/primary location name, info: b'Iraq'\n",
      "\n",
      "key: copyright notice, info: b'Johan Spanner'\n",
      "\n",
      "\n",
      "\n"
     ]
    }
   ],
   "source": [
    "for img in os.listdir(DATADIR_RAW_NEW_NEW):\n",
    "    image_path = os.path.join(DATADIR_RAW_NEW_NEW, img)\n",
    "    print(img)\n",
    "    get_IPTC_data(image_path)\n",
    "    print('\\n')"
   ]
  },
  {
   "cell_type": "markdown",
   "metadata": {},
   "source": [
    "You did good."
   ]
  },
  {
   "cell_type": "markdown",
   "metadata": {},
   "source": [
    "# todo:\n",
    "- Make it one function\n",
    "- Impliment some \"try\" to avoid wierd stops..\n",
    "- BETTER NAMES!\n",
    "- Comments\n",
    "- Make it a script\n"
   ]
  }
 ],
 "metadata": {
  "kernelspec": {
   "display_name": "Python 3",
   "language": "python",
   "name": "python3"
  },
  "language_info": {
   "codemirror_mode": {
    "name": "ipython",
    "version": 3
   },
   "file_extension": ".py",
   "mimetype": "text/x-python",
   "name": "python",
   "nbconvert_exporter": "python",
   "pygments_lexer": "ipython3",
   "version": "3.7.3"
  }
 },
 "nbformat": 4,
 "nbformat_minor": 4
}
