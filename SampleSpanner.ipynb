{
 "cells": [
  {
   "cell_type": "markdown",
   "metadata": {},
   "source": [
    "## Script for creating training sample\n",
    "### Johan Spanners images\n",
    "\n",
    "1) you need to flatten Johans file structure  \n",
    "2) Do it on his drive in a new folder called; flatten_folder  \n",
    "3) Rename each image acording to a new ID; JS + N_i  (JS = Johan Spanner)\n",
    "4) Draw 5000 random images  \n",
    "5) Save in new folder: sample_5000  \n",
    "5) crate csv frame - that is csv with column names and row index  \n",
    "6) column names = features  \n",
    "7) row index = image ID  \n",
    "8) codebook  \n",
    "9) Page in code book showing the order of the column names so they don't have to scroll \n",
    "\n",
    "to mount external harddriv:\n",
    "> sudo mkdir /mnt/f # f is just random letter for the mounting point  \n",
    "> sudo mount -t drvfs d: /mnt/f # f is the letter choosen above, d is the drive name\n",
    "\n",
    "Now you can access his files at location: **/mnt/f/'October Johan Archive'/Spanner**\n",
    "\n",
    "You then have the folders Published, Raw, Submitted.  \n",
    "Note to spanner: Something wrong in Pub 2006... Seems like raw or Pub"
   ]
  },
  {
   "cell_type": "markdown",
   "metadata": {},
   "source": [
    "You know the file extension form the script CheckFileExytensions.ipynb\n"
   ]
  },
  {
   "cell_type": "markdown",
   "metadata": {},
   "source": [
    "# Mounting the external harddrive"
   ]
  },
  {
   "cell_type": "code",
   "execution_count": 1,
   "metadata": {},
   "outputs": [],
   "source": [
    "pw_path = '/mnt/c/Users/xpn381/Documents/data/lpw.txt'\n",
    "file = open(pw_path, mode='r')\n",
    "pw = file.read()"
   ]
  },
  {
   "cell_type": "code",
   "execution_count": 2,
   "metadata": {},
   "outputs": [
    {
     "name": "stdout",
     "output_type": "stream",
     "text": [
      "[sudo] password for xpn381: mount: /mnt/f: d: already mounted on /mnt/f.\n"
     ]
    }
   ],
   "source": [
    "# uses pw as a var in terminall. Don't worry if it is already mounted\n",
    "!echo $pw|sudo -S sudo -S mount -t drvfs d: /mnt/f\n",
    "    \n",
    "# !echo {password}|sudo -S {command}\n",
    "# password can be a var here: https://stackoverflow.com/questions/44996933/using-sudo-inside-jupyter-notebooks-cell"
   ]
  },
  {
   "cell_type": "markdown",
   "metadata": {},
   "source": [
    "# Script"
   ]
  },
  {
   "cell_type": "code",
   "execution_count": 3,
   "metadata": {},
   "outputs": [],
   "source": [
    "import os\n",
    "import cv2\n",
    "from IPython.utils import io # to capture outputs and errors\n",
    "from iptcinfo3 import IPTCInfo\n",
    "from PIL import Image\n",
    "from PIL.TiffTags import TAGS # til raw\n",
    "import rawpy # Måske bedre til raw \n",
    "import imageio # for saving NEF as jpgs\n",
    "import re\n",
    "import zipfile\n",
    "import shutil\n",
    "import numpy as np\n",
    "import time\n",
    "import matplotlib.pyplot as plt\n",
    "import pickle"
   ]
  },
  {
   "cell_type": "code",
   "execution_count": 4,
   "metadata": {},
   "outputs": [],
   "source": [
    "pkl_file = open('IPTC_keys.pkl', 'rb')\n",
    "\n",
    "IPTC_keys = pickle.load(pkl_file)\n",
    "\n",
    "pkl_file.close()"
   ]
  },
  {
   "cell_type": "code",
   "execution_count": 5,
   "metadata": {},
   "outputs": [],
   "source": [
    "# external_dir =  \"/mnt/f/OctoberJohanArchive\"\n",
    "external_dir =  \"/mnt/f/OctoberJohanArchiveTest\" # only the published images\n",
    "flatten_dir =  \"/mnt/f/OctoberJohanArchiveFlatten\""
   ]
  },
  {
   "cell_type": "code",
   "execution_count": 6,
   "metadata": {},
   "outputs": [],
   "source": [
    "def image_check(img_path):\n",
    "    \n",
    "    \"\"\"Only for testing! open and plots an image\"\"\"\n",
    "\n",
    "    img_array = cv2.imread(img_path)\n",
    "    img_array = cv2.cvtColor(img_array, cv2.COLOR_BGR2RGB)\n",
    "\n",
    "    plt.imshow(img_array)\n",
    "\n",
    "    plt.show()"
   ]
  },
  {
   "cell_type": "code",
   "execution_count": 7,
   "metadata": {},
   "outputs": [],
   "source": [
    "def count_files(external_dir):\n",
    "    \n",
    "    \"\"\"Counts files in folder tree. Sanity check, and fits in the function flatten_dirs()\"\"\"\n",
    "    \n",
    "    count = 0\n",
    "    \n",
    "    for root, dirs, files in os.walk(external_dir):\n",
    "        for name in files:\n",
    "            count += 1\n",
    "        \n",
    "    return(count)"
   ]
  },
  {
   "cell_type": "code",
   "execution_count": 8,
   "metadata": {},
   "outputs": [],
   "source": [
    "def mk_flatten_dir(flatten_dir):\n",
    "    \n",
    "    \"\"\"Creates a new folder which is to be the location of the flattened folder tree. fits in the function flatten_dirs()\"\"\"\n",
    "    \n",
    "    if not os.path.exists(flatten_dir):\n",
    "        os.mkdir(flatten_dir) # makes new dir                     \n",
    "        \n",
    "    # Or REPLACE old if exist\n",
    "    else:\n",
    "        shutil.rmtree(flatten_dir) # delets dir and content.. FOREVER!\n",
    "        os.mkdir(flatten_dir) # makes new dir\n"
   ]
  },
  {
   "cell_type": "code",
   "execution_count": 9,
   "metadata": {},
   "outputs": [],
   "source": [
    "def get_dt(meta_string):\n",
    "    \n",
    "    \"\"\"Gets date and time from image meta data string. fits in the functions handl_...\"\"\"\n",
    "                \n",
    "    r = '[\\d]{4}:[\\d]{2}:[\\d]{2} [\\d]{2}:[\\d]{2}:[\\d]{2}'# time and, date. but is this robust? we will find out.\n",
    "    \n",
    "    date, time = re.search(r, meta_string).group().replace(':','').split(' ')\n",
    "        \n",
    "    return(date,time)"
   ]
  },
  {
   "cell_type": "code",
   "execution_count": 10,
   "metadata": {},
   "outputs": [],
   "source": [
    "def handl_nef_n_cr2(old_path, new_path): # need to add new path in flatten folder eventually\n",
    "\n",
    "    \"\"\"Gets time and dats from NEF and CR2 formats. Then converts (and potientially moves) the files to .jpg. fits in function MoveConvertGetMeta\"\"\"\n",
    "    \n",
    "    # Rawpy works for CR2 and NEF\n",
    "    raw = rawpy.imread(old_path)\n",
    "    meta_stringN = str(raw.extract_thumb())\n",
    "\n",
    "    date, time = get_dt(meta_stringN)\n",
    "#     print(date, time)\n",
    "    # image_check(test_imgRawNEF) \n",
    "\n",
    "    # Special treatment for NEF (might also work for others)\n",
    "#     new_path = old_path.split('.')[0]+'TEST.jpg'  # Slick, but need to add new path in flatten folder eventually\n",
    "    rgb = raw.postprocess()\n",
    "    imageio.imsave(new_path, rgb)\n",
    "    \n",
    "    raw.close()\n",
    "    \n",
    "#     image_check(new_path)\n",
    "    return(date, time)"
   ]
  },
  {
   "cell_type": "code",
   "execution_count": 11,
   "metadata": {},
   "outputs": [],
   "source": [
    "def handl_tif(old_path, new_path):  # need to add new path in flatten folder eventually\n",
    "    \n",
    "    \"\"\"Gets time and dats from tif format. Then converts (and potientially moves) the files to .jpg. fits in function MoveConvertGetMeta\"\"\"\n",
    "\n",
    "    \n",
    "    # PIL works for tiff\n",
    "    img = Image.open(old_path)\n",
    "    meta_stringT = str(img.tag.tagdata) # seems, there are slightly different timestamp. 2 hours dif it is a timezone thingy - you get the right one\n",
    "\n",
    "    date, time = get_dt(meta_stringT)\n",
    "#     print(date, time)\n",
    "#     print(img.size)\n",
    "\n",
    "#     new_path = old_path.split('.')[0]+'TEST.jpg'\n",
    "\n",
    "    img.save(new_path) # turns it into an jpg, but does not create exif\n",
    "    \n",
    "    img.close()\n",
    "    \n",
    "#     image_check(new_path)\n",
    "    return(date, time)"
   ]
  },
  {
   "cell_type": "code",
   "execution_count": 12,
   "metadata": {},
   "outputs": [],
   "source": [
    "def handl_jpg(old_path, new_path): # need to add new path in flatten folder eventually\n",
    "\n",
    "    \"\"\"Gets time and dats from jpg format. Then converts(sic) (and potientially moves) the files to .jpg. fits in function MoveConvertGetMeta\"\"\"\n",
    "    \n",
    "    img = Image.open(old_path)\n",
    "    meta_stringJ = str(img.info['exif'])\n",
    "\n",
    "    date, time = get_dt(meta_stringJ)\n",
    "#     print(date, time)\n",
    "#     print(img.size)\n",
    "\n",
    "#     new_path = old_path.split('.')[0]+'TEST.jpg'\n",
    "\n",
    "    img.save(new_path, exif = img.info['exif']) # turns it into an jpg, and maintain exif\n",
    "    img.close()\n",
    "\n",
    "#     image_check(new_path)\n",
    "    return(date, time)"
   ]
  },
  {
   "cell_type": "markdown",
   "metadata": {},
   "source": [
    "get_IPCT_data seems to work prob now.\n",
    "yet I still want new ID in new IPTC  \n",
    "([new_path[-1][i]] = costum4) ish  \n",
    "  \n",
    "and I want to hinder the vary long strings sneaking into a few IPTC cats.  \n",
    "(if oldinfo[i] and len(str(oldinfo[i])) < 10000:)"
   ]
  },
  {
   "cell_type": "code",
   "execution_count": 13,
   "metadata": {},
   "outputs": [],
   "source": [
    "def get_IPTC_data(old_path, new_path, date, time): # must also take new_path... date can by int right now..\n",
    "    \n",
    "    \"\"\"Put time, date and path info in (converted and moved) image IPTC. fits into handl_... loop functions\n",
    "    Rember, no IPTC gets carried over by handl_ functions automatically\"\"\"\n",
    "    \n",
    "    # Load stuff ----------------------------------------------------------------------------------------\n",
    "    \n",
    "#     new_path = old_path.split('.')[0]+'TEST.jpg' # temp!! Must come from above\n",
    "    \n",
    "    # info from old file\n",
    "    oldinfo = IPTCInfo(old_path, force=True)\n",
    "        \n",
    "    # now load new new path inof\n",
    "    newinfo = IPTCInfo(new_path, force=True)\n",
    "    \n",
    "    \n",
    "    # get old IPTCs -------------------------------------------------------------------------------------\n",
    "    for i in IPTC_keys:\n",
    "#         if not newinfo[i] and oldinfo[i]: # if newinfo is None or empty and old info is NOT empty or None\n",
    "#         if oldinfo[i]: # and len(str(oldinfo[i])) < 1000: # new info should be empty any way. And relevant info comes here or after\n",
    "        if oldinfo[i] and len(str(oldinfo[i])) < 1000: # new info should be empty any way. And relevant info comes here or after\n",
    "            newinfo[i] = oldinfo[i] # if you sort the string list first, you could use enumarate and strings[j]\n",
    "    \n",
    "        else:\n",
    "            pass\n",
    "    \n",
    "    # get meta and path info ----------------------------------------------------------------------------\n",
    "\n",
    "    # get info from old path structure regarding photographer and pub-status\n",
    "#     path_info = old_path.split(\"/\")[4:6] # name and pub-status give the paths of JOHAN SPANNER ONLY\n",
    "    path_info = old_path.split(\"/\")#[4:7] # name and pub-status give the paths of JOHAN SPANNER ONLY + year\n",
    "\n",
    "    \n",
    "    # get meta \n",
    "#     meta_keys =  ['custom1','copyright notice','date created','time created']\n",
    "#     strings = [str(path_info[1]), str(path_info[0]), str(date), str(time)] #(date and time) must be strings to get saved - or error. makes all strings to be safe.\n",
    "    \n",
    "    meta_keys =  ['custom1', 'custom2', 'custom3', 'custom4','date created','time created']\n",
    "    strings = [str(path_info[4]), str(path_info[5]), str(path_info[6]), str(path_info[-1]), str(date), str(time)] #(date and time) must be strings to get saved - or error. makes all strings to be safe.\n",
    "    # so now you get, name, status, year, original name, date, time\n",
    "    \n",
    "    for j,i in enumerate(meta_keys):\n",
    "        if not newinfo[i]: # if newinfo is None or empty\n",
    "            newinfo[i] = strings[j] # if you sort the string list first, you could use enumarate and strings[j]\n",
    "    \n",
    "    # Saving and cleaning --------------------------------------------------------------------------------\n",
    "    \n",
    "    # save with meta and path info\n",
    "    newinfo.save()# save to same file\n",
    "    \n",
    "    #removes wierd residual file, which appears whan I save IPTCs\n",
    "    os.remove(new_path + '~')\n",
    "\n",
    "    #print test:\n",
    "#     for i in IPTC_keys:\n",
    "#         if newinfo[i]:\n",
    "#             print(f'key: {i}, info: {newinfo[i]}\\n')"
   ]
  },
  {
   "cell_type": "code",
   "execution_count": 14,
   "metadata": {},
   "outputs": [],
   "source": [
    "# FITS WITH Get_IPTC_data - in some way!\n",
    "# An then into the larger loop - which will mostly supply the old_path and new_path\n",
    "\n",
    "def MoveConvertGetMeta(old_path, new_path): # will also need new_path in time!!\n",
    "    \n",
    "    \"Uses the handl... functions to move and convert images while also getting meta on date and time\"\n",
    "        \n",
    "    # needs an extentsion, so must com after verification\n",
    "    ext = old_path.split('.')[-1].lower() # Last entry, in case som dot is in name. lowercase just to streamline..\n",
    "    \n",
    "    # at point you'll new_path, so handl_ext(old_path, new_path)\n",
    "    if ext == 'tif':\n",
    "        date, time = handl_tif(old_path, new_path)\n",
    "#         print(date, time) # needs to do someting else then print: goes to IPTC\n",
    "        \n",
    "    elif ext == 'nef' or ext == 'cr2':\n",
    "        date, time = handl_nef_n_cr2(old_path, new_path)\n",
    "#         print(date, time) # needs to do someting else then print: goes to IPTC\n",
    "    \n",
    "    elif ext == 'jpg':\n",
    "        date, time = handl_jpg(old_path, new_path)\n",
    "#         print(date, time) # needs to do someting else then print: goes to IPTC\n",
    "    \n",
    "    else:\n",
    "        pass #pass unknown format\n",
    "    \n",
    "    \n",
    "    #Takes info from old IPTC (if any), meta data and path to moved and converted image IPTC\n",
    "    try:\n",
    "        get_IPTC_data(old_path, new_path, date, time)\n",
    "    \n",
    "    except:\n",
    "        pass\n"
   ]
  },
  {
   "cell_type": "code",
   "execution_count": 15,
   "metadata": {},
   "outputs": [],
   "source": [
    "def flatten_dirs(external_dir, flatten_dir):\n",
    "    \n",
    "    # could have some safty for is it crashes... Like start somewhere else the zero... But not now.\n",
    "    \n",
    "    time_start = time.time() # start time\n",
    "    mk_flatten_dir(flatten_dir) # creates the new folder\n",
    "    files_count = count_files(external_dir) # counts all files to be moved\n",
    "    counter = 0 # counter for all iterations\n",
    "    count_exceptions = 0 # count files not being move, due to them not being images.\n",
    "    ID_front = \"JS\" # Johan Spanner\n",
    "    one_loop_time_list = [1] # save the time of each rund to extimate full time and time left. 1 works as a slightly informative (but pretty unconsequntiel) prior\n",
    "    \n",
    "    print(f'\\nstarts moving files from: {external_dir}\\nto new shared parent dir: {flatten_dir}...\\n')\n",
    "    \n",
    "    for root, dirs, files in os.walk(external_dir):\n",
    "        \n",
    "        for name in files:\n",
    "            time_loop_start = time.time()\n",
    "            \n",
    "            total_time = round((np.average(one_loop_time_list) * files_count)/60,2)\n",
    "            gone_time = np.sum(one_loop_time_list)/60\n",
    "            left_time = round(total_time - gone_time,2)\n",
    "            \n",
    "            counter += 1\n",
    "            print(f'Handling file {counter} of {files_count}. Estimated time total {total_time} minutes. Estimated time left {left_time} minutes \\t\\t', end= '\\r')\n",
    "                        \n",
    "            old_path = os.path.join(root, name) #all the info for the IPTC should be in in old_path name\n",
    "            \n",
    "            try: # you only wnat to move actual images\n",
    "                \n",
    "                # verify that is an image\n",
    "                img = Image.open(old_path)  # open the image file\n",
    "                img.verify()  # verify that it is a good image, without decoding it.. quite fast\n",
    "                img.close()\n",
    "                                \n",
    "                # new path\n",
    "                count_move = counter - count_exceptions\n",
    "                new_path = flatten_dir + \"/\" + ID_front + str(count_move) + \".jpg\" # path and image ID - could also put the ID in the IPTC now you are at it.\n",
    "                                \n",
    "                # -----------------------------------------------------------------------\n",
    "                # Moving day..\n",
    "    \n",
    "                with io.capture_output(stdout=False, stderr=True, display=False) as captured: # Don't print logs from IPTC reader\n",
    "                    MoveConvertGetMeta(old_path, new_path)\n",
    "                \n",
    "                # ------------------------------------------------------------------------\n",
    "                    \n",
    "    \n",
    "\n",
    "            except Exception as e: # Non images you just pass\n",
    "        \n",
    "                count_exceptions += 1\n",
    "                pass\n",
    "            \n",
    "            time_loop_end = time.time()\n",
    "            time_loop = time_loop_end - time_loop_start\n",
    "            one_loop_time_list.append(time_loop)\n",
    "                \n",
    "    # Logging time it takes to complete operation..\n",
    "    time_end = time.time()\n",
    "    time_run = round((time_end - time_start)/60,2)\n",
    "                    \n",
    "    print(f'\\n\\nDone moving files to parent dir: {flatten_dir}...')\n",
    "\n",
    "    print(f'File(s) moved: {counter-count_exceptions} out of {files_count} files')\n",
    "    print(f'File(s) not moved (not images): {count_exceptions} out of {files_count} files')\n",
    "    \n",
    "    print(f'\\nALL DONE!\\nThe operation took {time_run} minutes')\n",
    "    \n"
   ]
  },
  {
   "cell_type": "markdown",
   "metadata": {},
   "source": [
    "# Running script"
   ]
  },
  {
   "cell_type": "code",
   "execution_count": 16,
   "metadata": {},
   "outputs": [
    {
     "name": "stdout",
     "output_type": "stream",
     "text": [
      "\n",
      "starts moving files from: /mnt/f/OctoberJohanArchiveTest\n",
      "to new shared parent dir: /mnt/f/OctoberJohanArchiveFlatten...\n",
      "\n",
      "Handling file 512 of 512. Estimated time total 6.81 minutes. Estimated time left -0.0 minutes \t\t\n",
      "\n",
      "Done moving files to parent dir: /mnt/f/OctoberJohanArchiveFlatten...\n",
      "File(s) moved: 481 out of 512 files\n",
      "File(s) not moved (not images): 31 out of 512 files\n",
      "\n",
      "ALL DONE!\n",
      "The operation took 6.8 minutes\n"
     ]
    }
   ],
   "source": [
    "flatten_dirs(external_dir, flatten_dir)"
   ]
  },
  {
   "cell_type": "markdown",
   "metadata": {},
   "source": [
    "# Testing AREA1:\n",
    "DO NOT RUN ON ALL IMAGES - ONLY SUBSETS"
   ]
  },
  {
   "cell_type": "markdown",
   "metadata": {},
   "source": [
    "Testing all images moved"
   ]
  },
  {
   "cell_type": "code",
   "execution_count": null,
   "metadata": {},
   "outputs": [],
   "source": [
    "for root, dirs, files in os.walk(flatten_dir):\n",
    "        \n",
    "    for name in files:\n",
    "        new_path = os.path.join(root, name)\n",
    "        image_check(new_path)\n",
    "        \n",
    "        testinfo = IPTCInfo(new_path, force = True)\n",
    "        \n",
    "        for i in IPTC_keys:\n",
    "            if testinfo[i]:\n",
    "                print(f'key: {i}, info: {testinfo[i]}\\n')\n"
   ]
  },
  {
   "cell_type": "markdown",
   "metadata": {},
   "source": [
    "# Testing AREA2"
   ]
  },
  {
   "cell_type": "markdown",
   "metadata": {},
   "source": [
    "Testing on a small subsample of images"
   ]
  },
  {
   "cell_type": "code",
   "execution_count": null,
   "metadata": {},
   "outputs": [],
   "source": [
    "# submitted\n",
    "test_imgSubTIF = \"/mnt/f/OctoberJohanArchiveTestOld/Spanner/Submitted/DSC_0128.tif\"\n",
    "test_imgSubJPG = \"/mnt/f/OctoberJohanArchiveTestOld/Spanner/Submitted/DSC_0906.jpg\"\n",
    "test_imgSubjpgIP = \"/mnt/f/OctoberJohanArchiveTestOld/Spanner/Submitted/DSC_0906.jpg\"\n",
    "\n",
    "\n",
    "# raw\n",
    "test_imgRawNEF = \"/mnt/f/OctoberJohanArchiveTestOld/Spanner/Raw/DSC_0001.NEF\"\n",
    "test_imgRawCR2 = \"/mnt/f/OctoberJohanArchiveTestOld/Spanner/Raw/IMG_0001.CR2\"\n",
    "test_imgRawJPG = \"/mnt/f/OctoberJohanArchiveTestOld/Spanner/Raw/P3300001.JPG\"\n",
    "\n",
    "# list\n",
    "old_paths = [test_imgSubTIF, test_imgRawNEF, test_imgRawCR2, test_imgRawJPG, test_imgSubjpgIP, 'falseflag.todd']"
   ]
  },
  {
   "cell_type": "code",
   "execution_count": null,
   "metadata": {},
   "outputs": [],
   "source": [
    "with io.capture_output(stdout=False, stderr=True, display=False) as captured: # Don't print logs from IPTC reader\n",
    "    for old_path in old_paths:\n",
    "        new_path = old_path.split('.')[0]+'TEST.jpg' #men skal så over i flatten med ny ID!!\n",
    "        print(old_path +'___'+new_path )\n",
    "        MoveConvertGetMeta(old_path, new_path)\n",
    "        try:\n",
    "            image_check(new_path)\n",
    "        except:\n",
    "            pass"
   ]
  },
  {
   "cell_type": "code",
   "execution_count": null,
   "metadata": {},
   "outputs": [],
   "source": [
    "# TEST!\n",
    "\n",
    "for old_path in old_paths:\n",
    "    try:\n",
    "        new_path = old_path.split('.')[0]+'TEST.jpg'\n",
    "        testinfo = IPTCInfo(new_path, force = True)\n",
    "        print(new_path)\n",
    "        \n",
    "        for i in IPTC_keys:\n",
    "            if testinfo[i]:\n",
    "                print(f'key: {i}, info: {testinfo[i]}\\n')\n",
    "        \n",
    "    except:\n",
    "        print('less cooool')\n",
    "        pass\n",
    "\n",
    "# Note that you have no warnings that these are not JPG! Which is nice"
   ]
  }
 ],
 "metadata": {
  "kernelspec": {
   "display_name": "Python 3",
   "language": "python",
   "name": "python3"
  },
  "language_info": {
   "codemirror_mode": {
    "name": "ipython",
    "version": 3
   },
   "file_extension": ".py",
   "mimetype": "text/x-python",
   "name": "python",
   "nbconvert_exporter": "python",
   "pygments_lexer": "ipython3",
   "version": "3.7.4"
  }
 },
 "nbformat": 4,
 "nbformat_minor": 4
}
