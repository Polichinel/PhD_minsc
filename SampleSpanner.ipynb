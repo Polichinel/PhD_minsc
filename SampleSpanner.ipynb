{
 "cells": [
  {
   "cell_type": "markdown",
   "metadata": {},
   "source": [
    "## Script for creating training sample\n",
    "### Johan Spanners images\n",
    "\n",
    "1) you need to flatten Johans file structure  \n",
    "2) Do it on his drive in a new folder called; flatten_folder  \n",
    "3) Rename each image acording to a new ID; JS + N_i  (JS = Johan Spanner)\n",
    "4) Draw 5000 random images  \n",
    "5) Save in new folder: sample_5000  \n",
    "5) crate csv frame - that is csv with column names and row index  \n",
    "6) column names = features  \n",
    "7) row index = image ID  \n",
    "8) codebook  \n",
    "9) Page in code book showing the order of the column names so they don't have to scroll \n",
    "\n",
    "to mount external harddriv:\n",
    "> sudo mkdir /mnt/f # f is just random letter for the mounting point  \n",
    "> sudo mount -t drvfs d: /mnt/f # f is the letter choosen above, d is the drive name\n",
    "\n",
    "Now you can access his files at location: **/mnt/f/'October Johan Archive'/Spanner**\n",
    "\n",
    "You then have the folders Published, Raw, Submitted."
   ]
  },
  {
   "cell_type": "markdown",
   "metadata": {},
   "source": [
    "# Code"
   ]
  },
  {
   "cell_type": "code",
   "execution_count": 1,
   "metadata": {},
   "outputs": [],
   "source": [
    "import os\n",
    "import cv2\n",
    "from iptcinfo3 import IPTCInfo\n",
    "from PIL import Image\n",
    "import re\n",
    "import zipfile\n",
    "import shutil\n",
    "import numpy as np\n",
    "import time\n",
    "import matplotlib.pyplot as plt"
   ]
  },
  {
   "cell_type": "code",
   "execution_count": 2,
   "metadata": {},
   "outputs": [],
   "source": [
    "# external_dir =  \"/mnt/f/OctoberJohanArchive\"\n",
    "external_dir =  \"/mnt/f/OctoberJohanArchiveTest\" # only the published images\n",
    "flatten_dir =  \"/mnt/f/OctoberJohanArchiveFlatten\""
   ]
  },
  {
   "cell_type": "code",
   "execution_count": 3,
   "metadata": {},
   "outputs": [],
   "source": [
    "def count_files(external_dir):\n",
    "    \n",
    "    \"\"\"Counts files in folder tree. Sanity check, and fits in the function flatten_dirs()\"\"\"\n",
    "    \n",
    "    count = 0\n",
    "    \n",
    "    for root, dirs, files in os.walk(external_dir):\n",
    "        for name in files:\n",
    "            count += 1\n",
    "        \n",
    "    return(count)"
   ]
  },
  {
   "cell_type": "code",
   "execution_count": 5,
   "metadata": {},
   "outputs": [],
   "source": [
    "def mk_flatten_dir(flatten_dir):\n",
    "    \n",
    "    \"\"\"Creates a new folder which is to be the location of the flattened folder tree. fits in the function flatten_dirs()\"\"\"\n",
    "    \n",
    "    if not os.path.exists(flatten_dir):\n",
    "        os.mkdir(flatten_dir) # makes new dir                     \n",
    "        \n",
    "    # Or REPLACE old if exist\n",
    "    else:\n",
    "        shutil.rmtree(flatten_dir) # delets dir and content.. FOREVER!\n",
    "        os.mkdir(flatten_dir) # makes new dir\n"
   ]
  },
  {
   "cell_type": "code",
   "execution_count": 12,
   "metadata": {},
   "outputs": [],
   "source": [
    "def flatten_dirs(external_dir, flatten_dir):\n",
    "    \n",
    "    time_start = time.time()\n",
    "    mk_flatten_dir(flatten_dir) # creates the new folder\n",
    "    files_count = count_files(external_dir) # counts all files to be moved\n",
    "    counter = 0 # counter for iterations and image ID\n",
    "    count_move = 0\n",
    "    count_exceptions = 0 # count files not being move, due to them not being images.\n",
    "    ID_front = \"JS\" # Johan Spanner\n",
    "    \n",
    "    print(f'\\nstarts moving files from: {external_dir}\\nto new shared parent dir: {flatten_dir}...\\n')\n",
    "    \n",
    "    for root, dirs, files in os.walk(external_dir):\n",
    "        \n",
    "        for name in files: \n",
    "            \n",
    "            counter += 1\n",
    "            print(f'Handling file {counter} of {files_count}', end= '\\r')\n",
    "                        \n",
    "            old_path = os.path.join(root, name) #all the info for the IPTC should be in in old_path name\n",
    "            \n",
    "            try: # you only wnat to move actual images\n",
    "                \n",
    "                # verify that is an image\n",
    "                img = Image.open(old_path)  # open the image file\n",
    "                img.verify()  # verify that it is a good image, without decoding it.. quite fast\n",
    "                img.close()\n",
    "                \n",
    "                # new path\n",
    "                count_move += 1\n",
    "                new_path = flatten_dir + \"/\" + ID_front + str(count_move) + \".jpeg\" # path and image ID - could also put the ID in the IPTC now you are at it.\n",
    "                \n",
    "                # Moving day..\n",
    "                shutil.copyfile(old_path, new_path) # x6 slower then move.. Do IPTC move to\n",
    "#                 shutil.move(old_path, new_path)# will delete the original path. Do IPTC also move? \n",
    "#                 shutil.copy(old_path, new_path) # error for both copy and copy2\n",
    "\n",
    "            except Exception as e: # Non images you just pass\n",
    "        \n",
    "                count_exceptions += 1\n",
    "                pass\n",
    "                \n",
    "    # Logging time it takes to complete operation..\n",
    "    time_end = time.time()\n",
    "    time_run = round((time_end - time_start)/60,2)\n",
    "                    \n",
    "    print(f'\\n\\nDone moving files to parent dir: {flatten_dir}...')\n",
    "\n",
    "    print(f'File(s) moved: {counter-count_exceptions} out of {files_count} files')\n",
    "    print(f'File(s) not moved (not images): {count_exceptions} out of {files_count} files')\n",
    "    \n",
    "    print(f'\\nALL DONE!\\nThe operation took {time_run} minutes')\n",
    "    \n"
   ]
  },
  {
   "cell_type": "code",
   "execution_count": null,
   "metadata": {},
   "outputs": [
    {
     "name": "stdout",
     "output_type": "stream",
     "text": [
      "\n",
      "starts moving files from: /mnt/f/OctoberJohanArchiveTest\n",
      "to new shared parent dir: /mnt/f/OctoberJohanArchiveFlatten...\n",
      "\n",
      "Handling file 243 of 523\r"
     ]
    }
   ],
   "source": [
    "flatten_dirs(external_dir, flatten_dir)"
   ]
  }
 ],
 "metadata": {
  "kernelspec": {
   "display_name": "Python 3",
   "language": "python",
   "name": "python3"
  },
  "language_info": {
   "codemirror_mode": {
    "name": "ipython",
    "version": 3
   },
   "file_extension": ".py",
   "mimetype": "text/x-python",
   "name": "python",
   "nbconvert_exporter": "python",
   "pygments_lexer": "ipython3",
   "version": "3.7.4"
  }
 },
 "nbformat": 4,
 "nbformat_minor": 4
}
