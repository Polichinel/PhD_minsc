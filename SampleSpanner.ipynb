{
 "cells": [
  {
   "cell_type": "markdown",
   "metadata": {},
   "source": [
    "## Script for creating training sample\n",
    "### Johan Spanners images\n",
    "\n",
    "1) you need to flatten Johans file structure  \n",
    "2) Do it on his drive in a new folder called; flatten_folder  \n",
    "3) Rename each image acording to a new ID; JS + N_i  (JS = Johan Spanner)\n",
    "4) Draw 5000 random images  \n",
    "5) Save in new folder: sample_5000  \n",
    "5) crate csv frame - that is csv with column names and row index  \n",
    "6) column names = features  \n",
    "7) row index = image ID  \n",
    "8) codebook  \n",
    "9) Page in code book showing the order of the column names so they don't have to scroll \n",
    "\n",
    "to mount external harddriv:\n",
    "> sudo mkdir /mnt/f # f is just random letter for the mounting point  \n",
    "> sudo mount -t drvfs d: /mnt/f # f is the letter choosen above, d is the drive name\n",
    "\n",
    "Now you can access his files at location: **/mnt/f/'October Johan Archive'/Spanner**\n",
    "\n",
    "You then have the folders Published, Raw, Submitted."
   ]
  },
  {
   "cell_type": "markdown",
   "metadata": {},
   "source": [
    "# Code"
   ]
  },
  {
   "cell_type": "code",
   "execution_count": 119,
   "metadata": {},
   "outputs": [],
   "source": [
    "import os\n",
    "import cv2\n",
    "from iptcinfo3 import IPTCInfo\n",
    "from PIL import Image\n",
    "from PIL.TiffTags import TAGS # til raw\n",
    "import rawpy # Måske bedre til raw \n",
    "import re\n",
    "import zipfile\n",
    "import shutil\n",
    "import numpy as np\n",
    "import time\n",
    "import matplotlib.pyplot as plt"
   ]
  },
  {
   "cell_type": "code",
   "execution_count": 2,
   "metadata": {},
   "outputs": [],
   "source": [
    "# external_dir =  \"/mnt/f/OctoberJohanArchive\"\n",
    "external_dir =  \"/mnt/f/OctoberJohanArchiveTest\" # only the published images\n",
    "flatten_dir =  \"/mnt/f/OctoberJohanArchiveFlatten\""
   ]
  },
  {
   "cell_type": "code",
   "execution_count": 3,
   "metadata": {},
   "outputs": [],
   "source": [
    "def count_files(external_dir):\n",
    "    \n",
    "    \"\"\"Counts files in folder tree. Sanity check, and fits in the function flatten_dirs()\"\"\"\n",
    "    \n",
    "    count = 0\n",
    "    \n",
    "    for root, dirs, files in os.walk(external_dir):\n",
    "        for name in files:\n",
    "            count += 1\n",
    "        \n",
    "    return(count)"
   ]
  },
  {
   "cell_type": "code",
   "execution_count": 4,
   "metadata": {},
   "outputs": [],
   "source": [
    "def mk_flatten_dir(flatten_dir):\n",
    "    \n",
    "    \"\"\"Creates a new folder which is to be the location of the flattened folder tree. fits in the function flatten_dirs()\"\"\"\n",
    "    \n",
    "    if not os.path.exists(flatten_dir):\n",
    "        os.mkdir(flatten_dir) # makes new dir                     \n",
    "        \n",
    "    # Or REPLACE old if exist\n",
    "    else:\n",
    "        shutil.rmtree(flatten_dir) # delets dir and content.. FOREVER!\n",
    "        os.mkdir(flatten_dir) # makes new dir\n"
   ]
  },
  {
   "cell_type": "code",
   "execution_count": 5,
   "metadata": {},
   "outputs": [],
   "source": [
    "# def infoIPTC() \n",
    "#     \"\"\"Takes infomation from the image path string, and add it to the IPTC. Ex, wheter the is is raw, edit or puplished\"\"\""
   ]
  },
  {
   "cell_type": "code",
   "execution_count": 6,
   "metadata": {},
   "outputs": [],
   "source": [
    "def flatten_dirs(external_dir, flatten_dir):\n",
    "    \n",
    "    time_start = time.time() # start time\n",
    "    mk_flatten_dir(flatten_dir) # creates the new folder\n",
    "    files_count = count_files(external_dir) # counts all files to be moved\n",
    "    counter = 0 # counter for all iterations\n",
    "    count_move = 0 # counter for files moved and image ID\n",
    "    count_exceptions = 0 # count files not being move, due to them not being images.\n",
    "    ID_front = \"JS\" # Johan Spanner\n",
    "    \n",
    "    print(f'\\nstarts moving files from: {external_dir}\\nto new shared parent dir: {flatten_dir}...\\n')\n",
    "    \n",
    "    for root, dirs, files in os.walk(external_dir):\n",
    "        \n",
    "        for name in files: \n",
    "            \n",
    "            counter += 1\n",
    "            print(f'Handling file {counter} of {files_count}', end= '\\r')\n",
    "                        \n",
    "            old_path = os.path.join(root, name) #all the info for the IPTC should be in in old_path name\n",
    "            \n",
    "            #store info for IPTC\n",
    "            old_path.split(\"/\") # list of strings\n",
    "            \n",
    "            try: # you only wnat to move actual images\n",
    "                \n",
    "                # verify that is an image\n",
    "                img = Image.open(old_path)  # open the image file\n",
    "                img.verify()  # verify that it is a good image, without decoding it.. quite fast\n",
    "                img.close()\n",
    "                \n",
    "                # new path\n",
    "                count_move += 1\n",
    "                new_path = flatten_dir + \"/\" + ID_front + str(count_move) + \".jpeg\" # path and image ID - could also put the ID in the IPTC now you are at it.\n",
    "                # seems you can call all relevant image types .jpeg and still open them - even .tif\n",
    "                \n",
    "                # Moving day..\n",
    "                shutil.copyfile(old_path, new_path) # x6 slower then move.. IPTC moves to\n",
    "#                 shutil.move(old_path, new_path)# will delete the original path. Do IPTC also move? \n",
    "#                 shutil.copy(old_path, new_path) # error for both copy and copy2\n",
    "\n",
    "            except Exception as e: # Non images you just pass\n",
    "        \n",
    "                count_exceptions += 1\n",
    "                pass\n",
    "                \n",
    "    # Logging time it takes to complete operation..\n",
    "    time_end = time.time()\n",
    "    time_run = round((time_end - time_start)/60,2)\n",
    "                    \n",
    "    print(f'\\n\\nDone moving files to parent dir: {flatten_dir}...')\n",
    "\n",
    "    print(f'File(s) moved: {counter-count_exceptions} out of {files_count} files')\n",
    "    print(f'File(s) not moved (not images): {count_exceptions} out of {files_count} files')\n",
    "    \n",
    "    print(f'\\nALL DONE!\\nThe operation took {time_run} minutes')\n",
    "    \n"
   ]
  },
  {
   "cell_type": "code",
   "execution_count": 7,
   "metadata": {},
   "outputs": [
    {
     "name": "stdout",
     "output_type": "stream",
     "text": [
      "\n",
      "starts moving files from: /mnt/f/OctoberJohanArchiveTest\n",
      "to new shared parent dir: /mnt/f/OctoberJohanArchiveFlatten...\n",
      "\n",
      "Handling file 191 of 191\n",
      "\n",
      "Done moving files to parent dir: /mnt/f/OctoberJohanArchiveFlatten...\n",
      "File(s) moved: 188 out of 191 files\n",
      "File(s) not moved (not images): 3 out of 191 files\n",
      "\n",
      "ALL DONE!\n",
      "The operation took 0.43 minutes\n"
     ]
    }
   ],
   "source": [
    "flatten_dirs(external_dir, flatten_dir)"
   ]
  },
  {
   "cell_type": "code",
   "execution_count": null,
   "metadata": {},
   "outputs": [],
   "source": []
  },
  {
   "cell_type": "code",
   "execution_count": null,
   "metadata": {},
   "outputs": [],
   "source": []
  },
  {
   "cell_type": "code",
   "execution_count": null,
   "metadata": {},
   "outputs": [],
   "source": []
  },
  {
   "cell_type": "code",
   "execution_count": 8,
   "metadata": {},
   "outputs": [
    {
     "data": {
      "text/plain": [
       "['',\n",
       " 'mnt',\n",
       " 'f',\n",
       " 'OctoberJohanArchive',\n",
       " 'Spanner',\n",
       " 'Submitted',\n",
       " '2003',\n",
       " '031703Jylleditfirstnight',\n",
       " 'A-edit',\n",
       " 'DSC_0148.tif']"
      ]
     },
     "execution_count": 8,
     "metadata": {},
     "output_type": "execute_result"
    }
   ],
   "source": [
    "test_img = \"/mnt/f/OctoberJohanArchive/Spanner/Submitted/2003/031703Jylleditfirstnight/A-edit/DSC_0148.tif\"\n",
    "\n",
    "test_img.split(\"/\")#[5]"
   ]
  },
  {
   "cell_type": "code",
   "execution_count": 9,
   "metadata": {},
   "outputs": [
    {
     "data": {
      "text/plain": [
       "'/mnt/f/OctoberJohanArchiveTest'"
      ]
     },
     "execution_count": 9,
     "metadata": {},
     "output_type": "execute_result"
    }
   ],
   "source": [
    "external_dir"
   ]
  },
  {
   "cell_type": "code",
   "execution_count": null,
   "metadata": {},
   "outputs": [],
   "source": []
  },
  {
   "cell_type": "code",
   "execution_count": null,
   "metadata": {},
   "outputs": [],
   "source": []
  },
  {
   "cell_type": "markdown",
   "metadata": {},
   "source": [
    "## Check IPTC in moved images."
   ]
  },
  {
   "cell_type": "markdown",
   "metadata": {},
   "source": [
    "'date created' = date   \n",
    "'time created' = time  \n",
    "'copyright notice' = Johan spanner  \n",
    "'custom1' = raw, submitted, pulished  "
   ]
  },
  {
   "cell_type": "code",
   "execution_count": 10,
   "metadata": {},
   "outputs": [],
   "source": [
    "dict_keys = ['object name', \n",
    "             'edit status', \n",
    "             'editorial update', \n",
    "             'urgency', \n",
    "             'subject reference', \n",
    "             'category', \n",
    "             'supplemental category', \n",
    "             'fixture identifier', \n",
    "             'keywords', \n",
    "             'content location code', \n",
    "             'content location name', \n",
    "             'release date', \n",
    "             'release time', \n",
    "             'expiration date', \n",
    "             'expiration time', \n",
    "             'special instructions', \n",
    "             'action advised', \n",
    "             'reference service', \n",
    "             'reference date', \n",
    "             'reference number', \n",
    "             'date created', \n",
    "             'time created', \n",
    "             'digital creation date', \n",
    "             'digital creation time', \n",
    "             'originating program', \n",
    "             'program version', \n",
    "             'object cycle', \n",
    "             'by-line', \n",
    "             'by-line title', \n",
    "             'city', \n",
    "             'sub-location', \n",
    "             'province/state', \n",
    "             'country/primary location code', \n",
    "             'country/primary location name', \n",
    "             'original transmission reference', \n",
    "             'headline', \n",
    "             'credit', \n",
    "             'source', \n",
    "             'copyright notice', \n",
    "             'contact', \n",
    "             'caption/abstract', \n",
    "             'local caption', \n",
    "             'writer/editor', \n",
    "             'image type', \n",
    "             'image orientation', \n",
    "             'language identifier', \n",
    "             'custom1', \n",
    "             'custom2', \n",
    "             'custom3', \n",
    "             'custom4', \n",
    "             'custom5', \n",
    "             'custom6', \n",
    "             'custom7', \n",
    "             'custom8', \n",
    "             'custom9', \n",
    "             'custom10', \n",
    "             'custom11', \n",
    "             'custom12', \n",
    "             'custom13', \n",
    "             'custom14', \n",
    "             'custom15', \n",
    "             'custom16', \n",
    "             'custom17', \n",
    "             'custom18', \n",
    "             'custom19', \n",
    "             'custom20'] # surely you can get this list from somewhere...\n",
    "# save as a pickle so you don't have to look at this shit."
   ]
  },
  {
   "cell_type": "code",
   "execution_count": 11,
   "metadata": {},
   "outputs": [],
   "source": [
    "def get_IPTC_data(image_path):\n",
    "    info = IPTCInfo(image_path, force=True, inp_charset='utf8')\n",
    "    \n",
    "    keys = ['custom1','copyright notice','date created','time created'] #or by-line for name?\n",
    "    strings = ['submitted','Spanner',' a date', 'some time'] # submitted and copyright notice you get from path, date and time created you get from..., \n",
    "    \n",
    "    for j,i in enumerate(keys):\n",
    "        if info[i] == None or len(info[i]) < 1:\n",
    "                info[i] = strings[j] # if you sort the string list first, you could use enumarate and strings[j]\n",
    "                \n",
    "    #--------------------------------------------\n",
    "    \n",
    "    for i in dict_keys:\n",
    "        if info[i] != None:\n",
    "            if len(info[i]) > 0: \n",
    "                print(f'key: {i}, info: {info[i]}\\n')\n"
   ]
  },
  {
   "cell_type": "markdown",
   "metadata": {},
   "source": [
    "# construction:"
   ]
  },
  {
   "cell_type": "code",
   "execution_count": 137,
   "metadata": {},
   "outputs": [],
   "source": [
    "# submitted\n",
    "test_imgSubTIF = \"/mnt/f/OctoberJohanArchiveTestOld/Spanner/Submitted/DSC_0128.tif\"\n",
    "test_imgSubJPG = \"/mnt/f/OctoberJohanArchiveTestOld/Spanner/Submitted/DSC_0906.jpg\"\n",
    "\n",
    "# raw\n",
    "test_imgRawNEF = \"/mnt/f/OctoberJohanArchiveTestOld/Spanner/Raw/DSC_0001.NEF\"\n",
    "test_imgRawCR2 = \"/mnt/f/OctoberJohanArchiveTestOld/Spanner/Raw/IMG_0001.CR2\"\n",
    "test_imgRawJPG = \"/mnt/f/OctoberJohanArchiveTestOld/Spanner/Raw/P3300001.JPG\"\n",
    "\n"
   ]
  },
  {
   "cell_type": "code",
   "execution_count": 102,
   "metadata": {},
   "outputs": [],
   "source": [
    "def get_IPTC_data(image_path):\n",
    "    \n",
    "    info = IPTCInfo(image_path, force=True) #, inp_charset='utf8')\n",
    "    image = Image.open(image_path)\n",
    "    \n",
    "    # should be somewhere else..\n",
    "#     image = image.convert('RGB')\n",
    "#     image.save(image_path) \n",
    "    #---------------------------\n",
    "#     info = IPTCInfo(image_path, force=True, inp_charset='utf8')\n",
    "\n",
    "    \n",
    "    try:\n",
    "        txt = str(image.info['exif']) # exif are mostly JPEG - what if I convert myself?\n",
    "    \n",
    "        r = '[\\d]{4}:[\\d]{2}:[\\d]{2} [\\d]{2}:[\\d]{2}:[\\d]{2}'# time and, date. but is this robust? we will find out.\n",
    "    \n",
    "        date, time = re.search(r, txt).group().replace(':','').split(' ')\n",
    "        \n",
    "    \n",
    "    except:\n",
    "        date = 'D'\n",
    "        time = 'T'\n",
    "        pass\n",
    "    \n",
    "    keys = ['custom1','copyright notice','date created','time created'] #or by-line for name?\n",
    "    strings = ['submitted','Spanner', date, time] # submitted and copyright notice you get from path, date and time created you get from..., \n",
    "    \n",
    "    for j,i in enumerate(keys):\n",
    "        if info[i] == None or len(info[i]) < 1:\n",
    "                info[i] = strings[j]\n",
    "                \n",
    "#Print for test--------------------------------------------\n",
    "    \n",
    "    for i in dict_keys:\n",
    "        if info[i] != None:\n",
    "            if len(info[i]) > 0: \n",
    "                print(f'key: {i}, info: {info[i]}\\n')\n"
   ]
  },
  {
   "cell_type": "markdown",
   "metadata": {},
   "source": [
    "# Really construction!\n",
    "but also solutions."
   ]
  },
  {
   "cell_type": "code",
   "execution_count": 166,
   "metadata": {},
   "outputs": [],
   "source": [
    "# works for CR2 and NEF\n",
    "raw = rawpy.imread(test_imgRawCR2)\n",
    "meta_string = str(raw.extract_thumb())"
   ]
  },
  {
   "cell_type": "code",
   "execution_count": null,
   "metadata": {},
   "outputs": [],
   "source": [
    "# works for tiff\n",
    "img = Image.open(test_imgSubTIF)\n",
    "meta_string = str(img.tag.tagdata) # seems, there are slightly different timestamp [2 hours dif - time zone tingy?], but one is correctly formatted."
   ]
  },
  {
   "cell_type": "code",
   "execution_count": 188,
   "metadata": {},
   "outputs": [],
   "source": [
    "# works for jpeg\n",
    "img = Image.open(test_imgRawJPG)\n",
    "meta_string = str(img.info['exif'])"
   ]
  },
  {
   "cell_type": "code",
   "execution_count": null,
   "metadata": {},
   "outputs": [],
   "source": []
  },
  {
   "cell_type": "code",
   "execution_count": null,
   "metadata": {},
   "outputs": [],
   "source": []
  },
  {
   "cell_type": "code",
   "execution_count": null,
   "metadata": {},
   "outputs": [],
   "source": []
  },
  {
   "cell_type": "code",
   "execution_count": null,
   "metadata": {},
   "outputs": [],
   "source": []
  },
  {
   "cell_type": "code",
   "execution_count": null,
   "metadata": {},
   "outputs": [],
   "source": []
  },
  {
   "cell_type": "markdown",
   "metadata": {},
   "source": [
    "# REST:"
   ]
  },
  {
   "cell_type": "code",
   "execution_count": null,
   "metadata": {},
   "outputs": [],
   "source": [
    "# works for tiff\n",
    "with Image.open(test_imgSubTIF) as img:\n",
    "    meta_dict = {TAGS[key] : img.tag[key] for key in img.tag.keys()}"
   ]
  },
  {
   "cell_type": "code",
   "execution_count": null,
   "metadata": {},
   "outputs": [],
   "source": []
  },
  {
   "cell_type": "code",
   "execution_count": null,
   "metadata": {},
   "outputs": [],
   "source": []
  },
  {
   "cell_type": "code",
   "execution_count": null,
   "metadata": {},
   "outputs": [],
   "source": []
  },
  {
   "cell_type": "code",
   "execution_count": null,
   "metadata": {},
   "outputs": [],
   "source": []
  },
  {
   "cell_type": "code",
   "execution_count": null,
   "metadata": {},
   "outputs": [],
   "source": []
  },
  {
   "cell_type": "code",
   "execution_count": 167,
   "metadata": {},
   "outputs": [],
   "source": [
    "img = Image.open(test_imgSubTIF)\n",
    "str(img.tag.tagdata)"
   ]
  },
  {
   "cell_type": "code",
   "execution_count": 178,
   "metadata": {},
   "outputs": [
    {
     "name": "stdout",
     "output_type": "stream",
     "text": [
      "256\n",
      "257\n",
      "258\n",
      "259\n",
      "262\n",
      "34377\n",
      "273\n",
      "277\n",
      "278\n",
      "279\n",
      "282\n",
      "283\n",
      "284\n",
      "296\n",
      "34665\n",
      "305\n",
      "306\n",
      "34675\n",
      "700\n",
      "254\n"
     ]
    }
   ],
   "source": [
    "for key in img.tag.keys():\n",
    "    print(key) # men det er næppe det samme universielt..."
   ]
  },
  {
   "cell_type": "code",
   "execution_count": 159,
   "metadata": {
    "collapsed": true,
    "jupyter": {
     "outputs_hidden": true
    }
   },
   "outputs": [
    {
     "data": {
      "text/plain": [
       "(b'8BIM\\x04%\\x00\\x00\\x00\\x00\\x00\\x10\\x00\\x00\\x00\\x00\\x00\\x00\\x00\\x00\\x00\\x00\\x00\\x00\\x00\\x00\\x00\\x008BIM\\x03\\xea\\x00\\x00\\x00\\x00\\x1d\\xad<?xml version=\"1.0\" encoding=\"UTF-8\"?>\\n<!DOCTYPE plist PUBLIC \"-//Apple Computer//DTD PLIST 1.0//EN\" \"http://www.apple.com/DTDs/PropertyList-1.0.dtd\">\\n<plist version=\"1.0\">\\n<dict>\\n\\t<key>com.apple.print.PageFormat.PMHorizontalRes</key>\\n\\t<dict>\\n\\t\\t<key>com.apple.print.ticket.creator</key>\\n\\t\\t<string>com.apple.printingmanager</string>\\n\\t\\t<key>com.apple.print.ticket.itemArray</key>\\n\\t\\t<array>\\n\\t\\t\\t<dict>\\n\\t\\t\\t\\t<key>com.apple.print.PageFormat.PMHorizontalRes</key>\\n\\t\\t\\t\\t<real>72</real>\\n\\t\\t\\t\\t<key>com.apple.print.ticket.client</key>\\n\\t\\t\\t\\t<string>com.apple.printingmanager</string>\\n\\t\\t\\t\\t<key>com.apple.print.ticket.modDate</key>\\n\\t\\t\\t\\t<date>2003-03-22T10:07:41Z</date>\\n\\t\\t\\t\\t<key>com.apple.print.ticket.stateFlag</key>\\n\\t\\t\\t\\t<integer>0</integer>\\n\\t\\t\\t</dict>\\n\\t\\t</array>\\n\\t</dict>\\n\\t<key>com.apple.print.PageFormat.PMOrientation</key>\\n\\t<dict>\\n\\t\\t<key>com.apple.print.ticket.creator</key>\\n\\t\\t<string>com.apple.printingmanager</string>\\n\\t\\t<key>com.apple.print.ticket.itemArray</key>\\n\\t\\t<array>\\n\\t\\t\\t<dict>\\n\\t\\t\\t\\t<key>com.apple.print.PageFormat.PMOrientation</key>\\n\\t\\t\\t\\t<integer>1</integer>\\n\\t\\t\\t\\t<key>com.apple.print.ticket.client</key>\\n\\t\\t\\t\\t<string>com.apple.printingmanager</string>\\n\\t\\t\\t\\t<key>com.apple.print.ticket.modDate</key>\\n\\t\\t\\t\\t<date>2003-03-22T10:07:41Z</date>\\n\\t\\t\\t\\t<key>com.apple.print.ticket.stateFlag</key>\\n\\t\\t\\t\\t<integer>0</integer>\\n\\t\\t\\t</dict>\\n\\t\\t</array>\\n\\t</dict>\\n\\t<key>com.apple.print.PageFormat.PMScaling</key>\\n\\t<dict>\\n\\t\\t<key>com.apple.print.ticket.creator</key>\\n\\t\\t<string>com.apple.printingmanager</string>\\n\\t\\t<key>com.apple.print.ticket.itemArray</key>\\n\\t\\t<array>\\n\\t\\t\\t<dict>\\n\\t\\t\\t\\t<key>com.apple.print.PageFormat.PMScaling</key>\\n\\t\\t\\t\\t<real>1</real>\\n\\t\\t\\t\\t<key>com.apple.print.ticket.client</key>\\n\\t\\t\\t\\t<string>com.apple.printingmanager</string>\\n\\t\\t\\t\\t<key>com.apple.print.ticket.modDate</key>\\n\\t\\t\\t\\t<date>2003-03-22T10:07:41Z</date>\\n\\t\\t\\t\\t<key>com.apple.print.ticket.stateFlag</key>\\n\\t\\t\\t\\t<integer>0</integer>\\n\\t\\t\\t</dict>\\n\\t\\t</array>\\n\\t</dict>\\n\\t<key>com.apple.print.PageFormat.PMVerticalRes</key>\\n\\t<dict>\\n\\t\\t<key>com.apple.print.ticket.creator</key>\\n\\t\\t<string>com.apple.printingmanager</string>\\n\\t\\t<key>com.apple.print.ticket.itemArray</key>\\n\\t\\t<array>\\n\\t\\t\\t<dict>\\n\\t\\t\\t\\t<key>com.apple.print.PageFormat.PMVerticalRes</key>\\n\\t\\t\\t\\t<real>72</real>\\n\\t\\t\\t\\t<key>com.apple.print.ticket.client</key>\\n\\t\\t\\t\\t<string>com.apple.printingmanager</string>\\n\\t\\t\\t\\t<key>com.apple.print.ticket.modDate</key>\\n\\t\\t\\t\\t<date>2003-03-22T10:07:41Z</date>\\n\\t\\t\\t\\t<key>com.apple.print.ticket.stateFlag</key>\\n\\t\\t\\t\\t<integer>0</integer>\\n\\t\\t\\t</dict>\\n\\t\\t</array>\\n\\t</dict>\\n\\t<key>com.apple.print.PageFormat.PMVerticalScaling</key>\\n\\t<dict>\\n\\t\\t<key>com.apple.print.ticket.creator</key>\\n\\t\\t<string>com.apple.printingmanager</string>\\n\\t\\t<key>com.apple.print.ticket.itemArray</key>\\n\\t\\t<array>\\n\\t\\t\\t<dict>\\n\\t\\t\\t\\t<key>com.apple.print.PageFormat.PMVerticalScaling</key>\\n\\t\\t\\t\\t<real>1</real>\\n\\t\\t\\t\\t<key>com.apple.print.ticket.client</key>\\n\\t\\t\\t\\t<string>com.apple.printingmanager</string>\\n\\t\\t\\t\\t<key>com.apple.print.ticket.modDate</key>\\n\\t\\t\\t\\t<date>2003-03-22T10:07:41Z</date>\\n\\t\\t\\t\\t<key>com.apple.print.ticket.stateFlag</key>\\n\\t\\t\\t\\t<integer>0</integer>\\n\\t\\t\\t</dict>\\n\\t\\t</array>\\n\\t</dict>\\n\\t<key>com.apple.print.subTicket.paper_info_ticket</key>\\n\\t<dict>\\n\\t\\t<key>com.apple.print.PageFormat.PMAdjustedPageRect</key>\\n\\t\\t<dict>\\n\\t\\t\\t<key>com.apple.print.ticket.creator</key>\\n\\t\\t\\t<string>com.apple.printingmanager</string>\\n\\t\\t\\t<key>com.apple.print.ticket.itemArray</key>\\n\\t\\t\\t<array>\\n\\t\\t\\t\\t<dict>\\n\\t\\t\\t\\t\\t<key>com.apple.print.PageFormat.PMAdjustedPageRect</key>\\n\\t\\t\\t\\t\\t<array>\\n\\t\\t\\t\\t\\t\\t<real>0.0</real>\\n\\t\\t\\t\\t\\t\\t<real>0.0</real>\\n\\t\\t\\t\\t\\t\\t<real>734</real>\\n\\t\\t\\t\\t\\t\\t<real>576</real>\\n\\t\\t\\t\\t\\t</array>\\n\\t\\t\\t\\t\\t<key>com.apple.print.ticket.client</key>\\n\\t\\t\\t\\t\\t<string>com.apple.printingmanager</string>\\n\\t\\t\\t\\t\\t<key>com.apple.print.ticket.modDate</key>\\n\\t\\t\\t\\t\\t<date>2003-03-22T10:07:41Z</date>\\n\\t\\t\\t\\t\\t<key>com.apple.print.ticket.stateFlag</key>\\n\\t\\t\\t\\t\\t<integer>0</integer>\\n\\t\\t\\t\\t</dict>\\n\\t\\t\\t</array>\\n\\t\\t</dict>\\n\\t\\t<key>com.apple.print.PageFormat.PMAdjustedPaperRect</key>\\n\\t\\t<dict>\\n\\t\\t\\t<key>com.apple.print.ticket.creator</key>\\n\\t\\t\\t<string>com.apple.printingmanager</string>\\n\\t\\t\\t<key>com.apple.print.ticket.itemArray</key>\\n\\t\\t\\t<array>\\n\\t\\t\\t\\t<dict>\\n\\t\\t\\t\\t\\t<key>com.apple.print.PageFormat.PMAdjustedPaperRect</key>\\n\\t\\t\\t\\t\\t<array>\\n\\t\\t\\t\\t\\t\\t<real>-18</real>\\n\\t\\t\\t\\t\\t\\t<real>-18</real>\\n\\t\\t\\t\\t\\t\\t<real>774</real>\\n\\t\\t\\t\\t\\t\\t<real>594</real>\\n\\t\\t\\t\\t\\t</array>\\n\\t\\t\\t\\t\\t<key>com.apple.print.ticket.client</key>\\n\\t\\t\\t\\t\\t<string>com.apple.printingmanager</string>\\n\\t\\t\\t\\t\\t<key>com.apple.print.ticket.modDate</key>\\n\\t\\t\\t\\t\\t<date>2003-03-22T10:07:41Z</date>\\n\\t\\t\\t\\t\\t<key>com.apple.print.ticket.stateFlag</key>\\n\\t\\t\\t\\t\\t<integer>0</integer>\\n\\t\\t\\t\\t</dict>\\n\\t\\t\\t</array>\\n\\t\\t</dict>\\n\\t\\t<key>com.apple.print.PaperInfo.PMPaperName</key>\\n\\t\\t<dict>\\n\\t\\t\\t<key>com.apple.print.ticket.creator</key>\\n\\t\\t\\t<string>com.apple.print.pm.PostScript</string>\\n\\t\\t\\t<key>com.apple.print.ticket.itemArray</key>\\n\\t\\t\\t<array>\\n\\t\\t\\t\\t<dict>\\n\\t\\t\\t\\t\\t<key>com.apple.print.PaperInfo.PMPaperName</key>\\n\\t\\t\\t\\t\\t<string>na-letter</string>\\n\\t\\t\\t\\t\\t<key>com.apple.print.ticket.client</key>\\n\\t\\t\\t\\t\\t<string>com.apple.print.pm.PostScript</string>\\n\\t\\t\\t\\t\\t<key>com.apple.print.ticket.modDate</key>\\n\\t\\t\\t\\t\\t<date>2000-07-28T22:57:04Z</date>\\n\\t\\t\\t\\t\\t<key>com.apple.print.ticket.stateFlag</key>\\n\\t\\t\\t\\t\\t<integer>1</integer>\\n\\t\\t\\t\\t</dict>\\n\\t\\t\\t</array>\\n\\t\\t</dict>\\n\\t\\t<key>com.apple.print.PaperInfo.PMUnadjustedPageRect</key>\\n\\t\\t<dict>\\n\\t\\t\\t<key>com.apple.print.ticket.creator</key>\\n\\t\\t\\t<string>com.apple.print.pm.PostScript</string>\\n\\t\\t\\t<key>com.apple.print.ticket.itemArray</key>\\n\\t\\t\\t<array>\\n\\t\\t\\t\\t<dict>\\n\\t\\t\\t\\t\\t<key>com.apple.print.PaperInfo.PMUnadjustedPageRect</key>\\n\\t\\t\\t\\t\\t<array>\\n\\t\\t\\t\\t\\t\\t<real>0.0</real>\\n\\t\\t\\t\\t\\t\\t<real>0.0</real>\\n\\t\\t\\t\\t\\t\\t<real>734</real>\\n\\t\\t\\t\\t\\t\\t<real>576</real>\\n\\t\\t\\t\\t\\t</array>\\n\\t\\t\\t\\t\\t<key>com.apple.print.ticket.client</key>\\n\\t\\t\\t\\t\\t<string>com.apple.printingmanager</string>\\n\\t\\t\\t\\t\\t<key>com.apple.print.ticket.modDate</key>\\n\\t\\t\\t\\t\\t<date>2003-03-22T10:07:41Z</date>\\n\\t\\t\\t\\t\\t<key>com.apple.print.ticket.stateFlag</key>\\n\\t\\t\\t\\t\\t<integer>0</integer>\\n\\t\\t\\t\\t</dict>\\n\\t\\t\\t</array>\\n\\t\\t</dict>\\n\\t\\t<key>com.apple.print.PaperInfo.PMUnadjustedPaperRect</key>\\n\\t\\t<dict>\\n\\t\\t\\t<key>com.apple.print.ticket.creator</key>\\n\\t\\t\\t<string>com.apple.print.pm.PostScript</string>\\n\\t\\t\\t<key>com.apple.print.ticket.itemArray</key>\\n\\t\\t\\t<array>\\n\\t\\t\\t\\t<dict>\\n\\t\\t\\t\\t\\t<key>com.apple.print.PaperInfo.PMUnadjustedPaperRect</key>\\n\\t\\t\\t\\t\\t<array>\\n\\t\\t\\t\\t\\t\\t<real>-18</real>\\n\\t\\t\\t\\t\\t\\t<real>-18</real>\\n\\t\\t\\t\\t\\t\\t<real>774</real>\\n\\t\\t\\t\\t\\t\\t<real>594</real>\\n\\t\\t\\t\\t\\t</array>\\n\\t\\t\\t\\t\\t<key>com.apple.print.ticket.client</key>\\n\\t\\t\\t\\t\\t<string>com.apple.printingmanager</string>\\n\\t\\t\\t\\t\\t<key>com.apple.print.ticket.modDate</key>\\n\\t\\t\\t\\t\\t<date>2003-03-22T10:07:41Z</date>\\n\\t\\t\\t\\t\\t<key>com.apple.print.ticket.stateFlag</key>\\n\\t\\t\\t\\t\\t<integer>0</integer>\\n\\t\\t\\t\\t</dict>\\n\\t\\t\\t</array>\\n\\t\\t</dict>\\n\\t\\t<key>com.apple.print.PaperInfo.ppd.PMPaperName</key>\\n\\t\\t<dict>\\n\\t\\t\\t<key>com.apple.print.ticket.creator</key>\\n\\t\\t\\t<string>com.apple.print.pm.PostScript</string>\\n\\t\\t\\t<key>com.apple.print.ticket.itemArray</key>\\n\\t\\t\\t<array>\\n\\t\\t\\t\\t<dict>\\n\\t\\t\\t\\t\\t<key>com.apple.print.PaperInfo.ppd.PMPaperName</key>\\n\\t\\t\\t\\t\\t<string>Letter</string>\\n\\t\\t\\t\\t\\t<key>com.apple.print.ticket.client</key>\\n\\t\\t\\t\\t\\t<string>com.apple.print.pm.PostScript</string>\\n\\t\\t\\t\\t\\t<key>com.apple.print.ticket.modDate</key>\\n\\t\\t\\t\\t\\t<date>2000-07-28T22:57:04Z</date>\\n\\t\\t\\t\\t\\t<key>com.apple.print.ticket.stateFlag</key>\\n\\t\\t\\t\\t\\t<integer>1</integer>\\n\\t\\t\\t\\t</dict>\\n\\t\\t\\t</array>\\n\\t\\t</dict>\\n\\t\\t<key>com.apple.print.ticket.APIVersion</key>\\n\\t\\t<string>00.20</string>\\n\\t\\t<key>com.apple.print.ticket.privateLock</key>\\n\\t\\t<false/>\\n\\t\\t<key>com.apple.print.ticket.type</key>\\n\\t\\t<string>com.apple.print.PaperInfoTicket</string>\\n\\t</dict>\\n\\t<key>com.apple.print.ticket.APIVersion</key>\\n\\t<string>00.20</string>\\n\\t<key>com.apple.print.ticket.privateLock</key>\\n\\t<false/>\\n\\t<key>com.apple.print.ticket.type</key>\\n\\t<string>com.apple.print.PageFormatTicket</string>\\n</dict>\\n</plist>\\n\\x008BIM\\x03\\xe9\\x00\\x00\\x00\\x00\\x00x\\x00\\x03\\x00\\x00\\x00H\\x00H\\x00\\x00\\x00\\x00\\x02\\xde\\x02@\\xff\\xee\\xff\\xee\\x03\\x06\\x02R\\x03g\\x05(\\x03\\xfc\\x00\\x02\\x00\\x00\\x00H\\x00H\\x00\\x00\\x00\\x00\\x02\\xd8\\x02(\\x00\\x01\\x00\\x00\\x00d\\x00\\x00\\x00\\x01\\x00\\x03\\x03\\x03\\x00\\x00\\x00\\x01\\x7f\\xff\\x00\\x01\\x00\\x01\\x00\\x00\\x00\\x00\\x00\\x00\\x00\\x00\\x00\\x00\\x00\\x00h\\x08\\x00\\x19\\x01\\x90\\x00\\x00\\x00\\x00\\x00 \\x00\\x00\\x00\\x00\\x00\\x00\\x00\\x00\\x00\\x00\\x00\\x00\\x00\\x00\\x00\\x00\\x00\\x00\\x00\\x00\\x00\\x00\\x00\\x00\\x00\\x008BIM\\x03\\xed\\x00\\x00\\x00\\x00\\x00\\x10\\x01,\\x00\\x00\\x00\\x01\\x00\\x01\\x01,\\x00\\x00\\x00\\x01\\x00\\x018BIM\\x04&\\x00\\x00\\x00\\x00\\x00\\x0e\\x00\\x00\\x00\\x00\\x00\\x00\\x00\\x00\\x00\\x00?\\x80\\x00\\x008BIM\\x04\\r\\x00\\x00\\x00\\x00\\x00\\x04\\x00\\x00\\x00\\x1e8BIM\\x04\\x19\\x00\\x00\\x00\\x00\\x00\\x04\\x00\\x00\\x00\\x1e8BIM\\x03\\xf3\\x00\\x00\\x00\\x00\\x00\\t\\x00\\x00\\x00\\x00\\x00\\x00\\x00\\x00\\x01\\x008BIM\\x04\\n\\x00\\x00\\x00\\x00\\x00\\x01\\x00\\x008BIM\\'\\x10\\x00\\x00\\x00\\x00\\x00\\n\\x00\\x01\\x00\\x00\\x00\\x00\\x00\\x00\\x00\\x018BIM\\x03\\xf5\\x00\\x00\\x00\\x00\\x00H\\x00/ff\\x00\\x01\\x00lff\\x00\\x06\\x00\\x00\\x00\\x00\\x00\\x01\\x00/ff\\x00\\x01\\x00\\xa1\\x99\\x9a\\x00\\x06\\x00\\x00\\x00\\x00\\x00\\x01\\x002\\x00\\x00\\x00\\x01\\x00Z\\x00\\x00\\x00\\x06\\x00\\x00\\x00\\x00\\x00\\x01\\x005\\x00\\x00\\x00\\x01\\x00-\\x00\\x00\\x00\\x06\\x00\\x00\\x00\\x00\\x00\\x018BIM\\x03\\xf8\\x00\\x00\\x00\\x00\\x00p\\x00\\x00\\xff\\xff\\xff\\xff\\xff\\xff\\xff\\xff\\xff\\xff\\xff\\xff\\xff\\xff\\xff\\xff\\xff\\xff\\xff\\xff\\xff\\xff\\x03\\xe8\\x00\\x00\\x00\\x00\\xff\\xff\\xff\\xff\\xff\\xff\\xff\\xff\\xff\\xff\\xff\\xff\\xff\\xff\\xff\\xff\\xff\\xff\\xff\\xff\\xff\\xff\\x03\\xe8\\x00\\x00\\x00\\x00\\xff\\xff\\xff\\xff\\xff\\xff\\xff\\xff\\xff\\xff\\xff\\xff\\xff\\xff\\xff\\xff\\xff\\xff\\xff\\xff\\xff\\xff\\x03\\xe8\\x00\\x00\\x00\\x00\\xff\\xff\\xff\\xff\\xff\\xff\\xff\\xff\\xff\\xff\\xff\\xff\\xff\\xff\\xff\\xff\\xff\\xff\\xff\\xff\\xff\\xff\\x03\\xe8\\x00\\x008BIM\\x04\\x08\\x00\\x00\\x00\\x00\\x00\\x10\\x00\\x00\\x00\\x01\\x00\\x00\\x02@\\x00\\x00\\x02@\\x00\\x00\\x00\\x008BIM\\x04\\x1e\\x00\\x00\\x00\\x00\\x00\\x04\\x00\\x00\\x00\\x008BIM\\x04\\x1a\\x00\\x00\\x00\\x00\\x03E\\x00\\x00\\x00\\x06\\x00\\x00\\x00\\x00\\x00\\x00\\x00\\x00\\x00\\x00\\x05 \\x00\\x00\\x07\\xd0\\x00\\x00\\x00\\x08\\x00D\\x00S\\x00C\\x00_\\x000\\x001\\x002\\x008\\x00\\x00\\x00\\x01\\x00\\x00\\x00\\x00\\x00\\x00\\x00\\x00\\x00\\x00\\x00\\x00\\x00\\x00\\x00\\x00\\x00\\x00\\x00\\x01\\x00\\x00\\x00\\x00\\x00\\x00\\x00\\x00\\x00\\x00\\x07\\xd0\\x00\\x00\\x05 \\x00\\x00\\x00\\x00\\x00\\x00\\x00\\x00\\x00\\x00\\x00\\x00\\x00\\x00\\x00\\x00\\x01\\x00\\x00\\x00\\x00\\x00\\x00\\x00\\x00\\x00\\x00\\x00\\x00\\x00\\x00\\x00\\x00\\x00\\x00\\x00\\x10\\x00\\x00\\x00\\x01\\x00\\x00\\x00\\x00\\x00\\x00null\\x00\\x00\\x00\\x02\\x00\\x00\\x00\\x06boundsObjc\\x00\\x00\\x00\\x01\\x00\\x00\\x00\\x00\\x00\\x00Rct1\\x00\\x00\\x00\\x04\\x00\\x00\\x00\\x00Top long\\x00\\x00\\x00\\x00\\x00\\x00\\x00\\x00Leftlong\\x00\\x00\\x00\\x00\\x00\\x00\\x00\\x00Btomlong\\x00\\x00\\x05 \\x00\\x00\\x00\\x00Rghtlong\\x00\\x00\\x07\\xd0\\x00\\x00\\x00\\x06slicesVlLs\\x00\\x00\\x00\\x01Objc\\x00\\x00\\x00\\x01\\x00\\x00\\x00\\x00\\x00\\x05slice\\x00\\x00\\x00\\x12\\x00\\x00\\x00\\x07sliceIDlong\\x00\\x00\\x00\\x00\\x00\\x00\\x00\\x07groupIDlong\\x00\\x00\\x00\\x00\\x00\\x00\\x00\\x06originenum\\x00\\x00\\x00\\x0cESliceOrigin\\x00\\x00\\x00\\rautoGenerated\\x00\\x00\\x00\\x00Typeenum\\x00\\x00\\x00\\nESliceType\\x00\\x00\\x00\\x00Img \\x00\\x00\\x00\\x06boundsObjc\\x00\\x00\\x00\\x01\\x00\\x00\\x00\\x00\\x00\\x00Rct1\\x00\\x00\\x00\\x04\\x00\\x00\\x00\\x00Top long\\x00\\x00\\x00\\x00\\x00\\x00\\x00\\x00Leftlong\\x00\\x00\\x00\\x00\\x00\\x00\\x00\\x00Btomlong\\x00\\x00\\x05 \\x00\\x00\\x00\\x00Rghtlong\\x00\\x00\\x07\\xd0\\x00\\x00\\x00\\x03urlTEXT\\x00\\x00\\x00\\x01\\x00\\x00\\x00\\x00\\x00\\x00nullTEXT\\x00\\x00\\x00\\x01\\x00\\x00\\x00\\x00\\x00\\x00MsgeTEXT\\x00\\x00\\x00\\x01\\x00\\x00\\x00\\x00\\x00\\x06altTagTEXT\\x00\\x00\\x00\\x01\\x00\\x00\\x00\\x00\\x00\\x0ecellTextIsHTMLbool\\x01\\x00\\x00\\x00\\x08cellTextTEXT\\x00\\x00\\x00\\x01\\x00\\x00\\x00\\x00\\x00\\thorzAlignenum\\x00\\x00\\x00\\x0fESliceHorzAlign\\x00\\x00\\x00\\x07default\\x00\\x00\\x00\\tvertAlignenum\\x00\\x00\\x00\\x0fESliceVertAlign\\x00\\x00\\x00\\x07default\\x00\\x00\\x00\\x0bbgColorTypeenum\\x00\\x00\\x00\\x11ESliceBGColorType\\x00\\x00\\x00\\x00None\\x00\\x00\\x00\\ttopOutsetlong\\x00\\x00\\x00\\x00\\x00\\x00\\x00\\nleftOutsetlong\\x00\\x00\\x00\\x00\\x00\\x00\\x00\\x0cbottomOutsetlong\\x00\\x00\\x00\\x00\\x00\\x00\\x00\\x0brightOutsetlong\\x00\\x00\\x00\\x00\\x008BIM\\x04\\x14\\x00\\x00\\x00\\x00\\x00\\x04\\x00\\x00\\x00\\x018BIM\\x04\\x0c\\x00\\x00\\x00\\x00\\r\\xb4\\x00\\x00\\x00\\x01\\x00\\x00\\x00\\x80\\x00\\x00\\x00T\\x00\\x00\\x01\\x80\\x00\\x00~\\x00\\x00\\x00\\r\\x98\\x00\\x18\\x00\\x01\\xff\\xd8\\xff\\xe0\\x00\\x10JFIF\\x00\\x01\\x02\\x01\\x00H\\x00H\\x00\\x00\\xff\\xed\\x00\\x0cAdobe_CM\\x00\\x01\\xff\\xee\\x00\\x0eAdobe\\x00d\\x80\\x00\\x00\\x00\\x01\\xff\\xdb\\x00\\x84\\x00\\x0c\\x08\\x08\\x08\\t\\x08\\x0c\\t\\t\\x0c\\x11\\x0b\\n\\x0b\\x11\\x15\\x0f\\x0c\\x0c\\x0f\\x15\\x18\\x13\\x13\\x15\\x13\\x13\\x18\\x11\\x0c\\x0c\\x0c\\x0c\\x0c\\x0c\\x11\\x0c\\x0c\\x0c\\x0c\\x0c\\x0c\\x0c\\x0c\\x0c\\x0c\\x0c\\x0c\\x0c\\x0c\\x0c\\x0c\\x0c\\x0c\\x0c\\x0c\\x0c\\x0c\\x0c\\x0c\\x0c\\x0c\\x0c\\x0c\\x01\\r\\x0b\\x0b\\r\\x0e\\r\\x10\\x0e\\x0e\\x10\\x14\\x0e\\x0e\\x0e\\x14\\x14\\x0e\\x0e\\x0e\\x0e\\x14\\x11\\x0c\\x0c\\x0c\\x0c\\x0c\\x11\\x11\\x0c\\x0c\\x0c\\x0c\\x0c\\x0c\\x11\\x0c\\x0c\\x0c\\x0c\\x0c\\x0c\\x0c\\x0c\\x0c\\x0c\\x0c\\x0c\\x0c\\x0c\\x0c\\x0c\\x0c\\x0c\\x0c\\x0c\\x0c\\x0c\\x0c\\x0c\\x0c\\x0c\\x0c\\x0c\\xff\\xc0\\x00\\x11\\x08\\x00T\\x00\\x80\\x03\\x01\"\\x00\\x02\\x11\\x01\\x03\\x11\\x01\\xff\\xdd\\x00\\x04\\x00\\x08\\xff\\xc4\\x01?\\x00\\x00\\x01\\x05\\x01\\x01\\x01\\x01\\x01\\x01\\x00\\x00\\x00\\x00\\x00\\x00\\x00\\x03\\x00\\x01\\x02\\x04\\x05\\x06\\x07\\x08\\t\\n\\x0b\\x01\\x00\\x01\\x05\\x01\\x01\\x01\\x01\\x01\\x01\\x00\\x00\\x00\\x00\\x00\\x00\\x00\\x01\\x00\\x02\\x03\\x04\\x05\\x06\\x07\\x08\\t\\n\\x0b\\x10\\x00\\x01\\x04\\x01\\x03\\x02\\x04\\x02\\x05\\x07\\x06\\x08\\x05\\x03\\x0c3\\x01\\x00\\x02\\x11\\x03\\x04!\\x121\\x05AQa\\x13\"q\\x812\\x06\\x14\\x91\\xa1\\xb1B#$\\x15R\\xc1b34r\\x82\\xd1C\\x07%\\x92S\\xf0\\xe1\\xf1cs5\\x16\\xa2\\xb2\\x83&D\\x93TdE\\xc2\\xa3t6\\x17\\xd2U\\xe2e\\xf2\\xb3\\x84\\xc3\\xd3u\\xe3\\xf3F\\'\\x94\\xa4\\x85\\xb4\\x95\\xc4\\xd4\\xe4\\xf4\\xa5\\xb5\\xc5\\xd5\\xe5\\xf5Vfv\\x86\\x96\\xa6\\xb6\\xc6\\xd6\\xe6\\xf67GWgw\\x87\\x97\\xa7\\xb7\\xc7\\xd7\\xe7\\xf7\\x11\\x00\\x02\\x02\\x01\\x02\\x04\\x04\\x03\\x04\\x05\\x06\\x07\\x07\\x06\\x055\\x01\\x00\\x02\\x11\\x03!1\\x12\\x04AQaq\"\\x13\\x052\\x81\\x91\\x14\\xa1\\xb1B#\\xc1R\\xd1\\xf03$b\\xe1r\\x82\\x92CS\\x15cs4\\xf1%\\x06\\x16\\xa2\\xb2\\x83\\x07&5\\xc2\\xd2D\\x93T\\xa3\\x17dEU6te\\xe2\\xf2\\xb3\\x84\\xc3\\xd3u\\xe3\\xf3F\\x94\\xa4\\x85\\xb4\\x95\\xc4\\xd4\\xe4\\xf4\\xa5\\xb5\\xc5\\xd5\\xe5\\xf5Vfv\\x86\\x96\\xa6\\xb6\\xc6\\xd6\\xe6\\xf6\\'7GWgw\\x87\\x97\\xa7\\xb7\\xc7\\xff\\xda\\x00\\x0c\\x03\\x01\\x00\\x02\\x11\\x03\\x11\\x00?\\x00\\xf3*\\xf9\\x84p>j\\'\\x16\\xea\\xda\\x1cKH\\xee\\x01\\xd4|\\x8a+\\x1b#Q\\n\\x19Hn\\x0bs\\x1c$4\\x90!\\x9b\\x04\\x81\\xaf\\xf7#\\xd5E\\x97\\xbbi\\xd2\\xb7rO1\\xc4mMU;\\x84\\x85\\xbb\\x83\\xd37\\x969\\xba\\x8e\\xff\\x00\\x13\\xd9T\\xcd\\x98@[{\\x0e\\x13?$8\\x98\\xcd\\xa6@!\\xa24l\\x89\\x80\\xac\\x0cl{@.\\x82&c\\x89+Z\\xae\\x82\\xf7\\xbd\\xa7`\\xf5\\x01\\x04O\\x87\\xc9bug\\xe4\\xf4\\xdc\\xcb\\xf0\\xed\\xafm\\xcdsC-i!\\xae\\xad\\xc3\\xd6\\x0fmo\\x1f\\x9c\\xdff\\xfd\\xff\\x00\\xce*p\\xc9\\xee\\xc8\\x88\\x1fV\\xed\\x99\\x88\\xe3\\x00\\x1a\\xae\\xc9>\\xc1S\\x86\\xd2\\xc1\\xbcw\\x8e\\xdd\\xbf\\xf2+\\x9a\\xcc\\xa1\\xb4\\xe5[S\\\\\\xd7\\x06\\xb8\\xfd\\x0e\\x1b\\xaf\\xd0\\xfe\\xca\\xdc\\xb39\\xad\\xc6\\x176\\xc7K\\x1b\\xa5n\\x92\\x0c\\xfeb\\xc6\\xc8y\\xbe\\xd3lm\\x06\\x00\\x130\\x07\\xfd\\x15o\\x95\\x13\\x06FGM\\xbf\\xc2jsf\\x12\\x8c@\\xf9\\xb7\\xff\\x00\\x05\\xaaB\\x89\\x08\\xc5\\xaa\\x04+\\x80\\xb4LQ\\x10\\x98\\xa9\\x90\\xa2S\\x82\\xc2\\x18\\xa6NS\\x14V\\x95\\x93\\'L\\x8a\\xd2\\xff\\x00\\xff\\xd0\\xe1\\xacxs5l8\\x98\\x9e\\xdf\\xea\\xe5\\x18\\x1bL\\x8dG*T\\x86\\xfa;\\xc0\\xd4\\xe9\\x1f\\x95F\\xc6\\xe4:[\\x8e\\xc0\\xf2\\xd3%\\x83\\xf9\\xcd9\\x1b\\x15!\\xbdmG\\xa9u\\x8e\\xd7\\xbd\\x8e\\x82\\xd7\\xc7\\xb1\\x82\\x01w\\x1a\\xfc\\'\\xc1t]/9\\xb4\\xed\\x82\\xd7Ik`\\x98\\x991\\xcf\\xe6\\xaeF\\x97\\x80\\xf0\\xe2`\\x13\\xaf\\xc0\\xad|\\\\r\\xfa\\xea\\x06\\x1eA\\x977\\x90t\\xfc\\xf5\\x175\\x8a$z\\x8e\\x8b\\xf9L\\xd2:\\x00\\xfa\\r}N\\xbc|\\x7f^\\xf7\\xb7\\x1e\\xa0v\\x9b,\\xd0\\x03\\xf9\\xbb\\xac>\\xdd\\x8f\\xfc\\xc5\\xc6}jwO\\xca\\xeb_l\\xc2\\xcefc\\xf2[9!\\x80\\xec\\xa9\\xcd\\x00V\\xca\\xec\\xda\\xda\\x9f[\\xea\\xfe]\\xb6\\xfa\\x95\\xfe\\x99\\x13;3\\xaa]\\xd3\\xc7O\\xc5e\\x8f\\xaa\\xf7~\\xb0\\xca\\xab\\xde\\xe2\\xd6\\xea\\xca\\\\\\xf6\\xfe\\x91\\xad{\\xdb\\xeec?\\x9dg\\xfa?\\xf0\\x994\\xd7\\xba\\x0f\"\\x7f\\x11\\xe2\\x15nW\\x0f\\xb7y\\x0c\\xb5\\xd6<#\\xf7\\x7f\\xac\\xbf\\x98<S\\xe1\\xe1\\xaa\\xa3\\x7f\\xbc\\xdc\\xc3\\xae\\xbbZj{\\x03\\xb4\\xd5\\xbe \\xfepU\\xba\\x85\\x143\"*\\x0e\\x05\\xc3s\\xdaD\\x00~\\x88\\xd9\\xff\\x00~Z\\xbd6\\xd1@p\\xbc\\x13U\\x86C\\x80\\x04\\x83\\xf9\\xc5\\xdf\\x9c\\xe5\\xb3\\x93\\xf5m\\xddc\\x1a\\xb7`\\xda&\\xa9\\xd86\\x87\\x07\\x13\\xf9\\x969\\xbf\\xa5g\\xfa\\xfe\\x8d\\x13\\x9f\\xdb\\xcb\\xea\\xb1\\x03\\xd7\\xf4WK\\x18\\x96.\\x96;\\xe8\\xf0\\x8f\\xae\\x10\\\\\\xd5\\xaf\\xd4:ff\\x05\\xee\\xc7\\xcc\\xa5\\xd4\\\\\\xc3\\x05\\xa7Pb5\\xae\\xcf\\xa1k=\\xdfM\\xab2\\xc6\\xc4\\xab\\xd8\\xf2\\t\\x0b\\x06\\xc1\\xec\\xd2\\xc9\\nk8(\\x10\\x8a\\xe0\\x86T\\xe1\\xaf \\xc0\\xa6)\\xcab\\x9c\\x18\\xca\\xca*I\\x8a+K\\xff\\xd1\\xe00\\xef\\xaa\\xb3\\x16\\x1dO\\xd2o<p\\xd3\\xfd\\xa5p\\xb9\\x96\\xd6m\\xa4\\x07<\\xe8u\\x80DG\\xbf\\xf7\\xbf\\xf2hVu\\x0e\\xb4p\\x9f\\x94\\xcb,v\\x1dV\\xd7MyM{\\xdaYg\\xa6\\xe6\\xb6\\xba\\xdd\\xb9\\x96?n?\\xadW\\xbd\\x9e\\x9d,\\xb7\\xf4\\x7fg\\xfbO\\xe93\\xd9\\x9d`.6\\x12\\xe785\\xbb\\x81\\x1a\\x06\\xedh\\xf6\\x96\\xfb\\xb6\\xd4\\xdd\\x95\\xff\\x007\\xb1T8\\xa5\"e\\xa0>w\\xf4t!\\xcc\\xc6 D\\x82c\\xd3\\xd3R\\xf3t\\xaa\\xaa\\x9b\\xec\\x0e\\x8d\\xc1\\xac\\x86\\xb1\\xf2\\x00\\xfeK\\x1a\\xcf\\xcd\\xfc\\xf5\\xab\\xd2q\\x81\\xa8\\x17\\xbams\\x83C \\xce\\x9fI\\xfa.o\\xf6\\x85\\x96<\\x1c\\x82\\\\\\x1b[\\x98\\xc8\\x1a\\x88\\x0e4\\x8f\\xa4\\xdf\\xf0\\x8e\\xf7\\xd8\\xff\\x00R\\xcf\\xf8\\xd5\\xa1\\x87\\xd63\\x86-\\xd76\\xc6\\xb4\\xd4!\\xd6\\x12\\xd3d\\xb9\\xaef;1\\xb1M\\xb5z\\xbb-k]~Kw\\xfa?\\xe8\\xbf\\xc1]\\x16l\\x19\\x0ch\\x106\\xdc\\xb3a\\xe6\\xf0\\xc6VD\\xba\\xec\\x1fB\\xe9}/\\x1d\\xada\\'\\xd3&\\x0b,\\x83\\xcfw\\x0f\\xe45\\xc9}h\\xfa\\xb4\\xd7\\xe5U\\x93\\x8a\\xd7\\xe5\\xf5N\\xa3s\\xac\\xbd\\xb5\\x07\\x16\\x8a\\x99[j\\xf61\\x83\\xd0\\xae\\xb6Y\\xe8~\\x9a\\xdf\\xd3Y\\xfb\\xff\\x00\\xce.r\\xaf\\xae\\x9dK\\xa2\\x06V\\xc6\\xe3\\xe6\\xbb\\xd2a\\xb3!\\xb2Xm\\x96\\xba\\xfa[s\\x1e\\xe6\\xe4m\\xa9\\xcd\\xf5\\xac\\xad\\xbf\\xa3\\xc9\\xff\\x00\\x82[\\x98_\\xe3\\x8d\\xa2\\xbb~\\xd7\\xd3\\x80w\\xb7\\xd0mv@\\'\\x8b}{lo\\xb7\\xf7\\xab\\xf4\\xa9\\xb3\\xf7\\x15,\\x1c\\xa6a\\x93\\x8aF\\xa0t\\xe3\\x8f\\xeb8\\xaf\\xfa\\xb6\\xbf?3\\xc58\\x98\\x01.\\x1b\\xf4K\\xf5\\x7f7\\x8c\\xe3\\xff\\x00v\\xe7\\xbf\\xa4\\xe4\\xe39\\xcd\\xb2\\xa72\\xca\\xc9k\\xdaF\\xa1\\xc3\\xb1]_\\xd4l{\\xabk\\x85\\xb0\\xd6{\\xb6\\xd6gt\\x92\\xd9{\\x83\\x83v\\x7f\\xdf\\xd7=\\xd6\\x7f\\xc6\\x8e\\x06`\\x1fg\\xe9`\\xd9-\\x06\\xdbm\\rw\\xa6\\x0b]mm\\xf4C\\xdd\\xfaO\\xd2\\xd7\\xbfw\\xe8\\xbf\\x9cT\\xbf\\xf1\\xc8/\\xa9\\xdbq\\xaf\\xa1\\xedd5\\x95e\\x173t\\xb7n\\xd0\\xe6\\xb6\\xfa\\xab\\xdb\\xbb\\xd4\\xf4\\xfdO\\xf0l\\xff\\x00\\x08\\x8c\\xf9l\\xdc@\\x88\\x8c\\x98\\xc4\\x84\\xbft\\xca1\\x96\\xd2\\x86N\\x1f\\x99R\\xcb\\x19\\xe3\\xe0?\\xab\\x9c\\xc5\\x1f\\xd3\\x8c|\\xb8\\x1e\\xb7\\xeb\\xf7\\xd5\\xcar0\\x9f\\xd4C\\xac\\xb3*\\xa6\\xed\\xa1\\xb2v4N\\xf71\\xb4\\xd7[\\x9b\\xfa_\\xdf\\xb5\\xff\\x00\\xdb^[wO\\xca\\x0f-u60\\xff\\x00)\\xb1\\xcf\\xd1\\x9f\\xeb-\\xdc\\x8f\\xad\\x9fZn\\xc0\\xfbM\\x94\\xe5:\\xa7\\x1ffP7\\x8ab[]\\x95\\xc4\\xfaO\\xddg\\xb3\\x7f\\xd3\\xaf\\xd4X/\\xeb\\x1dF\\xea\\xf6\\xb9\\xb6\\x16\\x86Y\\xb9\\xc3|\\xb8\\x01\\xfaK]\\xeec7\\xe2\\xff\\x00\\xa4g\\xfd{\\xd6V1\\xc3 \\x94\\xb8#\\x18c\\x06\\x84L\\xb8\\x8c4\\xf5 \\x0cq\\xc6#\\x92R\\x9c\\x87X\\xc6\\xb4\\xf9x\\x7f\\xc1AgK\\xca\\xd8\\x1c\\x04\\x92$\\xb7@G\\xf9\\xc5T\\xb7\\x1a\\xe68\\xb4\\x80H\\x12`\\x8f\\r\\xfe_E\\x16\\xcc\\xae\\xa3f\\xae.3\\xa4@\\x8f\\r\\x1b\\xf9\\xaa\\x95\\x8ey\\xf7?\\xdc<\\xf5\\xef\\xe4\\xaec\\x13\\xfd#\\x13\\xe4\\xd5\\xccq~\\x8cr\\x0f\\xefl\\xcc\\xd5f\\xc3f\\xdfh\\x1b\\x89\\xd3F\\x92\\x1b\\xbfl\\xef\\xd9\\xb9\\xdbw)7\\x1e\\xa2\\xc7z\\x97\\xb2\\xbb\\x00a\\xad\\xbfH9\\xae\\x1b\\xdc\\xe7[Qsk\\xf4\\xd9\\xfe\\x0b\\xf9\\xfd\\xff\\x00\\xa1\\xf4\\xfdTc\\x93\\x93K3(u\\xf4T\\xed\\xef\\x16\\xd4+n\\xe7\\xb8\\x9fJ\\xc6\\xe3\\xd9M\\x0fmm\\xdb\\xbf\\xd3\\xfd-4\\xb2\\xaf[\\xd2\\xfe{\\xf4\\xb6GS\\xcd\\x17S\\x1d_f\\xc85\\xddG\\xa8\\xc2\\xc2\\xed>\\x88f>\\xc7~\\x89\\x9e\\xbb\\xd9\\xea\\x7f\\x81\\xfes\\xfc\\x1b\\xb8\\xa5\\xd8\\x1d\\xf5\\x1c_\\xf7\\xac\\\\1&\\xae\\x8d\\xd5\\x13\\x1f\\xfb\\xe8\\xb9\\xc3\\x16\\xeb\\x0f\\xe8\\x9b\\xea\\xb7qc\\\\\\xce\\x1c@\\xdd\\x15\\xb5\\xdb_\\xeeo\\xe6m\\xf5\\x14\\xa9\\xe9\\xddC \\x81F-\\xd7Kw\\x8fM\\x85\\xfe\\xd3\\xf4]\\xecZ7\\xdd}\\x98\\x8e\\xb3\\xf6\\x9d\\xd7bN=v\\x07\\xed\\x0467U\\xb6\\x93\\x90\\xfb_v+\\x98\\xff\\x00k?G\\xb3\\xfe\\xd5\\x7f\\x82P\\xb76\\xefE\\xa7#.\\xeb7Y\\xb8Xo\\xf5\"\\xe6\\x166\\xdb\\x19\\x89U\\xad};\\x18\\xff\\x00\\xd5\\xef\\xb7\\xfaO\\xd9\\x7fE\\xfb\\x947\\xdc\\x99\\xd8\\x0f\\xb2_\\xfa\\x02}\\xb8\\x0f\\x98\\x91\\xf5\\x8d\\x7f\\xdd\\xbf\\xff\\xd2\\xf3\\xa6\\xe0[\\xfb5\\xfdC\\xd4\\xafew3\\x1f\\xd1\\x05\\xa6\\xc2\\xe71\\xf9\\x1b\\xfd/\\xa5\\xe8V\\xca\\xff\\x00\\x9cw\\xf8_\\xfa\\xe7\\xa7]\\xf8\\xf9\\x0c~\\xc7\\xd4\\xf6>\\x01\\xda\\xe1\\xb4\\xc1\\x1b\\xda}\\xdbv\\xeec\\xb7\\xa33%\\x82\\x9fCy\\xd8\\\\\\x1f\\xe9\\x89-.\\x03f\\xfd\\x9fGv\\xdfb\\x9d\\xaf\\xcb\\xca\\xb5\\xef&\\xdbmw\\xba\\xc7:\\\\\\xe3\\xf9\\xbb\\xac\\xb1\\xe7{\\x94\"R\\x04\\xdd\\x0f6\\xcf\\x04H\\x14L\\xbc#\\xabU\\xb4\\xb8\\x90\\t\\r\\x9f\\x13:\\x7fei\\xe0t\\xaa\\xaf\\xc5\\xb4\\xd9\\xbb\\xd6qh\\xa2\\xd0G\\xa6\\xc7~\\x93p\\xb1\\xae\\xdb\\xbb\\xd4w\\xd9\\x9b\\xeao\\xd9M_h\\xb3\\xfd\\x1a\\xce5\\xbe\\xb0C\\xc6\\xdf\"D\\x95b\\x8e\\xa2hikH\\x02t\\x10\\xe7\\x1d;\\xfd*\\xda\\x86N3\\x1fA\\xd6\\xd7a\\x18\\x84\\xbfZ:\\x1d\\xcd=\\xad\\x1fT>\\xae\\xddk\\xab\\xae\\xbb#el63#{E\\x8d\\'\\xd5\\xba\\xab\\xbd*\\xbdl|\\x96\\x8fg\\xe8\\x7f\\xe1?D\\xb5\\xed\\xe8\\x1fQ\\xfe\\xaeR/\\xce\\xc3\\xb33\\x1b<\\x9a\\xdbk\\x9f\\xea\\xbe\\xa2\\x06\\xef\\xd1\\xb4zO\\xad\\xaek}OY\\xbf\\xa5\\xff\\x00\\x06\\xb8\\x0c\\x7f\\xac\\xf9\\xb4\\xb8\\xfb\\xf7V\\x1b\\x01\\x81\\x8df\\xe3\\xe0\\xfb7>\\xc6\\xb5\\x9f\\xf0n\\xf7\\xa1\\xf5/\\xac\\xbdK\\xa8<\\x9b\\x1c\\x19W\\xa8ne\\r\\x1e\\xc68\\xb0Q\\xfa9\\xdc\\xef\\xe6\\xff\\x00\\xe9\\xfb\\xd5\\x0f\\xbbs\\x92\\xc9\\xea\\xca}\\xbd\\xfeo\\xb25&\\xd6L\\xdc\\xa0\\x8cL\\x05\\x11\\xa1\\xa8\\xf0\\xcb\\xfb\\xdcpz^\\xa8>\\xac_e\\x83\\xa6`\\xec\\xa1\\xed\\xa9\\x8cu\\x86\\x084\\x1d/\\xa9\\xb5\\xc7\\xbf6\\xa6\\xed\\xcc\\xf5\\xbfI\\xff\\x00\\\\[?\\xe2\\xeb+\\x1d\\xddJ\\xccs\\x83Mc\\n\\xb2\\x05\\xech.\\xf7<\\xd96Iu\\xbb\\x9e\\xefo\\xa9\\xff\\x00\\x07\\xe8\\xfau\\xfa_\\xa4\\xf3Vu,\\x96Tkn\\xd8<\\x128\\x91\\xae\\xddv\\xff\\x00)\\n\\xac\\xab\\xeay\\xb1\\x96=\\x8f\"\\x0b\\xda\\xe74\\x90u-\\xdc\\xd3\\xf4T\\xd3\\xe4\\xa7(\\xca<]A\\x85\\xdc\\xb5\\x1f\\xd5c<\\xd6:\\x11\\x00\\x80A\\x8c\\xbe\\xbe/\\xad\\x7f\\x8c_\\xad\\xef\\xa2\\x96tz\\xaak-\\xbf\\xdf\\xf6\\x878CEo\\x0e\\xf6W\\xfe\\x95\\xdb+\\xf4\\xfdE\\xe6\\xce\\xea\\x19%\\xaf`\\xb0X\\xcd\\x962\\x1f\\xb5\\xdb[d:\\xf7U\\xbf\\xf9\\xb7\\xbfg\\xf3\\x95\\xfe\\x93\\xf3\\x16[\\xeds\\xce\\xe2I<\\x92I&\\x7f\\xb4\\xa2L\\x85..W\\x84\\\\\\xcf\\x1eIk9\\x91\\xf3\\x1f\\x93\\xff\\x00I\\xfa\\x18\\x8f2\\x00\\xe0\\x80\\xe1\\x80\\xe9\\x7fl\\xbf\\xc6l\\xbf1\\xeen\\xc9;@\\x8d\\x072\\xa1\\x97\\x99\\x91\\x97{\\xb22-u\\xd7Y\\xab\\xed\\xb0\\x97=\\xc66\\xfb\\x9d\\xfdT\\x03\\xcaZ\\xab\\x02\\x11\\x1b\\x06\\td\\x9c\\xb7%%\\xec\\xc5k)4Z\\xeb\\x1c\\xf6M\\xcd{6l|\\xeb[\\x1d\\xbe\\xcfU\\xbf\\xf0\\x9f\\xa3B\\x94\\xfa\\xff\\x00zG\\x9d5\\x1d\\xbcS\\x98\\xd4\\x1d\\x1d\\x81\\xf8\\xa4^Kv\\xc0\\xd0\\xcc\\xc6\\xbf\\xe7&K\\xb2T\\x9b/\\xff\\xd3\\xf2\\xe6]k>\\x83\\xdc\\xd9\\xe7i#\\xf2&{\\x9c\\xf7\\x17<\\x97\\x13\\xc9$\\x92\\xa2\\x9d\\n\\x1b\\xae\\xe25Vk\\xb2\\x81\\x8e\\x12\\x92\\x92H\\xa1R\\x92\\xb1Kq~\\xcd{\\xae\\x16\\x1b\\xa1\\xa3\\x1fn\\xd0\\xc0w\\x0fU\\xd7\\xee\\xf7\\xbb\\xf4^\\xda\\xab\\xab\\xfc\\'\\xbf\\xfc\\x1e\\xcbA\\x08Zh\\xe8\\xca\\x9a\\xad\\xbe\\xd6SK\\x1dm\\xb682\\xba\\xd8\\x0b\\x9c\\xe78\\xedc\\x18\\xc6\\xfb\\x9e\\xf7\\xb9F\\x02\\x93H\\r~\\x80\\xc8\\x89<\\x8dF\\xa1(&\\x03A$\\xf1\\xa4I(Zi\\x8c\\x13\\xf9~\\xe4\\x95\\xba\\xb0n\\xbbw\\xa7\\x07l\\xb47\\xdcI#\\xe9F\\xc6\\x94\\xbff\\xe4\\x81a\\xb0\\n\\x8dl\\xf5\\x08y\\r1\\xee\\x8fi\\xf7?~\\xcff\\xc4\\xdfr;\\x12\\x17\\xfb9\\r\\x11\\x12Z\\x9f)M\\xa2t\\xe0@\\xdc\\xe9-2\\x04\\x18\\xd6?\\xda\\x9e\\xc6\\xc7D\\x93\\x9f\\xc16\\x89!I%\\xa2H\\xa9\\xff\\xd4\\xf2\\xb5k;\\xd4\\xddO\\xa9\\xe8\\xc7\\xa3^\\xcf\\xb3\\xec\\x8d\\xbb\\x7f\\xc3z?\\xf6\\xab\\xfe\\xe4z\\xff\\x00\\xa7\\xf5?\\xb0\\xaa$\\x87Q\\xf5\\\\6,\\xbb\\xa4\\xa2\\x92HK\\xee\\xf4\\xc7\\xee\\xcf\\xe2\\x9e\\xafB\\x7fK\\xbe?\\x93\\x08) v;\\xfd\\x17\\xc7\\xe6\\x1bt\\xf9\\xfeW_\\x1b\\xec\\x7f\\xe0\\xbd\\x1d\\xdd\\xa6w\\xff\\x00\\xe0\\xfe\\xdf\\xf3\\x11\\x1d\\xf6\\x0f\\xb4\\xd7\\xf6\\xbd\\xdb\\xe7Y\\x9f\\x0f\\xd1O\\xa7\\xef\\xfak\\x11%T\\xfc\\xc7\\xe7\\xd8\\xff\\x00\\xb4tc\\xf2\\x0f\\xe6\\xb7\\x1f\\xec]\\xfc\\x8f\\xb4\\xfa\\x1f\\xaaz>\\x96\\xe3>\\x94\\xef\\x99\\xff\\x00\\x84\\xfdcj\\xcc\\xb7\\xd5\\x97o\\xdd\\xf9\\xde>\\x1e\\xef\\xa5\\xee\\xfe\\xb2\\xa6\\x92v\\x1e\\xbb\\x7f\\xdd\\xff\\x00\\x87\\xfdf>g\\xa7\\xcd\\xd3\\xfd\\x9f\\xf8\\x1f\\xd5f6\\xf7Rw\\xa5\\xb1\\xb1\\xbb\\xd4\\x93\\xbaclCco\\xf6\\xfdD$\\x95\\x97=\\x92Z\\xa8\\xa4\\x8a\\x99\\x18\\x81\\x1c\\xf7\\x9f\\xe0\\x97e\\x14\\x90S\\xff\\xd98BIM\\x04!\\x00\\x00\\x00\\x00\\x00U\\x00\\x00\\x00\\x01\\x01\\x00\\x00\\x00\\x0f\\x00A\\x00d\\x00o\\x00b\\x00e\\x00 \\x00P\\x00h\\x00o\\x00t\\x00o\\x00s\\x00h\\x00o\\x00p\\x00\\x00\\x00\\x13\\x00A\\x00d\\x00o\\x00b\\x00e\\x00 \\x00P\\x00h\\x00o\\x00t\\x00o\\x00s\\x00h\\x00o\\x00p\\x00 \\x007\\x00.\\x000\\x00\\x00\\x00\\x01\\x00',)"
      ]
     },
     "execution_count": 159,
     "metadata": {},
     "output_type": "execute_result"
    }
   ],
   "source": [
    "img.tag[34377]"
   ]
  },
  {
   "cell_type": "code",
   "execution_count": 185,
   "metadata": {},
   "outputs": [
    {
     "data": {
      "text/plain": [
       "'{254: b\\'\\\\x00\\\\x00\\\\x00\\\\x00\\', 256: b\\'\\\\xd0\\\\x07\\', 257: b\\' \\\\x05\\', 258: b\\'\\\\x10\\\\x00\\\\x10\\\\x00\\\\x10\\\\x00\\', 259: b\\'\\\\x01\\\\x00\\', 262: b\\'\\\\x02\\\\x00\\', 273: b\\'\\\\xb0F\\\\x00\\\\x00\\', 277: b\\'\\\\x03\\\\x00\\', 278: b\\' \\\\x05\\', 279: b\\'\\\\x00<\\\\xf0\\\\x00\\', 282: b\"\\\\xc0\\\\xc6-\\\\x00\\\\x10\\'\\\\x00\\\\x00\", 283: b\"\\\\xc0\\\\xc6-\\\\x00\\\\x10\\'\\\\x00\\\\x00\", 284: b\\'\\\\x01\\\\x00\\', 296: b\\'\\\\x02\\\\x00\\', 305: b\\'Adobe Photoshop 7.0\\\\x00\\', 306: b\\'2003:03:22 12:16:17\\\\x00\\', 700: b\\'<?xpacket begin=\\\\\\'\\\\xef\\\\xbb\\\\xbf\\\\\\' id=\\\\\\'W5M0MpCehiHzreSzNTczkc9d\\\\\\'?>\\\\n<?adobe-xap-filters esc=\"CR\"?>\\\\n<x:xapmeta xmlns:x=\\\\\\'adobe:ns:meta/\\\\\\' x:xaptk=\\\\\\'XMP toolkit 2.8.2-33, framework 1.5\\\\\\'>\\\\n<rdf:RDF xmlns:rdf=\\\\\\'http://www.w3.org/1999/02/22-rdf-syntax-ns#\\\\\\' xmlns:iX=\\\\\\'http://ns.adobe.com/iX/1.0/\\\\\\'>\\\\n\\\\n <rdf:Description about=\\\\\\'uuid:3c9ad561-5df2-11d7-818b-96dac26cff60\\\\\\'\\\\n  xmlns:xapMM=\\\\\\'http://ns.adobe.com/xap/1.0/mm/\\\\\\'>\\\\n  <xapMM:DocumentID>adobe:docid:photoshop:212b550f-5df1-11d7-818b-96dac26cff60</xapMM:DocumentID>\\\\n </rdf:Description>\\\\n\\\\n</rdf:RDF>\\\\n</x:xapmeta>\\\\n                                                                                                    \\\\n                                                                                                    \\\\n                                                                                                    \\\\n                                                                                                    \\\\n                                                                                                    \\\\n                                                                                                    \\\\n                                                                                                    \\\\n                                                                                                    \\\\n                                                                                                    \\\\n                                                                                                    \\\\n                                                                                                    \\\\n                                                                                                    \\\\n                                                                                                    \\\\n                                                                                                    \\\\n                                                                                                    \\\\n                                                                                                    \\\\n                                                                                                    \\\\n                                                                                                    \\\\n                                                                                                    \\\\n                                                                                                    \\\\n                                                                                                    \\\\n                                                                                                    \\\\n                                                                                                    \\\\n                                                                                                    \\\\n                                                                                                    \\\\n                                                                                                    \\\\n                                                                                                    \\\\n                                                                                                    \\\\n                                                                                                    \\\\n                                                                                                    \\\\n                                                                                                    \\\\n                                                                                                    \\\\n                                                                                                    \\\\n                                                                                                    \\\\n                                                                                                    \\\\n                                                                                                    \\\\n                                                                                                    \\\\n                                                                                                    \\\\n                                                                                                    \\\\n                                                                                                    \\\\n                                                       \\\\n<?xpacket end=\\\\\\'w\\\\\\'?>\\', 34377: b\\'8BIM\\\\x04%\\\\x00\\\\x00\\\\x00\\\\x00\\\\x00\\\\x10\\\\x00\\\\x00\\\\x00\\\\x00\\\\x00\\\\x00\\\\x00\\\\x00\\\\x00\\\\x00\\\\x00\\\\x00\\\\x00\\\\x00\\\\x00\\\\x008BIM\\\\x03\\\\xea\\\\x00\\\\x00\\\\x00\\\\x00\\\\x1d\\\\xad<?xml version=\"1.0\" encoding=\"UTF-8\"?>\\\\n<!DOCTYPE plist PUBLIC \"-//Apple Computer//DTD PLIST 1.0//EN\" \"http://www.apple.com/DTDs/PropertyList-1.0.dtd\">\\\\n<plist version=\"1.0\">\\\\n<dict>\\\\n\\\\t<key>com.apple.print.PageFormat.PMHorizontalRes</key>\\\\n\\\\t<dict>\\\\n\\\\t\\\\t<key>com.apple.print.ticket.creator</key>\\\\n\\\\t\\\\t<string>com.apple.printingmanager</string>\\\\n\\\\t\\\\t<key>com.apple.print.ticket.itemArray</key>\\\\n\\\\t\\\\t<array>\\\\n\\\\t\\\\t\\\\t<dict>\\\\n\\\\t\\\\t\\\\t\\\\t<key>com.apple.print.PageFormat.PMHorizontalRes</key>\\\\n\\\\t\\\\t\\\\t\\\\t<real>72</real>\\\\n\\\\t\\\\t\\\\t\\\\t<key>com.apple.print.ticket.client</key>\\\\n\\\\t\\\\t\\\\t\\\\t<string>com.apple.printingmanager</string>\\\\n\\\\t\\\\t\\\\t\\\\t<key>com.apple.print.ticket.modDate</key>\\\\n\\\\t\\\\t\\\\t\\\\t<date>2003-03-22T10:07:41Z</date>\\\\n\\\\t\\\\t\\\\t\\\\t<key>com.apple.print.ticket.stateFlag</key>\\\\n\\\\t\\\\t\\\\t\\\\t<integer>0</integer>\\\\n\\\\t\\\\t\\\\t</dict>\\\\n\\\\t\\\\t</array>\\\\n\\\\t</dict>\\\\n\\\\t<key>com.apple.print.PageFormat.PMOrientation</key>\\\\n\\\\t<dict>\\\\n\\\\t\\\\t<key>com.apple.print.ticket.creator</key>\\\\n\\\\t\\\\t<string>com.apple.printingmanager</string>\\\\n\\\\t\\\\t<key>com.apple.print.ticket.itemArray</key>\\\\n\\\\t\\\\t<array>\\\\n\\\\t\\\\t\\\\t<dict>\\\\n\\\\t\\\\t\\\\t\\\\t<key>com.apple.print.PageFormat.PMOrientation</key>\\\\n\\\\t\\\\t\\\\t\\\\t<integer>1</integer>\\\\n\\\\t\\\\t\\\\t\\\\t<key>com.apple.print.ticket.client</key>\\\\n\\\\t\\\\t\\\\t\\\\t<string>com.apple.printingmanager</string>\\\\n\\\\t\\\\t\\\\t\\\\t<key>com.apple.print.ticket.modDate</key>\\\\n\\\\t\\\\t\\\\t\\\\t<date>2003-03-22T10:07:41Z</date>\\\\n\\\\t\\\\t\\\\t\\\\t<key>com.apple.print.ticket.stateFlag</key>\\\\n\\\\t\\\\t\\\\t\\\\t<integer>0</integer>\\\\n\\\\t\\\\t\\\\t</dict>\\\\n\\\\t\\\\t</array>\\\\n\\\\t</dict>\\\\n\\\\t<key>com.apple.print.PageFormat.PMScaling</key>\\\\n\\\\t<dict>\\\\n\\\\t\\\\t<key>com.apple.print.ticket.creator</key>\\\\n\\\\t\\\\t<string>com.apple.printingmanager</string>\\\\n\\\\t\\\\t<key>com.apple.print.ticket.itemArray</key>\\\\n\\\\t\\\\t<array>\\\\n\\\\t\\\\t\\\\t<dict>\\\\n\\\\t\\\\t\\\\t\\\\t<key>com.apple.print.PageFormat.PMScaling</key>\\\\n\\\\t\\\\t\\\\t\\\\t<real>1</real>\\\\n\\\\t\\\\t\\\\t\\\\t<key>com.apple.print.ticket.client</key>\\\\n\\\\t\\\\t\\\\t\\\\t<string>com.apple.printingmanager</string>\\\\n\\\\t\\\\t\\\\t\\\\t<key>com.apple.print.ticket.modDate</key>\\\\n\\\\t\\\\t\\\\t\\\\t<date>2003-03-22T10:07:41Z</date>\\\\n\\\\t\\\\t\\\\t\\\\t<key>com.apple.print.ticket.stateFlag</key>\\\\n\\\\t\\\\t\\\\t\\\\t<integer>0</integer>\\\\n\\\\t\\\\t\\\\t</dict>\\\\n\\\\t\\\\t</array>\\\\n\\\\t</dict>\\\\n\\\\t<key>com.apple.print.PageFormat.PMVerticalRes</key>\\\\n\\\\t<dict>\\\\n\\\\t\\\\t<key>com.apple.print.ticket.creator</key>\\\\n\\\\t\\\\t<string>com.apple.printingmanager</string>\\\\n\\\\t\\\\t<key>com.apple.print.ticket.itemArray</key>\\\\n\\\\t\\\\t<array>\\\\n\\\\t\\\\t\\\\t<dict>\\\\n\\\\t\\\\t\\\\t\\\\t<key>com.apple.print.PageFormat.PMVerticalRes</key>\\\\n\\\\t\\\\t\\\\t\\\\t<real>72</real>\\\\n\\\\t\\\\t\\\\t\\\\t<key>com.apple.print.ticket.client</key>\\\\n\\\\t\\\\t\\\\t\\\\t<string>com.apple.printingmanager</string>\\\\n\\\\t\\\\t\\\\t\\\\t<key>com.apple.print.ticket.modDate</key>\\\\n\\\\t\\\\t\\\\t\\\\t<date>2003-03-22T10:07:41Z</date>\\\\n\\\\t\\\\t\\\\t\\\\t<key>com.apple.print.ticket.stateFlag</key>\\\\n\\\\t\\\\t\\\\t\\\\t<integer>0</integer>\\\\n\\\\t\\\\t\\\\t</dict>\\\\n\\\\t\\\\t</array>\\\\n\\\\t</dict>\\\\n\\\\t<key>com.apple.print.PageFormat.PMVerticalScaling</key>\\\\n\\\\t<dict>\\\\n\\\\t\\\\t<key>com.apple.print.ticket.creator</key>\\\\n\\\\t\\\\t<string>com.apple.printingmanager</string>\\\\n\\\\t\\\\t<key>com.apple.print.ticket.itemArray</key>\\\\n\\\\t\\\\t<array>\\\\n\\\\t\\\\t\\\\t<dict>\\\\n\\\\t\\\\t\\\\t\\\\t<key>com.apple.print.PageFormat.PMVerticalScaling</key>\\\\n\\\\t\\\\t\\\\t\\\\t<real>1</real>\\\\n\\\\t\\\\t\\\\t\\\\t<key>com.apple.print.ticket.client</key>\\\\n\\\\t\\\\t\\\\t\\\\t<string>com.apple.printingmanager</string>\\\\n\\\\t\\\\t\\\\t\\\\t<key>com.apple.print.ticket.modDate</key>\\\\n\\\\t\\\\t\\\\t\\\\t<date>2003-03-22T10:07:41Z</date>\\\\n\\\\t\\\\t\\\\t\\\\t<key>com.apple.print.ticket.stateFlag</key>\\\\n\\\\t\\\\t\\\\t\\\\t<integer>0</integer>\\\\n\\\\t\\\\t\\\\t</dict>\\\\n\\\\t\\\\t</array>\\\\n\\\\t</dict>\\\\n\\\\t<key>com.apple.print.subTicket.paper_info_ticket</key>\\\\n\\\\t<dict>\\\\n\\\\t\\\\t<key>com.apple.print.PageFormat.PMAdjustedPageRect</key>\\\\n\\\\t\\\\t<dict>\\\\n\\\\t\\\\t\\\\t<key>com.apple.print.ticket.creator</key>\\\\n\\\\t\\\\t\\\\t<string>com.apple.printingmanager</string>\\\\n\\\\t\\\\t\\\\t<key>com.apple.print.ticket.itemArray</key>\\\\n\\\\t\\\\t\\\\t<array>\\\\n\\\\t\\\\t\\\\t\\\\t<dict>\\\\n\\\\t\\\\t\\\\t\\\\t\\\\t<key>com.apple.print.PageFormat.PMAdjustedPageRect</key>\\\\n\\\\t\\\\t\\\\t\\\\t\\\\t<array>\\\\n\\\\t\\\\t\\\\t\\\\t\\\\t\\\\t<real>0.0</real>\\\\n\\\\t\\\\t\\\\t\\\\t\\\\t\\\\t<real>0.0</real>\\\\n\\\\t\\\\t\\\\t\\\\t\\\\t\\\\t<real>734</real>\\\\n\\\\t\\\\t\\\\t\\\\t\\\\t\\\\t<real>576</real>\\\\n\\\\t\\\\t\\\\t\\\\t\\\\t</array>\\\\n\\\\t\\\\t\\\\t\\\\t\\\\t<key>com.apple.print.ticket.client</key>\\\\n\\\\t\\\\t\\\\t\\\\t\\\\t<string>com.apple.printingmanager</string>\\\\n\\\\t\\\\t\\\\t\\\\t\\\\t<key>com.apple.print.ticket.modDate</key>\\\\n\\\\t\\\\t\\\\t\\\\t\\\\t<date>2003-03-22T10:07:41Z</date>\\\\n\\\\t\\\\t\\\\t\\\\t\\\\t<key>com.apple.print.ticket.stateFlag</key>\\\\n\\\\t\\\\t\\\\t\\\\t\\\\t<integer>0</integer>\\\\n\\\\t\\\\t\\\\t\\\\t</dict>\\\\n\\\\t\\\\t\\\\t</array>\\\\n\\\\t\\\\t</dict>\\\\n\\\\t\\\\t<key>com.apple.print.PageFormat.PMAdjustedPaperRect</key>\\\\n\\\\t\\\\t<dict>\\\\n\\\\t\\\\t\\\\t<key>com.apple.print.ticket.creator</key>\\\\n\\\\t\\\\t\\\\t<string>com.apple.printingmanager</string>\\\\n\\\\t\\\\t\\\\t<key>com.apple.print.ticket.itemArray</key>\\\\n\\\\t\\\\t\\\\t<array>\\\\n\\\\t\\\\t\\\\t\\\\t<dict>\\\\n\\\\t\\\\t\\\\t\\\\t\\\\t<key>com.apple.print.PageFormat.PMAdjustedPaperRect</key>\\\\n\\\\t\\\\t\\\\t\\\\t\\\\t<array>\\\\n\\\\t\\\\t\\\\t\\\\t\\\\t\\\\t<real>-18</real>\\\\n\\\\t\\\\t\\\\t\\\\t\\\\t\\\\t<real>-18</real>\\\\n\\\\t\\\\t\\\\t\\\\t\\\\t\\\\t<real>774</real>\\\\n\\\\t\\\\t\\\\t\\\\t\\\\t\\\\t<real>594</real>\\\\n\\\\t\\\\t\\\\t\\\\t\\\\t</array>\\\\n\\\\t\\\\t\\\\t\\\\t\\\\t<key>com.apple.print.ticket.client</key>\\\\n\\\\t\\\\t\\\\t\\\\t\\\\t<string>com.apple.printingmanager</string>\\\\n\\\\t\\\\t\\\\t\\\\t\\\\t<key>com.apple.print.ticket.modDate</key>\\\\n\\\\t\\\\t\\\\t\\\\t\\\\t<date>2003-03-22T10:07:41Z</date>\\\\n\\\\t\\\\t\\\\t\\\\t\\\\t<key>com.apple.print.ticket.stateFlag</key>\\\\n\\\\t\\\\t\\\\t\\\\t\\\\t<integer>0</integer>\\\\n\\\\t\\\\t\\\\t\\\\t</dict>\\\\n\\\\t\\\\t\\\\t</array>\\\\n\\\\t\\\\t</dict>\\\\n\\\\t\\\\t<key>com.apple.print.PaperInfo.PMPaperName</key>\\\\n\\\\t\\\\t<dict>\\\\n\\\\t\\\\t\\\\t<key>com.apple.print.ticket.creator</key>\\\\n\\\\t\\\\t\\\\t<string>com.apple.print.pm.PostScript</string>\\\\n\\\\t\\\\t\\\\t<key>com.apple.print.ticket.itemArray</key>\\\\n\\\\t\\\\t\\\\t<array>\\\\n\\\\t\\\\t\\\\t\\\\t<dict>\\\\n\\\\t\\\\t\\\\t\\\\t\\\\t<key>com.apple.print.PaperInfo.PMPaperName</key>\\\\n\\\\t\\\\t\\\\t\\\\t\\\\t<string>na-letter</string>\\\\n\\\\t\\\\t\\\\t\\\\t\\\\t<key>com.apple.print.ticket.client</key>\\\\n\\\\t\\\\t\\\\t\\\\t\\\\t<string>com.apple.print.pm.PostScript</string>\\\\n\\\\t\\\\t\\\\t\\\\t\\\\t<key>com.apple.print.ticket.modDate</key>\\\\n\\\\t\\\\t\\\\t\\\\t\\\\t<date>2000-07-28T22:57:04Z</date>\\\\n\\\\t\\\\t\\\\t\\\\t\\\\t<key>com.apple.print.ticket.stateFlag</key>\\\\n\\\\t\\\\t\\\\t\\\\t\\\\t<integer>1</integer>\\\\n\\\\t\\\\t\\\\t\\\\t</dict>\\\\n\\\\t\\\\t\\\\t</array>\\\\n\\\\t\\\\t</dict>\\\\n\\\\t\\\\t<key>com.apple.print.PaperInfo.PMUnadjustedPageRect</key>\\\\n\\\\t\\\\t<dict>\\\\n\\\\t\\\\t\\\\t<key>com.apple.print.ticket.creator</key>\\\\n\\\\t\\\\t\\\\t<string>com.apple.print.pm.PostScript</string>\\\\n\\\\t\\\\t\\\\t<key>com.apple.print.ticket.itemArray</key>\\\\n\\\\t\\\\t\\\\t<array>\\\\n\\\\t\\\\t\\\\t\\\\t<dict>\\\\n\\\\t\\\\t\\\\t\\\\t\\\\t<key>com.apple.print.PaperInfo.PMUnadjustedPageRect</key>\\\\n\\\\t\\\\t\\\\t\\\\t\\\\t<array>\\\\n\\\\t\\\\t\\\\t\\\\t\\\\t\\\\t<real>0.0</real>\\\\n\\\\t\\\\t\\\\t\\\\t\\\\t\\\\t<real>0.0</real>\\\\n\\\\t\\\\t\\\\t\\\\t\\\\t\\\\t<real>734</real>\\\\n\\\\t\\\\t\\\\t\\\\t\\\\t\\\\t<real>576</real>\\\\n\\\\t\\\\t\\\\t\\\\t\\\\t</array>\\\\n\\\\t\\\\t\\\\t\\\\t\\\\t<key>com.apple.print.ticket.client</key>\\\\n\\\\t\\\\t\\\\t\\\\t\\\\t<string>com.apple.printingmanager</string>\\\\n\\\\t\\\\t\\\\t\\\\t\\\\t<key>com.apple.print.ticket.modDate</key>\\\\n\\\\t\\\\t\\\\t\\\\t\\\\t<date>2003-03-22T10:07:41Z</date>\\\\n\\\\t\\\\t\\\\t\\\\t\\\\t<key>com.apple.print.ticket.stateFlag</key>\\\\n\\\\t\\\\t\\\\t\\\\t\\\\t<integer>0</integer>\\\\n\\\\t\\\\t\\\\t\\\\t</dict>\\\\n\\\\t\\\\t\\\\t</array>\\\\n\\\\t\\\\t</dict>\\\\n\\\\t\\\\t<key>com.apple.print.PaperInfo.PMUnadjustedPaperRect</key>\\\\n\\\\t\\\\t<dict>\\\\n\\\\t\\\\t\\\\t<key>com.apple.print.ticket.creator</key>\\\\n\\\\t\\\\t\\\\t<string>com.apple.print.pm.PostScript</string>\\\\n\\\\t\\\\t\\\\t<key>com.apple.print.ticket.itemArray</key>\\\\n\\\\t\\\\t\\\\t<array>\\\\n\\\\t\\\\t\\\\t\\\\t<dict>\\\\n\\\\t\\\\t\\\\t\\\\t\\\\t<key>com.apple.print.PaperInfo.PMUnadjustedPaperRect</key>\\\\n\\\\t\\\\t\\\\t\\\\t\\\\t<array>\\\\n\\\\t\\\\t\\\\t\\\\t\\\\t\\\\t<real>-18</real>\\\\n\\\\t\\\\t\\\\t\\\\t\\\\t\\\\t<real>-18</real>\\\\n\\\\t\\\\t\\\\t\\\\t\\\\t\\\\t<real>774</real>\\\\n\\\\t\\\\t\\\\t\\\\t\\\\t\\\\t<real>594</real>\\\\n\\\\t\\\\t\\\\t\\\\t\\\\t</array>\\\\n\\\\t\\\\t\\\\t\\\\t\\\\t<key>com.apple.print.ticket.client</key>\\\\n\\\\t\\\\t\\\\t\\\\t\\\\t<string>com.apple.printingmanager</string>\\\\n\\\\t\\\\t\\\\t\\\\t\\\\t<key>com.apple.print.ticket.modDate</key>\\\\n\\\\t\\\\t\\\\t\\\\t\\\\t<date>2003-03-22T10:07:41Z</date>\\\\n\\\\t\\\\t\\\\t\\\\t\\\\t<key>com.apple.print.ticket.stateFlag</key>\\\\n\\\\t\\\\t\\\\t\\\\t\\\\t<integer>0</integer>\\\\n\\\\t\\\\t\\\\t\\\\t</dict>\\\\n\\\\t\\\\t\\\\t</array>\\\\n\\\\t\\\\t</dict>\\\\n\\\\t\\\\t<key>com.apple.print.PaperInfo.ppd.PMPaperName</key>\\\\n\\\\t\\\\t<dict>\\\\n\\\\t\\\\t\\\\t<key>com.apple.print.ticket.creator</key>\\\\n\\\\t\\\\t\\\\t<string>com.apple.print.pm.PostScript</string>\\\\n\\\\t\\\\t\\\\t<key>com.apple.print.ticket.itemArray</key>\\\\n\\\\t\\\\t\\\\t<array>\\\\n\\\\t\\\\t\\\\t\\\\t<dict>\\\\n\\\\t\\\\t\\\\t\\\\t\\\\t<key>com.apple.print.PaperInfo.ppd.PMPaperName</key>\\\\n\\\\t\\\\t\\\\t\\\\t\\\\t<string>Letter</string>\\\\n\\\\t\\\\t\\\\t\\\\t\\\\t<key>com.apple.print.ticket.client</key>\\\\n\\\\t\\\\t\\\\t\\\\t\\\\t<string>com.apple.print.pm.PostScript</string>\\\\n\\\\t\\\\t\\\\t\\\\t\\\\t<key>com.apple.print.ticket.modDate</key>\\\\n\\\\t\\\\t\\\\t\\\\t\\\\t<date>2000-07-28T22:57:04Z</date>\\\\n\\\\t\\\\t\\\\t\\\\t\\\\t<key>com.apple.print.ticket.stateFlag</key>\\\\n\\\\t\\\\t\\\\t\\\\t\\\\t<integer>1</integer>\\\\n\\\\t\\\\t\\\\t\\\\t</dict>\\\\n\\\\t\\\\t\\\\t</array>\\\\n\\\\t\\\\t</dict>\\\\n\\\\t\\\\t<key>com.apple.print.ticket.APIVersion</key>\\\\n\\\\t\\\\t<string>00.20</string>\\\\n\\\\t\\\\t<key>com.apple.print.ticket.privateLock</key>\\\\n\\\\t\\\\t<false/>\\\\n\\\\t\\\\t<key>com.apple.print.ticket.type</key>\\\\n\\\\t\\\\t<string>com.apple.print.PaperInfoTicket</string>\\\\n\\\\t</dict>\\\\n\\\\t<key>com.apple.print.ticket.APIVersion</key>\\\\n\\\\t<string>00.20</string>\\\\n\\\\t<key>com.apple.print.ticket.privateLock</key>\\\\n\\\\t<false/>\\\\n\\\\t<key>com.apple.print.ticket.type</key>\\\\n\\\\t<string>com.apple.print.PageFormatTicket</string>\\\\n</dict>\\\\n</plist>\\\\n\\\\x008BIM\\\\x03\\\\xe9\\\\x00\\\\x00\\\\x00\\\\x00\\\\x00x\\\\x00\\\\x03\\\\x00\\\\x00\\\\x00H\\\\x00H\\\\x00\\\\x00\\\\x00\\\\x00\\\\x02\\\\xde\\\\x02@\\\\xff\\\\xee\\\\xff\\\\xee\\\\x03\\\\x06\\\\x02R\\\\x03g\\\\x05(\\\\x03\\\\xfc\\\\x00\\\\x02\\\\x00\\\\x00\\\\x00H\\\\x00H\\\\x00\\\\x00\\\\x00\\\\x00\\\\x02\\\\xd8\\\\x02(\\\\x00\\\\x01\\\\x00\\\\x00\\\\x00d\\\\x00\\\\x00\\\\x00\\\\x01\\\\x00\\\\x03\\\\x03\\\\x03\\\\x00\\\\x00\\\\x00\\\\x01\\\\x7f\\\\xff\\\\x00\\\\x01\\\\x00\\\\x01\\\\x00\\\\x00\\\\x00\\\\x00\\\\x00\\\\x00\\\\x00\\\\x00\\\\x00\\\\x00\\\\x00\\\\x00h\\\\x08\\\\x00\\\\x19\\\\x01\\\\x90\\\\x00\\\\x00\\\\x00\\\\x00\\\\x00 \\\\x00\\\\x00\\\\x00\\\\x00\\\\x00\\\\x00\\\\x00\\\\x00\\\\x00\\\\x00\\\\x00\\\\x00\\\\x00\\\\x00\\\\x00\\\\x00\\\\x00\\\\x00\\\\x00\\\\x00\\\\x00\\\\x00\\\\x00\\\\x00\\\\x00\\\\x008BIM\\\\x03\\\\xed\\\\x00\\\\x00\\\\x00\\\\x00\\\\x00\\\\x10\\\\x01,\\\\x00\\\\x00\\\\x00\\\\x01\\\\x00\\\\x01\\\\x01,\\\\x00\\\\x00\\\\x00\\\\x01\\\\x00\\\\x018BIM\\\\x04&\\\\x00\\\\x00\\\\x00\\\\x00\\\\x00\\\\x0e\\\\x00\\\\x00\\\\x00\\\\x00\\\\x00\\\\x00\\\\x00\\\\x00\\\\x00\\\\x00?\\\\x80\\\\x00\\\\x008BIM\\\\x04\\\\r\\\\x00\\\\x00\\\\x00\\\\x00\\\\x00\\\\x04\\\\x00\\\\x00\\\\x00\\\\x1e8BIM\\\\x04\\\\x19\\\\x00\\\\x00\\\\x00\\\\x00\\\\x00\\\\x04\\\\x00\\\\x00\\\\x00\\\\x1e8BIM\\\\x03\\\\xf3\\\\x00\\\\x00\\\\x00\\\\x00\\\\x00\\\\t\\\\x00\\\\x00\\\\x00\\\\x00\\\\x00\\\\x00\\\\x00\\\\x00\\\\x01\\\\x008BIM\\\\x04\\\\n\\\\x00\\\\x00\\\\x00\\\\x00\\\\x00\\\\x01\\\\x00\\\\x008BIM\\\\\\'\\\\x10\\\\x00\\\\x00\\\\x00\\\\x00\\\\x00\\\\n\\\\x00\\\\x01\\\\x00\\\\x00\\\\x00\\\\x00\\\\x00\\\\x00\\\\x00\\\\x018BIM\\\\x03\\\\xf5\\\\x00\\\\x00\\\\x00\\\\x00\\\\x00H\\\\x00/ff\\\\x00\\\\x01\\\\x00lff\\\\x00\\\\x06\\\\x00\\\\x00\\\\x00\\\\x00\\\\x00\\\\x01\\\\x00/ff\\\\x00\\\\x01\\\\x00\\\\xa1\\\\x99\\\\x9a\\\\x00\\\\x06\\\\x00\\\\x00\\\\x00\\\\x00\\\\x00\\\\x01\\\\x002\\\\x00\\\\x00\\\\x00\\\\x01\\\\x00Z\\\\x00\\\\x00\\\\x00\\\\x06\\\\x00\\\\x00\\\\x00\\\\x00\\\\x00\\\\x01\\\\x005\\\\x00\\\\x00\\\\x00\\\\x01\\\\x00-\\\\x00\\\\x00\\\\x00\\\\x06\\\\x00\\\\x00\\\\x00\\\\x00\\\\x00\\\\x018BIM\\\\x03\\\\xf8\\\\x00\\\\x00\\\\x00\\\\x00\\\\x00p\\\\x00\\\\x00\\\\xff\\\\xff\\\\xff\\\\xff\\\\xff\\\\xff\\\\xff\\\\xff\\\\xff\\\\xff\\\\xff\\\\xff\\\\xff\\\\xff\\\\xff\\\\xff\\\\xff\\\\xff\\\\xff\\\\xff\\\\xff\\\\xff\\\\x03\\\\xe8\\\\x00\\\\x00\\\\x00\\\\x00\\\\xff\\\\xff\\\\xff\\\\xff\\\\xff\\\\xff\\\\xff\\\\xff\\\\xff\\\\xff\\\\xff\\\\xff\\\\xff\\\\xff\\\\xff\\\\xff\\\\xff\\\\xff\\\\xff\\\\xff\\\\xff\\\\xff\\\\x03\\\\xe8\\\\x00\\\\x00\\\\x00\\\\x00\\\\xff\\\\xff\\\\xff\\\\xff\\\\xff\\\\xff\\\\xff\\\\xff\\\\xff\\\\xff\\\\xff\\\\xff\\\\xff\\\\xff\\\\xff\\\\xff\\\\xff\\\\xff\\\\xff\\\\xff\\\\xff\\\\xff\\\\x03\\\\xe8\\\\x00\\\\x00\\\\x00\\\\x00\\\\xff\\\\xff\\\\xff\\\\xff\\\\xff\\\\xff\\\\xff\\\\xff\\\\xff\\\\xff\\\\xff\\\\xff\\\\xff\\\\xff\\\\xff\\\\xff\\\\xff\\\\xff\\\\xff\\\\xff\\\\xff\\\\xff\\\\x03\\\\xe8\\\\x00\\\\x008BIM\\\\x04\\\\x08\\\\x00\\\\x00\\\\x00\\\\x00\\\\x00\\\\x10\\\\x00\\\\x00\\\\x00\\\\x01\\\\x00\\\\x00\\\\x02@\\\\x00\\\\x00\\\\x02@\\\\x00\\\\x00\\\\x00\\\\x008BIM\\\\x04\\\\x1e\\\\x00\\\\x00\\\\x00\\\\x00\\\\x00\\\\x04\\\\x00\\\\x00\\\\x00\\\\x008BIM\\\\x04\\\\x1a\\\\x00\\\\x00\\\\x00\\\\x00\\\\x03E\\\\x00\\\\x00\\\\x00\\\\x06\\\\x00\\\\x00\\\\x00\\\\x00\\\\x00\\\\x00\\\\x00\\\\x00\\\\x00\\\\x00\\\\x05 \\\\x00\\\\x00\\\\x07\\\\xd0\\\\x00\\\\x00\\\\x00\\\\x08\\\\x00D\\\\x00S\\\\x00C\\\\x00_\\\\x000\\\\x001\\\\x002\\\\x008\\\\x00\\\\x00\\\\x00\\\\x01\\\\x00\\\\x00\\\\x00\\\\x00\\\\x00\\\\x00\\\\x00\\\\x00\\\\x00\\\\x00\\\\x00\\\\x00\\\\x00\\\\x00\\\\x00\\\\x00\\\\x00\\\\x00\\\\x00\\\\x01\\\\x00\\\\x00\\\\x00\\\\x00\\\\x00\\\\x00\\\\x00\\\\x00\\\\x00\\\\x00\\\\x07\\\\xd0\\\\x00\\\\x00\\\\x05 \\\\x00\\\\x00\\\\x00\\\\x00\\\\x00\\\\x00\\\\x00\\\\x00\\\\x00\\\\x00\\\\x00\\\\x00\\\\x00\\\\x00\\\\x00\\\\x00\\\\x01\\\\x00\\\\x00\\\\x00\\\\x00\\\\x00\\\\x00\\\\x00\\\\x00\\\\x00\\\\x00\\\\x00\\\\x00\\\\x00\\\\x00\\\\x00\\\\x00\\\\x00\\\\x00\\\\x00\\\\x10\\\\x00\\\\x00\\\\x00\\\\x01\\\\x00\\\\x00\\\\x00\\\\x00\\\\x00\\\\x00null\\\\x00\\\\x00\\\\x00\\\\x02\\\\x00\\\\x00\\\\x00\\\\x06boundsObjc\\\\x00\\\\x00\\\\x00\\\\x01\\\\x00\\\\x00\\\\x00\\\\x00\\\\x00\\\\x00Rct1\\\\x00\\\\x00\\\\x00\\\\x04\\\\x00\\\\x00\\\\x00\\\\x00Top long\\\\x00\\\\x00\\\\x00\\\\x00\\\\x00\\\\x00\\\\x00\\\\x00Leftlong\\\\x00\\\\x00\\\\x00\\\\x00\\\\x00\\\\x00\\\\x00\\\\x00Btomlong\\\\x00\\\\x00\\\\x05 \\\\x00\\\\x00\\\\x00\\\\x00Rghtlong\\\\x00\\\\x00\\\\x07\\\\xd0\\\\x00\\\\x00\\\\x00\\\\x06slicesVlLs\\\\x00\\\\x00\\\\x00\\\\x01Objc\\\\x00\\\\x00\\\\x00\\\\x01\\\\x00\\\\x00\\\\x00\\\\x00\\\\x00\\\\x05slice\\\\x00\\\\x00\\\\x00\\\\x12\\\\x00\\\\x00\\\\x00\\\\x07sliceIDlong\\\\x00\\\\x00\\\\x00\\\\x00\\\\x00\\\\x00\\\\x00\\\\x07groupIDlong\\\\x00\\\\x00\\\\x00\\\\x00\\\\x00\\\\x00\\\\x00\\\\x06originenum\\\\x00\\\\x00\\\\x00\\\\x0cESliceOrigin\\\\x00\\\\x00\\\\x00\\\\rautoGenerated\\\\x00\\\\x00\\\\x00\\\\x00Typeenum\\\\x00\\\\x00\\\\x00\\\\nESliceType\\\\x00\\\\x00\\\\x00\\\\x00Img \\\\x00\\\\x00\\\\x00\\\\x06boundsObjc\\\\x00\\\\x00\\\\x00\\\\x01\\\\x00\\\\x00\\\\x00\\\\x00\\\\x00\\\\x00Rct1\\\\x00\\\\x00\\\\x00\\\\x04\\\\x00\\\\x00\\\\x00\\\\x00Top long\\\\x00\\\\x00\\\\x00\\\\x00\\\\x00\\\\x00\\\\x00\\\\x00Leftlong\\\\x00\\\\x00\\\\x00\\\\x00\\\\x00\\\\x00\\\\x00\\\\x00Btomlong\\\\x00\\\\x00\\\\x05 \\\\x00\\\\x00\\\\x00\\\\x00Rghtlong\\\\x00\\\\x00\\\\x07\\\\xd0\\\\x00\\\\x00\\\\x00\\\\x03urlTEXT\\\\x00\\\\x00\\\\x00\\\\x01\\\\x00\\\\x00\\\\x00\\\\x00\\\\x00\\\\x00nullTEXT\\\\x00\\\\x00\\\\x00\\\\x01\\\\x00\\\\x00\\\\x00\\\\x00\\\\x00\\\\x00MsgeTEXT\\\\x00\\\\x00\\\\x00\\\\x01\\\\x00\\\\x00\\\\x00\\\\x00\\\\x00\\\\x06altTagTEXT\\\\x00\\\\x00\\\\x00\\\\x01\\\\x00\\\\x00\\\\x00\\\\x00\\\\x00\\\\x0ecellTextIsHTMLbool\\\\x01\\\\x00\\\\x00\\\\x00\\\\x08cellTextTEXT\\\\x00\\\\x00\\\\x00\\\\x01\\\\x00\\\\x00\\\\x00\\\\x00\\\\x00\\\\thorzAlignenum\\\\x00\\\\x00\\\\x00\\\\x0fESliceHorzAlign\\\\x00\\\\x00\\\\x00\\\\x07default\\\\x00\\\\x00\\\\x00\\\\tvertAlignenum\\\\x00\\\\x00\\\\x00\\\\x0fESliceVertAlign\\\\x00\\\\x00\\\\x00\\\\x07default\\\\x00\\\\x00\\\\x00\\\\x0bbgColorTypeenum\\\\x00\\\\x00\\\\x00\\\\x11ESliceBGColorType\\\\x00\\\\x00\\\\x00\\\\x00None\\\\x00\\\\x00\\\\x00\\\\ttopOutsetlong\\\\x00\\\\x00\\\\x00\\\\x00\\\\x00\\\\x00\\\\x00\\\\nleftOutsetlong\\\\x00\\\\x00\\\\x00\\\\x00\\\\x00\\\\x00\\\\x00\\\\x0cbottomOutsetlong\\\\x00\\\\x00\\\\x00\\\\x00\\\\x00\\\\x00\\\\x00\\\\x0brightOutsetlong\\\\x00\\\\x00\\\\x00\\\\x00\\\\x008BIM\\\\x04\\\\x14\\\\x00\\\\x00\\\\x00\\\\x00\\\\x00\\\\x04\\\\x00\\\\x00\\\\x00\\\\x018BIM\\\\x04\\\\x0c\\\\x00\\\\x00\\\\x00\\\\x00\\\\r\\\\xb4\\\\x00\\\\x00\\\\x00\\\\x01\\\\x00\\\\x00\\\\x00\\\\x80\\\\x00\\\\x00\\\\x00T\\\\x00\\\\x00\\\\x01\\\\x80\\\\x00\\\\x00~\\\\x00\\\\x00\\\\x00\\\\r\\\\x98\\\\x00\\\\x18\\\\x00\\\\x01\\\\xff\\\\xd8\\\\xff\\\\xe0\\\\x00\\\\x10JFIF\\\\x00\\\\x01\\\\x02\\\\x01\\\\x00H\\\\x00H\\\\x00\\\\x00\\\\xff\\\\xed\\\\x00\\\\x0cAdobe_CM\\\\x00\\\\x01\\\\xff\\\\xee\\\\x00\\\\x0eAdobe\\\\x00d\\\\x80\\\\x00\\\\x00\\\\x00\\\\x01\\\\xff\\\\xdb\\\\x00\\\\x84\\\\x00\\\\x0c\\\\x08\\\\x08\\\\x08\\\\t\\\\x08\\\\x0c\\\\t\\\\t\\\\x0c\\\\x11\\\\x0b\\\\n\\\\x0b\\\\x11\\\\x15\\\\x0f\\\\x0c\\\\x0c\\\\x0f\\\\x15\\\\x18\\\\x13\\\\x13\\\\x15\\\\x13\\\\x13\\\\x18\\\\x11\\\\x0c\\\\x0c\\\\x0c\\\\x0c\\\\x0c\\\\x0c\\\\x11\\\\x0c\\\\x0c\\\\x0c\\\\x0c\\\\x0c\\\\x0c\\\\x0c\\\\x0c\\\\x0c\\\\x0c\\\\x0c\\\\x0c\\\\x0c\\\\x0c\\\\x0c\\\\x0c\\\\x0c\\\\x0c\\\\x0c\\\\x0c\\\\x0c\\\\x0c\\\\x0c\\\\x0c\\\\x0c\\\\x0c\\\\x0c\\\\x0c\\\\x01\\\\r\\\\x0b\\\\x0b\\\\r\\\\x0e\\\\r\\\\x10\\\\x0e\\\\x0e\\\\x10\\\\x14\\\\x0e\\\\x0e\\\\x0e\\\\x14\\\\x14\\\\x0e\\\\x0e\\\\x0e\\\\x0e\\\\x14\\\\x11\\\\x0c\\\\x0c\\\\x0c\\\\x0c\\\\x0c\\\\x11\\\\x11\\\\x0c\\\\x0c\\\\x0c\\\\x0c\\\\x0c\\\\x0c\\\\x11\\\\x0c\\\\x0c\\\\x0c\\\\x0c\\\\x0c\\\\x0c\\\\x0c\\\\x0c\\\\x0c\\\\x0c\\\\x0c\\\\x0c\\\\x0c\\\\x0c\\\\x0c\\\\x0c\\\\x0c\\\\x0c\\\\x0c\\\\x0c\\\\x0c\\\\x0c\\\\x0c\\\\x0c\\\\x0c\\\\x0c\\\\x0c\\\\x0c\\\\xff\\\\xc0\\\\x00\\\\x11\\\\x08\\\\x00T\\\\x00\\\\x80\\\\x03\\\\x01\"\\\\x00\\\\x02\\\\x11\\\\x01\\\\x03\\\\x11\\\\x01\\\\xff\\\\xdd\\\\x00\\\\x04\\\\x00\\\\x08\\\\xff\\\\xc4\\\\x01?\\\\x00\\\\x00\\\\x01\\\\x05\\\\x01\\\\x01\\\\x01\\\\x01\\\\x01\\\\x01\\\\x00\\\\x00\\\\x00\\\\x00\\\\x00\\\\x00\\\\x00\\\\x03\\\\x00\\\\x01\\\\x02\\\\x04\\\\x05\\\\x06\\\\x07\\\\x08\\\\t\\\\n\\\\x0b\\\\x01\\\\x00\\\\x01\\\\x05\\\\x01\\\\x01\\\\x01\\\\x01\\\\x01\\\\x01\\\\x00\\\\x00\\\\x00\\\\x00\\\\x00\\\\x00\\\\x00\\\\x01\\\\x00\\\\x02\\\\x03\\\\x04\\\\x05\\\\x06\\\\x07\\\\x08\\\\t\\\\n\\\\x0b\\\\x10\\\\x00\\\\x01\\\\x04\\\\x01\\\\x03\\\\x02\\\\x04\\\\x02\\\\x05\\\\x07\\\\x06\\\\x08\\\\x05\\\\x03\\\\x0c3\\\\x01\\\\x00\\\\x02\\\\x11\\\\x03\\\\x04!\\\\x121\\\\x05AQa\\\\x13\"q\\\\x812\\\\x06\\\\x14\\\\x91\\\\xa1\\\\xb1B#$\\\\x15R\\\\xc1b34r\\\\x82\\\\xd1C\\\\x07%\\\\x92S\\\\xf0\\\\xe1\\\\xf1cs5\\\\x16\\\\xa2\\\\xb2\\\\x83&D\\\\x93TdE\\\\xc2\\\\xa3t6\\\\x17\\\\xd2U\\\\xe2e\\\\xf2\\\\xb3\\\\x84\\\\xc3\\\\xd3u\\\\xe3\\\\xf3F\\\\\\'\\\\x94\\\\xa4\\\\x85\\\\xb4\\\\x95\\\\xc4\\\\xd4\\\\xe4\\\\xf4\\\\xa5\\\\xb5\\\\xc5\\\\xd5\\\\xe5\\\\xf5Vfv\\\\x86\\\\x96\\\\xa6\\\\xb6\\\\xc6\\\\xd6\\\\xe6\\\\xf67GWgw\\\\x87\\\\x97\\\\xa7\\\\xb7\\\\xc7\\\\xd7\\\\xe7\\\\xf7\\\\x11\\\\x00\\\\x02\\\\x02\\\\x01\\\\x02\\\\x04\\\\x04\\\\x03\\\\x04\\\\x05\\\\x06\\\\x07\\\\x07\\\\x06\\\\x055\\\\x01\\\\x00\\\\x02\\\\x11\\\\x03!1\\\\x12\\\\x04AQaq\"\\\\x13\\\\x052\\\\x81\\\\x91\\\\x14\\\\xa1\\\\xb1B#\\\\xc1R\\\\xd1\\\\xf03$b\\\\xe1r\\\\x82\\\\x92CS\\\\x15cs4\\\\xf1%\\\\x06\\\\x16\\\\xa2\\\\xb2\\\\x83\\\\x07&5\\\\xc2\\\\xd2D\\\\x93T\\\\xa3\\\\x17dEU6te\\\\xe2\\\\xf2\\\\xb3\\\\x84\\\\xc3\\\\xd3u\\\\xe3\\\\xf3F\\\\x94\\\\xa4\\\\x85\\\\xb4\\\\x95\\\\xc4\\\\xd4\\\\xe4\\\\xf4\\\\xa5\\\\xb5\\\\xc5\\\\xd5\\\\xe5\\\\xf5Vfv\\\\x86\\\\x96\\\\xa6\\\\xb6\\\\xc6\\\\xd6\\\\xe6\\\\xf6\\\\\\'7GWgw\\\\x87\\\\x97\\\\xa7\\\\xb7\\\\xc7\\\\xff\\\\xda\\\\x00\\\\x0c\\\\x03\\\\x01\\\\x00\\\\x02\\\\x11\\\\x03\\\\x11\\\\x00?\\\\x00\\\\xf3*\\\\xf9\\\\x84p>j\\\\\\'\\\\x16\\\\xea\\\\xda\\\\x1cKH\\\\xee\\\\x01\\\\xd4|\\\\x8a+\\\\x1b#Q\\\\n\\\\x19Hn\\\\x0bs\\\\x1c$4\\\\x90!\\\\x9b\\\\x04\\\\x81\\\\xaf\\\\xf7#\\\\xd5E\\\\x97\\\\xbbi\\\\xd2\\\\xb7rO1\\\\xc4mMU;\\\\x84\\\\x85\\\\xbb\\\\x83\\\\xd37\\\\x969\\\\xba\\\\x8e\\\\xff\\\\x00\\\\x13\\\\xd9T\\\\xcd\\\\x98@[{\\\\x0e\\\\x13?$8\\\\x98\\\\xcd\\\\xa6@!\\\\xa24l\\\\x89\\\\x80\\\\xac\\\\x0cl{@.\\\\x82&c\\\\x89+Z\\\\xae\\\\x82\\\\xf7\\\\xbd\\\\xa7`\\\\xf5\\\\x01\\\\x04O\\\\x87\\\\xc9bug\\\\xe4\\\\xf4\\\\xdc\\\\xcb\\\\xf0\\\\xed\\\\xafm\\\\xcdsC-i!\\\\xae\\\\xad\\\\xc3\\\\xd6\\\\x0fmo\\\\x1f\\\\x9c\\\\xdff\\\\xfd\\\\xff\\\\x00\\\\xce*p\\\\xc9\\\\xee\\\\xc8\\\\x88\\\\x1fV\\\\xed\\\\x99\\\\x88\\\\xe3\\\\x00\\\\x1a\\\\xae\\\\xc9>\\\\xc1S\\\\x86\\\\xd2\\\\xc1\\\\xbcw\\\\x8e\\\\xdd\\\\xbf\\\\xf2+\\\\x9a\\\\xcc\\\\xa1\\\\xb4\\\\xe5[S\\\\\\\\\\\\xd7\\\\x06\\\\xb8\\\\xfd\\\\x0e\\\\x1b\\\\xaf\\\\xd0\\\\xfe\\\\xca\\\\xdc\\\\xb39\\\\xad\\\\xc6\\\\x176\\\\xc7K\\\\x1b\\\\xa5n\\\\x92\\\\x0c\\\\xfeb\\\\xc6\\\\xc8y\\\\xbe\\\\xd3lm\\\\x06\\\\x00\\\\x130\\\\x07\\\\xfd\\\\x15o\\\\x95\\\\x13\\\\x06FGM\\\\xbf\\\\xc2jsf\\\\x12\\\\x8c@\\\\xf9\\\\xb7\\\\xff\\\\x00\\\\x05\\\\xaaB\\\\x89\\\\x08\\\\xc5\\\\xaa\\\\x04+\\\\x80\\\\xb4LQ\\\\x10\\\\x98\\\\xa9\\\\x90\\\\xa2S\\\\x82\\\\xc2\\\\x18\\\\xa6NS\\\\x14V\\\\x95\\\\x93\\\\\\'L\\\\x8a\\\\xd2\\\\xff\\\\x00\\\\xff\\\\xd0\\\\xe1\\\\xacxs5l8\\\\x98\\\\x9e\\\\xdf\\\\xea\\\\xe5\\\\x18\\\\x1bL\\\\x8dG*T\\\\x86\\\\xfa;\\\\xc0\\\\xd4\\\\xe9\\\\x1f\\\\x95F\\\\xc6\\\\xe4:[\\\\x8e\\\\xc0\\\\xf2\\\\xd3%\\\\x83\\\\xf9\\\\xcd9\\\\x1b\\\\x15!\\\\xbdmG\\\\xa9u\\\\x8e\\\\xd7\\\\xbd\\\\x8e\\\\x82\\\\xd7\\\\xc7\\\\xb1\\\\x82\\\\x01w\\\\x1a\\\\xfc\\\\\\'\\\\xc1t]/9\\\\xb4\\\\xed\\\\x82\\\\xd7Ik`\\\\x98\\\\x991\\\\xcf\\\\xe6\\\\xaeF\\\\x97\\\\x80\\\\xf0\\\\xe2`\\\\x13\\\\xaf\\\\xc0\\\\xad|\\\\\\\\r\\\\xfa\\\\xea\\\\x06\\\\x1eA\\\\x977\\\\x90t\\\\xfc\\\\xf5\\\\x175\\\\x8a$z\\\\x8e\\\\x8b\\\\xf9L\\\\xd2:\\\\x00\\\\xfa\\\\r}N\\\\xbc|\\\\x7f^\\\\xf7\\\\xb7\\\\x1e\\\\xa0v\\\\x9b,\\\\xd0\\\\x03\\\\xf9\\\\xbb\\\\xac>\\\\xdd\\\\x8f\\\\xfc\\\\xc5\\\\xc6}jwO\\\\xca\\\\xeb_l\\\\xc2\\\\xcefc\\\\xf2[9!\\\\x80\\\\xec\\\\xa9\\\\xcd\\\\x00V\\\\xca\\\\xec\\\\xda\\\\xda\\\\x9f[\\\\xea\\\\xfe]\\\\xb6\\\\xfa\\\\x95\\\\xfe\\\\x99\\\\x13;3\\\\xaa]\\\\xd3\\\\xc7O\\\\xc5e\\\\x8f\\\\xaa\\\\xf7~\\\\xb0\\\\xca\\\\xab\\\\xde\\\\xe2\\\\xd6\\\\xea\\\\xca\\\\\\\\\\\\xf6\\\\xfe\\\\x91\\\\xad{\\\\xdb\\\\xeec?\\\\x9dg\\\\xfa?\\\\xf0\\\\x994\\\\xd7\\\\xba\\\\x0f\"\\\\x7f\\\\x11\\\\xe2\\\\x15nW\\\\x0f\\\\xb7y\\\\x0c\\\\xb5\\\\xd6<#\\\\xf7\\\\x7f\\\\xac\\\\xbf\\\\x98<S\\\\xe1\\\\xe1\\\\xaa\\\\xa3\\\\x7f\\\\xbc\\\\xdc\\\\xc3\\\\xae\\\\xbbZj{\\\\x03\\\\xb4\\\\xd5\\\\xbe \\\\xfepU\\\\xba\\\\x85\\\\x143\"*\\\\x0e\\\\x05\\\\xc3s\\\\xdaD\\\\x00~\\\\x88\\\\xd9\\\\xff\\\\x00~Z\\\\xbd6\\\\xd1@p\\\\xbc\\\\x13U\\\\x86C\\\\x80\\\\x04\\\\x83\\\\xf9\\\\xc5\\\\xdf\\\\x9c\\\\xe5\\\\xb3\\\\x93\\\\xf5m\\\\xddc\\\\x1a\\\\xb7`\\\\xda&\\\\xa9\\\\xd86\\\\x87\\\\x07\\\\x13\\\\xf9\\\\x969\\\\xbf\\\\xa5g\\\\xfa\\\\xfe\\\\x8d\\\\x13\\\\x9f\\\\xdb\\\\xcb\\\\xea\\\\xb1\\\\x03\\\\xd7\\\\xf4WK\\\\x18\\\\x96.\\\\x96;\\\\xe8\\\\xf0\\\\x8f\\\\xae\\\\x10\\\\\\\\\\\\xd5\\\\xaf\\\\xd4:ff\\\\x05\\\\xee\\\\xc7\\\\xcc\\\\xa5\\\\xd4\\\\\\\\\\\\xc3\\\\x05\\\\xa7Pb5\\\\xae\\\\xcf\\\\xa1k=\\\\xdfM\\\\xab2\\\\xc6\\\\xc4\\\\xab\\\\xd8\\\\xf2\\\\t\\\\x0b\\\\x06\\\\xc1\\\\xec\\\\xd2\\\\xc9\\\\nk8(\\\\x10\\\\x8a\\\\xe0\\\\x86T\\\\xe1\\\\xaf \\\\xc0\\\\xa6)\\\\xcab\\\\x9c\\\\x18\\\\xca\\\\xca*I\\\\x8a+K\\\\xff\\\\xd1\\\\xe00\\\\xef\\\\xaa\\\\xb3\\\\x16\\\\x1dO\\\\xd2o<p\\\\xd3\\\\xfd\\\\xa5p\\\\xb9\\\\x96\\\\xd6m\\\\xa4\\\\x07<\\\\xe8u\\\\x80DG\\\\xbf\\\\xf7\\\\xbf\\\\xf2hVu\\\\x0e\\\\xb4p\\\\x9f\\\\x94\\\\xcb,v\\\\x1dV\\\\xd7MyM{\\\\xdaYg\\\\xa6\\\\xe6\\\\xb6\\\\xba\\\\xdd\\\\xb9\\\\x96?n?\\\\xadW\\\\xbd\\\\x9e\\\\x9d,\\\\xb7\\\\xf4\\\\x7fg\\\\xfbO\\\\xe93\\\\xd9\\\\x9d`.6\\\\x12\\\\xe785\\\\xbb\\\\x81\\\\x1a\\\\x06\\\\xedh\\\\xf6\\\\x96\\\\xfb\\\\xb6\\\\xd4\\\\xdd\\\\x95\\\\xff\\\\x007\\\\xb1T8\\\\xa5\"e\\\\xa0>w\\\\xf4t!\\\\xcc\\\\xc6 D\\\\x82c\\\\xd3\\\\xd3R\\\\xf3t\\\\xaa\\\\xaa\\\\x9b\\\\xec\\\\x0e\\\\x8d\\\\xc1\\\\xac\\\\x86\\\\xb1\\\\xf2\\\\x00\\\\xfeK\\\\x1a\\\\xcf\\\\xcd\\\\xfc\\\\xf5\\\\xab\\\\xd2q\\\\x81\\\\xa8\\\\x17\\\\xbams\\\\x83C \\\\xce\\\\x9fI\\\\xfa.o\\\\xf6\\\\x85\\\\x96<\\\\x1c\\\\x82\\\\\\\\\\\\x1b[\\\\x98\\\\xc8\\\\x1a\\\\x88\\\\x0e4\\\\x8f\\\\xa4\\\\xdf\\\\xf0\\\\x8e\\\\xf7\\\\xd8\\\\xff\\\\x00R\\\\xcf\\\\xf8\\\\xd5\\\\xa1\\\\x87\\\\xd63\\\\x86-\\\\xd76\\\\xc6\\\\xb4\\\\xd4!\\\\xd6\\\\x12\\\\xd3d\\\\xb9\\\\xaef;1\\\\xb1M\\\\xb5z\\\\xbb-k]~Kw\\\\xfa?\\\\xe8\\\\xbf\\\\xc1]\\\\x16l\\\\x19\\\\x0ch\\\\x106\\\\xdc\\\\xb3a\\\\xe6\\\\xf0\\\\xc6VD\\\\xba\\\\xec\\\\x1fB\\\\xe9}/\\\\x1d\\\\xada\\\\\\'\\\\xd3&\\\\x0b,\\\\x83\\\\xcfw\\\\x0f\\\\xe45\\\\xc9}h\\\\xfa\\\\xb4\\\\xd7\\\\xe5U\\\\x93\\\\x8a\\\\xd7\\\\xe5\\\\xf5N\\\\xa3s\\\\xac\\\\xbd\\\\xb5\\\\x07\\\\x16\\\\x8a\\\\x99[j\\\\xf61\\\\x83\\\\xd0\\\\xae\\\\xb6Y\\\\xe8~\\\\x9a\\\\xdf\\\\xd3Y\\\\xfb\\\\xff\\\\x00\\\\xce.r\\\\xaf\\\\xae\\\\x9dK\\\\xa2\\\\x06V\\\\xc6\\\\xe3\\\\xe6\\\\xbb\\\\xd2a\\\\xb3!\\\\xb2Xm\\\\x96\\\\xba\\\\xfa[s\\\\x1e\\\\xe6\\\\xe4m\\\\xa9\\\\xcd\\\\xf5\\\\xac\\\\xad\\\\xbf\\\\xa3\\\\xc9\\\\xff\\\\x00\\\\x82[\\\\x98_\\\\xe3\\\\x8d\\\\xa2\\\\xbb~\\\\xd7\\\\xd3\\\\x80w\\\\xb7\\\\xd0mv@\\\\\\'\\\\x8b}{lo\\\\xb7\\\\xf7\\\\xab\\\\xf4\\\\xa9\\\\xb3\\\\xf7\\\\x15,\\\\x1c\\\\xa6a\\\\x93\\\\x8aF\\\\xa0t\\\\xe3\\\\x8f\\\\xeb8\\\\xaf\\\\xfa\\\\xb6\\\\xbf?3\\\\xc58\\\\x98\\\\x01.\\\\x1b\\\\xf4K\\\\xf5\\\\x7f7\\\\x8c\\\\xe3\\\\xff\\\\x00v\\\\xe7\\\\xbf\\\\xa4\\\\xe4\\\\xe39\\\\xcd\\\\xb2\\\\xa72\\\\xca\\\\xc9k\\\\xdaF\\\\xa1\\\\xc3\\\\xb1]_\\\\xd4l{\\\\xabk\\\\x85\\\\xb0\\\\xd6{\\\\xb6\\\\xd6gt\\\\x92\\\\xd9{\\\\x83\\\\x83v\\\\x7f\\\\xdf\\\\xd7=\\\\xd6\\\\x7f\\\\xc6\\\\x8e\\\\x06`\\\\x1fg\\\\xe9`\\\\xd9-\\\\x06\\\\xdbm\\\\rw\\\\xa6\\\\x0b]mm\\\\xf4C\\\\xdd\\\\xfaO\\\\xd2\\\\xd7\\\\xbfw\\\\xe8\\\\xbf\\\\x9cT\\\\xbf\\\\xf1\\\\xc8/\\\\xa9\\\\xdbq\\\\xaf\\\\xa1\\\\xedd5\\\\x95e\\\\x173t\\\\xb7n\\\\xd0\\\\xe6\\\\xb6\\\\xfa\\\\xab\\\\xdb\\\\xbb\\\\xd4\\\\xf4\\\\xfdO\\\\xf0l\\\\xff\\\\x00\\\\x08\\\\x8c\\\\xf9l\\\\xdc@\\\\x88\\\\x8c\\\\x98\\\\xc4\\\\x84\\\\xbft\\\\xca1\\\\x96\\\\xd2\\\\x86N\\\\x1f\\\\x99R\\\\xcb\\\\x19\\\\xe3\\\\xe0?\\\\xab\\\\x9c\\\\xc5\\\\x1f\\\\xd3\\\\x8c|\\\\xb8\\\\x1e\\\\xb7\\\\xeb\\\\xf7\\\\xd5\\\\xcar0\\\\x9f\\\\xd4C\\\\xac\\\\xb3*\\\\xa6\\\\xed\\\\xa1\\\\xb2v4N\\\\xf71\\\\xb4\\\\xd7[\\\\x9b\\\\xfa_\\\\xdf\\\\xb5\\\\xff\\\\x00\\\\xdb^[wO\\\\xca\\\\x0f-u60\\\\xff\\\\x00)\\\\xb1\\\\xcf\\\\xd1\\\\x9f\\\\xeb-\\\\xdc\\\\x8f\\\\xad\\\\x9fZn\\\\xc0\\\\xfbM\\\\x94\\\\xe5:\\\\xa7\\\\x1ffP7\\\\x8ab[]\\\\x95\\\\xc4\\\\xfaO\\\\xddg\\\\xb3\\\\x7f\\\\xd3\\\\xaf\\\\xd4X/\\\\xeb\\\\x1dF\\\\xea\\\\xf6\\\\xb9\\\\xb6\\\\x16\\\\x86Y\\\\xb9\\\\xc3|\\\\xb8\\\\x01\\\\xfaK]\\\\xeec7\\\\xe2\\\\xff\\\\x00\\\\xa4g\\\\xfd{\\\\xd6V1\\\\xc3 \\\\x94\\\\xb8#\\\\x18c\\\\x06\\\\x84L\\\\xb8\\\\x8c4\\\\xf5 \\\\x0cq\\\\xc6#\\\\x92R\\\\x9c\\\\x87X\\\\xc6\\\\xb4\\\\xf9x\\\\x7f\\\\xc1AgK\\\\xca\\\\xd8\\\\x1c\\\\x04\\\\x92$\\\\xb7@G\\\\xf9\\\\xc5T\\\\xb7\\\\x1a\\\\xe68\\\\xb4\\\\x80H\\\\x12`\\\\x8f\\\\r\\\\xfe_E\\\\x16\\\\xcc\\\\xae\\\\xa3f\\\\xae.3\\\\xa4@\\\\x8f\\\\r\\\\x1b\\\\xf9\\\\xaa\\\\x95\\\\x8ey\\\\xf7?\\\\xdc<\\\\xf5\\\\xef\\\\xe4\\\\xaec\\\\x13\\\\xfd#\\\\x13\\\\xe4\\\\xd5\\\\xccq~\\\\x8cr\\\\x0f\\\\xefl\\\\xcc\\\\xd5f\\\\xc3f\\\\xdfh\\\\x1b\\\\x89\\\\xd3F\\\\x92\\\\x1b\\\\xbfl\\\\xef\\\\xd9\\\\xb9\\\\xdbw)7\\\\x1e\\\\xa2\\\\xc7z\\\\x97\\\\xb2\\\\xbb\\\\x00a\\\\xad\\\\xbfH9\\\\xae\\\\x1b\\\\xdc\\\\xe7[Qsk\\\\xf4\\\\xd9\\\\xfe\\\\x0b\\\\xf9\\\\xfd\\\\xff\\\\x00\\\\xa1\\\\xf4\\\\xfdTc\\\\x93\\\\x93K3(u\\\\xf4T\\\\xed\\\\xef\\\\x16\\\\xd4+n\\\\xe7\\\\xb8\\\\x9fJ\\\\xc6\\\\xe3\\\\xd9M\\\\x0fmm\\\\xdb\\\\xbf\\\\xd3\\\\xfd-4\\\\xb2\\\\xaf[\\\\xd2\\\\xfe{\\\\xf4\\\\xb6GS\\\\xcd\\\\x17S\\\\x1d_f\\\\xc85\\\\xddG\\\\xa8\\\\xc2\\\\xc2\\\\xed>\\\\x88f>\\\\xc7~\\\\x89\\\\x9e\\\\xbb\\\\xd9\\\\xea\\\\x7f\\\\x81\\\\xfes\\\\xfc\\\\x1b\\\\xb8\\\\xa5\\\\xd8\\\\x1d\\\\xf5\\\\x1c_\\\\xf7\\\\xac\\\\\\\\1&\\\\xae\\\\x8d\\\\xd5\\\\x13\\\\x1f\\\\xfb\\\\xe8\\\\xb9\\\\xc3\\\\x16\\\\xeb\\\\x0f\\\\xe8\\\\x9b\\\\xea\\\\xb7qc\\\\\\\\\\\\xce\\\\x1c@\\\\xdd\\\\x15\\\\xb5\\\\xdb_\\\\xeeo\\\\xe6m\\\\xf5\\\\x14\\\\xa9\\\\xe9\\\\xddC \\\\x81F-\\\\xd7Kw\\\\x8fM\\\\x85\\\\xfe\\\\xd3\\\\xf4]\\\\xecZ7\\\\xdd}\\\\x98\\\\x8e\\\\xb3\\\\xf6\\\\x9d\\\\xd7bN=v\\\\x07\\\\xed\\\\x0467U\\\\xb6\\\\x93\\\\x90\\\\xfb_v+\\\\x98\\\\xff\\\\x00k?G\\\\xb3\\\\xfe\\\\xd5\\\\x7f\\\\x82P\\\\xb76\\\\xefE\\\\xa7#.\\\\xeb7Y\\\\xb8Xo\\\\xf5\"\\\\xe6\\\\x166\\\\xdb\\\\x19\\\\x89U\\\\xad};\\\\x18\\\\xff\\\\x00\\\\xd5\\\\xef\\\\xb7\\\\xfaO\\\\xd9\\\\x7fE\\\\xfb\\\\x947\\\\xdc\\\\x99\\\\xd8\\\\x0f\\\\xb2_\\\\xfa\\\\x02}\\\\xb8\\\\x0f\\\\x98\\\\x91\\\\xf5\\\\x8d\\\\x7f\\\\xdd\\\\xbf\\\\xff\\\\xd2\\\\xf3\\\\xa6\\\\xe0[\\\\xfb5\\\\xfdC\\\\xd4\\\\xafew3\\\\x1f\\\\xd1\\\\x05\\\\xa6\\\\xc2\\\\xe71\\\\xf9\\\\x1b\\\\xfd/\\\\xa5\\\\xe8V\\\\xca\\\\xff\\\\x00\\\\x9cw\\\\xf8_\\\\xfa\\\\xe7\\\\xa7]\\\\xf8\\\\xf9\\\\x0c~\\\\xc7\\\\xd4\\\\xf6>\\\\x01\\\\xda\\\\xe1\\\\xb4\\\\xc1\\\\x1b\\\\xda}\\\\xdbv\\\\xeec\\\\xb7\\\\xa33%\\\\x82\\\\x9fCy\\\\xd8\\\\\\\\\\\\x1f\\\\xe9\\\\x89-.\\\\x03f\\\\xfd\\\\x9fGv\\\\xdfb\\\\x9d\\\\xaf\\\\xcb\\\\xca\\\\xb5\\\\xef&\\\\xdbmw\\\\xba\\\\xc7:\\\\\\\\\\\\xe3\\\\xf9\\\\xbb\\\\xac\\\\xb1\\\\xe7{\\\\x94\"R\\\\x04\\\\xdd\\\\x0f6\\\\xcf\\\\x04H\\\\x14L\\\\xbc#\\\\xabU\\\\xb4\\\\xb8\\\\x90\\\\t\\\\r\\\\x9f\\\\x13:\\\\x7fei\\\\xe0t\\\\xaa\\\\xaf\\\\xc5\\\\xb4\\\\xd9\\\\xbb\\\\xd6qh\\\\xa2\\\\xd0G\\\\xa6\\\\xc7~\\\\x93p\\\\xb1\\\\xae\\\\xdb\\\\xbb\\\\xd4w\\\\xd9\\\\x9b\\\\xeao\\\\xd9M_h\\\\xb3\\\\xfd\\\\x1a\\\\xce5\\\\xbe\\\\xb0C\\\\xc6\\\\xdf\"D\\\\x95b\\\\x8e\\\\xa2hikH\\\\x02t\\\\x10\\\\xe7\\\\x1d;\\\\xfd*\\\\xda\\\\x86N3\\\\x1fA\\\\xd6\\\\xd7a\\\\x18\\\\x84\\\\xbfZ:\\\\x1d\\\\xcd=\\\\xad\\\\x1fT>\\\\xae\\\\xddk\\\\xab\\\\xae\\\\xbb#el63#{E\\\\x8d\\\\\\'\\\\xd5\\\\xba\\\\xab\\\\xbd*\\\\xbdl|\\\\x96\\\\x8fg\\\\xe8\\\\x7f\\\\xe1?D\\\\xb5\\\\xed\\\\xe8\\\\x1fQ\\\\xfe\\\\xaeR/\\\\xce\\\\xc3\\\\xb33\\\\x1b<\\\\x9a\\\\xdbk\\\\x9f\\\\xea\\\\xbe\\\\xa2\\\\x06\\\\xef\\\\xd1\\\\xb4zO\\\\xad\\\\xaek}OY\\\\xbf\\\\xa5\\\\xff\\\\x00\\\\x06\\\\xb8\\\\x0c\\\\x7f\\\\xac\\\\xf9\\\\xb4\\\\xb8\\\\xfb\\\\xf7V\\\\x1b\\\\x01\\\\x81\\\\x8df\\\\xe3\\\\xe0\\\\xfb7>\\\\xc6\\\\xb5\\\\x9f\\\\xf0n\\\\xf7\\\\xa1\\\\xf5/\\\\xac\\\\xbdK\\\\xa8<\\\\x9b\\\\x1c\\\\x19W\\\\xa8ne\\\\r\\\\x1e\\\\xc68\\\\xb0Q\\\\xfa9\\\\xdc\\\\xef\\\\xe6\\\\xff\\\\x00\\\\xe9\\\\xfb\\\\xd5\\\\x0f\\\\xbbs\\\\x92\\\\xc9\\\\xea\\\\xca}\\\\xbd\\\\xfeo\\\\xb25&\\\\xd6L\\\\xdc\\\\xa0\\\\x8cL\\\\x05\\\\x11\\\\xa1\\\\xa8\\\\xf0\\\\xcb\\\\xfb\\\\xdcpz^\\\\xa8>\\\\xac_e\\\\x83\\\\xa6`\\\\xec\\\\xa1\\\\xed\\\\xa9\\\\x8cu\\\\x86\\\\x084\\\\x1d/\\\\xa9\\\\xb5\\\\xc7\\\\xbf6\\\\xa6\\\\xed\\\\xcc\\\\xf5\\\\xbfI\\\\xff\\\\x00\\\\\\\\[?\\\\xe2\\\\xeb+\\\\x1d\\\\xddJ\\\\xccs\\\\x83Mc\\\\n\\\\xb2\\\\x05\\\\xech.\\\\xf7<\\\\xd96Iu\\\\xbb\\\\x9e\\\\xefo\\\\xa9\\\\xff\\\\x00\\\\x07\\\\xe8\\\\xfau\\\\xfa_\\\\xa4\\\\xf3Vu,\\\\x96Tkn\\\\xd8<\\\\x128\\\\x91\\\\xae\\\\xddv\\\\xff\\\\x00)\\\\n\\\\xac\\\\xab\\\\xeay\\\\xb1\\\\x96=\\\\x8f\"\\\\x0b\\\\xda\\\\xe74\\\\x90u-\\\\xdc\\\\xd3\\\\xf4T\\\\xd3\\\\xe4\\\\xa7(\\\\xca<]A\\\\x85\\\\xdc\\\\xb5\\\\x1f\\\\xd5c<\\\\xd6:\\\\x11\\\\x00\\\\x80A\\\\x8c\\\\xbe\\\\xbe/\\\\xad\\\\x7f\\\\x8c_\\\\xad\\\\xef\\\\xa2\\\\x96tz\\\\xaak-\\\\xbf\\\\xdf\\\\xf6\\\\x878CEo\\\\x0e\\\\xf6W\\\\xfe\\\\x95\\\\xdb+\\\\xf4\\\\xfdE\\\\xe6\\\\xce\\\\xea\\\\x19%\\\\xaf`\\\\xb0X\\\\xcd\\\\x962\\\\x1f\\\\xb5\\\\xdb[d:\\\\xf7U\\\\xbf\\\\xf9\\\\xb7\\\\xbfg\\\\xf3\\\\x95\\\\xfe\\\\x93\\\\xf3\\\\x16[\\\\xeds\\\\xce\\\\xe2I<\\\\x92I&\\\\x7f\\\\xb4\\\\xa2L\\\\x85..W\\\\x84\\\\\\\\\\\\xcf\\\\x1eIk9\\\\x91\\\\xf3\\\\x1f\\\\x93\\\\xff\\\\x00I\\\\xfa\\\\x18\\\\x8f2\\\\x00\\\\xe0\\\\x80\\\\xe1\\\\x80\\\\xe9\\\\x7fl\\\\xbf\\\\xc6l\\\\xbf1\\\\xeen\\\\xc9;@\\\\x8d\\\\x072\\\\xa1\\\\x97\\\\x99\\\\x91\\\\x97{\\\\xb22-u\\\\xd7Y\\\\xab\\\\xed\\\\xb0\\\\x97=\\\\xc66\\\\xfb\\\\x9d\\\\xfdT\\\\x03\\\\xcaZ\\\\xab\\\\x02\\\\x11\\\\x1b\\\\x06\\\\td\\\\x9c\\\\xb7%%\\\\xec\\\\xc5k)4Z\\\\xeb\\\\x1c\\\\xf6M\\\\xcd{6l|\\\\xeb[\\\\x1d\\\\xbe\\\\xcfU\\\\xbf\\\\xf0\\\\x9f\\\\xa3B\\\\x94\\\\xfa\\\\xff\\\\x00zG\\\\x9d5\\\\x1d\\\\xbcS\\\\x98\\\\xd4\\\\x1d\\\\x1d\\\\x81\\\\xf8\\\\xa4^Kv\\\\xc0\\\\xd0\\\\xcc\\\\xc6\\\\xbf\\\\xe7&K\\\\xb2T\\\\x9b/\\\\xff\\\\xd3\\\\xf2\\\\xe6]k>\\\\x83\\\\xdc\\\\xd9\\\\xe7i#\\\\xf2&{\\\\x9c\\\\xf7\\\\x17<\\\\x97\\\\x13\\\\xc9$\\\\x92\\\\xa2\\\\x9d\\\\n\\\\x1b\\\\xae\\\\xe25Vk\\\\xb2\\\\x81\\\\x8e\\\\x12\\\\x92\\\\x92H\\\\xa1R\\\\x92\\\\xb1Kq~\\\\xcd{\\\\xae\\\\x16\\\\x1b\\\\xa1\\\\xa3\\\\x1fn\\\\xd0\\\\xc0w\\\\x0fU\\\\xd7\\\\xee\\\\xf7\\\\xbb\\\\xf4^\\\\xda\\\\xab\\\\xab\\\\xfc\\\\\\'\\\\xbf\\\\xfc\\\\x1e\\\\xcbA\\\\x08Zh\\\\xe8\\\\xca\\\\x9a\\\\xad\\\\xbe\\\\xd6SK\\\\x1dm\\\\xb682\\\\xba\\\\xd8\\\\x0b\\\\x9c\\\\xe78\\\\xedc\\\\x18\\\\xc6\\\\xfb\\\\x9e\\\\xf7\\\\xb9F\\\\x02\\\\x93H\\\\r~\\\\x80\\\\xc8\\\\x89<\\\\x8dF\\\\xa1(&\\\\x03A$\\\\xf1\\\\xa4I(Zi\\\\x8c\\\\x13\\\\xf9~\\\\xe4\\\\x95\\\\xba\\\\xb0n\\\\xbbw\\\\xa7\\\\x07l\\\\xb47\\\\xdcI#\\\\xe9F\\\\xc6\\\\x94\\\\xbff\\\\xe4\\\\x81a\\\\xb0\\\\n\\\\x8dl\\\\xf5\\\\x08y\\\\r1\\\\xee\\\\x8fi\\\\xf7?~\\\\xcff\\\\xc4\\\\xdfr;\\\\x12\\\\x17\\\\xfb9\\\\r\\\\x11\\\\x12Z\\\\x9f)M\\\\xa2t\\\\xe0@\\\\xdc\\\\xe9-2\\\\x04\\\\x18\\\\xd6?\\\\xda\\\\x9e\\\\xc6\\\\xc7D\\\\x93\\\\x9f\\\\xc16\\\\x89!I%\\\\xa2H\\\\xa9\\\\xff\\\\xd4\\\\xf2\\\\xb5k;\\\\xd4\\\\xddO\\\\xa9\\\\xe8\\\\xc7\\\\xa3^\\\\xcf\\\\xb3\\\\xec\\\\x8d\\\\xbb\\\\x7f\\\\xc3z?\\\\xf6\\\\xab\\\\xfe\\\\xe4z\\\\xff\\\\x00\\\\xa7\\\\xf5?\\\\xb0\\\\xaa$\\\\x87Q\\\\xf5\\\\\\\\6,\\\\xbb\\\\xa4\\\\xa2\\\\x92HK\\\\xee\\\\xf4\\\\xc7\\\\xee\\\\xcf\\\\xe2\\\\x9e\\\\xafB\\\\x7fK\\\\xbe?\\\\x93\\\\x08) v;\\\\xfd\\\\x17\\\\xc7\\\\xe6\\\\x1bt\\\\xf9\\\\xfeW_\\\\x1b\\\\xec\\\\x7f\\\\xe0\\\\xbd\\\\x1d\\\\xdd\\\\xa6w\\\\xff\\\\x00\\\\xe0\\\\xfe\\\\xdf\\\\xf3\\\\x11\\\\x1d\\\\xf6\\\\x0f\\\\xb4\\\\xd7\\\\xf6\\\\xbd\\\\xdb\\\\xe7Y\\\\x9f\\\\x0f\\\\xd1O\\\\xa7\\\\xef\\\\xfak\\\\x11%T\\\\xfc\\\\xc7\\\\xe7\\\\xd8\\\\xff\\\\x00\\\\xb4tc\\\\xf2\\\\x0f\\\\xe6\\\\xb7\\\\x1f\\\\xec]\\\\xfc\\\\x8f\\\\xb4\\\\xfa\\\\x1f\\\\xaaz>\\\\x96\\\\xe3>\\\\x94\\\\xef\\\\x99\\\\xff\\\\x00\\\\x84\\\\xfdcj\\\\xcc\\\\xb7\\\\xd5\\\\x97o\\\\xdd\\\\xf9\\\\xde>\\\\x1e\\\\xef\\\\xa5\\\\xee\\\\xfe\\\\xb2\\\\xa6\\\\x92v\\\\x1e\\\\xbb\\\\x7f\\\\xdd\\\\xff\\\\x00\\\\x87\\\\xfdf>g\\\\xa7\\\\xcd\\\\xd3\\\\xfd\\\\x9f\\\\xf8\\\\x1f\\\\xd5f6\\\\xf7Rw\\\\xa5\\\\xb1\\\\xb1\\\\xbb\\\\xd4\\\\x93\\\\xbaclCco\\\\xf6\\\\xfdD$\\\\x95\\\\x97=\\\\x92Z\\\\xa8\\\\xa4\\\\x8a\\\\x99\\\\x18\\\\x81\\\\x1c\\\\xf7\\\\x9f\\\\xe0\\\\x97e\\\\x14\\\\x90S\\\\xff\\\\xd98BIM\\\\x04!\\\\x00\\\\x00\\\\x00\\\\x00\\\\x00U\\\\x00\\\\x00\\\\x00\\\\x01\\\\x01\\\\x00\\\\x00\\\\x00\\\\x0f\\\\x00A\\\\x00d\\\\x00o\\\\x00b\\\\x00e\\\\x00 \\\\x00P\\\\x00h\\\\x00o\\\\x00t\\\\x00o\\\\x00s\\\\x00h\\\\x00o\\\\x00p\\\\x00\\\\x00\\\\x00\\\\x13\\\\x00A\\\\x00d\\\\x00o\\\\x00b\\\\x00e\\\\x00 \\\\x00P\\\\x00h\\\\x00o\\\\x00t\\\\x00o\\\\x00s\\\\x00h\\\\x00o\\\\x00p\\\\x00 \\\\x007\\\\x00.\\\\x000\\\\x00\\\\x00\\\\x00\\\\x01\\\\x00\\', 34665: b\\'\\\\xb0\\\\x82\\\\xf0\\\\x00\\', 34675: b\\'\\\\x00\\\\x00\\\\x01\\\\xe0NKON\\\\x02 \\\\x00\\\\x00mntrRGB XYZ \\\\x07\\\\xcf\\\\x00\\\\x0c\\\\x00\\\\x08\\\\x00\\\\x0e\\\\x00(\\\\x00\\\\x1eacspAPPL\\\\x00\\\\x00\\\\x00\\\\x00none\\\\x00\\\\x00\\\\x00\\\\x01\\\\x00\\\\x00\\\\x00\\\\x00\\\\x00\\\\x00\\\\x00\\\\x00\\\\x00\\\\x00\\\\x00\\\\x00\\\\x00\\\\x00\\\\xf6\\\\xd6\\\\x00\\\\x01\\\\x00\\\\x00\\\\x00\\\\x00\\\\xd3-\\\\x00\\\\x00\\\\x00\\\\x00\\\\x00\\\\x00\\\\x00\\\\x00\\\\x00\\\\x00\\\\x00\\\\x00\\\\x00\\\\x00\\\\x00\\\\x00\\\\x00\\\\x00\\\\x00\\\\x00\\\\x00\\\\x00\\\\x00\\\\x00\\\\x00\\\\x00\\\\x00\\\\x00\\\\x00\\\\x00\\\\x00\\\\x00\\\\x00\\\\x00\\\\x00\\\\x00\\\\x00\\\\x00\\\\x00\\\\x00\\\\x00\\\\x00\\\\x00\\\\x00\\\\x00\\\\x00\\\\x00\\\\x00\\\\x00\\\\x00\\\\x00\\\\tdesc\\\\x00\\\\x00\\\\x00\\\\xf0\\\\x00\\\\x00\\\\x00CrXYZ\\\\x00\\\\x00\\\\x014\\\\x00\\\\x00\\\\x00\\\\x14gXYZ\\\\x00\\\\x00\\\\x01H\\\\x00\\\\x00\\\\x00\\\\x14bXYZ\\\\x00\\\\x00\\\\x01\\\\\\\\\\\\x00\\\\x00\\\\x00\\\\x14rTRC\\\\x00\\\\x00\\\\x01p\\\\x00\\\\x00\\\\x00\\\\x0egTRC\\\\x00\\\\x00\\\\x01\\\\x80\\\\x00\\\\x00\\\\x00\\\\x0ebTRC\\\\x00\\\\x00\\\\x01\\\\x90\\\\x00\\\\x00\\\\x00\\\\x0ewtpt\\\\x00\\\\x00\\\\x01\\\\xa0\\\\x00\\\\x00\\\\x00\\\\x14cprt\\\\x00\\\\x00\\\\x01\\\\xb4\\\\x00\\\\x00\\\\x00,desc\\\\x00\\\\x00\\\\x00\\\\x00\\\\x00\\\\x00\\\\x00\\\\x16Nikon sRGB 4.0.0.3000\\\\x00\\\\x00\\\\x00\\\\x00\\\\x00\\\\x00\\\\x00\\\\x00\\\\x00\\\\x00\\\\x00\\\\x16Nikon sRGB 4.0.0.3000\\\\x00\\\\x00XYZ \\\\x00\\\\x00\\\\x00\\\\x00\\\\x00\\\\x00o\\\\xa2\\\\x00\\\\x008\\\\xf6\\\\x00\\\\x00\\\\x03\\\\x90XYZ \\\\x00\\\\x00\\\\x00\\\\x00\\\\x00\\\\x00b\\\\x94\\\\x00\\\\x00\\\\xb7\\\\x85\\\\x00\\\\x00\\\\x18\\\\xd9XYZ \\\\x00\\\\x00\\\\x00\\\\x00\\\\x00\\\\x00$\\\\x9f\\\\x00\\\\x00\\\\x0f\\\\x84\\\\x00\\\\x00\\\\xb6\\\\xc8curv\\\\x00\\\\x00\\\\x00\\\\x00\\\\x00\\\\x00\\\\x00\\\\x01\\\\x023\\\\x00\\\\x00curv\\\\x00\\\\x00\\\\x00\\\\x00\\\\x00\\\\x00\\\\x00\\\\x01\\\\x023\\\\x00\\\\x00curv\\\\x00\\\\x00\\\\x00\\\\x00\\\\x00\\\\x00\\\\x00\\\\x01\\\\x023\\\\x00\\\\x00XYZ \\\\x00\\\\x00\\\\x00\\\\x00\\\\x00\\\\x00\\\\xf3T\\\\x00\\\\x01\\\\x00\\\\x00\\\\x00\\\\x01\\\\x16\\\\xcftext\\\\x00\\\\x00\\\\x00\\\\x00Nikon Inc. & Nikon Corporation 2001\\\\x00\\'}'"
      ]
     },
     "execution_count": 185,
     "metadata": {},
     "output_type": "execute_result"
    }
   ],
   "source": [
    "str(img.tag.tagdata)"
   ]
  },
  {
   "cell_type": "code",
   "execution_count": null,
   "metadata": {},
   "outputs": [],
   "source": []
  },
  {
   "cell_type": "code",
   "execution_count": null,
   "metadata": {},
   "outputs": [],
   "source": []
  },
  {
   "cell_type": "code",
   "execution_count": null,
   "metadata": {},
   "outputs": [],
   "source": [
    "with Image.open(test_imgSubTIF) as img:\n",
    "    meta_dict = {TAGS[key] : img.tag[key] for key in img.tag.keys()}"
   ]
  },
  {
   "cell_type": "code",
   "execution_count": 139,
   "metadata": {},
   "outputs": [],
   "source": [
    "with Image.open(test_imgSubTIF) as img:\n",
    "    meta_dict = {TAGS[key] : img.tag[key] for key in img.tag.keys()}"
   ]
  },
  {
   "cell_type": "code",
   "execution_count": 140,
   "metadata": {},
   "outputs": [
    {
     "data": {
      "text/plain": [
       "{'ImageWidth': (2000,),\n",
       " 'ImageLength': (1312,),\n",
       " 'BitsPerSample': (16, 16, 16),\n",
       " 'Compression': (1,),\n",
       " 'PhotometricInterpretation': (2,),\n",
       " 'PhotoshopInfo': (b'8BIM\\x04%\\x00\\x00\\x00\\x00\\x00\\x10\\x00\\x00\\x00\\x00\\x00\\x00\\x00\\x00\\x00\\x00\\x00\\x00\\x00\\x00\\x00\\x008BIM\\x03\\xea\\x00\\x00\\x00\\x00\\x1d\\xad<?xml version=\"1.0\" encoding=\"UTF-8\"?>\\n<!DOCTYPE plist PUBLIC \"-//Apple Computer//DTD PLIST 1.0//EN\" \"http://www.apple.com/DTDs/PropertyList-1.0.dtd\">\\n<plist version=\"1.0\">\\n<dict>\\n\\t<key>com.apple.print.PageFormat.PMHorizontalRes</key>\\n\\t<dict>\\n\\t\\t<key>com.apple.print.ticket.creator</key>\\n\\t\\t<string>com.apple.printingmanager</string>\\n\\t\\t<key>com.apple.print.ticket.itemArray</key>\\n\\t\\t<array>\\n\\t\\t\\t<dict>\\n\\t\\t\\t\\t<key>com.apple.print.PageFormat.PMHorizontalRes</key>\\n\\t\\t\\t\\t<real>72</real>\\n\\t\\t\\t\\t<key>com.apple.print.ticket.client</key>\\n\\t\\t\\t\\t<string>com.apple.printingmanager</string>\\n\\t\\t\\t\\t<key>com.apple.print.ticket.modDate</key>\\n\\t\\t\\t\\t<date>2003-03-22T10:07:41Z</date>\\n\\t\\t\\t\\t<key>com.apple.print.ticket.stateFlag</key>\\n\\t\\t\\t\\t<integer>0</integer>\\n\\t\\t\\t</dict>\\n\\t\\t</array>\\n\\t</dict>\\n\\t<key>com.apple.print.PageFormat.PMOrientation</key>\\n\\t<dict>\\n\\t\\t<key>com.apple.print.ticket.creator</key>\\n\\t\\t<string>com.apple.printingmanager</string>\\n\\t\\t<key>com.apple.print.ticket.itemArray</key>\\n\\t\\t<array>\\n\\t\\t\\t<dict>\\n\\t\\t\\t\\t<key>com.apple.print.PageFormat.PMOrientation</key>\\n\\t\\t\\t\\t<integer>1</integer>\\n\\t\\t\\t\\t<key>com.apple.print.ticket.client</key>\\n\\t\\t\\t\\t<string>com.apple.printingmanager</string>\\n\\t\\t\\t\\t<key>com.apple.print.ticket.modDate</key>\\n\\t\\t\\t\\t<date>2003-03-22T10:07:41Z</date>\\n\\t\\t\\t\\t<key>com.apple.print.ticket.stateFlag</key>\\n\\t\\t\\t\\t<integer>0</integer>\\n\\t\\t\\t</dict>\\n\\t\\t</array>\\n\\t</dict>\\n\\t<key>com.apple.print.PageFormat.PMScaling</key>\\n\\t<dict>\\n\\t\\t<key>com.apple.print.ticket.creator</key>\\n\\t\\t<string>com.apple.printingmanager</string>\\n\\t\\t<key>com.apple.print.ticket.itemArray</key>\\n\\t\\t<array>\\n\\t\\t\\t<dict>\\n\\t\\t\\t\\t<key>com.apple.print.PageFormat.PMScaling</key>\\n\\t\\t\\t\\t<real>1</real>\\n\\t\\t\\t\\t<key>com.apple.print.ticket.client</key>\\n\\t\\t\\t\\t<string>com.apple.printingmanager</string>\\n\\t\\t\\t\\t<key>com.apple.print.ticket.modDate</key>\\n\\t\\t\\t\\t<date>2003-03-22T10:07:41Z</date>\\n\\t\\t\\t\\t<key>com.apple.print.ticket.stateFlag</key>\\n\\t\\t\\t\\t<integer>0</integer>\\n\\t\\t\\t</dict>\\n\\t\\t</array>\\n\\t</dict>\\n\\t<key>com.apple.print.PageFormat.PMVerticalRes</key>\\n\\t<dict>\\n\\t\\t<key>com.apple.print.ticket.creator</key>\\n\\t\\t<string>com.apple.printingmanager</string>\\n\\t\\t<key>com.apple.print.ticket.itemArray</key>\\n\\t\\t<array>\\n\\t\\t\\t<dict>\\n\\t\\t\\t\\t<key>com.apple.print.PageFormat.PMVerticalRes</key>\\n\\t\\t\\t\\t<real>72</real>\\n\\t\\t\\t\\t<key>com.apple.print.ticket.client</key>\\n\\t\\t\\t\\t<string>com.apple.printingmanager</string>\\n\\t\\t\\t\\t<key>com.apple.print.ticket.modDate</key>\\n\\t\\t\\t\\t<date>2003-03-22T10:07:41Z</date>\\n\\t\\t\\t\\t<key>com.apple.print.ticket.stateFlag</key>\\n\\t\\t\\t\\t<integer>0</integer>\\n\\t\\t\\t</dict>\\n\\t\\t</array>\\n\\t</dict>\\n\\t<key>com.apple.print.PageFormat.PMVerticalScaling</key>\\n\\t<dict>\\n\\t\\t<key>com.apple.print.ticket.creator</key>\\n\\t\\t<string>com.apple.printingmanager</string>\\n\\t\\t<key>com.apple.print.ticket.itemArray</key>\\n\\t\\t<array>\\n\\t\\t\\t<dict>\\n\\t\\t\\t\\t<key>com.apple.print.PageFormat.PMVerticalScaling</key>\\n\\t\\t\\t\\t<real>1</real>\\n\\t\\t\\t\\t<key>com.apple.print.ticket.client</key>\\n\\t\\t\\t\\t<string>com.apple.printingmanager</string>\\n\\t\\t\\t\\t<key>com.apple.print.ticket.modDate</key>\\n\\t\\t\\t\\t<date>2003-03-22T10:07:41Z</date>\\n\\t\\t\\t\\t<key>com.apple.print.ticket.stateFlag</key>\\n\\t\\t\\t\\t<integer>0</integer>\\n\\t\\t\\t</dict>\\n\\t\\t</array>\\n\\t</dict>\\n\\t<key>com.apple.print.subTicket.paper_info_ticket</key>\\n\\t<dict>\\n\\t\\t<key>com.apple.print.PageFormat.PMAdjustedPageRect</key>\\n\\t\\t<dict>\\n\\t\\t\\t<key>com.apple.print.ticket.creator</key>\\n\\t\\t\\t<string>com.apple.printingmanager</string>\\n\\t\\t\\t<key>com.apple.print.ticket.itemArray</key>\\n\\t\\t\\t<array>\\n\\t\\t\\t\\t<dict>\\n\\t\\t\\t\\t\\t<key>com.apple.print.PageFormat.PMAdjustedPageRect</key>\\n\\t\\t\\t\\t\\t<array>\\n\\t\\t\\t\\t\\t\\t<real>0.0</real>\\n\\t\\t\\t\\t\\t\\t<real>0.0</real>\\n\\t\\t\\t\\t\\t\\t<real>734</real>\\n\\t\\t\\t\\t\\t\\t<real>576</real>\\n\\t\\t\\t\\t\\t</array>\\n\\t\\t\\t\\t\\t<key>com.apple.print.ticket.client</key>\\n\\t\\t\\t\\t\\t<string>com.apple.printingmanager</string>\\n\\t\\t\\t\\t\\t<key>com.apple.print.ticket.modDate</key>\\n\\t\\t\\t\\t\\t<date>2003-03-22T10:07:41Z</date>\\n\\t\\t\\t\\t\\t<key>com.apple.print.ticket.stateFlag</key>\\n\\t\\t\\t\\t\\t<integer>0</integer>\\n\\t\\t\\t\\t</dict>\\n\\t\\t\\t</array>\\n\\t\\t</dict>\\n\\t\\t<key>com.apple.print.PageFormat.PMAdjustedPaperRect</key>\\n\\t\\t<dict>\\n\\t\\t\\t<key>com.apple.print.ticket.creator</key>\\n\\t\\t\\t<string>com.apple.printingmanager</string>\\n\\t\\t\\t<key>com.apple.print.ticket.itemArray</key>\\n\\t\\t\\t<array>\\n\\t\\t\\t\\t<dict>\\n\\t\\t\\t\\t\\t<key>com.apple.print.PageFormat.PMAdjustedPaperRect</key>\\n\\t\\t\\t\\t\\t<array>\\n\\t\\t\\t\\t\\t\\t<real>-18</real>\\n\\t\\t\\t\\t\\t\\t<real>-18</real>\\n\\t\\t\\t\\t\\t\\t<real>774</real>\\n\\t\\t\\t\\t\\t\\t<real>594</real>\\n\\t\\t\\t\\t\\t</array>\\n\\t\\t\\t\\t\\t<key>com.apple.print.ticket.client</key>\\n\\t\\t\\t\\t\\t<string>com.apple.printingmanager</string>\\n\\t\\t\\t\\t\\t<key>com.apple.print.ticket.modDate</key>\\n\\t\\t\\t\\t\\t<date>2003-03-22T10:07:41Z</date>\\n\\t\\t\\t\\t\\t<key>com.apple.print.ticket.stateFlag</key>\\n\\t\\t\\t\\t\\t<integer>0</integer>\\n\\t\\t\\t\\t</dict>\\n\\t\\t\\t</array>\\n\\t\\t</dict>\\n\\t\\t<key>com.apple.print.PaperInfo.PMPaperName</key>\\n\\t\\t<dict>\\n\\t\\t\\t<key>com.apple.print.ticket.creator</key>\\n\\t\\t\\t<string>com.apple.print.pm.PostScript</string>\\n\\t\\t\\t<key>com.apple.print.ticket.itemArray</key>\\n\\t\\t\\t<array>\\n\\t\\t\\t\\t<dict>\\n\\t\\t\\t\\t\\t<key>com.apple.print.PaperInfo.PMPaperName</key>\\n\\t\\t\\t\\t\\t<string>na-letter</string>\\n\\t\\t\\t\\t\\t<key>com.apple.print.ticket.client</key>\\n\\t\\t\\t\\t\\t<string>com.apple.print.pm.PostScript</string>\\n\\t\\t\\t\\t\\t<key>com.apple.print.ticket.modDate</key>\\n\\t\\t\\t\\t\\t<date>2000-07-28T22:57:04Z</date>\\n\\t\\t\\t\\t\\t<key>com.apple.print.ticket.stateFlag</key>\\n\\t\\t\\t\\t\\t<integer>1</integer>\\n\\t\\t\\t\\t</dict>\\n\\t\\t\\t</array>\\n\\t\\t</dict>\\n\\t\\t<key>com.apple.print.PaperInfo.PMUnadjustedPageRect</key>\\n\\t\\t<dict>\\n\\t\\t\\t<key>com.apple.print.ticket.creator</key>\\n\\t\\t\\t<string>com.apple.print.pm.PostScript</string>\\n\\t\\t\\t<key>com.apple.print.ticket.itemArray</key>\\n\\t\\t\\t<array>\\n\\t\\t\\t\\t<dict>\\n\\t\\t\\t\\t\\t<key>com.apple.print.PaperInfo.PMUnadjustedPageRect</key>\\n\\t\\t\\t\\t\\t<array>\\n\\t\\t\\t\\t\\t\\t<real>0.0</real>\\n\\t\\t\\t\\t\\t\\t<real>0.0</real>\\n\\t\\t\\t\\t\\t\\t<real>734</real>\\n\\t\\t\\t\\t\\t\\t<real>576</real>\\n\\t\\t\\t\\t\\t</array>\\n\\t\\t\\t\\t\\t<key>com.apple.print.ticket.client</key>\\n\\t\\t\\t\\t\\t<string>com.apple.printingmanager</string>\\n\\t\\t\\t\\t\\t<key>com.apple.print.ticket.modDate</key>\\n\\t\\t\\t\\t\\t<date>2003-03-22T10:07:41Z</date>\\n\\t\\t\\t\\t\\t<key>com.apple.print.ticket.stateFlag</key>\\n\\t\\t\\t\\t\\t<integer>0</integer>\\n\\t\\t\\t\\t</dict>\\n\\t\\t\\t</array>\\n\\t\\t</dict>\\n\\t\\t<key>com.apple.print.PaperInfo.PMUnadjustedPaperRect</key>\\n\\t\\t<dict>\\n\\t\\t\\t<key>com.apple.print.ticket.creator</key>\\n\\t\\t\\t<string>com.apple.print.pm.PostScript</string>\\n\\t\\t\\t<key>com.apple.print.ticket.itemArray</key>\\n\\t\\t\\t<array>\\n\\t\\t\\t\\t<dict>\\n\\t\\t\\t\\t\\t<key>com.apple.print.PaperInfo.PMUnadjustedPaperRect</key>\\n\\t\\t\\t\\t\\t<array>\\n\\t\\t\\t\\t\\t\\t<real>-18</real>\\n\\t\\t\\t\\t\\t\\t<real>-18</real>\\n\\t\\t\\t\\t\\t\\t<real>774</real>\\n\\t\\t\\t\\t\\t\\t<real>594</real>\\n\\t\\t\\t\\t\\t</array>\\n\\t\\t\\t\\t\\t<key>com.apple.print.ticket.client</key>\\n\\t\\t\\t\\t\\t<string>com.apple.printingmanager</string>\\n\\t\\t\\t\\t\\t<key>com.apple.print.ticket.modDate</key>\\n\\t\\t\\t\\t\\t<date>2003-03-22T10:07:41Z</date>\\n\\t\\t\\t\\t\\t<key>com.apple.print.ticket.stateFlag</key>\\n\\t\\t\\t\\t\\t<integer>0</integer>\\n\\t\\t\\t\\t</dict>\\n\\t\\t\\t</array>\\n\\t\\t</dict>\\n\\t\\t<key>com.apple.print.PaperInfo.ppd.PMPaperName</key>\\n\\t\\t<dict>\\n\\t\\t\\t<key>com.apple.print.ticket.creator</key>\\n\\t\\t\\t<string>com.apple.print.pm.PostScript</string>\\n\\t\\t\\t<key>com.apple.print.ticket.itemArray</key>\\n\\t\\t\\t<array>\\n\\t\\t\\t\\t<dict>\\n\\t\\t\\t\\t\\t<key>com.apple.print.PaperInfo.ppd.PMPaperName</key>\\n\\t\\t\\t\\t\\t<string>Letter</string>\\n\\t\\t\\t\\t\\t<key>com.apple.print.ticket.client</key>\\n\\t\\t\\t\\t\\t<string>com.apple.print.pm.PostScript</string>\\n\\t\\t\\t\\t\\t<key>com.apple.print.ticket.modDate</key>\\n\\t\\t\\t\\t\\t<date>2000-07-28T22:57:04Z</date>\\n\\t\\t\\t\\t\\t<key>com.apple.print.ticket.stateFlag</key>\\n\\t\\t\\t\\t\\t<integer>1</integer>\\n\\t\\t\\t\\t</dict>\\n\\t\\t\\t</array>\\n\\t\\t</dict>\\n\\t\\t<key>com.apple.print.ticket.APIVersion</key>\\n\\t\\t<string>00.20</string>\\n\\t\\t<key>com.apple.print.ticket.privateLock</key>\\n\\t\\t<false/>\\n\\t\\t<key>com.apple.print.ticket.type</key>\\n\\t\\t<string>com.apple.print.PaperInfoTicket</string>\\n\\t</dict>\\n\\t<key>com.apple.print.ticket.APIVersion</key>\\n\\t<string>00.20</string>\\n\\t<key>com.apple.print.ticket.privateLock</key>\\n\\t<false/>\\n\\t<key>com.apple.print.ticket.type</key>\\n\\t<string>com.apple.print.PageFormatTicket</string>\\n</dict>\\n</plist>\\n\\x008BIM\\x03\\xe9\\x00\\x00\\x00\\x00\\x00x\\x00\\x03\\x00\\x00\\x00H\\x00H\\x00\\x00\\x00\\x00\\x02\\xde\\x02@\\xff\\xee\\xff\\xee\\x03\\x06\\x02R\\x03g\\x05(\\x03\\xfc\\x00\\x02\\x00\\x00\\x00H\\x00H\\x00\\x00\\x00\\x00\\x02\\xd8\\x02(\\x00\\x01\\x00\\x00\\x00d\\x00\\x00\\x00\\x01\\x00\\x03\\x03\\x03\\x00\\x00\\x00\\x01\\x7f\\xff\\x00\\x01\\x00\\x01\\x00\\x00\\x00\\x00\\x00\\x00\\x00\\x00\\x00\\x00\\x00\\x00h\\x08\\x00\\x19\\x01\\x90\\x00\\x00\\x00\\x00\\x00 \\x00\\x00\\x00\\x00\\x00\\x00\\x00\\x00\\x00\\x00\\x00\\x00\\x00\\x00\\x00\\x00\\x00\\x00\\x00\\x00\\x00\\x00\\x00\\x00\\x00\\x008BIM\\x03\\xed\\x00\\x00\\x00\\x00\\x00\\x10\\x01,\\x00\\x00\\x00\\x01\\x00\\x01\\x01,\\x00\\x00\\x00\\x01\\x00\\x018BIM\\x04&\\x00\\x00\\x00\\x00\\x00\\x0e\\x00\\x00\\x00\\x00\\x00\\x00\\x00\\x00\\x00\\x00?\\x80\\x00\\x008BIM\\x04\\r\\x00\\x00\\x00\\x00\\x00\\x04\\x00\\x00\\x00\\x1e8BIM\\x04\\x19\\x00\\x00\\x00\\x00\\x00\\x04\\x00\\x00\\x00\\x1e8BIM\\x03\\xf3\\x00\\x00\\x00\\x00\\x00\\t\\x00\\x00\\x00\\x00\\x00\\x00\\x00\\x00\\x01\\x008BIM\\x04\\n\\x00\\x00\\x00\\x00\\x00\\x01\\x00\\x008BIM\\'\\x10\\x00\\x00\\x00\\x00\\x00\\n\\x00\\x01\\x00\\x00\\x00\\x00\\x00\\x00\\x00\\x018BIM\\x03\\xf5\\x00\\x00\\x00\\x00\\x00H\\x00/ff\\x00\\x01\\x00lff\\x00\\x06\\x00\\x00\\x00\\x00\\x00\\x01\\x00/ff\\x00\\x01\\x00\\xa1\\x99\\x9a\\x00\\x06\\x00\\x00\\x00\\x00\\x00\\x01\\x002\\x00\\x00\\x00\\x01\\x00Z\\x00\\x00\\x00\\x06\\x00\\x00\\x00\\x00\\x00\\x01\\x005\\x00\\x00\\x00\\x01\\x00-\\x00\\x00\\x00\\x06\\x00\\x00\\x00\\x00\\x00\\x018BIM\\x03\\xf8\\x00\\x00\\x00\\x00\\x00p\\x00\\x00\\xff\\xff\\xff\\xff\\xff\\xff\\xff\\xff\\xff\\xff\\xff\\xff\\xff\\xff\\xff\\xff\\xff\\xff\\xff\\xff\\xff\\xff\\x03\\xe8\\x00\\x00\\x00\\x00\\xff\\xff\\xff\\xff\\xff\\xff\\xff\\xff\\xff\\xff\\xff\\xff\\xff\\xff\\xff\\xff\\xff\\xff\\xff\\xff\\xff\\xff\\x03\\xe8\\x00\\x00\\x00\\x00\\xff\\xff\\xff\\xff\\xff\\xff\\xff\\xff\\xff\\xff\\xff\\xff\\xff\\xff\\xff\\xff\\xff\\xff\\xff\\xff\\xff\\xff\\x03\\xe8\\x00\\x00\\x00\\x00\\xff\\xff\\xff\\xff\\xff\\xff\\xff\\xff\\xff\\xff\\xff\\xff\\xff\\xff\\xff\\xff\\xff\\xff\\xff\\xff\\xff\\xff\\x03\\xe8\\x00\\x008BIM\\x04\\x08\\x00\\x00\\x00\\x00\\x00\\x10\\x00\\x00\\x00\\x01\\x00\\x00\\x02@\\x00\\x00\\x02@\\x00\\x00\\x00\\x008BIM\\x04\\x1e\\x00\\x00\\x00\\x00\\x00\\x04\\x00\\x00\\x00\\x008BIM\\x04\\x1a\\x00\\x00\\x00\\x00\\x03E\\x00\\x00\\x00\\x06\\x00\\x00\\x00\\x00\\x00\\x00\\x00\\x00\\x00\\x00\\x05 \\x00\\x00\\x07\\xd0\\x00\\x00\\x00\\x08\\x00D\\x00S\\x00C\\x00_\\x000\\x001\\x002\\x008\\x00\\x00\\x00\\x01\\x00\\x00\\x00\\x00\\x00\\x00\\x00\\x00\\x00\\x00\\x00\\x00\\x00\\x00\\x00\\x00\\x00\\x00\\x00\\x01\\x00\\x00\\x00\\x00\\x00\\x00\\x00\\x00\\x00\\x00\\x07\\xd0\\x00\\x00\\x05 \\x00\\x00\\x00\\x00\\x00\\x00\\x00\\x00\\x00\\x00\\x00\\x00\\x00\\x00\\x00\\x00\\x01\\x00\\x00\\x00\\x00\\x00\\x00\\x00\\x00\\x00\\x00\\x00\\x00\\x00\\x00\\x00\\x00\\x00\\x00\\x00\\x10\\x00\\x00\\x00\\x01\\x00\\x00\\x00\\x00\\x00\\x00null\\x00\\x00\\x00\\x02\\x00\\x00\\x00\\x06boundsObjc\\x00\\x00\\x00\\x01\\x00\\x00\\x00\\x00\\x00\\x00Rct1\\x00\\x00\\x00\\x04\\x00\\x00\\x00\\x00Top long\\x00\\x00\\x00\\x00\\x00\\x00\\x00\\x00Leftlong\\x00\\x00\\x00\\x00\\x00\\x00\\x00\\x00Btomlong\\x00\\x00\\x05 \\x00\\x00\\x00\\x00Rghtlong\\x00\\x00\\x07\\xd0\\x00\\x00\\x00\\x06slicesVlLs\\x00\\x00\\x00\\x01Objc\\x00\\x00\\x00\\x01\\x00\\x00\\x00\\x00\\x00\\x05slice\\x00\\x00\\x00\\x12\\x00\\x00\\x00\\x07sliceIDlong\\x00\\x00\\x00\\x00\\x00\\x00\\x00\\x07groupIDlong\\x00\\x00\\x00\\x00\\x00\\x00\\x00\\x06originenum\\x00\\x00\\x00\\x0cESliceOrigin\\x00\\x00\\x00\\rautoGenerated\\x00\\x00\\x00\\x00Typeenum\\x00\\x00\\x00\\nESliceType\\x00\\x00\\x00\\x00Img \\x00\\x00\\x00\\x06boundsObjc\\x00\\x00\\x00\\x01\\x00\\x00\\x00\\x00\\x00\\x00Rct1\\x00\\x00\\x00\\x04\\x00\\x00\\x00\\x00Top long\\x00\\x00\\x00\\x00\\x00\\x00\\x00\\x00Leftlong\\x00\\x00\\x00\\x00\\x00\\x00\\x00\\x00Btomlong\\x00\\x00\\x05 \\x00\\x00\\x00\\x00Rghtlong\\x00\\x00\\x07\\xd0\\x00\\x00\\x00\\x03urlTEXT\\x00\\x00\\x00\\x01\\x00\\x00\\x00\\x00\\x00\\x00nullTEXT\\x00\\x00\\x00\\x01\\x00\\x00\\x00\\x00\\x00\\x00MsgeTEXT\\x00\\x00\\x00\\x01\\x00\\x00\\x00\\x00\\x00\\x06altTagTEXT\\x00\\x00\\x00\\x01\\x00\\x00\\x00\\x00\\x00\\x0ecellTextIsHTMLbool\\x01\\x00\\x00\\x00\\x08cellTextTEXT\\x00\\x00\\x00\\x01\\x00\\x00\\x00\\x00\\x00\\thorzAlignenum\\x00\\x00\\x00\\x0fESliceHorzAlign\\x00\\x00\\x00\\x07default\\x00\\x00\\x00\\tvertAlignenum\\x00\\x00\\x00\\x0fESliceVertAlign\\x00\\x00\\x00\\x07default\\x00\\x00\\x00\\x0bbgColorTypeenum\\x00\\x00\\x00\\x11ESliceBGColorType\\x00\\x00\\x00\\x00None\\x00\\x00\\x00\\ttopOutsetlong\\x00\\x00\\x00\\x00\\x00\\x00\\x00\\nleftOutsetlong\\x00\\x00\\x00\\x00\\x00\\x00\\x00\\x0cbottomOutsetlong\\x00\\x00\\x00\\x00\\x00\\x00\\x00\\x0brightOutsetlong\\x00\\x00\\x00\\x00\\x008BIM\\x04\\x14\\x00\\x00\\x00\\x00\\x00\\x04\\x00\\x00\\x00\\x018BIM\\x04\\x0c\\x00\\x00\\x00\\x00\\r\\xb4\\x00\\x00\\x00\\x01\\x00\\x00\\x00\\x80\\x00\\x00\\x00T\\x00\\x00\\x01\\x80\\x00\\x00~\\x00\\x00\\x00\\r\\x98\\x00\\x18\\x00\\x01\\xff\\xd8\\xff\\xe0\\x00\\x10JFIF\\x00\\x01\\x02\\x01\\x00H\\x00H\\x00\\x00\\xff\\xed\\x00\\x0cAdobe_CM\\x00\\x01\\xff\\xee\\x00\\x0eAdobe\\x00d\\x80\\x00\\x00\\x00\\x01\\xff\\xdb\\x00\\x84\\x00\\x0c\\x08\\x08\\x08\\t\\x08\\x0c\\t\\t\\x0c\\x11\\x0b\\n\\x0b\\x11\\x15\\x0f\\x0c\\x0c\\x0f\\x15\\x18\\x13\\x13\\x15\\x13\\x13\\x18\\x11\\x0c\\x0c\\x0c\\x0c\\x0c\\x0c\\x11\\x0c\\x0c\\x0c\\x0c\\x0c\\x0c\\x0c\\x0c\\x0c\\x0c\\x0c\\x0c\\x0c\\x0c\\x0c\\x0c\\x0c\\x0c\\x0c\\x0c\\x0c\\x0c\\x0c\\x0c\\x0c\\x0c\\x0c\\x0c\\x01\\r\\x0b\\x0b\\r\\x0e\\r\\x10\\x0e\\x0e\\x10\\x14\\x0e\\x0e\\x0e\\x14\\x14\\x0e\\x0e\\x0e\\x0e\\x14\\x11\\x0c\\x0c\\x0c\\x0c\\x0c\\x11\\x11\\x0c\\x0c\\x0c\\x0c\\x0c\\x0c\\x11\\x0c\\x0c\\x0c\\x0c\\x0c\\x0c\\x0c\\x0c\\x0c\\x0c\\x0c\\x0c\\x0c\\x0c\\x0c\\x0c\\x0c\\x0c\\x0c\\x0c\\x0c\\x0c\\x0c\\x0c\\x0c\\x0c\\x0c\\x0c\\xff\\xc0\\x00\\x11\\x08\\x00T\\x00\\x80\\x03\\x01\"\\x00\\x02\\x11\\x01\\x03\\x11\\x01\\xff\\xdd\\x00\\x04\\x00\\x08\\xff\\xc4\\x01?\\x00\\x00\\x01\\x05\\x01\\x01\\x01\\x01\\x01\\x01\\x00\\x00\\x00\\x00\\x00\\x00\\x00\\x03\\x00\\x01\\x02\\x04\\x05\\x06\\x07\\x08\\t\\n\\x0b\\x01\\x00\\x01\\x05\\x01\\x01\\x01\\x01\\x01\\x01\\x00\\x00\\x00\\x00\\x00\\x00\\x00\\x01\\x00\\x02\\x03\\x04\\x05\\x06\\x07\\x08\\t\\n\\x0b\\x10\\x00\\x01\\x04\\x01\\x03\\x02\\x04\\x02\\x05\\x07\\x06\\x08\\x05\\x03\\x0c3\\x01\\x00\\x02\\x11\\x03\\x04!\\x121\\x05AQa\\x13\"q\\x812\\x06\\x14\\x91\\xa1\\xb1B#$\\x15R\\xc1b34r\\x82\\xd1C\\x07%\\x92S\\xf0\\xe1\\xf1cs5\\x16\\xa2\\xb2\\x83&D\\x93TdE\\xc2\\xa3t6\\x17\\xd2U\\xe2e\\xf2\\xb3\\x84\\xc3\\xd3u\\xe3\\xf3F\\'\\x94\\xa4\\x85\\xb4\\x95\\xc4\\xd4\\xe4\\xf4\\xa5\\xb5\\xc5\\xd5\\xe5\\xf5Vfv\\x86\\x96\\xa6\\xb6\\xc6\\xd6\\xe6\\xf67GWgw\\x87\\x97\\xa7\\xb7\\xc7\\xd7\\xe7\\xf7\\x11\\x00\\x02\\x02\\x01\\x02\\x04\\x04\\x03\\x04\\x05\\x06\\x07\\x07\\x06\\x055\\x01\\x00\\x02\\x11\\x03!1\\x12\\x04AQaq\"\\x13\\x052\\x81\\x91\\x14\\xa1\\xb1B#\\xc1R\\xd1\\xf03$b\\xe1r\\x82\\x92CS\\x15cs4\\xf1%\\x06\\x16\\xa2\\xb2\\x83\\x07&5\\xc2\\xd2D\\x93T\\xa3\\x17dEU6te\\xe2\\xf2\\xb3\\x84\\xc3\\xd3u\\xe3\\xf3F\\x94\\xa4\\x85\\xb4\\x95\\xc4\\xd4\\xe4\\xf4\\xa5\\xb5\\xc5\\xd5\\xe5\\xf5Vfv\\x86\\x96\\xa6\\xb6\\xc6\\xd6\\xe6\\xf6\\'7GWgw\\x87\\x97\\xa7\\xb7\\xc7\\xff\\xda\\x00\\x0c\\x03\\x01\\x00\\x02\\x11\\x03\\x11\\x00?\\x00\\xf3*\\xf9\\x84p>j\\'\\x16\\xea\\xda\\x1cKH\\xee\\x01\\xd4|\\x8a+\\x1b#Q\\n\\x19Hn\\x0bs\\x1c$4\\x90!\\x9b\\x04\\x81\\xaf\\xf7#\\xd5E\\x97\\xbbi\\xd2\\xb7rO1\\xc4mMU;\\x84\\x85\\xbb\\x83\\xd37\\x969\\xba\\x8e\\xff\\x00\\x13\\xd9T\\xcd\\x98@[{\\x0e\\x13?$8\\x98\\xcd\\xa6@!\\xa24l\\x89\\x80\\xac\\x0cl{@.\\x82&c\\x89+Z\\xae\\x82\\xf7\\xbd\\xa7`\\xf5\\x01\\x04O\\x87\\xc9bug\\xe4\\xf4\\xdc\\xcb\\xf0\\xed\\xafm\\xcdsC-i!\\xae\\xad\\xc3\\xd6\\x0fmo\\x1f\\x9c\\xdff\\xfd\\xff\\x00\\xce*p\\xc9\\xee\\xc8\\x88\\x1fV\\xed\\x99\\x88\\xe3\\x00\\x1a\\xae\\xc9>\\xc1S\\x86\\xd2\\xc1\\xbcw\\x8e\\xdd\\xbf\\xf2+\\x9a\\xcc\\xa1\\xb4\\xe5[S\\\\\\xd7\\x06\\xb8\\xfd\\x0e\\x1b\\xaf\\xd0\\xfe\\xca\\xdc\\xb39\\xad\\xc6\\x176\\xc7K\\x1b\\xa5n\\x92\\x0c\\xfeb\\xc6\\xc8y\\xbe\\xd3lm\\x06\\x00\\x130\\x07\\xfd\\x15o\\x95\\x13\\x06FGM\\xbf\\xc2jsf\\x12\\x8c@\\xf9\\xb7\\xff\\x00\\x05\\xaaB\\x89\\x08\\xc5\\xaa\\x04+\\x80\\xb4LQ\\x10\\x98\\xa9\\x90\\xa2S\\x82\\xc2\\x18\\xa6NS\\x14V\\x95\\x93\\'L\\x8a\\xd2\\xff\\x00\\xff\\xd0\\xe1\\xacxs5l8\\x98\\x9e\\xdf\\xea\\xe5\\x18\\x1bL\\x8dG*T\\x86\\xfa;\\xc0\\xd4\\xe9\\x1f\\x95F\\xc6\\xe4:[\\x8e\\xc0\\xf2\\xd3%\\x83\\xf9\\xcd9\\x1b\\x15!\\xbdmG\\xa9u\\x8e\\xd7\\xbd\\x8e\\x82\\xd7\\xc7\\xb1\\x82\\x01w\\x1a\\xfc\\'\\xc1t]/9\\xb4\\xed\\x82\\xd7Ik`\\x98\\x991\\xcf\\xe6\\xaeF\\x97\\x80\\xf0\\xe2`\\x13\\xaf\\xc0\\xad|\\\\r\\xfa\\xea\\x06\\x1eA\\x977\\x90t\\xfc\\xf5\\x175\\x8a$z\\x8e\\x8b\\xf9L\\xd2:\\x00\\xfa\\r}N\\xbc|\\x7f^\\xf7\\xb7\\x1e\\xa0v\\x9b,\\xd0\\x03\\xf9\\xbb\\xac>\\xdd\\x8f\\xfc\\xc5\\xc6}jwO\\xca\\xeb_l\\xc2\\xcefc\\xf2[9!\\x80\\xec\\xa9\\xcd\\x00V\\xca\\xec\\xda\\xda\\x9f[\\xea\\xfe]\\xb6\\xfa\\x95\\xfe\\x99\\x13;3\\xaa]\\xd3\\xc7O\\xc5e\\x8f\\xaa\\xf7~\\xb0\\xca\\xab\\xde\\xe2\\xd6\\xea\\xca\\\\\\xf6\\xfe\\x91\\xad{\\xdb\\xeec?\\x9dg\\xfa?\\xf0\\x994\\xd7\\xba\\x0f\"\\x7f\\x11\\xe2\\x15nW\\x0f\\xb7y\\x0c\\xb5\\xd6<#\\xf7\\x7f\\xac\\xbf\\x98<S\\xe1\\xe1\\xaa\\xa3\\x7f\\xbc\\xdc\\xc3\\xae\\xbbZj{\\x03\\xb4\\xd5\\xbe \\xfepU\\xba\\x85\\x143\"*\\x0e\\x05\\xc3s\\xdaD\\x00~\\x88\\xd9\\xff\\x00~Z\\xbd6\\xd1@p\\xbc\\x13U\\x86C\\x80\\x04\\x83\\xf9\\xc5\\xdf\\x9c\\xe5\\xb3\\x93\\xf5m\\xddc\\x1a\\xb7`\\xda&\\xa9\\xd86\\x87\\x07\\x13\\xf9\\x969\\xbf\\xa5g\\xfa\\xfe\\x8d\\x13\\x9f\\xdb\\xcb\\xea\\xb1\\x03\\xd7\\xf4WK\\x18\\x96.\\x96;\\xe8\\xf0\\x8f\\xae\\x10\\\\\\xd5\\xaf\\xd4:ff\\x05\\xee\\xc7\\xcc\\xa5\\xd4\\\\\\xc3\\x05\\xa7Pb5\\xae\\xcf\\xa1k=\\xdfM\\xab2\\xc6\\xc4\\xab\\xd8\\xf2\\t\\x0b\\x06\\xc1\\xec\\xd2\\xc9\\nk8(\\x10\\x8a\\xe0\\x86T\\xe1\\xaf \\xc0\\xa6)\\xcab\\x9c\\x18\\xca\\xca*I\\x8a+K\\xff\\xd1\\xe00\\xef\\xaa\\xb3\\x16\\x1dO\\xd2o<p\\xd3\\xfd\\xa5p\\xb9\\x96\\xd6m\\xa4\\x07<\\xe8u\\x80DG\\xbf\\xf7\\xbf\\xf2hVu\\x0e\\xb4p\\x9f\\x94\\xcb,v\\x1dV\\xd7MyM{\\xdaYg\\xa6\\xe6\\xb6\\xba\\xdd\\xb9\\x96?n?\\xadW\\xbd\\x9e\\x9d,\\xb7\\xf4\\x7fg\\xfbO\\xe93\\xd9\\x9d`.6\\x12\\xe785\\xbb\\x81\\x1a\\x06\\xedh\\xf6\\x96\\xfb\\xb6\\xd4\\xdd\\x95\\xff\\x007\\xb1T8\\xa5\"e\\xa0>w\\xf4t!\\xcc\\xc6 D\\x82c\\xd3\\xd3R\\xf3t\\xaa\\xaa\\x9b\\xec\\x0e\\x8d\\xc1\\xac\\x86\\xb1\\xf2\\x00\\xfeK\\x1a\\xcf\\xcd\\xfc\\xf5\\xab\\xd2q\\x81\\xa8\\x17\\xbams\\x83C \\xce\\x9fI\\xfa.o\\xf6\\x85\\x96<\\x1c\\x82\\\\\\x1b[\\x98\\xc8\\x1a\\x88\\x0e4\\x8f\\xa4\\xdf\\xf0\\x8e\\xf7\\xd8\\xff\\x00R\\xcf\\xf8\\xd5\\xa1\\x87\\xd63\\x86-\\xd76\\xc6\\xb4\\xd4!\\xd6\\x12\\xd3d\\xb9\\xaef;1\\xb1M\\xb5z\\xbb-k]~Kw\\xfa?\\xe8\\xbf\\xc1]\\x16l\\x19\\x0ch\\x106\\xdc\\xb3a\\xe6\\xf0\\xc6VD\\xba\\xec\\x1fB\\xe9}/\\x1d\\xada\\'\\xd3&\\x0b,\\x83\\xcfw\\x0f\\xe45\\xc9}h\\xfa\\xb4\\xd7\\xe5U\\x93\\x8a\\xd7\\xe5\\xf5N\\xa3s\\xac\\xbd\\xb5\\x07\\x16\\x8a\\x99[j\\xf61\\x83\\xd0\\xae\\xb6Y\\xe8~\\x9a\\xdf\\xd3Y\\xfb\\xff\\x00\\xce.r\\xaf\\xae\\x9dK\\xa2\\x06V\\xc6\\xe3\\xe6\\xbb\\xd2a\\xb3!\\xb2Xm\\x96\\xba\\xfa[s\\x1e\\xe6\\xe4m\\xa9\\xcd\\xf5\\xac\\xad\\xbf\\xa3\\xc9\\xff\\x00\\x82[\\x98_\\xe3\\x8d\\xa2\\xbb~\\xd7\\xd3\\x80w\\xb7\\xd0mv@\\'\\x8b}{lo\\xb7\\xf7\\xab\\xf4\\xa9\\xb3\\xf7\\x15,\\x1c\\xa6a\\x93\\x8aF\\xa0t\\xe3\\x8f\\xeb8\\xaf\\xfa\\xb6\\xbf?3\\xc58\\x98\\x01.\\x1b\\xf4K\\xf5\\x7f7\\x8c\\xe3\\xff\\x00v\\xe7\\xbf\\xa4\\xe4\\xe39\\xcd\\xb2\\xa72\\xca\\xc9k\\xdaF\\xa1\\xc3\\xb1]_\\xd4l{\\xabk\\x85\\xb0\\xd6{\\xb6\\xd6gt\\x92\\xd9{\\x83\\x83v\\x7f\\xdf\\xd7=\\xd6\\x7f\\xc6\\x8e\\x06`\\x1fg\\xe9`\\xd9-\\x06\\xdbm\\rw\\xa6\\x0b]mm\\xf4C\\xdd\\xfaO\\xd2\\xd7\\xbfw\\xe8\\xbf\\x9cT\\xbf\\xf1\\xc8/\\xa9\\xdbq\\xaf\\xa1\\xedd5\\x95e\\x173t\\xb7n\\xd0\\xe6\\xb6\\xfa\\xab\\xdb\\xbb\\xd4\\xf4\\xfdO\\xf0l\\xff\\x00\\x08\\x8c\\xf9l\\xdc@\\x88\\x8c\\x98\\xc4\\x84\\xbft\\xca1\\x96\\xd2\\x86N\\x1f\\x99R\\xcb\\x19\\xe3\\xe0?\\xab\\x9c\\xc5\\x1f\\xd3\\x8c|\\xb8\\x1e\\xb7\\xeb\\xf7\\xd5\\xcar0\\x9f\\xd4C\\xac\\xb3*\\xa6\\xed\\xa1\\xb2v4N\\xf71\\xb4\\xd7[\\x9b\\xfa_\\xdf\\xb5\\xff\\x00\\xdb^[wO\\xca\\x0f-u60\\xff\\x00)\\xb1\\xcf\\xd1\\x9f\\xeb-\\xdc\\x8f\\xad\\x9fZn\\xc0\\xfbM\\x94\\xe5:\\xa7\\x1ffP7\\x8ab[]\\x95\\xc4\\xfaO\\xddg\\xb3\\x7f\\xd3\\xaf\\xd4X/\\xeb\\x1dF\\xea\\xf6\\xb9\\xb6\\x16\\x86Y\\xb9\\xc3|\\xb8\\x01\\xfaK]\\xeec7\\xe2\\xff\\x00\\xa4g\\xfd{\\xd6V1\\xc3 \\x94\\xb8#\\x18c\\x06\\x84L\\xb8\\x8c4\\xf5 \\x0cq\\xc6#\\x92R\\x9c\\x87X\\xc6\\xb4\\xf9x\\x7f\\xc1AgK\\xca\\xd8\\x1c\\x04\\x92$\\xb7@G\\xf9\\xc5T\\xb7\\x1a\\xe68\\xb4\\x80H\\x12`\\x8f\\r\\xfe_E\\x16\\xcc\\xae\\xa3f\\xae.3\\xa4@\\x8f\\r\\x1b\\xf9\\xaa\\x95\\x8ey\\xf7?\\xdc<\\xf5\\xef\\xe4\\xaec\\x13\\xfd#\\x13\\xe4\\xd5\\xccq~\\x8cr\\x0f\\xefl\\xcc\\xd5f\\xc3f\\xdfh\\x1b\\x89\\xd3F\\x92\\x1b\\xbfl\\xef\\xd9\\xb9\\xdbw)7\\x1e\\xa2\\xc7z\\x97\\xb2\\xbb\\x00a\\xad\\xbfH9\\xae\\x1b\\xdc\\xe7[Qsk\\xf4\\xd9\\xfe\\x0b\\xf9\\xfd\\xff\\x00\\xa1\\xf4\\xfdTc\\x93\\x93K3(u\\xf4T\\xed\\xef\\x16\\xd4+n\\xe7\\xb8\\x9fJ\\xc6\\xe3\\xd9M\\x0fmm\\xdb\\xbf\\xd3\\xfd-4\\xb2\\xaf[\\xd2\\xfe{\\xf4\\xb6GS\\xcd\\x17S\\x1d_f\\xc85\\xddG\\xa8\\xc2\\xc2\\xed>\\x88f>\\xc7~\\x89\\x9e\\xbb\\xd9\\xea\\x7f\\x81\\xfes\\xfc\\x1b\\xb8\\xa5\\xd8\\x1d\\xf5\\x1c_\\xf7\\xac\\\\1&\\xae\\x8d\\xd5\\x13\\x1f\\xfb\\xe8\\xb9\\xc3\\x16\\xeb\\x0f\\xe8\\x9b\\xea\\xb7qc\\\\\\xce\\x1c@\\xdd\\x15\\xb5\\xdb_\\xeeo\\xe6m\\xf5\\x14\\xa9\\xe9\\xddC \\x81F-\\xd7Kw\\x8fM\\x85\\xfe\\xd3\\xf4]\\xecZ7\\xdd}\\x98\\x8e\\xb3\\xf6\\x9d\\xd7bN=v\\x07\\xed\\x0467U\\xb6\\x93\\x90\\xfb_v+\\x98\\xff\\x00k?G\\xb3\\xfe\\xd5\\x7f\\x82P\\xb76\\xefE\\xa7#.\\xeb7Y\\xb8Xo\\xf5\"\\xe6\\x166\\xdb\\x19\\x89U\\xad};\\x18\\xff\\x00\\xd5\\xef\\xb7\\xfaO\\xd9\\x7fE\\xfb\\x947\\xdc\\x99\\xd8\\x0f\\xb2_\\xfa\\x02}\\xb8\\x0f\\x98\\x91\\xf5\\x8d\\x7f\\xdd\\xbf\\xff\\xd2\\xf3\\xa6\\xe0[\\xfb5\\xfdC\\xd4\\xafew3\\x1f\\xd1\\x05\\xa6\\xc2\\xe71\\xf9\\x1b\\xfd/\\xa5\\xe8V\\xca\\xff\\x00\\x9cw\\xf8_\\xfa\\xe7\\xa7]\\xf8\\xf9\\x0c~\\xc7\\xd4\\xf6>\\x01\\xda\\xe1\\xb4\\xc1\\x1b\\xda}\\xdbv\\xeec\\xb7\\xa33%\\x82\\x9fCy\\xd8\\\\\\x1f\\xe9\\x89-.\\x03f\\xfd\\x9fGv\\xdfb\\x9d\\xaf\\xcb\\xca\\xb5\\xef&\\xdbmw\\xba\\xc7:\\\\\\xe3\\xf9\\xbb\\xac\\xb1\\xe7{\\x94\"R\\x04\\xdd\\x0f6\\xcf\\x04H\\x14L\\xbc#\\xabU\\xb4\\xb8\\x90\\t\\r\\x9f\\x13:\\x7fei\\xe0t\\xaa\\xaf\\xc5\\xb4\\xd9\\xbb\\xd6qh\\xa2\\xd0G\\xa6\\xc7~\\x93p\\xb1\\xae\\xdb\\xbb\\xd4w\\xd9\\x9b\\xeao\\xd9M_h\\xb3\\xfd\\x1a\\xce5\\xbe\\xb0C\\xc6\\xdf\"D\\x95b\\x8e\\xa2hikH\\x02t\\x10\\xe7\\x1d;\\xfd*\\xda\\x86N3\\x1fA\\xd6\\xd7a\\x18\\x84\\xbfZ:\\x1d\\xcd=\\xad\\x1fT>\\xae\\xddk\\xab\\xae\\xbb#el63#{E\\x8d\\'\\xd5\\xba\\xab\\xbd*\\xbdl|\\x96\\x8fg\\xe8\\x7f\\xe1?D\\xb5\\xed\\xe8\\x1fQ\\xfe\\xaeR/\\xce\\xc3\\xb33\\x1b<\\x9a\\xdbk\\x9f\\xea\\xbe\\xa2\\x06\\xef\\xd1\\xb4zO\\xad\\xaek}OY\\xbf\\xa5\\xff\\x00\\x06\\xb8\\x0c\\x7f\\xac\\xf9\\xb4\\xb8\\xfb\\xf7V\\x1b\\x01\\x81\\x8df\\xe3\\xe0\\xfb7>\\xc6\\xb5\\x9f\\xf0n\\xf7\\xa1\\xf5/\\xac\\xbdK\\xa8<\\x9b\\x1c\\x19W\\xa8ne\\r\\x1e\\xc68\\xb0Q\\xfa9\\xdc\\xef\\xe6\\xff\\x00\\xe9\\xfb\\xd5\\x0f\\xbbs\\x92\\xc9\\xea\\xca}\\xbd\\xfeo\\xb25&\\xd6L\\xdc\\xa0\\x8cL\\x05\\x11\\xa1\\xa8\\xf0\\xcb\\xfb\\xdcpz^\\xa8>\\xac_e\\x83\\xa6`\\xec\\xa1\\xed\\xa9\\x8cu\\x86\\x084\\x1d/\\xa9\\xb5\\xc7\\xbf6\\xa6\\xed\\xcc\\xf5\\xbfI\\xff\\x00\\\\[?\\xe2\\xeb+\\x1d\\xddJ\\xccs\\x83Mc\\n\\xb2\\x05\\xech.\\xf7<\\xd96Iu\\xbb\\x9e\\xefo\\xa9\\xff\\x00\\x07\\xe8\\xfau\\xfa_\\xa4\\xf3Vu,\\x96Tkn\\xd8<\\x128\\x91\\xae\\xddv\\xff\\x00)\\n\\xac\\xab\\xeay\\xb1\\x96=\\x8f\"\\x0b\\xda\\xe74\\x90u-\\xdc\\xd3\\xf4T\\xd3\\xe4\\xa7(\\xca<]A\\x85\\xdc\\xb5\\x1f\\xd5c<\\xd6:\\x11\\x00\\x80A\\x8c\\xbe\\xbe/\\xad\\x7f\\x8c_\\xad\\xef\\xa2\\x96tz\\xaak-\\xbf\\xdf\\xf6\\x878CEo\\x0e\\xf6W\\xfe\\x95\\xdb+\\xf4\\xfdE\\xe6\\xce\\xea\\x19%\\xaf`\\xb0X\\xcd\\x962\\x1f\\xb5\\xdb[d:\\xf7U\\xbf\\xf9\\xb7\\xbfg\\xf3\\x95\\xfe\\x93\\xf3\\x16[\\xeds\\xce\\xe2I<\\x92I&\\x7f\\xb4\\xa2L\\x85..W\\x84\\\\\\xcf\\x1eIk9\\x91\\xf3\\x1f\\x93\\xff\\x00I\\xfa\\x18\\x8f2\\x00\\xe0\\x80\\xe1\\x80\\xe9\\x7fl\\xbf\\xc6l\\xbf1\\xeen\\xc9;@\\x8d\\x072\\xa1\\x97\\x99\\x91\\x97{\\xb22-u\\xd7Y\\xab\\xed\\xb0\\x97=\\xc66\\xfb\\x9d\\xfdT\\x03\\xcaZ\\xab\\x02\\x11\\x1b\\x06\\td\\x9c\\xb7%%\\xec\\xc5k)4Z\\xeb\\x1c\\xf6M\\xcd{6l|\\xeb[\\x1d\\xbe\\xcfU\\xbf\\xf0\\x9f\\xa3B\\x94\\xfa\\xff\\x00zG\\x9d5\\x1d\\xbcS\\x98\\xd4\\x1d\\x1d\\x81\\xf8\\xa4^Kv\\xc0\\xd0\\xcc\\xc6\\xbf\\xe7&K\\xb2T\\x9b/\\xff\\xd3\\xf2\\xe6]k>\\x83\\xdc\\xd9\\xe7i#\\xf2&{\\x9c\\xf7\\x17<\\x97\\x13\\xc9$\\x92\\xa2\\x9d\\n\\x1b\\xae\\xe25Vk\\xb2\\x81\\x8e\\x12\\x92\\x92H\\xa1R\\x92\\xb1Kq~\\xcd{\\xae\\x16\\x1b\\xa1\\xa3\\x1fn\\xd0\\xc0w\\x0fU\\xd7\\xee\\xf7\\xbb\\xf4^\\xda\\xab\\xab\\xfc\\'\\xbf\\xfc\\x1e\\xcbA\\x08Zh\\xe8\\xca\\x9a\\xad\\xbe\\xd6SK\\x1dm\\xb682\\xba\\xd8\\x0b\\x9c\\xe78\\xedc\\x18\\xc6\\xfb\\x9e\\xf7\\xb9F\\x02\\x93H\\r~\\x80\\xc8\\x89<\\x8dF\\xa1(&\\x03A$\\xf1\\xa4I(Zi\\x8c\\x13\\xf9~\\xe4\\x95\\xba\\xb0n\\xbbw\\xa7\\x07l\\xb47\\xdcI#\\xe9F\\xc6\\x94\\xbff\\xe4\\x81a\\xb0\\n\\x8dl\\xf5\\x08y\\r1\\xee\\x8fi\\xf7?~\\xcff\\xc4\\xdfr;\\x12\\x17\\xfb9\\r\\x11\\x12Z\\x9f)M\\xa2t\\xe0@\\xdc\\xe9-2\\x04\\x18\\xd6?\\xda\\x9e\\xc6\\xc7D\\x93\\x9f\\xc16\\x89!I%\\xa2H\\xa9\\xff\\xd4\\xf2\\xb5k;\\xd4\\xddO\\xa9\\xe8\\xc7\\xa3^\\xcf\\xb3\\xec\\x8d\\xbb\\x7f\\xc3z?\\xf6\\xab\\xfe\\xe4z\\xff\\x00\\xa7\\xf5?\\xb0\\xaa$\\x87Q\\xf5\\\\6,\\xbb\\xa4\\xa2\\x92HK\\xee\\xf4\\xc7\\xee\\xcf\\xe2\\x9e\\xafB\\x7fK\\xbe?\\x93\\x08) v;\\xfd\\x17\\xc7\\xe6\\x1bt\\xf9\\xfeW_\\x1b\\xec\\x7f\\xe0\\xbd\\x1d\\xdd\\xa6w\\xff\\x00\\xe0\\xfe\\xdf\\xf3\\x11\\x1d\\xf6\\x0f\\xb4\\xd7\\xf6\\xbd\\xdb\\xe7Y\\x9f\\x0f\\xd1O\\xa7\\xef\\xfak\\x11%T\\xfc\\xc7\\xe7\\xd8\\xff\\x00\\xb4tc\\xf2\\x0f\\xe6\\xb7\\x1f\\xec]\\xfc\\x8f\\xb4\\xfa\\x1f\\xaaz>\\x96\\xe3>\\x94\\xef\\x99\\xff\\x00\\x84\\xfdcj\\xcc\\xb7\\xd5\\x97o\\xdd\\xf9\\xde>\\x1e\\xef\\xa5\\xee\\xfe\\xb2\\xa6\\x92v\\x1e\\xbb\\x7f\\xdd\\xff\\x00\\x87\\xfdf>g\\xa7\\xcd\\xd3\\xfd\\x9f\\xf8\\x1f\\xd5f6\\xf7Rw\\xa5\\xb1\\xb1\\xbb\\xd4\\x93\\xbaclCco\\xf6\\xfdD$\\x95\\x97=\\x92Z\\xa8\\xa4\\x8a\\x99\\x18\\x81\\x1c\\xf7\\x9f\\xe0\\x97e\\x14\\x90S\\xff\\xd98BIM\\x04!\\x00\\x00\\x00\\x00\\x00U\\x00\\x00\\x00\\x01\\x01\\x00\\x00\\x00\\x0f\\x00A\\x00d\\x00o\\x00b\\x00e\\x00 \\x00P\\x00h\\x00o\\x00t\\x00o\\x00s\\x00h\\x00o\\x00p\\x00\\x00\\x00\\x13\\x00A\\x00d\\x00o\\x00b\\x00e\\x00 \\x00P\\x00h\\x00o\\x00t\\x00o\\x00s\\x00h\\x00o\\x00p\\x00 \\x007\\x00.\\x000\\x00\\x00\\x00\\x01\\x00',),\n",
       " 'StripOffsets': (18096,),\n",
       " 'SamplesPerPixel': (3,),\n",
       " 'RowsPerStrip': (1312,),\n",
       " 'StripByteCounts': (15744000,),\n",
       " 'XResolution': ((3000000, 10000),),\n",
       " 'YResolution': ((3000000, 10000),),\n",
       " 'PlanarConfiguration': (1,),\n",
       " 'ResolutionUnit': (2,),\n",
       " 'ExifIFD': (15762096,),\n",
       " 'Software': ('Adobe Photoshop 7.0',),\n",
       " 'DateTime': ('2003:03:22 12:16:17',),\n",
       " 'ICCProfile': b'\\x00\\x00\\x01\\xe0NKON\\x02 \\x00\\x00mntrRGB XYZ \\x07\\xcf\\x00\\x0c\\x00\\x08\\x00\\x0e\\x00(\\x00\\x1eacspAPPL\\x00\\x00\\x00\\x00none\\x00\\x00\\x00\\x01\\x00\\x00\\x00\\x00\\x00\\x00\\x00\\x00\\x00\\x00\\x00\\x00\\x00\\x00\\xf6\\xd6\\x00\\x01\\x00\\x00\\x00\\x00\\xd3-\\x00\\x00\\x00\\x00\\x00\\x00\\x00\\x00\\x00\\x00\\x00\\x00\\x00\\x00\\x00\\x00\\x00\\x00\\x00\\x00\\x00\\x00\\x00\\x00\\x00\\x00\\x00\\x00\\x00\\x00\\x00\\x00\\x00\\x00\\x00\\x00\\x00\\x00\\x00\\x00\\x00\\x00\\x00\\x00\\x00\\x00\\x00\\x00\\x00\\x00\\x00\\tdesc\\x00\\x00\\x00\\xf0\\x00\\x00\\x00CrXYZ\\x00\\x00\\x014\\x00\\x00\\x00\\x14gXYZ\\x00\\x00\\x01H\\x00\\x00\\x00\\x14bXYZ\\x00\\x00\\x01\\\\\\x00\\x00\\x00\\x14rTRC\\x00\\x00\\x01p\\x00\\x00\\x00\\x0egTRC\\x00\\x00\\x01\\x80\\x00\\x00\\x00\\x0ebTRC\\x00\\x00\\x01\\x90\\x00\\x00\\x00\\x0ewtpt\\x00\\x00\\x01\\xa0\\x00\\x00\\x00\\x14cprt\\x00\\x00\\x01\\xb4\\x00\\x00\\x00,desc\\x00\\x00\\x00\\x00\\x00\\x00\\x00\\x16Nikon sRGB 4.0.0.3000\\x00\\x00\\x00\\x00\\x00\\x00\\x00\\x00\\x00\\x00\\x00\\x16Nikon sRGB 4.0.0.3000\\x00\\x00XYZ \\x00\\x00\\x00\\x00\\x00\\x00o\\xa2\\x00\\x008\\xf6\\x00\\x00\\x03\\x90XYZ \\x00\\x00\\x00\\x00\\x00\\x00b\\x94\\x00\\x00\\xb7\\x85\\x00\\x00\\x18\\xd9XYZ \\x00\\x00\\x00\\x00\\x00\\x00$\\x9f\\x00\\x00\\x0f\\x84\\x00\\x00\\xb6\\xc8curv\\x00\\x00\\x00\\x00\\x00\\x00\\x00\\x01\\x023\\x00\\x00curv\\x00\\x00\\x00\\x00\\x00\\x00\\x00\\x01\\x023\\x00\\x00curv\\x00\\x00\\x00\\x00\\x00\\x00\\x00\\x01\\x023\\x00\\x00XYZ \\x00\\x00\\x00\\x00\\x00\\x00\\xf3T\\x00\\x01\\x00\\x00\\x00\\x01\\x16\\xcftext\\x00\\x00\\x00\\x00Nikon Inc. & Nikon Corporation 2001\\x00',\n",
       " 'XMP': (b'<?xpacket begin=\\'\\xef\\xbb\\xbf\\' id=\\'W5M0MpCehiHzreSzNTczkc9d\\'?>\\n<?adobe-xap-filters esc=\"CR\"?>\\n<x:xapmeta xmlns:x=\\'adobe:ns:meta/\\' x:xaptk=\\'XMP toolkit 2.8.2-33, framework 1.5\\'>\\n<rdf:RDF xmlns:rdf=\\'http://www.w3.org/1999/02/22-rdf-syntax-ns#\\' xmlns:iX=\\'http://ns.adobe.com/iX/1.0/\\'>\\n\\n <rdf:Description about=\\'uuid:3c9ad561-5df2-11d7-818b-96dac26cff60\\'\\n  xmlns:xapMM=\\'http://ns.adobe.com/xap/1.0/mm/\\'>\\n  <xapMM:DocumentID>adobe:docid:photoshop:212b550f-5df1-11d7-818b-96dac26cff60</xapMM:DocumentID>\\n </rdf:Description>\\n\\n</rdf:RDF>\\n</x:xapmeta>\\n                                                                                                    \\n                                                                                                    \\n                                                                                                    \\n                                                                                                    \\n                                                                                                    \\n                                                                                                    \\n                                                                                                    \\n                                                                                                    \\n                                                                                                    \\n                                                                                                    \\n                                                                                                    \\n                                                                                                    \\n                                                                                                    \\n                                                                                                    \\n                                                                                                    \\n                                                                                                    \\n                                                                                                    \\n                                                                                                    \\n                                                                                                    \\n                                                                                                    \\n                                                                                                    \\n                                                                                                    \\n                                                                                                    \\n                                                                                                    \\n                                                                                                    \\n                                                                                                    \\n                                                                                                    \\n                                                                                                    \\n                                                                                                    \\n                                                                                                    \\n                                                                                                    \\n                                                                                                    \\n                                                                                                    \\n                                                                                                    \\n                                                                                                    \\n                                                                                                    \\n                                                                                                    \\n                                                                                                    \\n                                                                                                    \\n                                                                                                    \\n                                                       \\n<?xpacket end=\\'w\\'?>',),\n",
       " 'NewSubfileType': (0,)}"
      ]
     },
     "execution_count": 140,
     "metadata": {},
     "output_type": "execute_result"
    }
   ],
   "source": [
    "meta_dict"
   ]
  },
  {
   "cell_type": "code",
   "execution_count": 90,
   "metadata": {},
   "outputs": [
    {
     "name": "stderr",
     "output_type": "stream",
     "text": [
      "Marker scan hit start of image data\n"
     ]
    },
    {
     "name": "stdout",
     "output_type": "stream",
     "text": [
      "key: date created, info: D\n",
      "\n",
      "key: time created, info: T\n",
      "\n",
      "key: copyright notice, info: Spanner\n",
      "\n",
      "key: custom1, info: submitted\n",
      "\n"
     ]
    }
   ],
   "source": [
    "get_IPTC_data(test_imgRawNjpg)"
   ]
  },
  {
   "cell_type": "code",
   "execution_count": null,
   "metadata": {},
   "outputs": [],
   "source": []
  },
  {
   "cell_type": "code",
   "execution_count": null,
   "metadata": {},
   "outputs": [],
   "source": []
  },
  {
   "cell_type": "code",
   "execution_count": 48,
   "metadata": {},
   "outputs": [
    {
     "name": "stderr",
     "output_type": "stream",
     "text": [
      "Marker scan hit start of image data\n"
     ]
    }
   ],
   "source": [
    "info = IPTCInfo(test_imgRaw2, force=True, inp_charset='utf8')"
   ]
  },
  {
   "cell_type": "code",
   "execution_count": null,
   "metadata": {},
   "outputs": [],
   "source": []
  },
  {
   "cell_type": "code",
   "execution_count": 41,
   "metadata": {},
   "outputs": [
    {
     "name": "stdout",
     "output_type": "stream",
     "text": [
      "Object `image.convert` not found.\n"
     ]
    }
   ],
   "source": [
    "image.convert?"
   ]
  },
  {
   "cell_type": "code",
   "execution_count": null,
   "metadata": {},
   "outputs": [],
   "source": []
  },
  {
   "cell_type": "code",
   "execution_count": null,
   "metadata": {},
   "outputs": [],
   "source": []
  },
  {
   "cell_type": "code",
   "execution_count": 50,
   "metadata": {},
   "outputs": [
    {
     "name": "stdout",
     "output_type": "stream",
     "text": [
      "date of image: 20030322\n",
      "time of image: 171903\n"
     ]
    }
   ],
   "source": [
    "# Open the image and access the metadate. Use regex to extract date:\n",
    "image = Image.open(test_imgRaw) \n",
    "txt = str(image.info['exif']) # exif are mostly JPEG - what is I convert myself?\n",
    "\n",
    "r = '[\\d]{4}:[\\d]{2}:[\\d]{2} [\\d]{2}:[\\d]{2}:[\\d]{2}'# time and, date. but is this robust? we will find out.\n",
    "\n",
    "data, time = re.search(r, txt).group().replace(':','').split(' ')\n",
    "\n",
    "# data, time = date_timedata, time\n",
    "\n",
    "print(f'date of image: {date}\\ntime of image: {time}')"
   ]
  },
  {
   "cell_type": "code",
   "execution_count": null,
   "metadata": {},
   "outputs": [],
   "source": []
  },
  {
   "cell_type": "code",
   "execution_count": null,
   "metadata": {},
   "outputs": [],
   "source": []
  },
  {
   "cell_type": "code",
   "execution_count": null,
   "metadata": {},
   "outputs": [],
   "source": []
  },
  {
   "cell_type": "code",
   "execution_count": 40,
   "metadata": {},
   "outputs": [
    {
     "data": {
      "text/plain": [
       "'b\\'Exif\\\\x00\\\\x00MM\\\\x00*\\\\x00\\\\x00\\\\x00\\\\x08\\\\x00\\\\x07\\\\x01\\\\x12\\\\x00\\\\x03\\\\x00\\\\x00\\\\x00\\\\x01\\\\x00\\\\x01\\\\x00\\\\x00\\\\x01\\\\x1a\\\\x00\\\\x05\\\\x00\\\\x00\\\\x00\\\\x01\\\\x00\\\\x00\\\\x00b\\\\x01\\\\x1b\\\\x00\\\\x05\\\\x00\\\\x00\\\\x00\\\\x01\\\\x00\\\\x00\\\\x00j\\\\x01(\\\\x00\\\\x03\\\\x00\\\\x00\\\\x00\\\\x01\\\\x00\\\\x02\\\\x00\\\\x00\\\\x011\\\\x00\\\\x02\\\\x00\\\\x00\\\\x00\\\\x14\\\\x00\\\\x00\\\\x00r\\\\x012\\\\x00\\\\x02\\\\x00\\\\x00\\\\x00\\\\x14\\\\x00\\\\x00\\\\x00\\\\x86\\\\x87i\\\\x00\\\\x04\\\\x00\\\\x00\\\\x00\\\\x01\\\\x00\\\\x00\\\\x00\\\\x9c\\\\x00\\\\x00\\\\x00\\\\xc8\\\\x00\\\\x00\\\\x00\\\\xc8\\\\x00\\\\x00\\\\x00\\\\x01\\\\x00\\\\x00\\\\x00\\\\xc8\\\\x00\\\\x00\\\\x00\\\\x01Adobe Photoshop 7.0\\\\x002003:03:22 17:19:03\\\\x00\\\\x00\\\\x00\\\\x00\\\\x03\\\\xa0\\\\x01\\\\x00\\\\x03\\\\x00\\\\x00\\\\x00\\\\x01\\\\xff\\\\xff\\\\x00\\\\x00\\\\xa0\\\\x02\\\\x00\\\\x04\\\\x00\\\\x00\\\\x00\\\\x01\\\\x00\\\\x00\\\\x02\\\\xfa\\\\xa0\\\\x03\\\\x00\\\\x04\\\\x00\\\\x00\\\\x00\\\\x01\\\\x00\\\\x00\\\\x01\\\\xf4\\\\x00\\\\x00\\\\x00\\\\x00\\\\x00\\\\x00\\\\x00\\\\x06\\\\x01\\\\x03\\\\x00\\\\x03\\\\x00\\\\x00\\\\x00\\\\x01\\\\x00\\\\x06\\\\x00\\\\x00\\\\x01\\\\x1a\\\\x00\\\\x05\\\\x00\\\\x00\\\\x00\\\\x01\\\\x00\\\\x00\\\\x01\\\\x16\\\\x01\\\\x1b\\\\x00\\\\x05\\\\x00\\\\x00\\\\x00\\\\x01\\\\x00\\\\x00\\\\x01\\\\x1e\\\\x01(\\\\x00\\\\x03\\\\x00\\\\x00\\\\x00\\\\x01\\\\x00\\\\x02\\\\x00\\\\x00\\\\x02\\\\x01\\\\x00\\\\x04\\\\x00\\\\x00\\\\x00\\\\x01\\\\x00\\\\x00\\\\x01&\\\\x02\\\\x02\\\\x00\\\\x04\\\\x00\\\\x00\\\\x00\\\\x01\\\\x00\\\\x00\\\\x10k\\\\x00\\\\x00\\\\x00\\\\x00\\\\x00\\\\x00\\\\x00H\\\\x00\\\\x00\\\\x00\\\\x01\\\\x00\\\\x00\\\\x00H\\\\x00\\\\x00\\\\x00\\\\x01\\\\xff\\\\xd8\\\\xff\\\\xe0\\\\x00\\\\x10JFIF\\\\x00\\\\x01\\\\x02\\\\x01\\\\x00H\\\\x00H\\\\x00\\\\x00\\\\xff\\\\xed\\\\x00\\\\x0cAdobe_CM\\\\x00\\\\x01\\\\xff\\\\xee\\\\x00\\\\x0eAdobe\\\\x00d\\\\x80\\\\x00\\\\x00\\\\x00\\\\x01\\\\xff\\\\xdb\\\\x00\\\\x84\\\\x00\\\\x0c\\\\x08\\\\x08\\\\x08\\\\t\\\\x08\\\\x0c\\\\t\\\\t\\\\x0c\\\\x11\\\\x0b\\\\n\\\\x0b\\\\x11\\\\x15\\\\x0f\\\\x0c\\\\x0c\\\\x0f\\\\x15\\\\x18\\\\x13\\\\x13\\\\x15\\\\x13\\\\x13\\\\x18\\\\x11\\\\x0c\\\\x0c\\\\x0c\\\\x0c\\\\x0c\\\\x0c\\\\x11\\\\x0c\\\\x0c\\\\x0c\\\\x0c\\\\x0c\\\\x0c\\\\x0c\\\\x0c\\\\x0c\\\\x0c\\\\x0c\\\\x0c\\\\x0c\\\\x0c\\\\x0c\\\\x0c\\\\x0c\\\\x0c\\\\x0c\\\\x0c\\\\x0c\\\\x0c\\\\x0c\\\\x0c\\\\x0c\\\\x0c\\\\x0c\\\\x0c\\\\x01\\\\r\\\\x0b\\\\x0b\\\\r\\\\x0e\\\\r\\\\x10\\\\x0e\\\\x0e\\\\x10\\\\x14\\\\x0e\\\\x0e\\\\x0e\\\\x14\\\\x14\\\\x0e\\\\x0e\\\\x0e\\\\x0e\\\\x14\\\\x11\\\\x0c\\\\x0c\\\\x0c\\\\x0c\\\\x0c\\\\x11\\\\x11\\\\x0c\\\\x0c\\\\x0c\\\\x0c\\\\x0c\\\\x0c\\\\x11\\\\x0c\\\\x0c\\\\x0c\\\\x0c\\\\x0c\\\\x0c\\\\x0c\\\\x0c\\\\x0c\\\\x0c\\\\x0c\\\\x0c\\\\x0c\\\\x0c\\\\x0c\\\\x0c\\\\x0c\\\\x0c\\\\x0c\\\\x0c\\\\x0c\\\\x0c\\\\x0c\\\\x0c\\\\x0c\\\\x0c\\\\x0c\\\\x0c\\\\xff\\\\xc0\\\\x00\\\\x11\\\\x08\\\\x00T\\\\x00\\\\x80\\\\x03\\\\x01\"\\\\x00\\\\x02\\\\x11\\\\x01\\\\x03\\\\x11\\\\x01\\\\xff\\\\xdd\\\\x00\\\\x04\\\\x00\\\\x08\\\\xff\\\\xc4\\\\x01?\\\\x00\\\\x00\\\\x01\\\\x05\\\\x01\\\\x01\\\\x01\\\\x01\\\\x01\\\\x01\\\\x00\\\\x00\\\\x00\\\\x00\\\\x00\\\\x00\\\\x00\\\\x03\\\\x00\\\\x01\\\\x02\\\\x04\\\\x05\\\\x06\\\\x07\\\\x08\\\\t\\\\n\\\\x0b\\\\x01\\\\x00\\\\x01\\\\x05\\\\x01\\\\x01\\\\x01\\\\x01\\\\x01\\\\x01\\\\x00\\\\x00\\\\x00\\\\x00\\\\x00\\\\x00\\\\x00\\\\x01\\\\x00\\\\x02\\\\x03\\\\x04\\\\x05\\\\x06\\\\x07\\\\x08\\\\t\\\\n\\\\x0b\\\\x10\\\\x00\\\\x01\\\\x04\\\\x01\\\\x03\\\\x02\\\\x04\\\\x02\\\\x05\\\\x07\\\\x06\\\\x08\\\\x05\\\\x03\\\\x0c3\\\\x01\\\\x00\\\\x02\\\\x11\\\\x03\\\\x04!\\\\x121\\\\x05AQa\\\\x13\"q\\\\x812\\\\x06\\\\x14\\\\x91\\\\xa1\\\\xb1B#$\\\\x15R\\\\xc1b34r\\\\x82\\\\xd1C\\\\x07%\\\\x92S\\\\xf0\\\\xe1\\\\xf1cs5\\\\x16\\\\xa2\\\\xb2\\\\x83&D\\\\x93TdE\\\\xc2\\\\xa3t6\\\\x17\\\\xd2U\\\\xe2e\\\\xf2\\\\xb3\\\\x84\\\\xc3\\\\xd3u\\\\xe3\\\\xf3F\\\\\\'\\\\x94\\\\xa4\\\\x85\\\\xb4\\\\x95\\\\xc4\\\\xd4\\\\xe4\\\\xf4\\\\xa5\\\\xb5\\\\xc5\\\\xd5\\\\xe5\\\\xf5Vfv\\\\x86\\\\x96\\\\xa6\\\\xb6\\\\xc6\\\\xd6\\\\xe6\\\\xf67GWgw\\\\x87\\\\x97\\\\xa7\\\\xb7\\\\xc7\\\\xd7\\\\xe7\\\\xf7\\\\x11\\\\x00\\\\x02\\\\x02\\\\x01\\\\x02\\\\x04\\\\x04\\\\x03\\\\x04\\\\x05\\\\x06\\\\x07\\\\x07\\\\x06\\\\x055\\\\x01\\\\x00\\\\x02\\\\x11\\\\x03!1\\\\x12\\\\x04AQaq\"\\\\x13\\\\x052\\\\x81\\\\x91\\\\x14\\\\xa1\\\\xb1B#\\\\xc1R\\\\xd1\\\\xf03$b\\\\xe1r\\\\x82\\\\x92CS\\\\x15cs4\\\\xf1%\\\\x06\\\\x16\\\\xa2\\\\xb2\\\\x83\\\\x07&5\\\\xc2\\\\xd2D\\\\x93T\\\\xa3\\\\x17dEU6te\\\\xe2\\\\xf2\\\\xb3\\\\x84\\\\xc3\\\\xd3u\\\\xe3\\\\xf3F\\\\x94\\\\xa4\\\\x85\\\\xb4\\\\x95\\\\xc4\\\\xd4\\\\xe4\\\\xf4\\\\xa5\\\\xb5\\\\xc5\\\\xd5\\\\xe5\\\\xf5Vfv\\\\x86\\\\x96\\\\xa6\\\\xb6\\\\xc6\\\\xd6\\\\xe6\\\\xf6\\\\\\'7GWgw\\\\x87\\\\x97\\\\xa7\\\\xb7\\\\xc7\\\\xff\\\\xda\\\\x00\\\\x0c\\\\x03\\\\x01\\\\x00\\\\x02\\\\x11\\\\x03\\\\x11\\\\x00?\\\\x00\\\\xef\\\\xba\\\\x87S\\\\xc75\\\\xb9\\\\xad|\\\\xc4\\\\x83\\\\xa4\\\\xb6\\\\x7f{\\\\xfa\\\\xcb&\\\\xce\\\\xa7\\\\xb8\\\\xec`i\\\\x04mt\\\\xb6]\\\\x07\\\\x9d\\\\x8e\\\\x95\\\\xcd?.\\\\xd9\\\\xd0\\\\xf9j\\\\xa5\\\\x8f{\\\\xc0\\\\xe7Y\\\\x94\\\\xe1\\\\x8e\\\\x96\\\\xf1\\\\xbd!\\\\xc5\\\\xc5\\\\xabfE\\\\xc0mp\\\\xdbmN 2\\\\x7f\\\\xe0\\\\xfd=\\\\x8e\\\\xf5\\\\x1c\\\\xdf\\\\xe6\\\\xde\\\\x87\\\\x8f\\\\xd4\\\\xfa]vm\\\\xc8\\\\xe9\\\\xb5\\\\x80\\\\x04KCl$~\\\\xf3\\\\x85\\\\xbf\\\\x9d\\\\xed\\\\xfd\\\\xefz\\\\xe7\\\\xf3s:\\\\xa8y\\\\xfb=\\\\x8dc1\\\\xeae\\\\x8c\\\\xad\\\\xc7W\\\\xd8\\\\xe7][\\\\xb7\\\\xeec\\\\x9a\\\\xf6:\\\\xb6lc7\\\\xfa\\\\x7f\\\\xf1o\\\\xfd*\\\\xba\\\\xfb+q!\\\\xa3@Io\\\\x88\\\\x9e\\\\xdb\\\\x91\\\\x04\\\\xea\\\\r\\\\xfd\\\\xaa\\\\xd3\\\\xa0v3\\\\xaa\\\\xe96b\\\\x1c\\\\xae\\\\x9c\\\\x1c\\\\x1c\\\\xdfs\\\\xd8\\\\xd2v\\\\x86\\\\x88\\\\xf5\\\\xbdJ\\\\x9eO\\\\xa3\\\\xe97\\\\xdf\\\\xec\\\\xff\\\\x00\\\\xc1\\\\x16evP\\\\xe3\\\\xee\\\\x12\\\\xc2>\\\\x93N\\\\xbf\\\\xf9\\\\x15s\\\\x0b\\\\\\'1\\\\x80\\\\x11[]L\\\\x00w\\\\x9d\\\\xa4\\\\x01\\\\xf4vX=\\\\xc8\\\\xbdG\\\\x1e\\\\xbc\\\\x8a\\\\xcd\\\\xd4\\\\x06\\\\x0b\\\\x01\\\\x1b\\\\xdcZ\\\\x1aKGfl\\\\r\\\\xddo\\\\xfa\\\\xfa\\\\x88\\\\x8c\\\\x87\\\\xe5$\\\\xf9\\\\xda\\\\x0c\\\\x06\\\\xe0\\\\x0f*r\\\\xad\\\\xf4\\\\xc6\\\\xad>\\\\xdeu\\\\xed\\\\xe4P\\\\t\\\\xf0:+.\\\\xb3\\\\x1b\\\\x1d\\\\xedqi.\\\\x827:\\\\x1d\\\\x07\\\\xf7\\\\xb6\\\\xc6\\\\xc6\\\\x7fU\\\\x0c\\\\xe4a\\\\xbfs\\\\xcdM\\\\x92\\\\t0\\\\x00\\\\xd4\\\\xf0\\\\xef\\\\xe4\\\\xff\\\\x00e;\\\\xdc\\\\xf0\\\\xbf\\\\x15\\\\xbe\\\\xdf\\\\x8dx!\\\\xdc\\\\xd0=\\\\xdf%\\\\x0fQ\\\\xa4\\\\xc0\\\\x13(F\\\\xc7\\\\xeaF\\\\x8d\\\\x1f\\\\x9d\\\\x1a\\\\x14\\\\xf5\\\\xdaK\\\\x8c\\\\xea#D\\\\xedOTm\\\\xd1(0\\\\xe9\\\\xec\\\\x11\\\\x83\\\\x98\\\\xe6\\\\xf0A\\\\xf1(#S\\\\xa2\\\\x96\\\\xa7\\\\xda>\\\\xe4$\\\\xa8\\\\xacx\\\\x89\\\\x983\\\\xa2i%\\\\x11\\\\xf5\\\\xbd\\\\xa3X#\\\\xc8\\\\xa0\\\\x99\\\\x051z\\\\xfb_\\\\xc9\\\\x1a$\\\\xf1\\\\xb8AH>\\\\x04r\\\\x98\\\\xb9\\\\xbd\\\\xcc\"\\\\xa7\\\\xff\\\\xd0\\\\x8d\\\\xa5\\\\xaeq-\\\\x80;4(\\\\xb1\\\\xc4p\\\\x84I\\\\x94V\\\\x91\\\\xb7U3\\\\x13\\\\x07d\\\\x96\\\\x9c\\\\xabr0\\\\xddp\\\\xab\\\\xf4u\\\\xdf\\\\xfb\\\\x95\\\\xfblw\\\\xa6\\\\xe6T\\\\xfb6__\\\\xe8\\\\xdf\\\\xb7\\\\xfc/\\\\xfaV~\\\\x85Ym\\\\xef\\\\x07\\\\xdd\\\\xedy\\\\xfaC\\\\xc0\\\\xfest\\\\xfd\\\\xd4\\\\x16\\\\x9bC\\\\xac{ci\\\\xb0k\\\\x07\\\\xe8\\\\xb5\\\\xb4\\\\xd6\\\\xe6\\\\x87\\\\xff\\\\x00\\\\xa4\\\\xdc\\\\xe4\\\\xee\\\\r\\\\xecP\\\\x00Y\\\\xdf\\\\xedW\\\\x15\\\\xed\\\\xd1\\\\xd2\\\\xa7\\\\xaa\\\\\\\\ \\\\x03\\\\x00h@\\\\xef\\\\x1f\\\\xca*\\\\xf1\\\\xeb\\\\xeesC\\\\\\\\$\\\\x00\\\\x07\\\\x1a\\\\xaevc\\\\x82\\\\x9b\\\\xd6\\\\x02I:6\\\\x03\\\\x8f`O\\\\xd1\\\\x0ew\\\\xd1n\\\\xe4\\\\x0c\\\\x01\\\\\\\\&[9\\\\x97\\\\xfa\\\\x96\\\\xb9\\\\xcd&\\\\x1cx*\\\\xae\\\\xe3\\\\xc6\\\\xb1\\\\xe0\\\\x99\\\\xcfQ/\\\\xd1<\\\\n[v\\\\xdb\\\\xab)\\\\xcdhi0\\\\xd0\"\\\\n%6Wk\\\\x9c,\\\\xdbS\\\\x88\\\\x1b\\\\x1f\\\\xa9\\\\x1f\\\\xca\\\\xf5!g\\\\x8b \"\\\\x0b\\\\x99$\\\\xc4;\\\\xe3\\\\xa2\\\\x15\\\\xd96\\\\xdb,\\\\x03t\\\\xfei\\\\x82ZA\\\\xfb\\\\x93\\\\xb2\\\\xc3:\\\\xea\\\\xde\\\\xdf\\\\xedU\\\\x0eC\\\\\\\\f \\\\xf8\\\\x0e\\\\x10\\\\xb22\\\\r5\\\\xd7\\\\x9a\\\\xd6\\\\xd8\\\\xf6b:r\\\\xe9\\\\xad\\\\xdfK\\\\x19\\\\xe0\\\\xb3\"\\\\xcfO\\\\xfc3\\\\xb0\\\\xedn>K\\\\x1b\\\\xfb\\\\x9e\\\\xbe\\\\xff\\\\x00\\\\xd1{\\\\xeaH\\\\xa7h\\\\x96l\\\\x04\\\\x99\\\\\\'\\\\xf2*\\\\xf6\\\\x1f2ag\\\\xe6\\\\xf5\\\\x96\\\\xe3\\\\x8cGc5\\\\x99\\\\xb5\\\\xe5\\\\xde(\\\\x16W`\\\\rl\\\\xed\\\\xd8\\\\xef\\\\xce\\\\xdb\\\\xeanv\\\\xcfW\\\\xd3\\\\xfej\\\\xd5z\\\\xfb\\\\x0e\\\\xf2\\\\x0c@1\\\\xa0\\\\xdb\\\\xff\\\\x00E5s\\\\x07:\\\\x14\\\\x0b\\\\xc9NG\\\\x82A\\\\x92\\\\x9c\\\\x87\\\\xff\\\\xd1\\\\xaaA\\\\xed\\\\xca%ZA:\\\\x80f\\\\x14wx)\\\\xb4\\\\x82D\\\\xf8\\\\xa9\\\\xad\\\\x8e\\\\x9a\\\\xf4U\\\\x9f\\\\xf6k)\\\\x17\\\\xfe\\\\x8d\\\\x84\\\\xb0\\\\xfb\\\\xa4\\\\xc6\\\\xff\\\\x00C\\\\xd5\\\\xd8\\\\xea}?S\\\\xf3\\\\x9dZ;\\\\xcf\\\\x82\\\\x856\\\\xec\\\\xa9\\\\xcd:\\\\x9b\\\\x1e\\\\xe2c\\\\xb48\\\\xdd\\\\xb9\\\\xfa~~\\\\xfd\\\\x9fO\\\\xd9\\\\xb3\\\\xfe\\\\x17\\\\xf4c\\\\xb6\\\\xe6O\\\\xb8\\\\xe9\\\\xde9\\\\x8e\\\\xe56 \\\\x0b\\\\xa1J&\\\\xfa\\\\xdbw\\\\x17\\\\x1b\\\\xd5\\\\x01\\\\xf6\\\\xc8\\\\xa8\\\\x91\\\\xc1\\\\x8d\\\\\\'\\\\xddc\\\\xdd\\\\xf4\\\\xdb[Y\\\\xbf\\\\xf9\\\\xa6\\\\xfa\\\\xb6-:\\\\xa8\\\\xbe\\\\xb6l\\\\x02\\\\xca\\\\xd8\\\\xd7\\\\x10\\\\xfa\\\\x1bc@4\\\\x10\\\\xd7~\\\\x92\\\\x97W\\\\xe8:\\\\xe6\\\\xb9\\\\xde\\\\x9d\\\\x9e\\\\xa7\\\\xe8\\\\xff\\\\x00G\\\\xfc\\\\xdf\\\\xe9j\\\\xbe\\\\xccl.\\\\xa7C\\\\xecc\\\\xe97\\\\xe5\\\\x16\\\\xcbEu\\\\x82\\\\xda\\\\xcb\\\\xc3\\\\x85\\\\xcd\\\\xb1\\\\xafc]\\\\xbf\\\\xd2\\\\xf4\\\\x99\\\\x8e\\\\xdf\\\\xe7?\\\\xd2z_\\\\xf7\\\\\\'S\\\\x1a\\\\xea\\\\xab\\\\xad\\\\x94\\\\xba\\\\x9c\\\\xb7\\\\xb6\\\\xa0\\\\xd3M\\\\xdbl.{\\\\xeb/~\\\\xff\\\\x00O\\\\xd2\\\\xf72\\\\xcd\\\\xf6\\\\xfb=O\\\\xd0\\\\xbd\\\\xf6 L\\\\xaf\\\\xa7\\\\xf2\\\\xfe_\\\\xcb\\\\xfc\\\\x98\\\\xad?\\\\xb2M<\\\\xfe\\\\x9d\\\\xe80\\\\xdd@>\\\\x98\\\\xdc_^\\\\x8e\\\\rh?\\\\xceR\\\\xe6\\\\xff\\\\x00\\\\x82\\\\xf4\\\\xfd\\\\xf6\\\\xb2\\\\xc63\\\\xd1\\\\xff\\\\x00\\\\x07\\\\xeazk8\\\\xb9k\\\\xbf?\\\\x13w\\\\xb6\\\\xf7\\\\xd1\\\\xea\\\\x16\\\\xbe\\\\xba\\\\xf2X[\\\\xe9\\\\xd6\\\\xd2\\\\x1b\\\\x92\\\\xcf\\\\xd2\\\\xb9\\\\xdb\\\\xab\\\\xb1\\\\x8d\\\\xb5\\\\xf5~\\\\x97\\\\\\'\\\\xfe\\\\x1f\\\\xfd%Y\\\\x0ff\\\\xc79\\\\x9cls\\\\x9b\\\\xf7\\\\x18\\\\t\\\\xd1\\\\\\'b\\\\xaabL\\\\xa7\\\\x94\\\\xe1\\\\xbf\\\\x82P\\\\x9c\\\\xa5\\\\x056X\\\\xe68=\\\\x84\\\\xb5\\\\xcd2\\\\x1c\\\\x0c\\\\x10Td\\\\xa6\\\\x06\\\\x10S\\\\x89\\\\xd5\\\\xaa\\\\xc6\\\\xc5\\\\xea\\\\x952\\\\xb66\\\\xaa\\\\xb2\\\\xab\\\\xde\\\\xea\\\\xda\\\\x00k\\\\\\\\\\\\xe7\\\\xbe\\\\xab\\\\x85:;\\\\xd1\\\\xae\\\\xed\\\\x9b\\\\xfd\\\\x1f\\\\xe6\\\\x19\\\\xfa_J\\\\xbf\\\\xf0k_\\\\xea\\\\xeeC\\\\xec\\\\xe8\\\\xd4z\\\\x9fI\\\\xae\\\\xb1\\\\x8e\\\\x1cp\\\\xe9\\\\xf6\\\\xff\\\\x00#\\\\xdd\\\\xf4V\\\\\\'\\\\xd6\\\\x7f\\\\xe9tZ\\\\xc7\\\\x92\\\\xe6\\\\xd3\\\\xb5\\\\xed\\\\x07\\\\xe8\\\\xed\\\\xb3\\\\xe8\\\\r\\\\x9fC\\\\xf9\\\\xefW\\\\xf4\\\\x8b{\\\\xa2\\\\xdbM]2\\\\x86O\\\\xa9i\\\\x9b,\\\\x98\\\\x05\\\\xae|=\\\\xd5\\\\xb1\\\\xbb\\\\xac\\\\xfd\\\\x15;\\\\xb65\\\\xff\\\\x00\\\\xbe\\\\x98\\\\x0f\\\\xa8\\\\xaf?(uj\\\\xa2\\\\xc7\\\\xb6b#]Lh\\\\x8a(\\\\x88\\\\xe2Ti\\\\xc9c\\\\x9d\\\\xb7\\\\x80x:\\\\xcf\\\\xf6\\\\x95\\\\xea\\\\xe8q\\\\x03h\\\\xd4\\\\xf7H\\\\x95\\\\x00\\\\xff\\\\x00\\\\xff\\\\xd2\\\\xa6\\\\xf7\\\\x066\\\\\\\\`x\\\\xc1=\\\\xb7~hw\\\\xe6\\\\xff\\\\x00\\\\xaf\\\\xa8\\\\x99\\\\xb6=\\\\xcemm\\\\x03{\\\\x9c\\\\x1a\\\\xd9\\\\xf1+/\\\\x06\\\\xe7\\\\x8b>\\\\x91-\\\\xb0\\\\x92\\\\x03\\\\xbe\\\\x91\\\\r1\\\\xbf`\\\\xdc\\\\xdfc\\\\xbe\\\\x9b\\\\x1bo\\\\xfc7\\\\xe9\\\\x16\\\\x86&\\\\xb9\\\\xb4L\\\\xed\\\\xdf? \\\\x1d\\\\xferw\\\\x1f\\\\xa2R\\\\xaf\\\\x94\\\\x13\\\\xf6#\\\\x87\\\\xd5\\\\x11\\\\xfb\\\\xc4\\\\x04\\\\xce\\\\xc4\\\\xcb\\\\x14\\\\x82\\\\xd6\\\\xfa\\\\xae.k6\\\\xb7d\\\\xb8\\\\xff\\\\x00#`k\\\\xbe\\\\x97\\\\xe7*\\\\xd6t\\\\xde\\\\xaaC\\\\x87\\\\xd9-\\\\xdcA\\\\x80\\\\x00:\\\\xfc%ha\\\\xdfg\\\\xe8\\\\xae\\\\xb9\\\\xccv\\\\xdbZ\\\\xf0\\\\xe6\\\\x1fhh\\\\xad\\\\xf7\\\\xed{\\\\xe1\\\\x9f\\\\xbb\\\\xb5\\\\xefV\\\\xf1\\\\xba\\\\xc3_\\\\x88\\\\xdc\\\\x9fM\\\\xc7|9\\\\xa2\\\\xa6X\\\\xf6\\\\x9a\\\\xb6\\\\xb4\\\\xfa\\\\xfe\\\\xa5l\\\\xb3\\\\xdb\\\\xeb}\\\\xa2\\\\xaf\\\\xfa\\\\xc2\\\\x84\\\\xe7\\\\xc9\\\\x12c\\\\xc3\\\\x1d\\\\x0f\\\\x8a\\\\xf1\\\\x8b\\\\x19\\\\x88 \\\\x90\\\\x0e\\\\xbd\\\\x1a\\\\xaf\\\\xc7\\\\xca~\\\\r\\\\x98\\\\xde\\\\x8b\\\\xda^\\\\xc6\\\\xb48\\\\xb2\\\\xc1\\\\xabw~{\\\\x03\\\\xb6nm\\\\x9b?G\\\\xf9\\\\x9e\\\\xc5;\\\\xb1\\\\xeess\\\\xc3f\\\\xb3\\\\x9a\\\\xeca\\\\x8e\\\\xed\\\\xb74\\\\xb1\\\\xd5\\\\x1d\\\\xbb\\\\xdb\\\\xe8\\\\xd4\\\\xf7Sm\\\\x9e\\\\xca\\\\xd9\\\\xf6f{\\\\xfd=\\\\x97\\\\xfe\\\\x8d^\\\\xc4\\\\xea\\\\xac\\\\xb9\\\\xefm\\\\xe1\\\\xf55\\\\xa5\\\\x81\\\\xaf\\\\xd9i\\\\xdc\\\\x1c\\\\x1d\\\\xea{\\\\\\\\\\\\xc0\\\\xe6\\\\xec\\\\xfd\\\\x17\\\\xd2\\\\xfd\\\\xf5W#>\\\\xdc\\\\xac\\\\x0b\\\\xab\\\\xb1\\\\xd9\\\\x18\\\\x16X\\\\xd6\\\\xb4\\\\x8a\\\\xb7\\\\x9b!\\\\xf5Wm\\\\xccc\\\\xb6no\\\\xa7\\\\x92\\\\xfb1-\\\\xf4\\\\xfd\\\\xf6\\\\xb3\\\\x1d\\\\xff\\\\x00C\\\\xed\\\\n/rWT\\\\xbf\\\\x824\\\\xd4oX\\\\xeb9Y/\\\\xab&\\\\x8a\\\\xa9\\\\xc5x\\\\x0f2\\\\xd6\\\\xd7Xi\\\\x0e\\\\xaa\\\\x97\\\\xe3\\\\xba\\\\xcb_U\\\\x8e\\\\xbff\\\\xff\\\\x00M\\\\xd7\\\\xfd\\\\x9e\\\\x8b+\\\\xb3\\\\xfe\\\\x1a\\\\x8b\\\\xa0\\\\xfc\\\\\\\\\\\\x9a\\\\xbd\\\\xb6\\\\xd2\\\\xfa\\\\x88\\\\xec\\\\xf8li\\\\xbb\\\\xf3\\\\xcf\\\\xee!cc\\\\xf4\\\\xebs\\\\xb3\\\\xabxn5\\\\x0e\\\\xfb;\\\\x1b\\\\xf6\\\\x90_]\\\\x95\\\\xd6\\\\xcbY\\\\xfa\\\\x7fX1\\\\xfb_\\\\x14\\\\xbf\\\\xf4^\\\\x87\\\\xd9\\\\xbf\\\\x9c\\\\xc5\\\\xf4\\\\xbd?V\\\\xbd,|\\\\xcc+\\\\xf0\\\\xbd<\\\\x06\\\\xb6\\\\xac\\\\\\\\KY]l\\\\xad\\\\xed\\\\xb1\\\\xbf\\\\xf6\\\\xa3k\\\\x87\\\\xa4\\\\x03[\\\\xed\\\\xaf\\\\xd5\\\\xff\\\\x00\\\\x85\\\\xf5\\\\xf7\\\\xa7\\\\xc74\\\\xa1t\\\\x01\\\\xd9o\\\\xb5\\\\x19V\\\\xa5\\\\xa0\\\\x00\\\\x8d\\\\x13\\\\xb5\\\\x84\\\\xe8\\\\x06\\\\xbd\\\\x93\\\\xb0\\\\xb04O\\\\x80V\\\\x1a\\\\x00l\\\\xb4\\\\x01\"D\\\\xabd\\\\xb0\\\\x00\\\\xd2$~k\\\\x83\\\\x86\\\\x9a\\\\xb4\\\\x83\\\\xc8\\\\xdc>\\\\x8e\\\\xef\\\\xcdM2\\\\xac\\\\x1a]$\\\\xc6\\\\xd6\\\\xc9\\\\x9e9QuMa\\\\x99\\\\xe3RR\\\\x05E\\\\xc5\\\\xcf\\\\xe9\\\\x99\\\\x1dO$}\\\\x98T\\\\xd1\\\\xb7a\\\\xb2\\\\xc7\\\\x16\\\\x17\\\\x11\\\\xcb\\\\xaco\\\\xa6\\\\xfd\\\\xdf\\\\xe8\\\\xff\\\\x00\\\\xe2\\\\xd6\\\\x8e\\\\x07J\\\\xb3\\\\x08\\\\x8a\\\\xec,\\\\xde\\\\xe6\\\\x06\\\\xb8\\\\xb1\\\\xc5\\\\xc2C\\\\x8b\\\\x99\\\\xb4\\\\xbd\\\\xac\\\\x7f\\\\xe7\\\\xbb\\\\xff\\\\x00V%\\\\x84\\\\xd7\\\\x0b\\\\x9a\\\\xedA\\\\xdf\\\\xb4\\\\x83\\\\xa1\\\\x07q\\\\xec\\\\x7frQ\\\\xfa\\\\x85\\\\xb7Wv+\\\\x99\\\\xee.\\\\xbe\\\\xa6X\\\\xcd\\\\x04\\\\xb6\\\\xc0\\\\xf6\\\\xb9\\\\x9e\\\\xef\\\\xa3\\\\xef\\\\xd9\\\\xf4\\\\x14\"^\\\\xab,\\\\xa6:Sr\\\\xacw\\\\xee\\\\xf6K\\\\x9c\\\\x08\\\\xd1\\\\xabc\\\\x1d\\\\xce\\\\xa5\\\\xbb]\\\\xb9\\\\xb6L\\\\x16\\\\x90\\\\x00\\\\x11\\\\xfc\\\\xaf\\\\xa2\\\\xb3\\\\xb1\\\\x1bd\\\\xba\\\\xc6\\\\xee\\\\xd8\\\\x0e\\\\xc2\\\\xed\\\\xa44\\\\x127}#\\\\xedV\\\\xda\\\\xe9\\\\x7f\\\\xa7\\\\xfaG\\\\x11\\\\x07p\\\\x03g\\\\xbb]\\\\x1f\\\\xbbw\\\\xf5\\\\xfd\\\\x89\\\\xe4\\\\x83\\\\xd5h\\\\xf2\\\\x7f\\\\xff\\\\xd3\\\\xc3\\\\xe9\\\\x99\\\\x14f[\\\\x96\\\\xdb^\\\\xca[\\\\x89\\\\x8c\\\\xec\\\\x9fZw\\\\x1b=/k\\\\xd8\\\\xc6\\\\x98k]g\\\\xabc\\\\xbdO\\\\xdc\\\\xf4\\\\xaa\\\\xf4\\\\xd5\\\\xbcK\\\\xf7W\\\\x8dc\\\\x1c\\\\x1b\\\\r\\\\xb2\\\\xd7\\\\xd5>\\\\xed\\\\xa6\\\\xbb^+-\\\\xf6\\\\xb9\\\\xbf\\\\xa4\\\\xf4\\\\xad\\\\xfc\\\\xcf\\\\xe6\\\\x96_M\\\\xc2\\\\xb6\\\\xac\\\\x1e\\\\xb0\\\\xea\\\\xaa\\\\xb2\\\\xeb,\\\\xc0\\\\xae\\\\xafM\\\\xa1\\\\xc4\\\\x97[\\\\x91\\\\x8a\\\\xeb\\\\xdb\\\\xb1\\\\xa3\\\\xf9\\\\xdfN\\\\xaf[\\\\xd1e\\\\x9f\\\\xd1\\\\xff\\\\x00\\\\xd2\\\\\\'\\\\xc5\\\\xe9\\\\xfdI\\\\xb7\\\\xfa\\\\xf5\\\\xe1^!\\\\xb2\\\\xf7z\\\\x16\\\\x06za\\\\xad\\\\xe6\\\\xdb\\\\x1b\\\\xed\\\\xd9_\\\\xe67g\\\\xf8O\\\\xf0u\\\\xd6\\\\xa1\\\\xcb+\\\\x8d\\\\x13\\\\xa6\\\\xec\\\\x90\\\\xd2V\\\\x07\\\\x83\\\\xd1t\\\\xa1G\\\\xec\\\\x8c|\\\\xcb\\\\xda\\\\xc3\\\\xbb\\\\xd6s\\\\xed\\\\x82\\\\xd6\\\\x81U\\\\x8e\\\\xc7m\\\\x8f\\\\xf4\\\\xdc\\\\xc65\\\\xad\\\\xa9\\\\xbe\\\\xf7\\\\xff\\\\x00\\\\xa3Vs~\\\\xcf\\\\x85[\\\\xef\\\\xcc{\\\\xd9]CWV\\\\xf7\\\\xc8\\\\x97\\\\x9a\\\\xdb\\\\xb1\\\\xb4\\\\xed\\\\xfd+\\\\x9cv1U\\\\rw\\\\xfc\\\\xd1k+\\\\x05\\\\xd6}\\\\x95\\\\xa1\\\\xa2\\\\xbdN\\\\xeboo\\\\xa8\\\\xe6\\\\x7fa\\\\xf6o\\\\xff\\\\x00\\\\x83\\\\xf5\\\\x11\\\\xbe\\\\xb0\\\\xbf\\\\x12\\\\xcb\\\\x06\\\\x0b\\\\x8do. =\\\\x93\\\\x1b\\\\x19[\\\\xbdJ\\\\xdc\\\\xe8\\\\xfc\\\\xdfcZ\\\\xca\\\\xff\\\\x00\\\\xe1=D\\\\xc9\\\\x9fQ\\\\x97s/\\\\xb3\\\\x891\\\\x8f\\\\xa4F\\\\xebH\\\\x84T\\\\xf5\\\\x0e\\\\x99gMwQ\\\\xaa\\\\xdc\\\\x86\\\\xe1\\\\xd2\\\\xc7n;\\\\xac.k\\\\xc1\\\\xaa\\\\xa7c\\\\xbf[?O\\\\xfaj\\\\xeac=_\\\\xcf\\\\xae\\\\xda\\\\xed\\\\xff\\\\x00\\\\n\\\\x86:\\\\xafN\\\\x7fO\\\\x1dK\\\\xedW\\\\xb3\\\\x08h\\\\x7fJ\\\\xefP8\\\\x1d\\\\xbe\\\\x83\\\\xeaf\\\\xe7z\\\\xfb\\\\xec\\\\xfek\\\\xfa\\\\x96\\\\x7fE\\\\xf4\\\\xafY]\\\\x0e\\\\x91o\\\\xd4\\\\xac\\\\xda\\\\xabc\\\\x9en\\\\xbd\\\\xcdk\"^\\\\xe3\\\\xbb\\\\r\\\\xecf\\\\xd6{\\\\x9c\\\\xef\\\\xd0\\\\xb7j\\\\xa9\\\\x81F=\\\\xbfUo\\\\x16m5\\\\x1c\\\\xa3a\\\\x7f\\\\xe7\\\\x16\\\\xb1\\\\x955\\\\xde\\\\xef\\\\xa5\\\\xf9\\\\x8e\\\\xd8\\\\x9et\\\\xeaw\\\\xaf\\\\xc5o\\\\r\\\\xf5?k\\\\xd8`9\\\\x96z7R\\\\xebvf\\\\xd5e\\\\xbe\\\\xe7\\\\xbe_\\\\xea\\\\x1a\\\\xaam\\\\x8e\\\\xad\\\\xd1\\\\xb2\\\\xc6\\\\xd3_\\\\xa1\\\\xfa?\\\\xe6\\\\xbf\\\\x9b\\\\xa9e\\\\xd1\\\\xd5\\\\xfae\\\\xbdPt\\\\xcc,{\\\\x1fm\\\\x99M\\\\xa9\\\\xb6R\\\\xe6\\\\x8c{\\\\x1a\\\\x1c\\\\xea]m\\\\xad\\\\x8a\\\\x9e\\\\xeb*k}?\\\\xe7\\\\xbe\\\\xcfo\\\\xe9\\\\xbfI\\\\xe9&nVN\\\\\\'G\\\\xe9vc\\\\x01\\\\xeb\\\\xfe\\\\xcf\\\\xad\\\\xeev\\\\xd9q\\\\x0f\\\\xb2\\\\xfb\\\\\\\\\\\\xc6\\\\x81\\\\xfe\\\\x93o\\\\xd3\\\\xd9\\\\xfe\\\\x0f\\\\xf9\\\\xc5\\\\xcf\\\\xe0\\\\xe6Q\\\\x89\\\\xd613X\\\\xda\\\\xddmy\\\\x02\\\\xfb\\\\x04\\\\xc1.\\\\x05\\\\xcf\\\\xda\\\\xe6\\\\x9fu_\\\\xa6\\\\xdb\\\\xba\\\\xbfO\\\\xf9\\\\xc4\\\\xda\\\\xf5\\\\x1b\\\\xe8\\\\x9b h\\\\xdb\\\\xea\\\\x1dj\\\\xea\\\\xf3\\\\xf2\\\\xeb\\\\xc7mT\\\\xd4-\\\\xb3\\\\xec\\\\xed, \\\\x8a\\\\xd9c\\\\x9b\\\\xfa=\\\\\\\\\\\\xdb+c)\\\\xb5\\\\xaf\\\\xfc\\\\xcd\\\\x9f\\\\xe1\\\\xbd\\\\x9e\\\\xa2\\\\xd1\\\\xa3\\\\xacb\\\\xd5\\\\xd1h\\\\xcd\\\\xcd\\\\xa9\\\\xc1\\\\xf9\\\\x0c\\\\xc8\\\\x15\\\\xbe\\\\xa7A\\\\xf5i\\\\xfd\\\\x0f\\\\xae+\\\\xf5\\\\x03\\\\xde\\\\xc7\\\\xdc\\\\xfa\\\\x9e\\\\xfa\\\\x9d\\\\xea\\\\xfau\\\\xfa\\\\xde\\\\x97\\\\xa5\\\\xe9\\\\xd3\\\\xebs\\\\xf9\\\\x8fuO~c\\\\x9a\\\\x1dQ\\\\xbd\\\\xf6\\\\x9a\\\\xf7l\\\\xb1\\\\xa0\\\\xd8lmn;lcmc\\\\xb7\\\\xb1\\\\xfe\\\\x95\\\\x7f\\\\xe1m\\\\xf7\\\\xfa+s3\\\\xa8\\\\xd7GB\\\\xc0\\\\xce\\\\x13uo9\\\\x0e\\\\xa85\\\\xadiv\\\\xe3[\\\\x9b\\\\xbfK=\\\\x16\\\\xd6\\\\xd6;\\\\xed\\\\x1b7\\\\xfb\\\\xd9\\\\xe9\\\\x7f\\\\xc2\\\\xa98\\\\xa4z\\\\x9f\\\\rV\\\\x88\\\\xa5\\\\xe9}E\\\\xae\\\\xb1\\\\x98\\\\xb7\\\\xb7~g\\\\xa9Sq\\\\x880\\\\r\\\\x85\\\\xc5\\\\xd7[i\\\\xb4\\\\xd9S\\\\x9b\\\\xe83\\\\xd1\\\\xfe\\\\x8bo\\\\xe9n\\\\xf5=:\\\\xbfGj\\\\x07\\\\xd6+31.~M\\\\x16\\\\x9b\\\\xb0\\\\xdc\\\\xc6\\\\xbd\\\\x97\\\\xd7\\\\x0c`{\\\\xdc\\\\xe7>\\\\x8c\\\\x8d\\\\xe0\\\\xfa\\\\x19m\\\\xb6\\\\x8bi\\\\xf4\\\\x1f\\\\xb2\\\\xdfN\\\\xaf\\\\xe6\\\\xe8\\\\xfd%H\\\\xdfW\\\\xb2\\\\xa8\\\\xcc\\\\xcd\\\\xe9\\\\xd6\\\\xd2vz\\\\x99\\\\x15\\\\xfe\\\\x8c\\\\xed.a\\\\x0en\\\\xf6\\\\xfbZ\\\\xcd\\\\xfb\\\\x1b\\\\xeem\\\\x8c\\\\xfau\\\\xff\\\\x00\\\\xc2~\\\\x8dc\\\\xbd\\\\xd5\\\\xf5F\\\\xe5c\\\\xd1X\\\\xae\\\\xea\\\\xcd\\\\xdb\\\\xab;]:\\\\xb86\\\\xca\\\\xf65\\\\xaes\\\\x9df\\\\xca\\\\xed\\\\xf6z\\\\x9f\\\\xcc\\\\xff\\\\x00;\\\\xea~\\\\x89Y\\\\x16n\\\\xd5@\\\\xe9N\\\\xc3I\\\\x19\\\\xd7@\\\\x0ey\\\\xc80\\\\xd7\\\\x00\\\\xf0\\\\xe2\\\\xe7\\\\xccl\\\\xb7\\\\xe9\\\\xb5\\\\xcf\\\\xf6\\\\xbf\\\\xd5G\\\\xb0\\\\xc5\\\\xb5\\\\x974\\\\xc9;[[\\\\x1a\\\\xe7\\\\x13a?\\\\xa3\\\\xae\\\\xaa\\\\x9b\\\\xbd\\\\xfb\\\\xb7\\\\xfd\\\\x05T{\\\\xad\\\\xb2\\\\xc70\\\\xb4<\\\\xee;\\\\x81\\\\x03\\\\xdc%\\\\xfe\\\\xe2\\\\xdd\\\\xbf\\\\xc9S\\\\xeaM\\\\xad\\\\x98\\\\xdb\\\\xb2Ykk\\\\x0eo\\\\xb5\\\\x80\\\\xb1\\\\xe4\\\\x83\\\\xb4F\\\\xe6;\\\\xda\\\\xd7}7\\\\xd6\\\\xcfb;\\\\x12S\\\\xd1\\\\xd0\\\\xb6\\\\xbb\\\\xb0\\\\xaa\\\\xb9\\\\xf7ldlsL\\\\xb1\\\\xe3\\\\xdc\\\\x1e\\\\xc1\\\\xfav9\\\\xf5\\\\xec\\\\xdd[\\\\xbfD\\\\x97Nk\\\\xef\\\\xc8\\\\xaa\\\\xe0]c\\\\\\\\Z\\\\x06\\\\xda\\\\x9a\\\\xf2\\\\xe70\\\\xcbk\\\\xae\\\\xe0\\\\xcb-\\\\xf6\\\\xee\\\\xab}t\\\\xbb\\\\xf4_\\\\xf5\\\\xc5M\\\\xbd@[\\\\xd3r\\\\xb2\\\\xb1\\\\xef\\\\xc8m\\\\x94\\\\xdb\\\\x8c\\\\xe3\\\\x93yg\\\\xac^\\\\x0e\\\\x97\\\\\\\\\\\\xe6\\\\xb6\\\\xb6\\\\xd9\\\\xbbw\\\\xbf\\\\xed\\\\x1e\\\\xa7\\\\xf2\\\\xff\\\\x00G\\\\xe9V\\\\x95}e\\\\xf9#.\\\\xdb\\\\x9f\\\\xeee\\\\x13V\\\\xd2\\\\x0c\\\\x96\\\\x97:\\\\xd6\\\\xd5\\\\xa3Y\\\\xb9\\\\xd6\\\\xb5\\\\xf6\\\\xec\\\\xd9\\\\xfe\\\\x1b\\\\xd0K\\\\x8fMF\\\\xe7\\\\x8btp\\\\x8d\\\\xc1\\\\xd3\\\\xe5\\\\x7f\\\\xff\\\\xd4\\\\xce\\\\xa7\\\\xf6\\\\xa6\\\\xd1\\\\xe9\\\\xfd\\\\xa3f\\\\xd6\\\\xc7\\\\xa7\\\\xfb\\\\x9b\\\\xbf6\\\\x7f3\\\\xed_\\\\xb8\\\\x8d_\\\\xad\\\\x0e\\\\xfe\\\\x99\\\\xf4\\\\x84n\\\\xf5&w\\\\x7f\\\\x86\\\\xfb_\\\\xe9\\\\xfdOS\\\\xe9\\\\xff\\\\x00\\\\xdd_\\\\xe9\\\\x1f\\\\xa1^j\\\\x92\\\\x80\\\\xff\\\\x00\\\\x83\\\\xb3 \\\\xe9\\\\xbb\\\\xeac\\\\xed\\\\xdb\\\\xef\\\\xe7\\\\xfe\\\\xd3\\\\xfa\\\\xbe\\\\xaf\\\\xa3\\\\xe9\\\\xfd&\\\\xfd\\\\x9fg\\\\xa5\\\\xee\\\\xff\\\\x00\\\\xcc?\\\\xe1}EC/\\\\xed\\\\x7f\\\\xb6q\\\\xbdoSt~\\\\x83lz~\\\\xa4{\\\\xe3\\\\x7f\\\\xf8OGn\\\\xef\\\\xfa\\\\x7f\\\\xa0^v\\\\x922\\\\xe8\\\\xa3\\\\xf5\\\\xdd\\\\xf4\\\\xb3\\\\xfbK\\\\xec\\\\xee\\\\xf5>\\\\xd7\\\\xf6M\\\\xed\\\\xdf\\\\xb7\\\\xd3\\\\x9e?\\\\xe0\\\\xbd\\\\xff\\\\x00g\\\\xf5\\\\xf7\\\\xfa\\\\xbe\\\\x9f\\\\xe8=_\\\\xe7\\\\x14s>\\\\xd7\\\\xb9\\\\xdfm\\\\xfbG\\\\xab\\\\xf6\\\\x91\\\\xeao\\\\xfb7\\\\xab\\\\xf6\\\\x9d\\\\xaf\\\\xdd\\\\xfc\\\\xd7\\\\xb7\\\\xed{=OOg\\\\xf8\\\\x1f\\\\xe6\\\\xd7\\\\x9b$\\\\x8f\\\\xf1\\\\xea\\\\x80\\\\xfa5\\\\x9e\\\\xbf\\\\xa7O\\\\xab\\\\xbf\\\\xd0\\\\xf4\\\\x99\\\\xe8N\\\\xc8\\\\xf4\\\\xe6\\\\xcd\\\\x9b6\\\\xfb\\\\xbd=\\\\xde\\\\xa7\\\\xd9\\\\xff\\\\x00\\\\xc1\\\\xfa\\\\x9fAg\\\\xe5}\\\\x9f\\\\xd0w\\\\xa7\\\\xb3\\\\xed;]\\\\xb3\\\\xd3\\\\xf4}Y\\\\xfc\\\\xef\\\\xb4m\\\\xfeG\\\\xad\\\\xf4?\\\\xe1\\\\x7f\\\\xc2z\\\\x0b\\\\x89I\\\\x11\\\\xd7e\\\\x1f\\\\xe5op\\\\x7fe\\\\xfd\\\\x95\\\\xdfn\\\\xfbN\\\\xed\\\\xc3\\\\xd5\\\\xf4}\\\\x08\\\\xf5??\\\\xf9\\\\xdfv\\\\xd5<\\\\xf9\\\\xfb?M\\\\xf4\\\\xbdO\\\\xd8\\\\x9b_3\\\\xe9\\\\xfa\\\\xfbdz\\\\x9e\\\\xa6\\\\xef\\\\xd4\\\\xbdM\\\\xfb6\\\\xfd\\\\x9b\\\\xfc\\\\x17\\\\xf3\\\\xeb\\\\x84I\\\\x01\\\\xb7\\\\xf1S\\\\xe88\\\\xb1\\\\xe9\\\\xf4\\\\xff\\\\x00\\\\xd9\\\\xbe\\\\xa7\\\\xa9\\\\xf6\\\\x8a\\\\xbe\\\\xc5\\\\xf6\\\\xafOto\\\\xaff\\\\xdd\\\\x9f\\\\xa3\\\\xfb\\\\x1f\\\\xaf\\\\xb3\\\\xf9\\\\x9f\\\\xd1z\\\\xff\\\\x00\\\\xf0~\\\\xa2\\\\x1e?\\\\xd9\\\\xbe\\\\xd1o\\\\xd9=\\\\x1d\\\\xfe\\\\xad\\\\xfe\\\\xac\\\\x7f;\\\\xeaKw\\\\xc7\\\\xf8o\\\\xb3z\\\\xbf\\\\xf5\\\\xb5\\\\xc1$\\\\x8f\\\\x7f5\\\\x07\\\\xd0\\\\xc7\\\\xdbe\\\\xbb\\\\xa3\\\\xd1\\\\x8f~\\\\xf9\\\\xdd\\\\xdf~\\\\xfd\\\\xbf\\\\xa3\\\\xfa?M>?\\\\xdb\\\\xb5\\\\xdb\\\\xf6\\\\x8fSi\\\\x8fW\\\\xd7\\\\xdf?\\\\x9b\\\\xb3\\\\x7f\\\\xfe\\\\t\\\\xe9\\\\xff\\\\x00\\\\xc1\\\\xaf;I\\\\x11\\\\xb1\\\\xfa \\\\xee>\\\\xaf\\\\xa0\\\\xe4\\\\xc7\\\\xd9\\\\xf3=M\\\\xb15\\\\xfd\\\\xbf\\\\xd4\\\\xfa\\\\x1b\\\\xb77\\\\xec\\\\xff\\\\x00l\\\\xdf\\\\xed\\\\xf57l\\\\xf4\\\\xfd_\\\\xccB\\\\xab\\\\xf6~\\\\xd7\\\\xfa\\\\x1bc\\\\xd2dG\\\\x1fM\\\\xdf\\\\xbb\\\\xff\\\\x00jwo\\\\xfa?\\\\xf9\\\\xedpi!\\\\xd3\\\\xf8\\\\xa8\\\\xee\\\\xff\\\\x00\\\\xff\\\\xd9\\''"
      ]
     },
     "execution_count": 40,
     "metadata": {},
     "output_type": "execute_result"
    }
   ],
   "source": [
    "txt"
   ]
  },
  {
   "cell_type": "code",
   "execution_count": null,
   "metadata": {},
   "outputs": [],
   "source": []
  },
  {
   "cell_type": "code",
   "execution_count": 52,
   "metadata": {},
   "outputs": [
    {
     "name": "stdout",
     "output_type": "stream",
     "text": [
      "key: date created, info: 20030322\n",
      "\n",
      "key: time created, info: 171903\n",
      "\n",
      "key: copyright notice, info: Spanner\n",
      "\n",
      "key: custom1, info: submitted\n",
      "\n"
     ]
    }
   ],
   "source": [
    "get_IPTC_data(test_imgRaw)"
   ]
  },
  {
   "cell_type": "code",
   "execution_count": 49,
   "metadata": {},
   "outputs": [
    {
     "name": "stdout",
     "output_type": "stream",
     "text": [
      "key: date created, info: 20090101\n",
      "\n",
      "key: time created, info: 113111+0300\n",
      "\n",
      "key: by-line, info: Johan Spanner\n",
      "\n",
      "key: city, info: Baghdad\n",
      "\n",
      "key: country/primary location name, info: Iraq\n",
      "\n",
      "key: headline, info: Green Zone handover\n",
      "\n",
      "key: credit, info: Johan Spanner for The New York Times\n",
      "\n",
      "key: copyright notice, info: Johan Spanner\n",
      "\n",
      " he ceremony was attended by Iraqi Minister of Defense, National security, top Iraqi and some American army colonels, Iraqi police Generals and the American Embassy and the head of the Baghdad provincial Council dedicated to the handover of the Green Zone. Iraqi national anthem was played several times. Minister of Defense, Brigadier General Emad, commander of Baghdad Brigade which will control the Green Zone, and Colonel Ferrari who commanded the American unit in the Green Zone, gave speeches.\n",
      "\n",
      "key: custom1, info: submitted\n",
      "\n"
     ]
    }
   ],
   "source": [
    "get_IPTC_data(test_imgPub)"
   ]
  }
 ],
 "metadata": {
  "kernelspec": {
   "display_name": "Python 3",
   "language": "python",
   "name": "python3"
  },
  "language_info": {
   "codemirror_mode": {
    "name": "ipython",
    "version": 3
   },
   "file_extension": ".py",
   "mimetype": "text/x-python",
   "name": "python",
   "nbconvert_exporter": "python",
   "pygments_lexer": "ipython3",
   "version": "3.7.4"
  }
 },
 "nbformat": 4,
 "nbformat_minor": 4
}
