{
 "cells": [
  {
   "cell_type": "markdown",
   "metadata": {},
   "source": [
    "## Script for creating training sample\n",
    "### Johan Spanners images\n",
    "\n",
    "1) you need to flatten Johans file structure  \n",
    "2) Do it on his drive in a new folder called; flatten_folder  \n",
    "3) Rename each image acording to a new ID; JS + N_i  (JS = Johan Spanner)\n",
    "4) Draw 5000 random images  \n",
    "5) Save in new folder: sample_5000  \n",
    "5) crate csv frame - that is csv with column names and row index  \n",
    "6) column names = features  \n",
    "7) row index = image ID  \n",
    "8) codebook  \n",
    "9) Page in code book showing the order of the column names so they don't have to scroll \n",
    "\n",
    "to mount external harddriv:\n",
    "> sudo mkdir /mnt/f # f is just random letter for the mounting point  \n",
    "> sudo mount -t drvfs d: /mnt/f # f is the letter choosen above, d is the drive name\n",
    "\n",
    "Now you can access his files at location: **/mnt/f/'October Johan Archive'/Spanner**\n",
    "\n",
    "You then have the folders Published, Raw, Submitted."
   ]
  },
  {
   "cell_type": "markdown",
   "metadata": {},
   "source": [
    "# Code"
   ]
  },
  {
   "cell_type": "code",
   "execution_count": 1,
   "metadata": {},
   "outputs": [],
   "source": [
    "import os\n",
    "import cv2\n",
    "from iptcinfo3 import IPTCInfo\n",
    "from PIL import Image\n",
    "import re\n",
    "import zipfile\n",
    "import shutil\n",
    "import numpy as np\n",
    "import time\n",
    "import matplotlib.pyplot as plt"
   ]
  },
  {
   "cell_type": "code",
   "execution_count": 2,
   "metadata": {},
   "outputs": [],
   "source": [
    "# external_dir =  \"/mnt/f/OctoberJohanArchive\"\n",
    "external_dir =  \"/mnt/f/OctoberJohanArchiveTest\" # only the published images\n",
    "flatten_dir =  \"/mnt/f/OctoberJohanArchiveFlatten\""
   ]
  },
  {
   "cell_type": "code",
   "execution_count": 3,
   "metadata": {},
   "outputs": [],
   "source": [
    "def count_files(external_dir):\n",
    "    \n",
    "    \"\"\"Counts files in folder tree. Sanity check, and fits in the function flatten_dirs()\"\"\"\n",
    "    \n",
    "    count = 0\n",
    "    \n",
    "    for root, dirs, files in os.walk(external_dir):\n",
    "        for name in files:\n",
    "            count += 1\n",
    "        \n",
    "    return(count)"
   ]
  },
  {
   "cell_type": "code",
   "execution_count": 4,
   "metadata": {},
   "outputs": [],
   "source": [
    "def mk_flatten_dir(flatten_dir):\n",
    "    \n",
    "    \"\"\"Creates a new folder which is to be the location of the flattened folder tree. fits in the function flatten_dirs()\"\"\"\n",
    "    \n",
    "    if not os.path.exists(flatten_dir):\n",
    "        os.mkdir(flatten_dir) # makes new dir                     \n",
    "        \n",
    "    # Or REPLACE old if exist\n",
    "    else:\n",
    "        shutil.rmtree(flatten_dir) # delets dir and content.. FOREVER!\n",
    "        os.mkdir(flatten_dir) # makes new dir\n"
   ]
  },
  {
   "cell_type": "code",
   "execution_count": 14,
   "metadata": {},
   "outputs": [],
   "source": [
    "# def infoIPTC() \n",
    "#     \"\"\"Takes infomation from the image path string, and add it to the IPTC. Ex, wheter the is is raw, edit or puplished\"\"\""
   ]
  },
  {
   "cell_type": "code",
   "execution_count": 6,
   "metadata": {},
   "outputs": [],
   "source": [
    "def flatten_dirs(external_dir, flatten_dir):\n",
    "    \n",
    "    time_start = time.time() # start time\n",
    "    mk_flatten_dir(flatten_dir) # creates the new folder\n",
    "    files_count = count_files(external_dir) # counts all files to be moved\n",
    "    counter = 0 # counter for all iterations\n",
    "    count_move = 0 # counter for files moved and image ID\n",
    "    count_exceptions = 0 # count files not being move, due to them not being images.\n",
    "    ID_front = \"JS\" # Johan Spanner\n",
    "    \n",
    "    print(f'\\nstarts moving files from: {external_dir}\\nto new shared parent dir: {flatten_dir}...\\n')\n",
    "    \n",
    "    for root, dirs, files in os.walk(external_dir):\n",
    "        \n",
    "        for name in files: \n",
    "            \n",
    "            counter += 1\n",
    "            print(f'Handling file {counter} of {files_count}', end= '\\r')\n",
    "                        \n",
    "            old_path = os.path.join(root, name) #all the info for the IPTC should be in in old_path name\n",
    "            \n",
    "            #store info for IPTC\n",
    "            old_path.split(\"/\") # list of strings\n",
    "            \n",
    "            try: # you only wnat to move actual images\n",
    "                \n",
    "                # verify that is an image\n",
    "                img = Image.open(old_path)  # open the image file\n",
    "                img.verify()  # verify that it is a good image, without decoding it.. quite fast\n",
    "                img.close()\n",
    "                \n",
    "                # new path\n",
    "                count_move += 1\n",
    "                new_path = flatten_dir + \"/\" + ID_front + str(count_move) + \".jpeg\" # path and image ID - could also put the ID in the IPTC now you are at it.\n",
    "                # seems you can call all relevant image types .jpeg and still open them - even .tif\n",
    "                \n",
    "                # Moving day..\n",
    "                shutil.copyfile(old_path, new_path) # x6 slower then move.. IPTC moves to\n",
    "#                 shutil.move(old_path, new_path)# will delete the original path. Do IPTC also move? \n",
    "#                 shutil.copy(old_path, new_path) # error for both copy and copy2\n",
    "\n",
    "            except Exception as e: # Non images you just pass\n",
    "        \n",
    "                count_exceptions += 1\n",
    "                pass\n",
    "                \n",
    "    # Logging time it takes to complete operation..\n",
    "    time_end = time.time()\n",
    "    time_run = round((time_end - time_start)/60,2)\n",
    "                    \n",
    "    print(f'\\n\\nDone moving files to parent dir: {flatten_dir}...')\n",
    "\n",
    "    print(f'File(s) moved: {counter-count_exceptions} out of {files_count} files')\n",
    "    print(f'File(s) not moved (not images): {count_exceptions} out of {files_count} files')\n",
    "    \n",
    "    print(f'\\nALL DONE!\\nThe operation took {time_run} minutes')\n",
    "    \n"
   ]
  },
  {
   "cell_type": "code",
   "execution_count": 7,
   "metadata": {},
   "outputs": [
    {
     "name": "stdout",
     "output_type": "stream",
     "text": [
      "\n",
      "starts moving files from: /mnt/f/OctoberJohanArchiveTest\n",
      "to new shared parent dir: /mnt/f/OctoberJohanArchiveFlatten...\n",
      "\n",
      "Handling file 531 of 531\n",
      "\n",
      "Done moving files to parent dir: /mnt/f/OctoberJohanArchiveFlatten...\n",
      "File(s) moved: 524 out of 531 files\n",
      "File(s) not moved (not images): 7 out of 531 files\n",
      "\n",
      "ALL DONE!\n",
      "The operation took 1.1 minutes\n"
     ]
    }
   ],
   "source": [
    "flatten_dirs(external_dir, flatten_dir)"
   ]
  },
  {
   "cell_type": "code",
   "execution_count": 29,
   "metadata": {},
   "outputs": [
    {
     "data": {
      "text/plain": [
       "['',\n",
       " 'mnt',\n",
       " 'f',\n",
       " 'OctoberJohanArchive',\n",
       " 'Spanner',\n",
       " 'Submitted',\n",
       " '2003',\n",
       " '031703Jylleditfirstnight',\n",
       " 'A-edit',\n",
       " 'DSC_0148.tif']"
      ]
     },
     "execution_count": 29,
     "metadata": {},
     "output_type": "execute_result"
    }
   ],
   "source": [
    "test_img = \"/mnt/f/OctoberJohanArchive/Spanner/Submitted/2003/031703Jylleditfirstnight/A-edit/DSC_0148.tif\"\n",
    "\n",
    "test_img.split(\"/\")#[5]"
   ]
  },
  {
   "cell_type": "code",
   "execution_count": null,
   "metadata": {},
   "outputs": [],
   "source": []
  },
  {
   "cell_type": "code",
   "execution_count": null,
   "metadata": {},
   "outputs": [],
   "source": []
  },
  {
   "cell_type": "code",
   "execution_count": null,
   "metadata": {},
   "outputs": [],
   "source": []
  },
  {
   "cell_type": "markdown",
   "metadata": {},
   "source": [
    "## Check IPTC in moved images."
   ]
  },
  {
   "cell_type": "markdown",
   "metadata": {},
   "source": [
    "'date created' = date \n",
    "'time created' = time\n",
    "'copyright notice' = Johan spanner\n",
    "'custom1' = raw, submitted, pulished"
   ]
  },
  {
   "cell_type": "code",
   "execution_count": 11,
   "metadata": {},
   "outputs": [],
   "source": [
    "dict_keys = ['object name', \n",
    "             'edit status', \n",
    "             'editorial update', \n",
    "             'urgency', \n",
    "             'subject reference', \n",
    "             'category', \n",
    "             'supplemental category', \n",
    "             'fixture identifier', \n",
    "             'keywords', \n",
    "             'content location code', \n",
    "             'content location name', \n",
    "             'release date', \n",
    "             'release time', \n",
    "             'expiration date', \n",
    "             'expiration time', \n",
    "             'special instructions', \n",
    "             'action advised', \n",
    "             'reference service', \n",
    "             'reference date', \n",
    "             'reference number', \n",
    "             'date created', \n",
    "             'time created', \n",
    "             'digital creation date', \n",
    "             'digital creation time', \n",
    "             'originating program', \n",
    "             'program version', \n",
    "             'object cycle', \n",
    "             'by-line', \n",
    "             'by-line title', \n",
    "             'city', \n",
    "             'sub-location', \n",
    "             'province/state', \n",
    "             'country/primary location code', \n",
    "             'country/primary location name', \n",
    "             'original transmission reference', \n",
    "             'headline', \n",
    "             'credit', \n",
    "             'source', \n",
    "             'copyright notice', \n",
    "             'contact', \n",
    "             'caption/abstract', \n",
    "             'local caption', \n",
    "             'writer/editor', \n",
    "             'image type', \n",
    "             'image orientation', \n",
    "             'language identifier', \n",
    "             'custom1', \n",
    "             'custom2', \n",
    "             'custom3', \n",
    "             'custom4', \n",
    "             'custom5', \n",
    "             'custom6', \n",
    "             'custom7', \n",
    "             'custom8', \n",
    "             'custom9', \n",
    "             'custom10', \n",
    "             'custom11', \n",
    "             'custom12', \n",
    "             'custom13', \n",
    "             'custom14', \n",
    "             'custom15', \n",
    "             'custom16', \n",
    "             'custom17', \n",
    "             'custom18', \n",
    "             'custom19', \n",
    "             'custom20'] # surely you can get this list from somewhere...\n",
    "# save as a pickle so you don't have to look at this shit."
   ]
  },
  {
   "cell_type": "code",
   "execution_count": 75,
   "metadata": {},
   "outputs": [],
   "source": [
    "def get_IPTC_data(image):\n",
    "    info = IPTCInfo(image, force=True, inp_charset='utf8')\n",
    "    \n",
    "    keys = ['custom1']\n",
    "    strings = ['submitted']\n",
    "    \n",
    "    for i in keys:\n",
    "        if info[i] == None or len(info[i]) < 1:\n",
    "                info[i] = strings[0] # if you sort the string list first, you could use enumarate and strings[j]\n",
    "                \n",
    "    #--------------------------------------------\n",
    "    \n",
    "    for i in dict_keys:\n",
    "        if info[i] != None:\n",
    "            if len(info[i]) > 0: \n",
    "                print(f'key: {i}, info: {info[i]}\\n')\n"
   ]
  },
  {
   "cell_type": "code",
   "execution_count": 76,
   "metadata": {},
   "outputs": [
    {
     "name": "stdout",
     "output_type": "stream",
     "text": [
      "key: date created, info: 20090101\n",
      "\n",
      "key: time created, info: 113111+0300\n",
      "\n",
      "key: by-line, info: Johan Spanner\n",
      "\n",
      "key: city, info: Baghdad\n",
      "\n",
      "key: country/primary location name, info: Iraq\n",
      "\n",
      "key: headline, info: Green Zone handover\n",
      "\n",
      "key: credit, info: Johan Spanner for The New York Times\n",
      "\n",
      "key: copyright notice, info: Johan Spanner\n",
      "\n",
      " he ceremony was attended by Iraqi Minister of Defense, National security, top Iraqi and some American army colonels, Iraqi police Generals and the American Embassy and the head of the Baghdad provincial Council dedicated to the handover of the Green Zone. Iraqi national anthem was played several times. Minister of Defense, Brigadier General Emad, commander of Baghdad Brigade which will control the Green Zone, and Colonel Ferrari who commanded the American unit in the Green Zone, gave speeches.\n",
      "\n",
      "key: custom1, info: submitted\n",
      "\n"
     ]
    }
   ],
   "source": [
    "test_img = \"/mnt/f/OctoberJohanArchiveTest/Spanner_Green_Zone_9916.jpg\"\n",
    "\n",
    "get_IPTC_data(test_img)"
   ]
  }
 ],
 "metadata": {
  "kernelspec": {
   "display_name": "Python 3",
   "language": "python",
   "name": "python3"
  },
  "language_info": {
   "codemirror_mode": {
    "name": "ipython",
    "version": 3
   },
   "file_extension": ".py",
   "mimetype": "text/x-python",
   "name": "python",
   "nbconvert_exporter": "python",
   "pygments_lexer": "ipython3",
   "version": "3.7.4"
  }
 },
 "nbformat": 4,
 "nbformat_minor": 4
}
