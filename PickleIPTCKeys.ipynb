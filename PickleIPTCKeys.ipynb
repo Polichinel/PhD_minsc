{
 "cells": [
  {
   "cell_type": "code",
   "execution_count": 4,
   "metadata": {},
   "outputs": [],
   "source": [
    "import pickle"
   ]
  },
  {
   "cell_type": "code",
   "execution_count": 5,
   "metadata": {},
   "outputs": [],
   "source": [
    "list_keys = ['object name', \n",
    "             'edit status', \n",
    "             'editorial update', \n",
    "             'urgency', \n",
    "             'subject reference', \n",
    "             'category', \n",
    "             'supplemental category', \n",
    "             'fixture identifier', \n",
    "             'keywords', \n",
    "             'content location code', \n",
    "             'content location name', \n",
    "             'release date', \n",
    "             'release time', \n",
    "             'expiration date', \n",
    "             'expiration time', \n",
    "             'special instructions', \n",
    "             'action advised', \n",
    "             'reference service', \n",
    "             'reference date', \n",
    "             'reference number', \n",
    "             'date created', \n",
    "             'time created', \n",
    "             'digital creation date', \n",
    "             'digital creation time', \n",
    "             'originating program', \n",
    "             'program version', \n",
    "             'object cycle', \n",
    "             'by-line', \n",
    "             'by-line title', \n",
    "             'city', \n",
    "             'sub-location', \n",
    "             'province/state', \n",
    "             'country/primary location code', \n",
    "             'country/primary location name', \n",
    "             'original transmission reference', \n",
    "             'headline', \n",
    "             'credit', \n",
    "             'source', \n",
    "             'copyright notice', \n",
    "             'contact', \n",
    "             'caption/abstract', \n",
    "             'local caption', \n",
    "             'writer/editor', \n",
    "             'image type', \n",
    "             'image orientation', \n",
    "             'language identifier', \n",
    "             'custom1', \n",
    "             'custom2', \n",
    "             'custom3', \n",
    "             'custom4', \n",
    "             'custom5', \n",
    "             'custom6', \n",
    "             'custom7', \n",
    "             'custom8', \n",
    "             'custom9', \n",
    "             'custom10', \n",
    "             'custom11', \n",
    "             'custom12', \n",
    "             'custom13', \n",
    "             'custom14', \n",
    "             'custom15', \n",
    "             'custom16', \n",
    "             'custom17', \n",
    "             'custom18', \n",
    "             'custom19', \n",
    "             'custom20'] # surely you can get this list from somewhere...\n",
    "# save as a pickle so you don't have to look at this shit."
   ]
  },
  {
   "cell_type": "code",
   "execution_count": 6,
   "metadata": {},
   "outputs": [],
   "source": [
    "\n",
    "file_name = \"IPTC_keys.pkl\"\n",
    "output = open(file_name, 'wb') # still not working right!!\n",
    "pickle.dump(list_keys, output)\n",
    "output.close()\n"
   ]
  }
 ],
 "metadata": {
  "kernelspec": {
   "display_name": "Python 3",
   "language": "python",
   "name": "python3"
  },
  "language_info": {
   "codemirror_mode": {
    "name": "ipython",
    "version": 3
   },
   "file_extension": ".py",
   "mimetype": "text/x-python",
   "name": "python",
   "nbconvert_exporter": "python",
   "pygments_lexer": "ipython3",
   "version": "3.7.4"
  }
 },
 "nbformat": 4,
 "nbformat_minor": 4
}
