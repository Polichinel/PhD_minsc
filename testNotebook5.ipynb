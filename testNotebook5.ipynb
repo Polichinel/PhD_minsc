{
 "cells": [
  {
   "cell_type": "code",
   "execution_count": 1,
   "metadata": {},
   "outputs": [],
   "source": [
    "# Check om alt er nødvendigt her...\n",
    "\n",
    "import os\n",
    "import cv2\n",
    "from iptcinfo3 import IPTCInfo\n",
    "from PIL import Image, IptcImagePlugin\n",
    "import re\n",
    "import zipfile\n",
    "import shutil\n",
    "import numpy as np\n",
    "import time\n",
    "import matplotlib.pyplot as plt\n",
    "import numpy as np\n",
    "import pandas as pd"
   ]
  },
  {
   "cell_type": "code",
   "execution_count": 2,
   "metadata": {},
   "outputs": [],
   "source": [
    "import warnings\n",
    "warnings.filterwarnings(\"ignore\")"
   ]
  },
  {
   "cell_type": "code",
   "execution_count": 3,
   "metadata": {},
   "outputs": [],
   "source": [
    "# linux location:\n",
    "linux_dir1raw = '/home/xpn381/data/johan_test1/raw/'\n",
    "linux_dir1edit = '/home/xpn381/data/johan_test1/edit/'\n",
    "linux_dir2 = '/home/xpn381/data/johan_test2/'"
   ]
  },
  {
   "cell_type": "markdown",
   "metadata": {},
   "source": [
    "# get_city_imgs"
   ]
  },
  {
   "cell_type": "code",
   "execution_count": 4,
   "metadata": {},
   "outputs": [],
   "source": [
    "def get_city_imgs(linux_dir):\n",
    "    city_imgs = [] # list of images with city in them:\n",
    "    city_info = (2, 90)\n",
    "\n",
    "    for img in os.listdir(linux_dir2):\n",
    "        img_path = os.path.join(linux_dir2, img)\n",
    "\n",
    "        im = Image.open(img_path)\n",
    "        info = IptcImagePlugin.getiptcinfo(im)\n",
    "\n",
    "        if info != None:\n",
    "            if city_info in info.keys(): \n",
    "                city_imgs.append(img_path)\n",
    "\n",
    "            else:\n",
    "                pass\n",
    "            \n",
    "    return(city_imgs)"
   ]
  },
  {
   "cell_type": "code",
   "execution_count": 5,
   "metadata": {},
   "outputs": [],
   "source": [
    "# and those you now want date and time from:\n",
    "# NOPE! you want to tjek city vs discription - men det bliver kun elevant hvis der er rigtigt mange billeder i edit.."
   ]
  },
  {
   "cell_type": "markdown",
   "metadata": {},
   "source": [
    "# Make city_imgs list and df"
   ]
  },
  {
   "cell_type": "code",
   "execution_count": 6,
   "metadata": {},
   "outputs": [],
   "source": [
    "def make_city_df(linux_dir):\n",
    "\n",
    "    city_imgs = get_city_imgs(linux_dir)\n",
    "\n",
    "    city_info = (2, 90)\n",
    "    date_info = (2, 55)\n",
    "    time_info = (2, 60)\n",
    "\n",
    "    np.random.seed(2015)\n",
    "    data = []\n",
    "\n",
    "    for img_path in city_imgs:\n",
    "        im = Image.open(img_path)\n",
    "        info = IptcImagePlugin.getiptcinfo(im) \n",
    "\n",
    "        img_id = img_path\n",
    "        city = info[city_info].decode(\"utf-8\")\n",
    "        date = int(info[date_info].decode(\"utf-8\"))\n",
    "        time = int(info[time_info].decode(\"utf-8\")[:-5]) # er det sidste tidszoner og kan det bruges til noget?\n",
    "        \n",
    "        data.append({'id':img_id,'city': city, 'date':date, 'time':time})\n",
    "\n",
    "    df = pd.DataFrame(data)\n",
    "    \n",
    "    df['stand_date'] = (df['date']-df['date'].mean())/df['date'].std()\n",
    "    df['stand_time'] = (df['time']-df['time'].mean())/df['time'].std()\n",
    "    \n",
    "    df['norm_date'] = (df['date']-df['date'].min())/(df['date'].max() - df['date'].min())\n",
    "    df['norm_time'] = (df['time']-df['time'].min())/(df['time'].max() - df['time'].min())\n",
    "    \n",
    "    return(df, city_imgs)"
   ]
  },
  {
   "cell_type": "code",
   "execution_count": 7,
   "metadata": {},
   "outputs": [],
   "source": [
    "df, city_imgs = make_city_df(linux_dir2)"
   ]
  },
  {
   "cell_type": "code",
   "execution_count": 22,
   "metadata": {},
   "outputs": [
    {
     "data": {
      "text/html": [
       "<div>\n",
       "<style scoped>\n",
       "    .dataframe tbody tr th:only-of-type {\n",
       "        vertical-align: middle;\n",
       "    }\n",
       "\n",
       "    .dataframe tbody tr th {\n",
       "        vertical-align: top;\n",
       "    }\n",
       "\n",
       "    .dataframe thead th {\n",
       "        text-align: right;\n",
       "    }\n",
       "</style>\n",
       "<table border=\"1\" class=\"dataframe\">\n",
       "  <thead>\n",
       "    <tr style=\"text-align: right;\">\n",
       "      <th></th>\n",
       "      <th>id</th>\n",
       "      <th>city</th>\n",
       "      <th>date</th>\n",
       "      <th>time</th>\n",
       "      <th>stand_date</th>\n",
       "      <th>stand_time</th>\n",
       "      <th>norm_date</th>\n",
       "      <th>norm_time</th>\n",
       "    </tr>\n",
       "  </thead>\n",
       "  <tbody>\n",
       "    <tr>\n",
       "      <td>0</td>\n",
       "      <td>/home/xpn381/data/johan_test2/1568884391729434...</td>\n",
       "      <td>Kirkuk</td>\n",
       "      <td>20090929</td>\n",
       "      <td>103508</td>\n",
       "      <td>-0.733098</td>\n",
       "      <td>-1.215883</td>\n",
       "      <td>0.0</td>\n",
       "      <td>0.104414</td>\n",
       "    </tr>\n",
       "    <tr>\n",
       "      <td>1</td>\n",
       "      <td>/home/xpn381/data/johan_test2/1568884391729925...</td>\n",
       "      <td>Kirkuk</td>\n",
       "      <td>20090929</td>\n",
       "      <td>103537</td>\n",
       "      <td>-0.733098</td>\n",
       "      <td>-1.214838</td>\n",
       "      <td>0.0</td>\n",
       "      <td>0.104779</td>\n",
       "    </tr>\n",
       "    <tr>\n",
       "      <td>2</td>\n",
       "      <td>/home/xpn381/data/johan_test2/1568884391730428...</td>\n",
       "      <td>Kirkuk</td>\n",
       "      <td>20090929</td>\n",
       "      <td>103943</td>\n",
       "      <td>-0.733098</td>\n",
       "      <td>-1.200210</td>\n",
       "      <td>0.0</td>\n",
       "      <td>0.109883</td>\n",
       "    </tr>\n",
       "    <tr>\n",
       "      <td>3</td>\n",
       "      <td>/home/xpn381/data/johan_test2/1568884391730990...</td>\n",
       "      <td>Kirkuk</td>\n",
       "      <td>20090929</td>\n",
       "      <td>104021</td>\n",
       "      <td>-0.733098</td>\n",
       "      <td>-1.197400</td>\n",
       "      <td>0.0</td>\n",
       "      <td>0.110864</td>\n",
       "    </tr>\n",
       "    <tr>\n",
       "      <td>4</td>\n",
       "      <td>/home/xpn381/data/johan_test2/1568884391732055...</td>\n",
       "      <td>Kirkuk</td>\n",
       "      <td>20090929</td>\n",
       "      <td>104726</td>\n",
       "      <td>-0.733098</td>\n",
       "      <td>-1.171999</td>\n",
       "      <td>0.0</td>\n",
       "      <td>0.119727</td>\n",
       "    </tr>\n",
       "  </tbody>\n",
       "</table>\n",
       "</div>"
      ],
      "text/plain": [
       "                                                  id    city      date  \\\n",
       "0  /home/xpn381/data/johan_test2/1568884391729434...  Kirkuk  20090929   \n",
       "1  /home/xpn381/data/johan_test2/1568884391729925...  Kirkuk  20090929   \n",
       "2  /home/xpn381/data/johan_test2/1568884391730428...  Kirkuk  20090929   \n",
       "3  /home/xpn381/data/johan_test2/1568884391730990...  Kirkuk  20090929   \n",
       "4  /home/xpn381/data/johan_test2/1568884391732055...  Kirkuk  20090929   \n",
       "\n",
       "     time  stand_date  stand_time  norm_date  norm_time  \n",
       "0  103508   -0.733098   -1.215883        0.0   0.104414  \n",
       "1  103537   -0.733098   -1.214838        0.0   0.104779  \n",
       "2  103943   -0.733098   -1.200210        0.0   0.109883  \n",
       "3  104021   -0.733098   -1.197400        0.0   0.110864  \n",
       "4  104726   -0.733098   -1.171999        0.0   0.119727  "
      ]
     },
     "execution_count": 22,
     "metadata": {},
     "output_type": "execute_result"
    }
   ],
   "source": [
    "df.head()"
   ]
  },
  {
   "cell_type": "code",
   "execution_count": 8,
   "metadata": {},
   "outputs": [
    {
     "data": {
      "text/html": [
       "<div>\n",
       "<style scoped>\n",
       "    .dataframe tbody tr th:only-of-type {\n",
       "        vertical-align: middle;\n",
       "    }\n",
       "\n",
       "    .dataframe tbody tr th {\n",
       "        vertical-align: top;\n",
       "    }\n",
       "\n",
       "    .dataframe thead th {\n",
       "        text-align: right;\n",
       "    }\n",
       "</style>\n",
       "<table border=\"1\" class=\"dataframe\">\n",
       "  <thead>\n",
       "    <tr style=\"text-align: right;\">\n",
       "      <th></th>\n",
       "      <th>date</th>\n",
       "      <th>time</th>\n",
       "      <th>stand_date</th>\n",
       "      <th>stand_time</th>\n",
       "      <th>norm_date</th>\n",
       "      <th>norm_time</th>\n",
       "    </tr>\n",
       "  </thead>\n",
       "  <tbody>\n",
       "    <tr>\n",
       "      <td>count</td>\n",
       "      <td>6.800000e+01</td>\n",
       "      <td>68.000000</td>\n",
       "      <td>6.800000e+01</td>\n",
       "      <td>6.800000e+01</td>\n",
       "      <td>68.000000</td>\n",
       "      <td>68.000000</td>\n",
       "    </tr>\n",
       "    <tr>\n",
       "      <td>mean</td>\n",
       "      <td>2.009093e+07</td>\n",
       "      <td>137255.220588</td>\n",
       "      <td>-2.731004e-09</td>\n",
       "      <td>-2.612289e-16</td>\n",
       "      <td>0.352941</td>\n",
       "      <td>0.528699</td>\n",
       "    </tr>\n",
       "    <tr>\n",
       "      <td>std</td>\n",
       "      <td>4.814377e-01</td>\n",
       "      <td>27755.329156</td>\n",
       "      <td>1.000000e+00</td>\n",
       "      <td>1.000000e+00</td>\n",
       "      <td>0.481438</td>\n",
       "      <td>0.348952</td>\n",
       "    </tr>\n",
       "    <tr>\n",
       "      <td>min</td>\n",
       "      <td>2.009093e+07</td>\n",
       "      <td>95203.000000</td>\n",
       "      <td>-7.330983e-01</td>\n",
       "      <td>-1.515104e+00</td>\n",
       "      <td>0.000000</td>\n",
       "      <td>0.000000</td>\n",
       "    </tr>\n",
       "    <tr>\n",
       "      <td>25%</td>\n",
       "      <td>2.009093e+07</td>\n",
       "      <td>110786.250000</td>\n",
       "      <td>-7.330983e-01</td>\n",
       "      <td>-9.536536e-01</td>\n",
       "      <td>0.000000</td>\n",
       "      <td>0.195920</td>\n",
       "    </tr>\n",
       "    <tr>\n",
       "      <td>50%</td>\n",
       "      <td>2.009093e+07</td>\n",
       "      <td>135607.000000</td>\n",
       "      <td>-7.330983e-01</td>\n",
       "      <td>-5.938393e-02</td>\n",
       "      <td>0.000000</td>\n",
       "      <td>0.507977</td>\n",
       "    </tr>\n",
       "    <tr>\n",
       "      <td>75%</td>\n",
       "      <td>2.009093e+07</td>\n",
       "      <td>172561.250000</td>\n",
       "      <td>1.344014e+00</td>\n",
       "      <td>1.272045e+00</td>\n",
       "      <td>1.000000</td>\n",
       "      <td>0.972583</td>\n",
       "    </tr>\n",
       "    <tr>\n",
       "      <td>max</td>\n",
       "      <td>2.009093e+07</td>\n",
       "      <td>174742.000000</td>\n",
       "      <td>1.344014e+00</td>\n",
       "      <td>1.350616e+00</td>\n",
       "      <td>1.000000</td>\n",
       "      <td>1.000000</td>\n",
       "    </tr>\n",
       "  </tbody>\n",
       "</table>\n",
       "</div>"
      ],
      "text/plain": [
       "               date           time    stand_date    stand_time  norm_date  \\\n",
       "count  6.800000e+01      68.000000  6.800000e+01  6.800000e+01  68.000000   \n",
       "mean   2.009093e+07  137255.220588 -2.731004e-09 -2.612289e-16   0.352941   \n",
       "std    4.814377e-01   27755.329156  1.000000e+00  1.000000e+00   0.481438   \n",
       "min    2.009093e+07   95203.000000 -7.330983e-01 -1.515104e+00   0.000000   \n",
       "25%    2.009093e+07  110786.250000 -7.330983e-01 -9.536536e-01   0.000000   \n",
       "50%    2.009093e+07  135607.000000 -7.330983e-01 -5.938393e-02   0.000000   \n",
       "75%    2.009093e+07  172561.250000  1.344014e+00  1.272045e+00   1.000000   \n",
       "max    2.009093e+07  174742.000000  1.344014e+00  1.350616e+00   1.000000   \n",
       "\n",
       "       norm_time  \n",
       "count  68.000000  \n",
       "mean    0.528699  \n",
       "std     0.348952  \n",
       "min     0.000000  \n",
       "25%     0.195920  \n",
       "50%     0.507977  \n",
       "75%     0.972583  \n",
       "max     1.000000  "
      ]
     },
     "execution_count": 8,
     "metadata": {},
     "output_type": "execute_result"
    }
   ],
   "source": [
    "df.describe()"
   ]
  },
  {
   "cell_type": "code",
   "execution_count": 9,
   "metadata": {},
   "outputs": [
    {
     "name": "stdout",
     "output_type": "stream",
     "text": [
      "18\n",
      "50\n"
     ]
    }
   ],
   "source": [
    "print(df[df['city'] == 'Baghdad'].shape[0])\n",
    "print(df[df['city'] != 'Baghdad'].shape[0])"
   ]
  },
  {
   "cell_type": "code",
   "execution_count": 10,
   "metadata": {},
   "outputs": [
    {
     "data": {
      "image/png": "[encoded data removed]",
      "text/plain": [
       "<Figure size 432x288 with 1 Axes>"
      ]
     },
     "metadata": {
      "needs_background": "light"
     },
     "output_type": "display_data"
    }
   ],
   "source": [
    "city_dum = (df['city'] == df['city'][0])*1 \n",
    "plt.scatter(df['norm_date'], df['norm_time'], s = 100, c = city_dum, cmap =plt.cm.RdBu_r, alpha = 0.2)\n",
    "plt.show()"
   ]
  },
  {
   "cell_type": "markdown",
   "metadata": {},
   "source": [
    "# Extract dates and time for those that misses"
   ]
  },
  {
   "cell_type": "markdown",
   "metadata": {},
   "source": [
    "Maybe.. If need be"
   ]
  },
  {
   "cell_type": "markdown",
   "metadata": {},
   "source": [
    "# Just do it for all thos with IPCT until you know if it is an issue."
   ]
  },
  {
   "cell_type": "code",
   "execution_count": 11,
   "metadata": {},
   "outputs": [],
   "source": [
    "def get_no_city_imgs(linux_dir):\n",
    "\n",
    "    date_info = (2, 55)\n",
    "    time_info = (2, 60)\n",
    "\n",
    "    no_city_imgs = []\n",
    "\n",
    "    for img in os.listdir(linux_dir):\n",
    "        img_path = os.path.join(linux_dir, img)\n",
    "        im = Image.open(img_path)\n",
    "        info = IptcImagePlugin.getiptcinfo(im)\n",
    "\n",
    "        if time_info in list(info.keys()) and date_info in list(info.keys()):\n",
    "            no_city_imgs.append(img_path)\n",
    "\n",
    "            \n",
    "    return(no_city_imgs)"
   ]
  },
  {
   "cell_type": "code",
   "execution_count": 12,
   "metadata": {},
   "outputs": [],
   "source": [
    "# no_city_imgs = get_no_city_imgs(linux_dir2)"
   ]
  },
  {
   "cell_type": "markdown",
   "metadata": {},
   "source": [
    "# Training model:\n",
    "put shit into functions fukface,"
   ]
  },
  {
   "cell_type": "code",
   "execution_count": 13,
   "metadata": {},
   "outputs": [],
   "source": [
    "from sklearn.svm import SVC\n",
    "from sklearn.model_selection import train_test_split"
   ]
  },
  {
   "cell_type": "code",
   "execution_count": 14,
   "metadata": {},
   "outputs": [
    {
     "data": {
      "text/plain": [
       "SVC(C=1.0, cache_size=200, class_weight=None, coef0=0.0,\n",
       "    decision_function_shape='ovr', degree=3, gamma=10, kernel='rbf',\n",
       "    max_iter=-1, probability=True, random_state=None, shrinking=True, tol=0.001,\n",
       "    verbose=False)"
      ]
     },
     "execution_count": 14,
     "metadata": {},
     "output_type": "execute_result"
    }
   ],
   "source": [
    "# clf = SVC(kernel='rbf', gamma='auto', probability=True)\n",
    "clf = SVC(kernel='rbf', gamma=10, probability=True)\n",
    "\n",
    "X = df[['norm_date','norm_time']]\n",
    "y = df['city']\n",
    "\n",
    "# clf.fit(X_train, y_train)\n",
    "clf.fit(X, y)\n"
   ]
  },
  {
   "cell_type": "code",
   "execution_count": 15,
   "metadata": {},
   "outputs": [
    {
     "name": "stdout",
     "output_type": "stream",
     "text": [
      "Predicted city (insample): Kirkuk\n",
      "Prob of predicted city: 0.92\n",
      "True city: Kirkuk\n"
     ]
    }
   ],
   "source": [
    "print(f\"Predicted city (insample): {clf.predict(np.array(df[['norm_date','norm_time']].iloc[0]).reshape(1,-1))[0]}\")\n",
    "print(f\"Prob of predicted city: {np.max(clf.predict_proba(np.array(df[['date','norm_time']].iloc[0]).reshape(1,-1))):.2}\")\n",
    "print(f\"True city: {df['city'].iloc[0]}\")"
   ]
  },
  {
   "cell_type": "code",
   "execution_count": 16,
   "metadata": {},
   "outputs": [
    {
     "name": "stdout",
     "output_type": "stream",
     "text": [
      "Predicted city (insample): Baghdad\n",
      "Prob of predicted city: 0.95\n",
      "Baghdad\n"
     ]
    }
   ],
   "source": [
    "print(f\"Predicted city (insample): {clf.predict(np.array(df[['norm_date','norm_time']].iloc[-1]).reshape(1,-1))[0]}\")\n",
    "print(f\"Prob of predicted city: {np.max(clf.predict_proba(np.array(df[['norm_date','norm_time']].iloc[-1]).reshape(1,-1))):.2}\")\n",
    "print(df['city'].iloc[-1])"
   ]
  },
  {
   "cell_type": "code",
   "execution_count": 17,
   "metadata": {},
   "outputs": [
    {
     "data": {
      "text/plain": [
       "Text(0.5, 1.0, 'SVM RBF')"
      ]
     },
     "execution_count": 17,
     "metadata": {},
     "output_type": "execute_result"
    },
    {
     "data": {
      "image/png": "[encoded data removed]",
      "text/plain": [
       "<Figure size 432x288 with 1 Axes>"
      ]
     },
     "metadata": {
      "needs_background": "light"
     },
     "output_type": "display_data"
    }
   ],
   "source": [
    "plt.figure()\n",
    "plt.clf()\n",
    "plt.scatter(df['norm_date'], df['norm_time'], c=city_dum, zorder=10, cmap=plt.cm.RdBu_r, s=100, edgecolor='k')\n",
    "# plt.scatter(df['norm_date'], df['norm_time'], c=city_dum, zorder=10, cmap=plt.cm.Paired, s=100, edgecolor='k')  #with the binary colors\n",
    "\n",
    "\n",
    "    # Circle out the test data\n",
    "#     plt.scatter(X_test[:, 0], X_test[:, 1], s=80, facecolors='none', zorder=10)\n",
    "\n",
    "plt.axis('tight')\n",
    "\n",
    "x_min = df['norm_date'].min() - 0.1 # 0.1 just to fill the whole plot...\n",
    "x_max = df['norm_date'].max() + 0.1\n",
    "y_min = df['norm_time'].min() - 0.1\n",
    "y_max = df['norm_time'].max() + 0.1\n",
    "\n",
    "XX, YY = np.mgrid[x_min:x_max:200j, y_min:y_max:200j]\n",
    "Z = clf.decision_function(np.c_[XX.ravel(), YY.ravel()])\n",
    "\n",
    "# Put the result into a color plot\n",
    "Z = Z.reshape(XX.shape)\n",
    "# plt.pcolormesh(XX, YY, Z > 0, cmap=plt.cm.Paired) #binary: also works fine\n",
    "plt.pcolormesh(XX, YY, Z, cmap= plt.cm.RdBu_r)  \n",
    "\n",
    "plt.contour(XX, YY, Z, colors=['k', 'k', 'k'],linestyles=['--', '-', '--'], levels=[-.5, 0, .5])\n",
    "\n",
    "plt.title('SVM RBF')"
   ]
  },
  {
   "cell_type": "markdown",
   "metadata": {},
   "source": [
    "### Need a bit more data to make it out-of-sample"
   ]
  },
  {
   "cell_type": "markdown",
   "metadata": {},
   "source": [
    "# Create no_city_df"
   ]
  },
  {
   "cell_type": "code",
   "execution_count": 18,
   "metadata": {},
   "outputs": [],
   "source": [
    "def make_no_city_df(linux_dir):\n",
    "\n",
    "    no_city_imgs = get_no_city_imgs(linux_dir2)\n",
    "\n",
    "    city_info = (2, 90)\n",
    "    date_info = (2, 55)\n",
    "    time_info = (2, 60)\n",
    "\n",
    "    data = []\n",
    "\n",
    "    for img_path in no_city_imgs:\n",
    "            im = Image.open(img_path)\n",
    "            info = IptcImagePlugin.getiptcinfo(im) \n",
    "\n",
    "            img_id = img_path# CHANGE!\n",
    "            city = None\n",
    "            date = int(info[date_info].decode(\"utf-8\"))\n",
    "            time = int(info[time_info].decode(\"utf-8\")[:-5])\n",
    "\n",
    "            data.append({'id':img_id,'city': city, 'date':date, 'time':time})\n",
    "\n",
    "    df = pd.DataFrame(data)\n",
    "\n",
    "    df['stand_date'] = (df['date']-df['date'].mean())/df['date'].std()\n",
    "    df['stand_time'] = (df['time']-df['time'].mean())/df['time'].std()\n",
    "\n",
    "    df['norm_date'] = (df['date']-df['date'].min())/(df['date'].max() - df['date'].min())\n",
    "    df['norm_time'] = (df['time']-df['time'].min())/(df['time'].max() - df['time'].min())\n",
    "    \n",
    "    #note:\n",
    "    # df['city'][0] = 'århus' #WORKS\n",
    "    \n",
    "    return(df, city_imgs)"
   ]
  },
  {
   "cell_type": "code",
   "execution_count": 19,
   "metadata": {},
   "outputs": [],
   "source": [
    "df_pred, no_city_imgs = make_no_city_df(linux_dir2)"
   ]
  },
  {
   "cell_type": "code",
   "execution_count": 21,
   "metadata": {},
   "outputs": [
    {
     "data": {
      "text/html": [
       "<div>\n",
       "<style scoped>\n",
       "    .dataframe tbody tr th:only-of-type {\n",
       "        vertical-align: middle;\n",
       "    }\n",
       "\n",
       "    .dataframe tbody tr th {\n",
       "        vertical-align: top;\n",
       "    }\n",
       "\n",
       "    .dataframe thead th {\n",
       "        text-align: right;\n",
       "    }\n",
       "</style>\n",
       "<table border=\"1\" class=\"dataframe\">\n",
       "  <thead>\n",
       "    <tr style=\"text-align: right;\">\n",
       "      <th></th>\n",
       "      <th>id</th>\n",
       "      <th>city</th>\n",
       "      <th>date</th>\n",
       "      <th>time</th>\n",
       "      <th>stand_date</th>\n",
       "      <th>stand_time</th>\n",
       "      <th>norm_date</th>\n",
       "      <th>norm_time</th>\n",
       "    </tr>\n",
       "  </thead>\n",
       "  <tbody>\n",
       "    <tr>\n",
       "      <td>0</td>\n",
       "      <td>/home/xpn381/data/johan_test2/1568884391316826...</td>\n",
       "      <td>None</td>\n",
       "      <td>20090929</td>\n",
       "      <td>135730</td>\n",
       "      <td>-1.557034</td>\n",
       "      <td>-0.290707</td>\n",
       "      <td>0.0</td>\n",
       "      <td>0.613433</td>\n",
       "    </tr>\n",
       "    <tr>\n",
       "      <td>1</td>\n",
       "      <td>/home/xpn381/data/johan_test2/1568884391317755...</td>\n",
       "      <td>None</td>\n",
       "      <td>20090929</td>\n",
       "      <td>135740</td>\n",
       "      <td>-1.557034</td>\n",
       "      <td>-0.290410</td>\n",
       "      <td>0.0</td>\n",
       "      <td>0.613478</td>\n",
       "    </tr>\n",
       "    <tr>\n",
       "      <td>2</td>\n",
       "      <td>/home/xpn381/data/johan_test2/1568884391319787...</td>\n",
       "      <td>None</td>\n",
       "      <td>20090929</td>\n",
       "      <td>135740</td>\n",
       "      <td>-1.557034</td>\n",
       "      <td>-0.290410</td>\n",
       "      <td>0.0</td>\n",
       "      <td>0.613478</td>\n",
       "    </tr>\n",
       "    <tr>\n",
       "      <td>3</td>\n",
       "      <td>/home/xpn381/data/johan_test2/1568884391321799...</td>\n",
       "      <td>None</td>\n",
       "      <td>20090929</td>\n",
       "      <td>135740</td>\n",
       "      <td>-1.557034</td>\n",
       "      <td>-0.290410</td>\n",
       "      <td>0.0</td>\n",
       "      <td>0.613478</td>\n",
       "    </tr>\n",
       "    <tr>\n",
       "      <td>4</td>\n",
       "      <td>/home/xpn381/data/johan_test2/1568884391322908...</td>\n",
       "      <td>None</td>\n",
       "      <td>20090929</td>\n",
       "      <td>135749</td>\n",
       "      <td>-1.557034</td>\n",
       "      <td>-0.290144</td>\n",
       "      <td>0.0</td>\n",
       "      <td>0.613520</td>\n",
       "    </tr>\n",
       "  </tbody>\n",
       "</table>\n",
       "</div>"
      ],
      "text/plain": [
       "                                                  id  city      date    time  \\\n",
       "0  /home/xpn381/data/johan_test2/1568884391316826...  None  20090929  135730   \n",
       "1  /home/xpn381/data/johan_test2/1568884391317755...  None  20090929  135740   \n",
       "2  /home/xpn381/data/johan_test2/1568884391319787...  None  20090929  135740   \n",
       "3  /home/xpn381/data/johan_test2/1568884391321799...  None  20090929  135740   \n",
       "4  /home/xpn381/data/johan_test2/1568884391322908...  None  20090929  135749   \n",
       "\n",
       "   stand_date  stand_time  norm_date  norm_time  \n",
       "0   -1.557034   -0.290707        0.0   0.613433  \n",
       "1   -1.557034   -0.290410        0.0   0.613478  \n",
       "2   -1.557034   -0.290410        0.0   0.613478  \n",
       "3   -1.557034   -0.290410        0.0   0.613478  \n",
       "4   -1.557034   -0.290144        0.0   0.613520  "
      ]
     },
     "execution_count": 21,
     "metadata": {},
     "output_type": "execute_result"
    }
   ],
   "source": [
    "df_pred.head()"
   ]
  },
  {
   "cell_type": "code",
   "execution_count": 20,
   "metadata": {},
   "outputs": [
    {
     "data": {
      "text/html": [
       "<div>\n",
       "<style scoped>\n",
       "    .dataframe tbody tr th:only-of-type {\n",
       "        vertical-align: middle;\n",
       "    }\n",
       "\n",
       "    .dataframe tbody tr th {\n",
       "        vertical-align: top;\n",
       "    }\n",
       "\n",
       "    .dataframe thead th {\n",
       "        text-align: right;\n",
       "    }\n",
       "</style>\n",
       "<table border=\"1\" class=\"dataframe\">\n",
       "  <thead>\n",
       "    <tr style=\"text-align: right;\">\n",
       "      <th></th>\n",
       "      <th>date</th>\n",
       "      <th>time</th>\n",
       "      <th>stand_date</th>\n",
       "      <th>stand_time</th>\n",
       "      <th>norm_date</th>\n",
       "      <th>norm_time</th>\n",
       "    </tr>\n",
       "  </thead>\n",
       "  <tbody>\n",
       "    <tr>\n",
       "      <td>count</td>\n",
       "      <td>1.504000e+03</td>\n",
       "      <td>1504.000000</td>\n",
       "      <td>1.504000e+03</td>\n",
       "      <td>1.504000e+03</td>\n",
       "      <td>1504.000000</td>\n",
       "      <td>1504.000000</td>\n",
       "    </tr>\n",
       "    <tr>\n",
       "      <td>mean</td>\n",
       "      <td>2.009093e+07</td>\n",
       "      <td>145545.611702</td>\n",
       "      <td>-2.788551e-09</td>\n",
       "      <td>-4.015700e-16</td>\n",
       "      <td>0.708112</td>\n",
       "      <td>0.658435</td>\n",
       "    </tr>\n",
       "    <tr>\n",
       "      <td>std</td>\n",
       "      <td>4.547824e-01</td>\n",
       "      <td>33764.672104</td>\n",
       "      <td>1.000000e+00</td>\n",
       "      <td>1.000000e+00</td>\n",
       "      <td>0.454782</td>\n",
       "      <td>0.154804</td>\n",
       "    </tr>\n",
       "    <tr>\n",
       "      <td>min</td>\n",
       "      <td>2.009093e+07</td>\n",
       "      <td>1933.000000</td>\n",
       "      <td>-1.557034e+00</td>\n",
       "      <td>-4.253339e+00</td>\n",
       "      <td>0.000000</td>\n",
       "      <td>0.000000</td>\n",
       "    </tr>\n",
       "    <tr>\n",
       "      <td>25%</td>\n",
       "      <td>2.009093e+07</td>\n",
       "      <td>140028.000000</td>\n",
       "      <td>-1.557034e+00</td>\n",
       "      <td>-1.634138e-01</td>\n",
       "      <td>0.000000</td>\n",
       "      <td>0.633138</td>\n",
       "    </tr>\n",
       "    <tr>\n",
       "      <td>50%</td>\n",
       "      <td>2.009093e+07</td>\n",
       "      <td>143754.000000</td>\n",
       "      <td>6.418197e-01</td>\n",
       "      <td>-5.306172e-02</td>\n",
       "      <td>1.000000</td>\n",
       "      <td>0.650221</td>\n",
       "    </tr>\n",
       "    <tr>\n",
       "      <td>75%</td>\n",
       "      <td>2.009093e+07</td>\n",
       "      <td>173170.000000</td>\n",
       "      <td>6.418197e-01</td>\n",
       "      <td>8.181447e-01</td>\n",
       "      <td>1.000000</td>\n",
       "      <td>0.785087</td>\n",
       "    </tr>\n",
       "    <tr>\n",
       "      <td>max</td>\n",
       "      <td>2.009093e+07</td>\n",
       "      <td>220045.000000</td>\n",
       "      <td>6.418197e-01</td>\n",
       "      <td>2.206430e+00</td>\n",
       "      <td>1.000000</td>\n",
       "      <td>1.000000</td>\n",
       "    </tr>\n",
       "  </tbody>\n",
       "</table>\n",
       "</div>"
      ],
      "text/plain": [
       "               date           time    stand_date    stand_time    norm_date  \\\n",
       "count  1.504000e+03    1504.000000  1.504000e+03  1.504000e+03  1504.000000   \n",
       "mean   2.009093e+07  145545.611702 -2.788551e-09 -4.015700e-16     0.708112   \n",
       "std    4.547824e-01   33764.672104  1.000000e+00  1.000000e+00     0.454782   \n",
       "min    2.009093e+07    1933.000000 -1.557034e+00 -4.253339e+00     0.000000   \n",
       "25%    2.009093e+07  140028.000000 -1.557034e+00 -1.634138e-01     0.000000   \n",
       "50%    2.009093e+07  143754.000000  6.418197e-01 -5.306172e-02     1.000000   \n",
       "75%    2.009093e+07  173170.000000  6.418197e-01  8.181447e-01     1.000000   \n",
       "max    2.009093e+07  220045.000000  6.418197e-01  2.206430e+00     1.000000   \n",
       "\n",
       "         norm_time  \n",
       "count  1504.000000  \n",
       "mean      0.658435  \n",
       "std       0.154804  \n",
       "min       0.000000  \n",
       "25%       0.633138  \n",
       "50%       0.650221  \n",
       "75%       0.785087  \n",
       "max       1.000000  "
      ]
     },
     "execution_count": 20,
     "metadata": {},
     "output_type": "execute_result"
    }
   ],
   "source": [
    "df_pred.describe()"
   ]
  },
  {
   "cell_type": "code",
   "execution_count": 23,
   "metadata": {},
   "outputs": [
    {
     "data": {
      "image/png": "[encoded data removed]",
      "text/plain": [
       "<Figure size 432x288 with 1 Axes>"
      ]
     },
     "metadata": {
      "needs_background": "light"
     },
     "output_type": "display_data"
    }
   ],
   "source": [
    "plt.scatter(df_pred['norm_date'], df_pred['norm_time'], s = 100, alpha = 0.2)\n",
    "plt.show()"
   ]
  },
  {
   "cell_type": "markdown",
   "metadata": {},
   "source": [
    "# Prediction:\n",
    " so now you find the date and time for all other images in the folder and then predict:"
   ]
  },
  {
   "cell_type": "code",
   "execution_count": 38,
   "metadata": {},
   "outputs": [],
   "source": [
    "df_pred['city'] = clf.predict(df_pred[['norm_date', 'norm_time']])\n",
    "pred_probs = clf.predict_proba(df_pred[['norm_date', 'norm_time']])"
   ]
  },
  {
   "cell_type": "code",
   "execution_count": 54,
   "metadata": {},
   "outputs": [
    {
     "data": {
      "image/png": "[encoded data removed]",
      "text/plain": [
       "<Figure size 432x288 with 1 Axes>"
      ]
     },
     "metadata": {
      "needs_background": "light"
     },
     "output_type": "display_data"
    }
   ],
   "source": [
    "city_dum = (df_pred['city'] == df_pred['city'][0])*1 \n",
    "city_dum1 = (df['city'] == df['city'][0])*1 \n",
    "\n",
    "\n",
    "# plt.scatter(df['norm_date'], df['norm_time'], c=city_dum, zorder=10, cmap=plt.cm.RdBu_r, s=100, edgecolor=k)\n",
    "\n",
    "plt.scatter(df['norm_date'], df['norm_time'], c=city_dum1, zorder=10, cmap=plt.cm.RdBu_r, s=100, edgecolor='k', marker= 'X')\n",
    "plt.scatter(df_pred['norm_date'], df_pred['norm_time'], c=city_dum, zorder=10, cmap=plt.cm.RdBu_r, s=100, edgecolor='k')\n",
    "\n",
    "\n",
    "x_min = df_pred['norm_date'].min() - 0.1 # 0.1 just to fill the whole plot...\n",
    "x_max = df_pred['norm_date'].max() + 0.1\n",
    "y_min = df_pred['norm_time'].min() - 0.1\n",
    "y_max = df_pred['norm_time'].max() + 0.1\n",
    "\n",
    "XX, YY = np.mgrid[x_min:x_max:200j, y_min:y_max:200j]\n",
    "Z = clf.decision_function(np.c_[XX.ravel(), YY.ravel()])\n",
    "Z = Z.reshape(XX.shape)\n",
    "\n",
    "plt.pcolormesh(XX, YY, Z, cmap= plt.cm.RdBu_r)  \n",
    "\n",
    "plt.contour(XX, YY, Z, colors=['k', 'k', 'k'],linestyles=['--', '-', '--'], levels=[-.5, 0, .5])\n",
    "\n",
    "plt.show()"
   ]
  },
  {
   "cell_type": "code",
   "execution_count": 66,
   "metadata": {},
   "outputs": [
    {
     "data": {
      "text/plain": [
       "array([0.66221506, 0.66220245, 0.66220245, 0.66220245, 0.66983666,\n",
       "       0.66983666, 0.66966344, 0.66963869, 0.66963869, 0.66961394,\n",
       "       0.66960156, 0.66960156, 0.66956443, 0.66956443, 0.66956443,\n",
       "       0.66955205, 0.66955205, 0.66955205, 0.66953967, 0.66953967,\n",
       "       0.66946538, 0.66946538, 0.669453  , 0.669453  , 0.669453  ,\n",
       "       0.66927961, 0.66925483, 0.66925483, 0.66924244, 0.66923005,\n",
       "       0.66870932, 0.66869691, 0.66983666, 0.66983666, 0.66966344,\n",
       "       0.66963869, 0.66963869, 0.66961394, 0.66960156, 0.66960156,\n",
       "       0.66956443, 0.66956443, 0.66956443, 0.66955205, 0.66955205,\n",
       "       0.66955205, 0.66953967, 0.66953967, 0.66946538, 0.66946538,\n",
       "       0.669453  , 0.669453  , 0.669453  , 0.66927961, 0.66925483,\n",
       "       0.66925483, 0.66924244, 0.66923005, 0.66870932, 0.66869691])"
      ]
     },
     "execution_count": 66,
     "metadata": {},
     "output_type": "execute_result"
    }
   ],
   "source": [
    "max_probs = np.max(pred_probs, 1)\n",
    "max_probs[max_probs < 0.67] # 0.67 lowest prop with obs.\n",
    "# så du kan bare fjerne dem med stor usikkerhed hvis i er utrykke.\n",
    "# du kan også sætte usikkerheden in i IPTCen som in var så du har den senere.."
   ]
  },
  {
   "cell_type": "markdown",
   "metadata": {},
   "source": [
    "# get city back tp IPCT protocol:"
   ]
  },
  {
   "cell_type": "code",
   "execution_count": null,
   "metadata": {},
   "outputs": [],
   "source": []
  },
  {
   "cell_type": "code",
   "execution_count": null,
   "metadata": {},
   "outputs": [],
   "source": []
  },
  {
   "cell_type": "code",
   "execution_count": null,
   "metadata": {},
   "outputs": [],
   "source": []
  },
  {
   "cell_type": "code",
   "execution_count": null,
   "metadata": {},
   "outputs": [],
   "source": []
  },
  {
   "cell_type": "code",
   "execution_count": null,
   "metadata": {},
   "outputs": [],
   "source": []
  },
  {
   "cell_type": "code",
   "execution_count": null,
   "metadata": {},
   "outputs": [],
   "source": []
  },
  {
   "cell_type": "code",
   "execution_count": null,
   "metadata": {},
   "outputs": [],
   "source": []
  },
  {
   "cell_type": "markdown",
   "metadata": {},
   "source": [
    "# first \n",
    "Need reiterate through all img with IPTC and check/correct city/location. Do this by looking in describtion maybe using a list of town names and  Fuzzy String Matching (see https://chairnerd.seatgeek.com/fuzzywuzzy-fuzzy-string-matching-in-python/ and here https://towardsdatascience.com/natural-language-processing-for-fuzzy-string-matching-with-python-6632b7824c49) ...\n",
    "\n",
    "\n",
    "# then\n",
    "now, you need to reiterate through all the images and sort for images with IPTC.. from these you need to get date, time and not least place!\n",
    "\n",
    "pseudo code:  \n",
    "\n",
    "for images in dir:  \n",
    "    if image.IPTC exist:  \n",
    "        date = image.IPTC.date  \n",
    "        time = image.IPTC.time  \n",
    "        city = image.IPTC.city  \n",
    "        owner = image.IPTC.copyright  \n",
    "           \n",
    "  \n",
    "        then....  \n",
    "        You make a dict holding time, date, locale and some image id.. This dict is then converted into a pandas dataframe (see https://stackoverflow.com/questions/18837262/convert-python-dict-into-a-dataframe)   \n",
    "\n",
    "        with this dataframe you should be able to classify - either hard-code or via e.g k-nearest neighbor - the raw (no IPTC) images. \n",
    "        also you need here to consider transport images..  \n",
    "\n",
    "# old:\n",
    "\n",
    "\n",
    "- Reiterate through IPTC images getting date and location.\n",
    "- Also get first and last time for said date to remove \"transport\" images. (see if that solves it..)\n",
    "- Now, for each 'i' in w_IPTC  reiterate through each 'j' in no_IPTC matching on date and interpolating locale if time is between first and last in w_IPCT.\n",
    "\n",
    "...."
   ]
  },
  {
   "cell_type": "code",
   "execution_count": null,
   "metadata": {},
   "outputs": [],
   "source": []
  }
 ],
 "metadata": {
  "kernelspec": {
   "display_name": "Python 3",
   "language": "python",
   "name": "python3"
  },
  "language_info": {
   "codemirror_mode": {
    "name": "ipython",
    "version": 3
   },
   "file_extension": ".py",
   "mimetype": "text/x-python",
   "name": "python",
   "nbconvert_exporter": "python",
   "pygments_lexer": "ipython3",
   "version": "3.7.4"
  }
 },
 "nbformat": 4,
 "nbformat_minor": 4
}
