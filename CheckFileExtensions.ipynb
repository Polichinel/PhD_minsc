{
 "cells": [
  {
   "cell_type": "markdown",
   "metadata": {},
   "source": [
    "# Check file Extensions\n",
    "\n",
    "A small script wich crawls a photo library and returns the extensions used for images throughout the library, including a count of images surveyed for sanity check.. This knowledge is crusial for the smaple scripts, e.g. SampleSpanner.ipynb"
   ]
  },
  {
   "cell_type": "code",
   "execution_count": 1,
   "metadata": {},
   "outputs": [],
   "source": [
    "import os\n",
    "from PIL import Image\n",
    "from collections import Counter\n",
    "import time"
   ]
  },
  {
   "cell_type": "code",
   "execution_count": 2,
   "metadata": {},
   "outputs": [],
   "source": [
    "external_dir =  \"/mnt/f/OctoberJohanArchive\"\n",
    "# external_dir =  \"/mnt/f/OctoberJohanArchiveTest\" # only the published images"
   ]
  },
  {
   "cell_type": "code",
   "execution_count": 3,
   "metadata": {},
   "outputs": [],
   "source": [
    "# NEEDS MORE TESTING!\n",
    "# Takes a long time: maybe give seperate file.\n",
    "\n",
    "def check_extensions(external_dir):\n",
    "\n",
    "    \"\"\"Checking different forms of file extensions in the library\"\"\"\n",
    "\n",
    "    start = time.time()\n",
    "    \n",
    "    fileExlist = [] # empty list for all extensions\n",
    "\n",
    "    for root, dirs, files in os.walk(external_dir): # Walking the dirs\n",
    "\n",
    "        for name in files: \n",
    "\n",
    "            old_path = os.path.join(root, name) #all the info for the IPTC should be in in old_path name\n",
    "\n",
    "\n",
    "            try: # you only wnat to move actual images\n",
    "\n",
    "                # verify that is an image\n",
    "                img = Image.open(old_path)  # open the image file\n",
    "                img.verify()  # verify that it is a good image, without decoding it.. quite fast\n",
    "                img.close()\n",
    "\n",
    "                try:\n",
    "                    fileExlist.append(name.split('.')[1]) # if it is an image, get the extension if it got one\n",
    "\n",
    "                except:\n",
    "                    pass\n",
    "\n",
    "            except:\n",
    "                pass\n",
    "    \n",
    "#     N=len(fileExlist) # sanity check how many where there?\n",
    "#     fileEx = set(fileExlist) # Set, effectively unique file extensions\n",
    "\n",
    "    end = time.time()\n",
    "    \n",
    "    run_time = (end - start)/60\n",
    "    \n",
    "    print(f'It took {run_time} minutes to complete')\n",
    "    \n",
    "    return(fileExlist)"
   ]
  },
  {
   "cell_type": "code",
   "execution_count": 4,
   "metadata": {},
   "outputs": [
    {
     "name": "stdout",
     "output_type": "stream",
     "text": [
      "It took 26.848021217187245 minutes to complete\n"
     ]
    },
    {
     "data": {
      "text/plain": [
       "Counter({'jpg': 4310,\n",
       "         'JPG': 83755,\n",
       "         'NEF': 5239,\n",
       "         'TIF': 6263,\n",
       "         '1': 51,\n",
       "         'CR2': 52746,\n",
       "         'THM': 1,\n",
       "         'tif': 91,\n",
       "         'small': 1,\n",
       "         'psd': 1,\n",
       "         '2': 2,\n",
       "         '1jpg': 1})"
      ]
     },
     "execution_count": 4,
     "metadata": {},
     "output_type": "execute_result"
    }
   ],
   "source": [
    "fileExlist = check_extensions(external_dir)\n",
    "Counter(fileExlist)"
   ]
  }
 ],
 "metadata": {
  "kernelspec": {
   "display_name": "Python 3",
   "language": "python",
   "name": "python3"
  },
  "language_info": {
   "codemirror_mode": {
    "name": "ipython",
    "version": 3
   },
   "file_extension": ".py",
   "mimetype": "text/x-python",
   "name": "python",
   "nbconvert_exporter": "python",
   "pygments_lexer": "ipython3",
   "version": "3.7.4"
  }
 },
 "nbformat": 4,
 "nbformat_minor": 4
}
