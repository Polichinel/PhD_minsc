{
 "cells": [
  {
   "cell_type": "markdown",
   "metadata": {},
   "source": [
    "# testNotebook_1\n",
    "Uses test images from Johan\n",
    "Extract date from meta and insert into an IPTC protocol"
   ]
  },
  {
   "cell_type": "markdown",
   "metadata": {},
   "source": [
    "### TOOLS:"
   ]
  },
  {
   "cell_type": "code",
   "execution_count": 1,
   "metadata": {},
   "outputs": [],
   "source": [
    "import os\n",
    "import cv2\n",
    "from iptcinfo3 import IPTCInfo\n",
    "from PIL import Image\n",
    "import re"
   ]
  },
  {
   "cell_type": "markdown",
   "metadata": {},
   "source": [
    "### Proof of concept:"
   ]
  },
  {
   "cell_type": "code",
   "execution_count": 2,
   "metadata": {},
   "outputs": [],
   "source": [
    "DATADIR_RAW = 'C:/Users/xpn381/Documents/data/wetransfer-d44dd0/Simon_Tests_12092019/raw'\n",
    "DATADIR_RAW_NEW = 'C:/Users/xpn381/Documents/data/wetransfer-d44dd0/Simon_Tests_12092019/raw_w_dates'"
   ]
  },
  {
   "cell_type": "code",
   "execution_count": 3,
   "metadata": {},
   "outputs": [
    {
     "name": "stderr",
     "output_type": "stream",
     "text": [
      "WARNING: problems with charset recognition (b'\\x1b')\n",
      "WARNING: problems with charset recognition (b'\\x1b')\n",
      "packedIIMData: illegal dataname '221' (221)\n",
      "Marker scan hit start of image data\n",
      "Marker scan hit start of image data\n"
     ]
    },
    {
     "name": "stdout",
     "output_type": "stream",
     "text": [
      "DSC_0626.JPG\n",
      "date of picture: 20070726\n",
      "info before: b'20070726'\n",
      "info after: 20070726\n",
      "\n",
      "\n",
      "DSC_0634.JPG\n",
      "date of picture: 20070726\n",
      "info before: None\n",
      "info after: 20070726\n",
      "\n",
      "\n"
     ]
    },
    {
     "name": "stderr",
     "output_type": "stream",
     "text": [
      "WARNING: problems with charset recognition (b'\\x1b')\n",
      "WARNING: problems with charset recognition (b'\\x1b')\n",
      "packedIIMData: illegal dataname '221' (221)\n",
      "Marker scan hit start of image data\n",
      "Marker scan hit start of image data\n",
      "Marker scan hit start of image data\n"
     ]
    },
    {
     "name": "stdout",
     "output_type": "stream",
     "text": [
      "DSC_0665.JPG\n",
      "date of picture: 20070726\n",
      "info before: b'20070726'\n",
      "info after: 20070726\n",
      "\n",
      "\n",
      "DSC_0669.JPG\n",
      "date of picture: 20070726\n",
      "info before: None\n",
      "info after: 20070726\n",
      "\n",
      "\n"
     ]
    },
    {
     "name": "stderr",
     "output_type": "stream",
     "text": [
      "Marker scan hit start of image data\n",
      "WARNING: problems with charset recognition (b'\\x1b')\n",
      "WARNING: problems with charset recognition (b'\\x1b')\n",
      "packedIIMData: illegal dataname '221' (221)\n",
      "Marker scan hit start of image data\n",
      "Marker scan hit start of image data\n",
      "Marker scan hit start of image data\n"
     ]
    },
    {
     "name": "stdout",
     "output_type": "stream",
     "text": [
      "DSC_0677.JPG\n",
      "date of picture: 20070726\n",
      "info before: None\n",
      "info after: 20070726\n",
      "\n",
      "\n",
      "DSC_0692.JPG\n",
      "date of picture: 20070726\n",
      "info before: b'20070726'\n",
      "info after: 20070726\n",
      "\n",
      "\n",
      "DSC_0708.JPG\n",
      "date of picture: 20070726\n",
      "info before: None\n",
      "info after: 20070726\n",
      "\n",
      "\n"
     ]
    },
    {
     "name": "stderr",
     "output_type": "stream",
     "text": [
      "Marker scan hit start of image data\n",
      "WARNING: problems with charset recognition (b'\\x1b')\n",
      "WARNING: problems with charset recognition (b'\\x1b')\n",
      "packedIIMData: illegal dataname '221' (221)\n",
      "WARNING: problems with charset recognition (b'\\x1b')\n",
      "WARNING: problems with charset recognition (b'\\x1b')\n",
      "packedIIMData: illegal dataname '221' (221)\n"
     ]
    },
    {
     "name": "stdout",
     "output_type": "stream",
     "text": [
      "DSC_0727.JPG\n",
      "date of picture: 20070726\n",
      "info before: None\n",
      "info after: 20070726\n",
      "\n",
      "\n",
      "DSC_0774.JPG\n",
      "date of picture: 20070726\n",
      "info before: b'20070726'\n",
      "info after: 20070726\n",
      "\n",
      "\n",
      "DSC_0794.JPG\n",
      "date of picture: 20070726\n",
      "info before: b'20070726'\n",
      "info after: 20070726\n",
      "\n",
      "\n"
     ]
    },
    {
     "name": "stderr",
     "output_type": "stream",
     "text": [
      "WARNING: problems with charset recognition (b'\\x1b')\n",
      "WARNING: problems with charset recognition (b'\\x1b')\n",
      "packedIIMData: illegal dataname '221' (221)\n",
      "WARNING: problems with charset recognition (b'\\x1b')\n",
      "WARNING: problems with charset recognition (b'\\x1b')\n",
      "packedIIMData: illegal dataname '221' (221)\n",
      "Marker scan hit start of image data\n",
      "Marker scan hit start of image data\n",
      "WARNING: problems with charset recognition (b'\\x1b')\n"
     ]
    },
    {
     "name": "stdout",
     "output_type": "stream",
     "text": [
      "DSC_0807.JPG\n",
      "date of picture: 20070726\n",
      "info before: b'20070726'\n",
      "info after: 20070726\n",
      "\n",
      "\n",
      "DSC_0817.JPG\n",
      "date of picture: 20070726\n",
      "info before: b'20070726'\n",
      "info after: 20070726\n",
      "\n",
      "\n",
      "DSC_0829.JPG\n",
      "date of picture: 20070726\n",
      "info before: None\n",
      "info after: 20070726\n",
      "\n",
      "\n"
     ]
    },
    {
     "name": "stderr",
     "output_type": "stream",
     "text": [
      "WARNING: problems with charset recognition (b'\\x1b')\n",
      "packedIIMData: illegal dataname '221' (221)\n",
      "Marker scan hit start of image data\n",
      "Marker scan hit start of image data\n",
      "Marker scan hit start of image data\n",
      "Marker scan hit start of image data\n"
     ]
    },
    {
     "name": "stdout",
     "output_type": "stream",
     "text": [
      "DSC_0908.JPG\n",
      "date of picture: 20070728\n",
      "info before: b'20070728'\n",
      "info after: 20070728\n",
      "\n",
      "\n",
      "DSC_0959.JPG\n",
      "date of picture: 20070728\n",
      "info before: None\n",
      "info after: 20070728\n",
      "\n",
      "\n",
      "DSC_1204.JPG\n",
      "date of picture: 20070728\n",
      "info before: None\n",
      "info after: 20070728\n",
      "\n",
      "\n"
     ]
    },
    {
     "name": "stderr",
     "output_type": "stream",
     "text": [
      "Marker scan hit start of image data\n",
      "Marker scan hit start of image data\n",
      "WARNING: problems with charset recognition (b'\\x1b')\n",
      "WARNING: problems with charset recognition (b'\\x1b')\n",
      "packedIIMData: illegal dataname '221' (221)\n"
     ]
    },
    {
     "name": "stdout",
     "output_type": "stream",
     "text": [
      "DSC_1254.JPG\n",
      "date of picture: 20070728\n",
      "info before: None\n",
      "info after: 20070728\n",
      "\n",
      "\n",
      "DSC_1532.JPG\n",
      "date of picture: 20070728\n",
      "info before: b'20070728'\n",
      "info after: 20070728\n",
      "\n",
      "\n"
     ]
    }
   ],
   "source": [
    "def get_date(DATADIR_RAW,DATADIR_RAW_NEW):\n",
    "    \n",
    "    '''Function wich takes as input path of dirs. in those dirs the function will irreterate throug all jpg, extract a date from their meta date and it a IPTC protocol'''\n",
    "    \n",
    "    # get the image name from the dir DATADIR_RAW\n",
    "    for img in os.listdir(DATADIR_RAW):\n",
    "        image_path = os.path.join(DATADIR_RAW, img)\n",
    "        info = IPTCInfo(image_path, force=True)\n",
    "        print(img)\n",
    "        \n",
    "        # Open the image and access the metadate. Use regex to extract date:\n",
    "        image = Image.open(image_path) \n",
    "        txt = str(image.info['exif']) # exif are mostly JPEG\n",
    "        r  = '[\\d]{4}:[\\d]{2}:[\\d]{2}' # format yyyy:mm:dd\n",
    "        date = re.search(r, txt).group().replace(':','')\n",
    "        print(f'date of picture: {date}')\n",
    "        \n",
    "        # Force open the IPTC protocol to insert date\n",
    "        info = IPTCInfo(image_path, force=True)\n",
    "        print(f\"info before: {info['date created']}\") #Before. Shows wheter or not the entry was empty before\n",
    "        info['date created'] = date \n",
    "        print(f\"info after: {info['date created']}\") # after. Shows the date extracted from the meta data\n",
    "        print('\\n')\n",
    "        \n",
    "        # Create the new dir DATADIR_RAW_NEW if it does not already exist\n",
    "        if not os.path.exists(DATADIR_RAW_NEW):\n",
    "            os.makedirs(DATADIR_RAW_NEW)\n",
    "        \n",
    "        # Create the new path for the image\n",
    "        new_path = os.path.join(DATADIR_RAW_NEW, 'new' + img)\n",
    "        \n",
    "        # If that image is already in the path, delete it.\n",
    "        if os.path.exists(DATADIR_RAW_NEW):\n",
    "            try:\n",
    "                os.remove(new_path)\n",
    "            except:\n",
    "                pass\n",
    "        \n",
    "        # Save new image.\n",
    "        info.save_as(new_path)\n",
    "\n",
    "# Run function\n",
    "get_date(DATADIR_RAW,DATADIR_RAW_NEW)"
   ]
  }
 ],
 "metadata": {
  "kernelspec": {
   "display_name": "Python 3",
   "language": "python",
   "name": "python3"
  },
  "language_info": {
   "codemirror_mode": {
    "name": "ipython",
    "version": 3
   },
   "file_extension": ".py",
   "mimetype": "text/x-python",
   "name": "python",
   "nbconvert_exporter": "python",
   "pygments_lexer": "ipython3",
   "version": "3.7.3"
  }
 },
 "nbformat": 4,
 "nbformat_minor": 4
}
